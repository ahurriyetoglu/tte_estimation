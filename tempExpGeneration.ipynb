{
 "metadata": {
  "name": "",
  "signature": "sha256:e7fd69ac56a2307801e0c02c8aafa80be3c90cac7454a402acfb1b38c0f860b2"
 },
 "nbformat": 3,
 "nbformat_minor": 0,
 "worksheets": [
  {
   "cells": [
    {
     "cell_type": "code",
     "collapsed": false,
     "input": [
      "import json\n",
      "import copy\n",
      "from itertools import product\n",
      "\n",
      "def getlinelist(filename):\n",
      "\twith open(filename) as f:\n",
      "\t\treturn [l.strip() for l in f.read().splitlines()]\n",
      "    \n",
      "\n",
      "def writelinelist(filename, mylist):\n",
      "    with open(filename, 'w') as fw:\n",
      "        for l in mylist:\n",
      "            fw.write(l+'\\n')"
     ],
     "language": "python",
     "metadata": {},
     "outputs": [],
     "prompt_number": 41
    },
    {
     "cell_type": "code",
     "collapsed": false,
     "input": [
      "fixed1 = \"aan het begin van | aan het eind van | aan het einde van | gedurende | na | met ingang van | m.i.v. | miv | op | tijdens | tot | tot aan | t/m | tm | tot en met | van | vanaf | voor | voorgaand aan\"\n",
      "fixed1 = [item.strip() for item in fixed1.split('|')]\n",
      "#print(fixed1)\n",
      "opt1 = \"de | deze\"\n",
      "opt1 = [item.strip() for item in opt1.split('|')]\n",
      "opt1.append('')\n",
      "print(opt1)\n",
      "fixed2 = getlinelist('../timexNelleke/timexlist')\n",
      "print(fixed2)"
     ],
     "language": "python",
     "metadata": {},
     "outputs": []
    },
    {
     "cell_type": "code",
     "collapsed": true,
     "input": [
      "tmx1 = []\n",
      "def combine_exp(f1, f2, op1,timex):\n",
      "    for fxd1 in f1:\n",
      "        for fxd2 in f2:\n",
      "            for o1 in op1:\n",
      "                if o1 == '':\n",
      "                    timex.append(fxd1+' '+fxd2)\n",
      "                else:\n",
      "                    timex.append(fxd1+' '+o1+' '+fxd2)\n",
      "    return timex\n",
      "\n",
      "combine_exp(fixed1, fixed2, opt1, tmx1)\n",
      "print(len(fixed1),len(fixed2),len(tmx1))\n",
      "\n",
      "def wrToFile(tmx):\n",
      "    with open('combinedtimex', mode='wt', encoding='utf-8') as myfile:\n",
      "        myfile.write('\\n'.join(tmx))\n",
      "\n",
      "wrToFile(tmx1)\n",
      "for t in tmx1:\n",
      "    print(t)"
     ],
     "language": "python",
     "metadata": {},
     "outputs": [
      {
       "output_type": "stream",
       "stream": "stdout",
       "text": [
        "2 56 672\n",
        "iedere eerste dag\n",
        "iedere tweede dag\n",
        "iedere derde dag\n",
        "iedere vierde dag\n",
        "iedere laatste dag\n",
        "iedere dag\n",
        "iedere eerste avond\n",
        "iedere tweede avond\n",
        "iedere derde avond\n",
        "iedere vierde avond\n",
        "iedere laatste avond\n",
        "iedere avond\n",
        "iedere eerste middag\n",
        "iedere tweede middag\n",
        "iedere derde middag\n",
        "iedere vierde middag\n",
        "iedere laatste middag\n",
        "iedere middag\n",
        "iedere eerste namiddag\n",
        "iedere tweede namiddag\n",
        "iedere derde namiddag\n",
        "iedere vierde namiddag\n",
        "iedere laatste namiddag\n",
        "iedere namiddag\n",
        "iedere eerste morgen\n",
        "iedere tweede morgen\n",
        "iedere derde morgen\n",
        "iedere vierde morgen\n",
        "iedere laatste morgen\n",
        "iedere morgen\n",
        "iedere eerste nacht\n",
        "iedere tweede nacht\n",
        "iedere derde nacht\n",
        "iedere vierde nacht\n",
        "iedere laatste nacht\n",
        "iedere nacht\n",
        "iedere eerste ochtend\n",
        "iedere tweede ochtend\n",
        "iedere derde ochtend\n",
        "iedere vierde ochtend\n",
        "iedere laatste ochtend\n",
        "iedere ochtend\n",
        "iedere eerste zondag\n",
        "iedere tweede zondag\n",
        "iedere derde zondag\n",
        "iedere vierde zondag\n",
        "iedere laatste zondag\n",
        "iedere zondag\n",
        "iedere eerste zondagavond\n",
        "iedere tweede zondagavond\n",
        "iedere derde zondagavond\n",
        "iedere vierde zondagavond\n",
        "iedere laatste zondagavond\n",
        "iedere zondagavond\n",
        "iedere eerste zondagmiddag\n",
        "iedere tweede zondagmiddag\n",
        "iedere derde zondagmiddag\n",
        "iedere vierde zondagmiddag\n",
        "iedere laatste zondagmiddag\n",
        "iedere zondagmiddag\n",
        "iedere eerste zondagnamiddag\n",
        "iedere tweede zondagnamiddag\n",
        "iedere derde zondagnamiddag\n",
        "iedere vierde zondagnamiddag\n",
        "iedere laatste zondagnamiddag\n",
        "iedere zondagnamiddag\n",
        "iedere eerste zondagmorgen\n",
        "iedere tweede zondagmorgen\n",
        "iedere derde zondagmorgen\n",
        "iedere vierde zondagmorgen\n",
        "iedere laatste zondagmorgen\n",
        "iedere zondagmorgen\n",
        "iedere eerste zondagnacht\n",
        "iedere tweede zondagnacht\n",
        "iedere derde zondagnacht\n",
        "iedere vierde zondagnacht\n",
        "iedere laatste zondagnacht\n",
        "iedere zondagnacht\n",
        "iedere eerste zondagochtend\n",
        "iedere tweede zondagochtend\n",
        "iedere derde zondagochtend\n",
        "iedere vierde zondagochtend\n",
        "iedere laatste zondagochtend\n",
        "iedere zondagochtend\n",
        "iedere eerste maandag\n",
        "iedere tweede maandag\n",
        "iedere derde maandag\n",
        "iedere vierde maandag\n",
        "iedere laatste maandag\n",
        "iedere maandag\n",
        "iedere eerste maandagavond\n",
        "iedere tweede maandagavond\n",
        "iedere derde maandagavond\n",
        "iedere vierde maandagavond\n",
        "iedere laatste maandagavond\n",
        "iedere maandagavond\n",
        "iedere eerste maandagmiddag\n",
        "iedere tweede maandagmiddag\n",
        "iedere derde maandagmiddag\n",
        "iedere vierde maandagmiddag\n",
        "iedere laatste maandagmiddag\n",
        "iedere maandagmiddag\n",
        "iedere eerste maandagnamiddag\n",
        "iedere tweede maandagnamiddag\n",
        "iedere derde maandagnamiddag\n",
        "iedere vierde maandagnamiddag\n",
        "iedere laatste maandagnamiddag\n",
        "iedere maandagnamiddag\n",
        "iedere eerste maandagmorgen\n",
        "iedere tweede maandagmorgen\n",
        "iedere derde maandagmorgen\n",
        "iedere vierde maandagmorgen\n",
        "iedere laatste maandagmorgen\n",
        "iedere maandagmorgen\n",
        "iedere eerste maandagnacht\n",
        "iedere tweede maandagnacht\n",
        "iedere derde maandagnacht\n",
        "iedere vierde maandagnacht\n",
        "iedere laatste maandagnacht\n",
        "iedere maandagnacht\n",
        "iedere eerste maandagochtend\n",
        "iedere tweede maandagochtend\n",
        "iedere derde maandagochtend\n",
        "iedere vierde maandagochtend\n",
        "iedere laatste maandagochtend\n",
        "iedere maandagochtend\n",
        "iedere eerste dinsdag\n",
        "iedere tweede dinsdag\n",
        "iedere derde dinsdag\n",
        "iedere vierde dinsdag\n",
        "iedere laatste dinsdag\n",
        "iedere dinsdag\n",
        "iedere eerste dinsdagavond\n",
        "iedere tweede dinsdagavond\n",
        "iedere derde dinsdagavond\n",
        "iedere vierde dinsdagavond\n",
        "iedere laatste dinsdagavond\n",
        "iedere dinsdagavond\n",
        "iedere eerste dinsdagmiddag\n",
        "iedere tweede dinsdagmiddag\n",
        "iedere derde dinsdagmiddag\n",
        "iedere vierde dinsdagmiddag\n",
        "iedere laatste dinsdagmiddag\n",
        "iedere dinsdagmiddag\n",
        "iedere eerste dinsdagnamiddag\n",
        "iedere tweede dinsdagnamiddag\n",
        "iedere derde dinsdagnamiddag\n",
        "iedere vierde dinsdagnamiddag\n",
        "iedere laatste dinsdagnamiddag\n",
        "iedere dinsdagnamiddag\n",
        "iedere eerste dinsdagmorgen\n",
        "iedere tweede dinsdagmorgen\n",
        "iedere derde dinsdagmorgen\n",
        "iedere vierde dinsdagmorgen\n",
        "iedere laatste dinsdagmorgen\n",
        "iedere dinsdagmorgen\n",
        "iedere eerste dinsdagnacht\n",
        "iedere tweede dinsdagnacht\n",
        "iedere derde dinsdagnacht\n",
        "iedere vierde dinsdagnacht\n",
        "iedere laatste dinsdagnacht\n",
        "iedere dinsdagnacht\n",
        "iedere eerste dinsdagochtend\n",
        "iedere tweede dinsdagochtend\n",
        "iedere derde dinsdagochtend\n",
        "iedere vierde dinsdagochtend\n",
        "iedere laatste dinsdagochtend\n",
        "iedere dinsdagochtend\n",
        "iedere eerste woensdag\n",
        "iedere tweede woensdag\n",
        "iedere derde woensdag\n",
        "iedere vierde woensdag\n",
        "iedere laatste woensdag\n",
        "iedere woensdag\n",
        "iedere eerste woensdagavond\n",
        "iedere tweede woensdagavond\n",
        "iedere derde woensdagavond\n",
        "iedere vierde woensdagavond\n",
        "iedere laatste woensdagavond\n",
        "iedere woensdagavond\n",
        "iedere eerste woensdagmiddag\n",
        "iedere tweede woensdagmiddag\n",
        "iedere derde woensdagmiddag\n",
        "iedere vierde woensdagmiddag\n",
        "iedere laatste woensdagmiddag\n",
        "iedere woensdagmiddag\n",
        "iedere eerste woensdagnamiddag\n",
        "iedere tweede woensdagnamiddag\n",
        "iedere derde woensdagnamiddag\n",
        "iedere vierde woensdagnamiddag\n",
        "iedere laatste woensdagnamiddag\n",
        "iedere woensdagnamiddag\n",
        "iedere eerste woensdagmorgen\n",
        "iedere tweede woensdagmorgen\n",
        "iedere derde woensdagmorgen\n",
        "iedere vierde woensdagmorgen\n",
        "iedere laatste woensdagmorgen\n",
        "iedere woensdagmorgen\n",
        "iedere eerste woensdagnacht\n",
        "iedere tweede woensdagnacht\n",
        "iedere derde woensdagnacht\n",
        "iedere vierde woensdagnacht\n",
        "iedere laatste woensdagnacht\n",
        "iedere woensdagnacht\n",
        "iedere eerste woensdagochtend\n",
        "iedere tweede woensdagochtend\n",
        "iedere derde woensdagochtend\n",
        "iedere vierde woensdagochtend\n",
        "iedere laatste woensdagochtend\n",
        "iedere woensdagochtend\n",
        "iedere eerste donderdag\n",
        "iedere tweede donderdag\n",
        "iedere derde donderdag\n",
        "iedere vierde donderdag\n",
        "iedere laatste donderdag\n",
        "iedere donderdag\n",
        "iedere eerste donderdagavond\n",
        "iedere tweede donderdagavond\n",
        "iedere derde donderdagavond\n",
        "iedere vierde donderdagavond\n",
        "iedere laatste donderdagavond\n",
        "iedere donderdagavond\n",
        "iedere eerste donderdagmiddag\n",
        "iedere tweede donderdagmiddag\n",
        "iedere derde donderdagmiddag\n",
        "iedere vierde donderdagmiddag\n",
        "iedere laatste donderdagmiddag\n",
        "iedere donderdagmiddag\n",
        "iedere eerste donderdagnamiddag\n",
        "iedere tweede donderdagnamiddag\n",
        "iedere derde donderdagnamiddag\n",
        "iedere vierde donderdagnamiddag\n",
        "iedere laatste donderdagnamiddag\n",
        "iedere donderdagnamiddag\n",
        "iedere eerste donderdagmorgen\n",
        "iedere tweede donderdagmorgen\n",
        "iedere derde donderdagmorgen\n",
        "iedere vierde donderdagmorgen\n",
        "iedere laatste donderdagmorgen\n",
        "iedere donderdagmorgen\n",
        "iedere eerste donderdagnacht\n",
        "iedere tweede donderdagnacht\n",
        "iedere derde donderdagnacht\n",
        "iedere vierde donderdagnacht\n",
        "iedere laatste donderdagnacht\n",
        "iedere donderdagnacht\n",
        "iedere eerste donderdagochtend\n",
        "iedere tweede donderdagochtend\n",
        "iedere derde donderdagochtend\n",
        "iedere vierde donderdagochtend\n",
        "iedere laatste donderdagochtend\n",
        "iedere donderdagochtend\n",
        "iedere eerste vrijdag\n",
        "iedere tweede vrijdag\n",
        "iedere derde vrijdag\n",
        "iedere vierde vrijdag\n",
        "iedere laatste vrijdag\n",
        "iedere vrijdag\n",
        "iedere eerste vrijdagavond\n",
        "iedere tweede vrijdagavond\n",
        "iedere derde vrijdagavond\n",
        "iedere vierde vrijdagavond\n",
        "iedere laatste vrijdagavond\n",
        "iedere vrijdagavond\n",
        "iedere eerste vrijdagmiddag\n",
        "iedere tweede vrijdagmiddag\n",
        "iedere derde vrijdagmiddag\n",
        "iedere vierde vrijdagmiddag\n",
        "iedere laatste vrijdagmiddag\n",
        "iedere vrijdagmiddag\n",
        "iedere eerste vrijdagnamiddag\n",
        "iedere tweede vrijdagnamiddag\n",
        "iedere derde vrijdagnamiddag\n",
        "iedere vierde vrijdagnamiddag\n",
        "iedere laatste vrijdagnamiddag\n",
        "iedere vrijdagnamiddag\n",
        "iedere eerste vrijdagmorgen\n",
        "iedere tweede vrijdagmorgen\n",
        "iedere derde vrijdagmorgen\n",
        "iedere vierde vrijdagmorgen\n",
        "iedere laatste vrijdagmorgen\n",
        "iedere vrijdagmorgen\n",
        "iedere eerste vrijdagnacht\n",
        "iedere tweede vrijdagnacht\n",
        "iedere derde vrijdagnacht\n",
        "iedere vierde vrijdagnacht\n",
        "iedere laatste vrijdagnacht\n",
        "iedere vrijdagnacht\n",
        "iedere eerste vrijdagochtend\n",
        "iedere tweede vrijdagochtend\n",
        "iedere derde vrijdagochtend\n",
        "iedere vierde vrijdagochtend\n",
        "iedere laatste vrijdagochtend\n",
        "iedere vrijdagochtend\n",
        "iedere eerste zaterdag\n",
        "iedere tweede zaterdag\n",
        "iedere derde zaterdag\n",
        "iedere vierde zaterdag\n",
        "iedere laatste zaterdag\n",
        "iedere zaterdag\n",
        "iedere eerste zaterdagavond\n",
        "iedere tweede zaterdagavond\n",
        "iedere derde zaterdagavond\n",
        "iedere vierde zaterdagavond\n",
        "iedere laatste zaterdagavond\n",
        "iedere zaterdagavond\n",
        "iedere eerste zaterdagmiddag\n",
        "iedere tweede zaterdagmiddag\n",
        "iedere derde zaterdagmiddag\n",
        "iedere vierde zaterdagmiddag\n",
        "iedere laatste zaterdagmiddag\n",
        "iedere zaterdagmiddag\n",
        "iedere eerste zaterdagnamiddag\n",
        "iedere tweede zaterdagnamiddag\n",
        "iedere derde zaterdagnamiddag\n",
        "iedere vierde zaterdagnamiddag\n",
        "iedere laatste zaterdagnamiddag\n",
        "iedere zaterdagnamiddag\n",
        "iedere eerste zaterdagmorgen\n",
        "iedere tweede zaterdagmorgen\n",
        "iedere derde zaterdagmorgen\n",
        "iedere vierde zaterdagmorgen\n",
        "iedere laatste zaterdagmorgen\n",
        "iedere zaterdagmorgen\n",
        "iedere eerste zaterdagnacht\n",
        "iedere tweede zaterdagnacht\n",
        "iedere derde zaterdagnacht\n",
        "iedere vierde zaterdagnacht\n",
        "iedere laatste zaterdagnacht\n",
        "iedere zaterdagnacht\n",
        "iedere eerste zaterdagochtend\n",
        "iedere tweede zaterdagochtend\n",
        "iedere derde zaterdagochtend\n",
        "iedere vierde zaterdagochtend\n",
        "iedere laatste zaterdagochtend\n",
        "iedere zaterdagochtend\n",
        "elke eerste dag\n",
        "elke tweede dag\n",
        "elke derde dag\n",
        "elke vierde dag\n",
        "elke laatste dag\n",
        "elke dag\n",
        "elke eerste avond\n",
        "elke tweede avond\n",
        "elke derde avond\n",
        "elke vierde avond\n",
        "elke laatste avond\n",
        "elke avond\n",
        "elke eerste middag\n",
        "elke tweede middag\n",
        "elke derde middag\n",
        "elke vierde middag\n",
        "elke laatste middag\n",
        "elke middag\n",
        "elke eerste namiddag\n",
        "elke tweede namiddag\n",
        "elke derde namiddag\n",
        "elke vierde namiddag\n",
        "elke laatste namiddag\n",
        "elke namiddag\n",
        "elke eerste morgen\n",
        "elke tweede morgen\n",
        "elke derde morgen\n",
        "elke vierde morgen\n",
        "elke laatste morgen\n",
        "elke morgen\n",
        "elke eerste nacht\n",
        "elke tweede nacht\n",
        "elke derde nacht\n",
        "elke vierde nacht\n",
        "elke laatste nacht\n",
        "elke nacht\n",
        "elke eerste ochtend\n",
        "elke tweede ochtend\n",
        "elke derde ochtend\n",
        "elke vierde ochtend\n",
        "elke laatste ochtend\n",
        "elke ochtend\n",
        "elke eerste zondag\n",
        "elke tweede zondag\n",
        "elke derde zondag\n",
        "elke vierde zondag\n",
        "elke laatste zondag\n",
        "elke zondag\n",
        "elke eerste zondagavond\n",
        "elke tweede zondagavond\n",
        "elke derde zondagavond\n",
        "elke vierde zondagavond\n",
        "elke laatste zondagavond\n",
        "elke zondagavond\n",
        "elke eerste zondagmiddag\n",
        "elke tweede zondagmiddag\n",
        "elke derde zondagmiddag\n",
        "elke vierde zondagmiddag\n",
        "elke laatste zondagmiddag\n",
        "elke zondagmiddag\n",
        "elke eerste zondagnamiddag\n",
        "elke tweede zondagnamiddag\n",
        "elke derde zondagnamiddag\n",
        "elke vierde zondagnamiddag\n",
        "elke laatste zondagnamiddag\n",
        "elke zondagnamiddag\n",
        "elke eerste zondagmorgen\n",
        "elke tweede zondagmorgen\n",
        "elke derde zondagmorgen\n",
        "elke vierde zondagmorgen\n",
        "elke laatste zondagmorgen\n",
        "elke zondagmorgen\n",
        "elke eerste zondagnacht\n",
        "elke tweede zondagnacht\n",
        "elke derde zondagnacht\n",
        "elke vierde zondagnacht\n",
        "elke laatste zondagnacht\n",
        "elke zondagnacht\n",
        "elke eerste zondagochtend\n",
        "elke tweede zondagochtend\n",
        "elke derde zondagochtend\n",
        "elke vierde zondagochtend\n",
        "elke laatste zondagochtend\n",
        "elke zondagochtend\n",
        "elke eerste maandag\n",
        "elke tweede maandag\n",
        "elke derde maandag\n",
        "elke vierde maandag\n",
        "elke laatste maandag\n",
        "elke maandag\n",
        "elke eerste maandagavond\n",
        "elke tweede maandagavond\n",
        "elke derde maandagavond\n",
        "elke vierde maandagavond\n",
        "elke laatste maandagavond\n",
        "elke maandagavond\n",
        "elke eerste maandagmiddag\n",
        "elke tweede maandagmiddag\n",
        "elke derde maandagmiddag\n",
        "elke vierde maandagmiddag\n",
        "elke laatste maandagmiddag\n",
        "elke maandagmiddag\n",
        "elke eerste maandagnamiddag\n",
        "elke tweede maandagnamiddag\n",
        "elke derde maandagnamiddag\n",
        "elke vierde maandagnamiddag\n",
        "elke laatste maandagnamiddag\n",
        "elke maandagnamiddag\n",
        "elke eerste maandagmorgen\n",
        "elke tweede maandagmorgen\n",
        "elke derde maandagmorgen\n",
        "elke vierde maandagmorgen\n",
        "elke laatste maandagmorgen\n",
        "elke maandagmorgen\n",
        "elke eerste maandagnacht\n",
        "elke tweede maandagnacht\n",
        "elke derde maandagnacht\n",
        "elke vierde maandagnacht\n",
        "elke laatste maandagnacht\n",
        "elke maandagnacht\n",
        "elke eerste maandagochtend\n",
        "elke tweede maandagochtend\n",
        "elke derde maandagochtend\n",
        "elke vierde maandagochtend\n",
        "elke laatste maandagochtend\n",
        "elke maandagochtend\n",
        "elke eerste dinsdag\n",
        "elke tweede dinsdag\n",
        "elke derde dinsdag\n",
        "elke vierde dinsdag\n",
        "elke laatste dinsdag\n",
        "elke dinsdag\n",
        "elke eerste dinsdagavond\n",
        "elke tweede dinsdagavond\n",
        "elke derde dinsdagavond\n",
        "elke vierde dinsdagavond\n",
        "elke laatste dinsdagavond\n",
        "elke dinsdagavond\n",
        "elke eerste dinsdagmiddag\n",
        "elke tweede dinsdagmiddag\n",
        "elke derde dinsdagmiddag\n",
        "elke vierde dinsdagmiddag\n",
        "elke laatste dinsdagmiddag\n",
        "elke dinsdagmiddag\n",
        "elke eerste dinsdagnamiddag\n",
        "elke tweede dinsdagnamiddag\n",
        "elke derde dinsdagnamiddag\n",
        "elke vierde dinsdagnamiddag\n",
        "elke laatste dinsdagnamiddag\n",
        "elke dinsdagnamiddag\n",
        "elke eerste dinsdagmorgen\n",
        "elke tweede dinsdagmorgen\n",
        "elke derde dinsdagmorgen\n",
        "elke vierde dinsdagmorgen\n",
        "elke laatste dinsdagmorgen\n",
        "elke dinsdagmorgen\n",
        "elke eerste dinsdagnacht\n",
        "elke tweede dinsdagnacht\n",
        "elke derde dinsdagnacht\n",
        "elke vierde dinsdagnacht\n",
        "elke laatste dinsdagnacht\n",
        "elke dinsdagnacht\n",
        "elke eerste dinsdagochtend\n",
        "elke tweede dinsdagochtend\n",
        "elke derde dinsdagochtend\n",
        "elke vierde dinsdagochtend\n",
        "elke laatste dinsdagochtend\n",
        "elke dinsdagochtend\n",
        "elke eerste woensdag\n",
        "elke tweede woensdag\n",
        "elke derde woensdag\n",
        "elke vierde woensdag\n",
        "elke laatste woensdag\n",
        "elke woensdag\n",
        "elke eerste woensdagavond\n",
        "elke tweede woensdagavond\n",
        "elke derde woensdagavond\n",
        "elke vierde woensdagavond\n",
        "elke laatste woensdagavond\n",
        "elke woensdagavond\n",
        "elke eerste woensdagmiddag\n",
        "elke tweede woensdagmiddag\n",
        "elke derde woensdagmiddag\n",
        "elke vierde woensdagmiddag\n",
        "elke laatste woensdagmiddag\n",
        "elke woensdagmiddag\n",
        "elke eerste woensdagnamiddag\n",
        "elke tweede woensdagnamiddag\n",
        "elke derde woensdagnamiddag\n",
        "elke vierde woensdagnamiddag\n",
        "elke laatste woensdagnamiddag\n",
        "elke woensdagnamiddag\n",
        "elke eerste woensdagmorgen\n",
        "elke tweede woensdagmorgen\n",
        "elke derde woensdagmorgen\n",
        "elke vierde woensdagmorgen\n",
        "elke laatste woensdagmorgen\n",
        "elke woensdagmorgen\n",
        "elke eerste woensdagnacht\n",
        "elke tweede woensdagnacht\n",
        "elke derde woensdagnacht\n",
        "elke vierde woensdagnacht\n",
        "elke laatste woensdagnacht\n",
        "elke woensdagnacht\n",
        "elke eerste woensdagochtend\n",
        "elke tweede woensdagochtend\n",
        "elke derde woensdagochtend\n",
        "elke vierde woensdagochtend\n",
        "elke laatste woensdagochtend\n",
        "elke woensdagochtend\n",
        "elke eerste donderdag\n",
        "elke tweede donderdag\n",
        "elke derde donderdag\n",
        "elke vierde donderdag\n",
        "elke laatste donderdag\n",
        "elke donderdag\n",
        "elke eerste donderdagavond\n",
        "elke tweede donderdagavond\n",
        "elke derde donderdagavond\n",
        "elke vierde donderdagavond\n",
        "elke laatste donderdagavond\n",
        "elke donderdagavond\n",
        "elke eerste donderdagmiddag\n",
        "elke tweede donderdagmiddag\n",
        "elke derde donderdagmiddag\n",
        "elke vierde donderdagmiddag\n",
        "elke laatste donderdagmiddag\n",
        "elke donderdagmiddag\n",
        "elke eerste donderdagnamiddag\n",
        "elke tweede donderdagnamiddag\n",
        "elke derde donderdagnamiddag\n",
        "elke vierde donderdagnamiddag\n",
        "elke laatste donderdagnamiddag\n",
        "elke donderdagnamiddag\n",
        "elke eerste donderdagmorgen\n",
        "elke tweede donderdagmorgen\n",
        "elke derde donderdagmorgen\n",
        "elke vierde donderdagmorgen\n",
        "elke laatste donderdagmorgen\n",
        "elke donderdagmorgen\n",
        "elke eerste donderdagnacht\n",
        "elke tweede donderdagnacht\n",
        "elke derde donderdagnacht\n",
        "elke vierde donderdagnacht\n",
        "elke laatste donderdagnacht\n",
        "elke donderdagnacht\n",
        "elke eerste donderdagochtend\n",
        "elke tweede donderdagochtend\n",
        "elke derde donderdagochtend\n",
        "elke vierde donderdagochtend\n",
        "elke laatste donderdagochtend\n",
        "elke donderdagochtend\n",
        "elke eerste vrijdag\n",
        "elke tweede vrijdag\n",
        "elke derde vrijdag\n",
        "elke vierde vrijdag\n",
        "elke laatste vrijdag\n",
        "elke vrijdag\n",
        "elke eerste vrijdagavond\n",
        "elke tweede vrijdagavond\n",
        "elke derde vrijdagavond\n",
        "elke vierde vrijdagavond\n",
        "elke laatste vrijdagavond\n",
        "elke vrijdagavond\n",
        "elke eerste vrijdagmiddag\n",
        "elke tweede vrijdagmiddag\n",
        "elke derde vrijdagmiddag\n",
        "elke vierde vrijdagmiddag\n",
        "elke laatste vrijdagmiddag\n",
        "elke vrijdagmiddag\n",
        "elke eerste vrijdagnamiddag\n",
        "elke tweede vrijdagnamiddag\n",
        "elke derde vrijdagnamiddag\n",
        "elke vierde vrijdagnamiddag\n",
        "elke laatste vrijdagnamiddag\n",
        "elke vrijdagnamiddag\n",
        "elke eerste vrijdagmorgen\n",
        "elke tweede vrijdagmorgen\n",
        "elke derde vrijdagmorgen\n",
        "elke vierde vrijdagmorgen\n",
        "elke laatste vrijdagmorgen\n",
        "elke vrijdagmorgen\n",
        "elke eerste vrijdagnacht\n",
        "elke tweede vrijdagnacht\n",
        "elke derde vrijdagnacht\n",
        "elke vierde vrijdagnacht\n",
        "elke laatste vrijdagnacht\n",
        "elke vrijdagnacht\n",
        "elke eerste vrijdagochtend\n",
        "elke tweede vrijdagochtend\n",
        "elke derde vrijdagochtend\n",
        "elke vierde vrijdagochtend\n",
        "elke laatste vrijdagochtend\n",
        "elke vrijdagochtend\n",
        "elke eerste zaterdag\n",
        "elke tweede zaterdag\n",
        "elke derde zaterdag\n",
        "elke vierde zaterdag\n",
        "elke laatste zaterdag\n",
        "elke zaterdag\n",
        "elke eerste zaterdagavond\n",
        "elke tweede zaterdagavond\n",
        "elke derde zaterdagavond\n",
        "elke vierde zaterdagavond\n",
        "elke laatste zaterdagavond\n",
        "elke zaterdagavond\n",
        "elke eerste zaterdagmiddag\n",
        "elke tweede zaterdagmiddag\n",
        "elke derde zaterdagmiddag\n",
        "elke vierde zaterdagmiddag\n",
        "elke laatste zaterdagmiddag\n",
        "elke zaterdagmiddag\n",
        "elke eerste zaterdagnamiddag\n",
        "elke tweede zaterdagnamiddag\n",
        "elke derde zaterdagnamiddag\n",
        "elke vierde zaterdagnamiddag\n",
        "elke laatste zaterdagnamiddag\n",
        "elke zaterdagnamiddag\n",
        "elke eerste zaterdagmorgen\n",
        "elke tweede zaterdagmorgen\n",
        "elke derde zaterdagmorgen\n",
        "elke vierde zaterdagmorgen\n",
        "elke laatste zaterdagmorgen\n",
        "elke zaterdagmorgen\n",
        "elke eerste zaterdagnacht\n",
        "elke tweede zaterdagnacht\n",
        "elke derde zaterdagnacht\n",
        "elke vierde zaterdagnacht\n",
        "elke laatste zaterdagnacht\n",
        "elke zaterdagnacht\n",
        "elke eerste zaterdagochtend\n",
        "elke tweede zaterdagochtend\n",
        "elke derde zaterdagochtend\n",
        "elke vierde zaterdagochtend\n",
        "elke laatste zaterdagochtend\n",
        "elke zaterdagochtend\n"
       ]
      }
     ],
     "prompt_number": 30
    },
    {
     "cell_type": "code",
     "collapsed": true,
     "input": [
      "timex2 = []\n",
      "fixed1 = \"iedere | elke\"\n",
      "fixed1 = [item.strip() for item in fixed1.split('|')]\n",
      "print(fixed1)\n",
      "opt1 = \"eerste| tweede| derde| vierde | laatste\"\n",
      "opt1 = [item.strip() for item in opt1.split('|')]\n",
      "opt1.append('')\n",
      "print(opt1)\n",
      "fixed2 = getlinelist('../timexNelleke/timexlist')\n",
      "print(fixed2)\n",
      "\n",
      "timex2 = combine_exp(fixed1, fixed2, opt1, timex2)\n",
      "print(len(fixed1),len(fixed2),len(opt1),len(timex2))\n",
      "\n",
      "wrToFile(timex2)\n",
      "print(timex2)"
     ],
     "language": "python",
     "metadata": {},
     "outputs": [
      {
       "output_type": "stream",
       "stream": "stdout",
       "text": [
        "['iedere', 'elke']\n",
        "['eerste', 'tweede', 'derde', 'vierde', 'laatste', '']\n",
        "['dag', 'avond', 'middag', 'namiddag', 'morgen', 'nacht', 'ochtend', 'zondag', 'zondagavond', 'zondagmiddag', 'zondagnamiddag', 'zondagmorgen', 'zondagnacht', 'zondagochtend', 'maandag', 'maandagavond', 'maandagmiddag', 'maandagnamiddag', 'maandagmorgen', 'maandagnacht', 'maandagochtend', 'dinsdag', 'dinsdagavond', 'dinsdagmiddag', 'dinsdagnamiddag', 'dinsdagmorgen', 'dinsdagnacht', 'dinsdagochtend', 'woensdag', 'woensdagavond', 'woensdagmiddag', 'woensdagnamiddag', 'woensdagmorgen', 'woensdagnacht', 'woensdagochtend', 'donderdag', 'donderdagavond', 'donderdagmiddag', 'donderdagnamiddag', 'donderdagmorgen', 'donderdagnacht', 'donderdagochtend', 'vrijdag', 'vrijdagavond', 'vrijdagmiddag', 'vrijdagnamiddag', 'vrijdagmorgen', 'vrijdagnacht', 'vrijdagochtend', 'zaterdag', 'zaterdagavond', 'zaterdagmiddag', 'zaterdagnamiddag', 'zaterdagmorgen', 'zaterdagnacht', 'zaterdagochtend']\n",
        "2 56 6 672\n",
        "['iedere eerste dag', 'iedere tweede dag', 'iedere derde dag', 'iedere vierde dag', 'iedere laatste dag', 'iedere dag', 'iedere eerste avond', 'iedere tweede avond', 'iedere derde avond', 'iedere vierde avond', 'iedere laatste avond', 'iedere avond', 'iedere eerste middag', 'iedere tweede middag', 'iedere derde middag', 'iedere vierde middag', 'iedere laatste middag', 'iedere middag', 'iedere eerste namiddag', 'iedere tweede namiddag', 'iedere derde namiddag', 'iedere vierde namiddag', 'iedere laatste namiddag', 'iedere namiddag', 'iedere eerste morgen', 'iedere tweede morgen', 'iedere derde morgen', 'iedere vierde morgen', 'iedere laatste morgen', 'iedere morgen', 'iedere eerste nacht', 'iedere tweede nacht', 'iedere derde nacht', 'iedere vierde nacht', 'iedere laatste nacht', 'iedere nacht', 'iedere eerste ochtend', 'iedere tweede ochtend', 'iedere derde ochtend', 'iedere vierde ochtend', 'iedere laatste ochtend', 'iedere ochtend', 'iedere eerste zondag', 'iedere tweede zondag', 'iedere derde zondag', 'iedere vierde zondag', 'iedere laatste zondag', 'iedere zondag', 'iedere eerste zondagavond', 'iedere tweede zondagavond', 'iedere derde zondagavond', 'iedere vierde zondagavond', 'iedere laatste zondagavond', 'iedere zondagavond', 'iedere eerste zondagmiddag', 'iedere tweede zondagmiddag', 'iedere derde zondagmiddag', 'iedere vierde zondagmiddag', 'iedere laatste zondagmiddag', 'iedere zondagmiddag', 'iedere eerste zondagnamiddag', 'iedere tweede zondagnamiddag', 'iedere derde zondagnamiddag', 'iedere vierde zondagnamiddag', 'iedere laatste zondagnamiddag', 'iedere zondagnamiddag', 'iedere eerste zondagmorgen', 'iedere tweede zondagmorgen', 'iedere derde zondagmorgen', 'iedere vierde zondagmorgen', 'iedere laatste zondagmorgen', 'iedere zondagmorgen', 'iedere eerste zondagnacht', 'iedere tweede zondagnacht', 'iedere derde zondagnacht', 'iedere vierde zondagnacht', 'iedere laatste zondagnacht', 'iedere zondagnacht', 'iedere eerste zondagochtend', 'iedere tweede zondagochtend', 'iedere derde zondagochtend', 'iedere vierde zondagochtend', 'iedere laatste zondagochtend', 'iedere zondagochtend', 'iedere eerste maandag', 'iedere tweede maandag', 'iedere derde maandag', 'iedere vierde maandag', 'iedere laatste maandag', 'iedere maandag', 'iedere eerste maandagavond', 'iedere tweede maandagavond', 'iedere derde maandagavond', 'iedere vierde maandagavond', 'iedere laatste maandagavond', 'iedere maandagavond', 'iedere eerste maandagmiddag', 'iedere tweede maandagmiddag', 'iedere derde maandagmiddag', 'iedere vierde maandagmiddag', 'iedere laatste maandagmiddag', 'iedere maandagmiddag', 'iedere eerste maandagnamiddag', 'iedere tweede maandagnamiddag', 'iedere derde maandagnamiddag', 'iedere vierde maandagnamiddag', 'iedere laatste maandagnamiddag', 'iedere maandagnamiddag', 'iedere eerste maandagmorgen', 'iedere tweede maandagmorgen', 'iedere derde maandagmorgen', 'iedere vierde maandagmorgen', 'iedere laatste maandagmorgen', 'iedere maandagmorgen', 'iedere eerste maandagnacht', 'iedere tweede maandagnacht', 'iedere derde maandagnacht', 'iedere vierde maandagnacht', 'iedere laatste maandagnacht', 'iedere maandagnacht', 'iedere eerste maandagochtend', 'iedere tweede maandagochtend', 'iedere derde maandagochtend', 'iedere vierde maandagochtend', 'iedere laatste maandagochtend', 'iedere maandagochtend', 'iedere eerste dinsdag', 'iedere tweede dinsdag', 'iedere derde dinsdag', 'iedere vierde dinsdag', 'iedere laatste dinsdag', 'iedere dinsdag', 'iedere eerste dinsdagavond', 'iedere tweede dinsdagavond', 'iedere derde dinsdagavond', 'iedere vierde dinsdagavond', 'iedere laatste dinsdagavond', 'iedere dinsdagavond', 'iedere eerste dinsdagmiddag', 'iedere tweede dinsdagmiddag', 'iedere derde dinsdagmiddag', 'iedere vierde dinsdagmiddag', 'iedere laatste dinsdagmiddag', 'iedere dinsdagmiddag', 'iedere eerste dinsdagnamiddag', 'iedere tweede dinsdagnamiddag', 'iedere derde dinsdagnamiddag', 'iedere vierde dinsdagnamiddag', 'iedere laatste dinsdagnamiddag', 'iedere dinsdagnamiddag', 'iedere eerste dinsdagmorgen', 'iedere tweede dinsdagmorgen', 'iedere derde dinsdagmorgen', 'iedere vierde dinsdagmorgen', 'iedere laatste dinsdagmorgen', 'iedere dinsdagmorgen', 'iedere eerste dinsdagnacht', 'iedere tweede dinsdagnacht', 'iedere derde dinsdagnacht', 'iedere vierde dinsdagnacht', 'iedere laatste dinsdagnacht', 'iedere dinsdagnacht', 'iedere eerste dinsdagochtend', 'iedere tweede dinsdagochtend', 'iedere derde dinsdagochtend', 'iedere vierde dinsdagochtend', 'iedere laatste dinsdagochtend', 'iedere dinsdagochtend', 'iedere eerste woensdag', 'iedere tweede woensdag', 'iedere derde woensdag', 'iedere vierde woensdag', 'iedere laatste woensdag', 'iedere woensdag', 'iedere eerste woensdagavond', 'iedere tweede woensdagavond', 'iedere derde woensdagavond', 'iedere vierde woensdagavond', 'iedere laatste woensdagavond', 'iedere woensdagavond', 'iedere eerste woensdagmiddag', 'iedere tweede woensdagmiddag', 'iedere derde woensdagmiddag', 'iedere vierde woensdagmiddag', 'iedere laatste woensdagmiddag', 'iedere woensdagmiddag', 'iedere eerste woensdagnamiddag', 'iedere tweede woensdagnamiddag', 'iedere derde woensdagnamiddag', 'iedere vierde woensdagnamiddag', 'iedere laatste woensdagnamiddag', 'iedere woensdagnamiddag', 'iedere eerste woensdagmorgen', 'iedere tweede woensdagmorgen', 'iedere derde woensdagmorgen', 'iedere vierde woensdagmorgen', 'iedere laatste woensdagmorgen', 'iedere woensdagmorgen', 'iedere eerste woensdagnacht', 'iedere tweede woensdagnacht', 'iedere derde woensdagnacht', 'iedere vierde woensdagnacht', 'iedere laatste woensdagnacht', 'iedere woensdagnacht', 'iedere eerste woensdagochtend', 'iedere tweede woensdagochtend', 'iedere derde woensdagochtend', 'iedere vierde woensdagochtend', 'iedere laatste woensdagochtend', 'iedere woensdagochtend', 'iedere eerste donderdag', 'iedere tweede donderdag', 'iedere derde donderdag', 'iedere vierde donderdag', 'iedere laatste donderdag', 'iedere donderdag', 'iedere eerste donderdagavond', 'iedere tweede donderdagavond', 'iedere derde donderdagavond', 'iedere vierde donderdagavond', 'iedere laatste donderdagavond', 'iedere donderdagavond', 'iedere eerste donderdagmiddag', 'iedere tweede donderdagmiddag', 'iedere derde donderdagmiddag', 'iedere vierde donderdagmiddag', 'iedere laatste donderdagmiddag', 'iedere donderdagmiddag', 'iedere eerste donderdagnamiddag', 'iedere tweede donderdagnamiddag', 'iedere derde donderdagnamiddag', 'iedere vierde donderdagnamiddag', 'iedere laatste donderdagnamiddag', 'iedere donderdagnamiddag', 'iedere eerste donderdagmorgen', 'iedere tweede donderdagmorgen', 'iedere derde donderdagmorgen', 'iedere vierde donderdagmorgen', 'iedere laatste donderdagmorgen', 'iedere donderdagmorgen', 'iedere eerste donderdagnacht', 'iedere tweede donderdagnacht', 'iedere derde donderdagnacht', 'iedere vierde donderdagnacht', 'iedere laatste donderdagnacht', 'iedere donderdagnacht', 'iedere eerste donderdagochtend', 'iedere tweede donderdagochtend', 'iedere derde donderdagochtend', 'iedere vierde donderdagochtend', 'iedere laatste donderdagochtend', 'iedere donderdagochtend', 'iedere eerste vrijdag', 'iedere tweede vrijdag', 'iedere derde vrijdag', 'iedere vierde vrijdag', 'iedere laatste vrijdag', 'iedere vrijdag', 'iedere eerste vrijdagavond', 'iedere tweede vrijdagavond', 'iedere derde vrijdagavond', 'iedere vierde vrijdagavond', 'iedere laatste vrijdagavond', 'iedere vrijdagavond', 'iedere eerste vrijdagmiddag', 'iedere tweede vrijdagmiddag', 'iedere derde vrijdagmiddag', 'iedere vierde vrijdagmiddag', 'iedere laatste vrijdagmiddag', 'iedere vrijdagmiddag', 'iedere eerste vrijdagnamiddag', 'iedere tweede vrijdagnamiddag', 'iedere derde vrijdagnamiddag', 'iedere vierde vrijdagnamiddag', 'iedere laatste vrijdagnamiddag', 'iedere vrijdagnamiddag', 'iedere eerste vrijdagmorgen', 'iedere tweede vrijdagmorgen', 'iedere derde vrijdagmorgen', 'iedere vierde vrijdagmorgen', 'iedere laatste vrijdagmorgen', 'iedere vrijdagmorgen', 'iedere eerste vrijdagnacht', 'iedere tweede vrijdagnacht', 'iedere derde vrijdagnacht', 'iedere vierde vrijdagnacht', 'iedere laatste vrijdagnacht', 'iedere vrijdagnacht', 'iedere eerste vrijdagochtend', 'iedere tweede vrijdagochtend', 'iedere derde vrijdagochtend', 'iedere vierde vrijdagochtend', 'iedere laatste vrijdagochtend', 'iedere vrijdagochtend', 'iedere eerste zaterdag', 'iedere tweede zaterdag', 'iedere derde zaterdag', 'iedere vierde zaterdag', 'iedere laatste zaterdag', 'iedere zaterdag', 'iedere eerste zaterdagavond', 'iedere tweede zaterdagavond', 'iedere derde zaterdagavond', 'iedere vierde zaterdagavond', 'iedere laatste zaterdagavond', 'iedere zaterdagavond', 'iedere eerste zaterdagmiddag', 'iedere tweede zaterdagmiddag', 'iedere derde zaterdagmiddag', 'iedere vierde zaterdagmiddag', 'iedere laatste zaterdagmiddag', 'iedere zaterdagmiddag', 'iedere eerste zaterdagnamiddag', 'iedere tweede zaterdagnamiddag', 'iedere derde zaterdagnamiddag', 'iedere vierde zaterdagnamiddag', 'iedere laatste zaterdagnamiddag', 'iedere zaterdagnamiddag', 'iedere eerste zaterdagmorgen', 'iedere tweede zaterdagmorgen', 'iedere derde zaterdagmorgen', 'iedere vierde zaterdagmorgen', 'iedere laatste zaterdagmorgen', 'iedere zaterdagmorgen', 'iedere eerste zaterdagnacht', 'iedere tweede zaterdagnacht', 'iedere derde zaterdagnacht', 'iedere vierde zaterdagnacht', 'iedere laatste zaterdagnacht', 'iedere zaterdagnacht', 'iedere eerste zaterdagochtend', 'iedere tweede zaterdagochtend', 'iedere derde zaterdagochtend', 'iedere vierde zaterdagochtend', 'iedere laatste zaterdagochtend', 'iedere zaterdagochtend', 'elke eerste dag', 'elke tweede dag', 'elke derde dag', 'elke vierde dag', 'elke laatste dag', 'elke dag', 'elke eerste avond', 'elke tweede avond', 'elke derde avond', 'elke vierde avond', 'elke laatste avond', 'elke avond', 'elke eerste middag', 'elke tweede middag', 'elke derde middag', 'elke vierde middag', 'elke laatste middag', 'elke middag', 'elke eerste namiddag', 'elke tweede namiddag', 'elke derde namiddag', 'elke vierde namiddag', 'elke laatste namiddag', 'elke namiddag', 'elke eerste morgen', 'elke tweede morgen', 'elke derde morgen', 'elke vierde morgen', 'elke laatste morgen', 'elke morgen', 'elke eerste nacht', 'elke tweede nacht', 'elke derde nacht', 'elke vierde nacht', 'elke laatste nacht', 'elke nacht', 'elke eerste ochtend', 'elke tweede ochtend', 'elke derde ochtend', 'elke vierde ochtend', 'elke laatste ochtend', 'elke ochtend', 'elke eerste zondag', 'elke tweede zondag', 'elke derde zondag', 'elke vierde zondag', 'elke laatste zondag', 'elke zondag', 'elke eerste zondagavond', 'elke tweede zondagavond', 'elke derde zondagavond', 'elke vierde zondagavond', 'elke laatste zondagavond', 'elke zondagavond', 'elke eerste zondagmiddag', 'elke tweede zondagmiddag', 'elke derde zondagmiddag', 'elke vierde zondagmiddag', 'elke laatste zondagmiddag', 'elke zondagmiddag', 'elke eerste zondagnamiddag', 'elke tweede zondagnamiddag', 'elke derde zondagnamiddag', 'elke vierde zondagnamiddag', 'elke laatste zondagnamiddag', 'elke zondagnamiddag', 'elke eerste zondagmorgen', 'elke tweede zondagmorgen', 'elke derde zondagmorgen', 'elke vierde zondagmorgen', 'elke laatste zondagmorgen', 'elke zondagmorgen', 'elke eerste zondagnacht', 'elke tweede zondagnacht', 'elke derde zondagnacht', 'elke vierde zondagnacht', 'elke laatste zondagnacht', 'elke zondagnacht', 'elke eerste zondagochtend', 'elke tweede zondagochtend', 'elke derde zondagochtend', 'elke vierde zondagochtend', 'elke laatste zondagochtend', 'elke zondagochtend', 'elke eerste maandag', 'elke tweede maandag', 'elke derde maandag', 'elke vierde maandag', 'elke laatste maandag', 'elke maandag', 'elke eerste maandagavond', 'elke tweede maandagavond', 'elke derde maandagavond', 'elke vierde maandagavond', 'elke laatste maandagavond', 'elke maandagavond', 'elke eerste maandagmiddag', 'elke tweede maandagmiddag', 'elke derde maandagmiddag', 'elke vierde maandagmiddag', 'elke laatste maandagmiddag', 'elke maandagmiddag', 'elke eerste maandagnamiddag', 'elke tweede maandagnamiddag', 'elke derde maandagnamiddag', 'elke vierde maandagnamiddag', 'elke laatste maandagnamiddag', 'elke maandagnamiddag', 'elke eerste maandagmorgen', 'elke tweede maandagmorgen', 'elke derde maandagmorgen', 'elke vierde maandagmorgen', 'elke laatste maandagmorgen', 'elke maandagmorgen', 'elke eerste maandagnacht', 'elke tweede maandagnacht', 'elke derde maandagnacht', 'elke vierde maandagnacht', 'elke laatste maandagnacht', 'elke maandagnacht', 'elke eerste maandagochtend', 'elke tweede maandagochtend', 'elke derde maandagochtend', 'elke vierde maandagochtend', 'elke laatste maandagochtend', 'elke maandagochtend', 'elke eerste dinsdag', 'elke tweede dinsdag', 'elke derde dinsdag', 'elke vierde dinsdag', 'elke laatste dinsdag', 'elke dinsdag', 'elke eerste dinsdagavond', 'elke tweede dinsdagavond', 'elke derde dinsdagavond', 'elke vierde dinsdagavond', 'elke laatste dinsdagavond', 'elke dinsdagavond', 'elke eerste dinsdagmiddag', 'elke tweede dinsdagmiddag', 'elke derde dinsdagmiddag', 'elke vierde dinsdagmiddag', 'elke laatste dinsdagmiddag', 'elke dinsdagmiddag', 'elke eerste dinsdagnamiddag', 'elke tweede dinsdagnamiddag', 'elke derde dinsdagnamiddag', 'elke vierde dinsdagnamiddag', 'elke laatste dinsdagnamiddag', 'elke dinsdagnamiddag', 'elke eerste dinsdagmorgen', 'elke tweede dinsdagmorgen', 'elke derde dinsdagmorgen', 'elke vierde dinsdagmorgen', 'elke laatste dinsdagmorgen', 'elke dinsdagmorgen', 'elke eerste dinsdagnacht', 'elke tweede dinsdagnacht', 'elke derde dinsdagnacht', 'elke vierde dinsdagnacht', 'elke laatste dinsdagnacht', 'elke dinsdagnacht', 'elke eerste dinsdagochtend', 'elke tweede dinsdagochtend', 'elke derde dinsdagochtend', 'elke vierde dinsdagochtend', 'elke laatste dinsdagochtend', 'elke dinsdagochtend', 'elke eerste woensdag', 'elke tweede woensdag', 'elke derde woensdag', 'elke vierde woensdag', 'elke laatste woensdag', 'elke woensdag', 'elke eerste woensdagavond', 'elke tweede woensdagavond', 'elke derde woensdagavond', 'elke vierde woensdagavond', 'elke laatste woensdagavond', 'elke woensdagavond', 'elke eerste woensdagmiddag', 'elke tweede woensdagmiddag', 'elke derde woensdagmiddag', 'elke vierde woensdagmiddag', 'elke laatste woensdagmiddag', 'elke woensdagmiddag', 'elke eerste woensdagnamiddag', 'elke tweede woensdagnamiddag', 'elke derde woensdagnamiddag', 'elke vierde woensdagnamiddag', 'elke laatste woensdagnamiddag', 'elke woensdagnamiddag', 'elke eerste woensdagmorgen', 'elke tweede woensdagmorgen', 'elke derde woensdagmorgen', 'elke vierde woensdagmorgen', 'elke laatste woensdagmorgen', 'elke woensdagmorgen', 'elke eerste woensdagnacht', 'elke tweede woensdagnacht', 'elke derde woensdagnacht', 'elke vierde woensdagnacht', 'elke laatste woensdagnacht', 'elke woensdagnacht', 'elke eerste woensdagochtend', 'elke tweede woensdagochtend', 'elke derde woensdagochtend', 'elke vierde woensdagochtend', 'elke laatste woensdagochtend', 'elke woensdagochtend', 'elke eerste donderdag', 'elke tweede donderdag', 'elke derde donderdag', 'elke vierde donderdag', 'elke laatste donderdag', 'elke donderdag', 'elke eerste donderdagavond', 'elke tweede donderdagavond', 'elke derde donderdagavond', 'elke vierde donderdagavond', 'elke laatste donderdagavond', 'elke donderdagavond', 'elke eerste donderdagmiddag', 'elke tweede donderdagmiddag', 'elke derde donderdagmiddag', 'elke vierde donderdagmiddag', 'elke laatste donderdagmiddag', 'elke donderdagmiddag', 'elke eerste donderdagnamiddag', 'elke tweede donderdagnamiddag', 'elke derde donderdagnamiddag', 'elke vierde donderdagnamiddag', 'elke laatste donderdagnamiddag', 'elke donderdagnamiddag', 'elke eerste donderdagmorgen', 'elke tweede donderdagmorgen', 'elke derde donderdagmorgen', 'elke vierde donderdagmorgen', 'elke laatste donderdagmorgen', 'elke donderdagmorgen', 'elke eerste donderdagnacht', 'elke tweede donderdagnacht', 'elke derde donderdagnacht', 'elke vierde donderdagnacht', 'elke laatste donderdagnacht', 'elke donderdagnacht', 'elke eerste donderdagochtend', 'elke tweede donderdagochtend', 'elke derde donderdagochtend', 'elke vierde donderdagochtend', 'elke laatste donderdagochtend', 'elke donderdagochtend', 'elke eerste vrijdag', 'elke tweede vrijdag', 'elke derde vrijdag', 'elke vierde vrijdag', 'elke laatste vrijdag', 'elke vrijdag', 'elke eerste vrijdagavond', 'elke tweede vrijdagavond', 'elke derde vrijdagavond', 'elke vierde vrijdagavond', 'elke laatste vrijdagavond', 'elke vrijdagavond', 'elke eerste vrijdagmiddag', 'elke tweede vrijdagmiddag', 'elke derde vrijdagmiddag', 'elke vierde vrijdagmiddag', 'elke laatste vrijdagmiddag', 'elke vrijdagmiddag', 'elke eerste vrijdagnamiddag', 'elke tweede vrijdagnamiddag', 'elke derde vrijdagnamiddag', 'elke vierde vrijdagnamiddag', 'elke laatste vrijdagnamiddag', 'elke vrijdagnamiddag', 'elke eerste vrijdagmorgen', 'elke tweede vrijdagmorgen', 'elke derde vrijdagmorgen', 'elke vierde vrijdagmorgen', 'elke laatste vrijdagmorgen', 'elke vrijdagmorgen', 'elke eerste vrijdagnacht', 'elke tweede vrijdagnacht', 'elke derde vrijdagnacht', 'elke vierde vrijdagnacht', 'elke laatste vrijdagnacht', 'elke vrijdagnacht', 'elke eerste vrijdagochtend', 'elke tweede vrijdagochtend', 'elke derde vrijdagochtend', 'elke vierde vrijdagochtend', 'elke laatste vrijdagochtend', 'elke vrijdagochtend', 'elke eerste zaterdag', 'elke tweede zaterdag', 'elke derde zaterdag', 'elke vierde zaterdag', 'elke laatste zaterdag', 'elke zaterdag', 'elke eerste zaterdagavond', 'elke tweede zaterdagavond', 'elke derde zaterdagavond', 'elke vierde zaterdagavond', 'elke laatste zaterdagavond', 'elke zaterdagavond', 'elke eerste zaterdagmiddag', 'elke tweede zaterdagmiddag', 'elke derde zaterdagmiddag', 'elke vierde zaterdagmiddag', 'elke laatste zaterdagmiddag', 'elke zaterdagmiddag', 'elke eerste zaterdagnamiddag', 'elke tweede zaterdagnamiddag', 'elke derde zaterdagnamiddag', 'elke vierde zaterdagnamiddag', 'elke laatste zaterdagnamiddag', 'elke zaterdagnamiddag', 'elke eerste zaterdagmorgen', 'elke tweede zaterdagmorgen', 'elke derde zaterdagmorgen', 'elke vierde zaterdagmorgen', 'elke laatste zaterdagmorgen', 'elke zaterdagmorgen', 'elke eerste zaterdagnacht', 'elke tweede zaterdagnacht', 'elke derde zaterdagnacht', 'elke vierde zaterdagnacht', 'elke laatste zaterdagnacht', 'elke zaterdagnacht', 'elke eerste zaterdagochtend', 'elke tweede zaterdagochtend', 'elke derde zaterdagochtend', 'elke vierde zaterdagochtend', 'elke laatste zaterdagochtend', 'elke zaterdagochtend']\n"
       ]
      }
     ],
     "prompt_number": 31
    },
    {
     "cell_type": "code",
     "collapsed": true,
     "input": [
      "timex3 = []\n",
      "fixed1 = [\"om de\"]\n",
      "print(fixed1)\n",
      "fixed2 = getlinelist('../timexNelleke/timexlist')\n",
      "print(fixed2)\n",
      "\n",
      "timex3 = [\"om de \"+f2 for f2 in fixed2]\n",
      "\n",
      "wrToFile(timex3)\n",
      "print(timex3)"
     ],
     "language": "python",
     "metadata": {},
     "outputs": [
      {
       "output_type": "stream",
       "stream": "stdout",
       "text": [
        "['om de']\n",
        "['dag', 'avond', 'middag', 'namiddag', 'morgen', 'nacht', 'ochtend', 'zondag', 'zondagavond', 'zondagmiddag', 'zondagnamiddag', 'zondagmorgen', 'zondagnacht', 'zondagochtend', 'maandag', 'maandagavond', 'maandagmiddag', 'maandagnamiddag', 'maandagmorgen', 'maandagnacht', 'maandagochtend', 'dinsdag', 'dinsdagavond', 'dinsdagmiddag', 'dinsdagnamiddag', 'dinsdagmorgen', 'dinsdagnacht', 'dinsdagochtend', 'woensdag', 'woensdagavond', 'woensdagmiddag', 'woensdagnamiddag', 'woensdagmorgen', 'woensdagnacht', 'woensdagochtend', 'donderdag', 'donderdagavond', 'donderdagmiddag', 'donderdagnamiddag', 'donderdagmorgen', 'donderdagnacht', 'donderdagochtend', 'vrijdag', 'vrijdagavond', 'vrijdagmiddag', 'vrijdagnamiddag', 'vrijdagmorgen', 'vrijdagnacht', 'vrijdagochtend', 'zaterdag', 'zaterdagavond', 'zaterdagmiddag', 'zaterdagnamiddag', 'zaterdagmorgen', 'zaterdagnacht', 'zaterdagochtend']\n",
        "['om de dag', 'om de avond', 'om de middag', 'om de namiddag', 'om de morgen', 'om de nacht', 'om de ochtend', 'om de zondag', 'om de zondagavond', 'om de zondagmiddag', 'om de zondagnamiddag', 'om de zondagmorgen', 'om de zondagnacht', 'om de zondagochtend', 'om de maandag', 'om de maandagavond', 'om de maandagmiddag', 'om de maandagnamiddag', 'om de maandagmorgen', 'om de maandagnacht', 'om de maandagochtend', 'om de dinsdag', 'om de dinsdagavond', 'om de dinsdagmiddag', 'om de dinsdagnamiddag', 'om de dinsdagmorgen', 'om de dinsdagnacht', 'om de dinsdagochtend', 'om de woensdag', 'om de woensdagavond', 'om de woensdagmiddag', 'om de woensdagnamiddag', 'om de woensdagmorgen', 'om de woensdagnacht', 'om de woensdagochtend', 'om de donderdag', 'om de donderdagavond', 'om de donderdagmiddag', 'om de donderdagnamiddag', 'om de donderdagmorgen', 'om de donderdagnacht', 'om de donderdagochtend', 'om de vrijdag', 'om de vrijdagavond', 'om de vrijdagmiddag', 'om de vrijdagnamiddag', 'om de vrijdagmorgen', 'om de vrijdagnacht', 'om de vrijdagochtend', 'om de zaterdag', 'om de zaterdagavond', 'om de zaterdagmiddag', 'om de zaterdagnamiddag', 'om de zaterdagmorgen', 'om de zaterdagnacht', 'om de zaterdagochtend']\n"
       ]
      }
     ],
     "prompt_number": 32
    },
    {
     "cell_type": "code",
     "collapsed": true,
     "input": [
      "timex4 = []\n",
      "fixed1 = [\"aanstaande\", \"deze\", \"die\", \"komende\", \"verleden\", \"volgende\", \"vorige\", \"volgende week\", \"vorige week\", \"komende week\"]\n",
      "print(fixed1)\n",
      "fixed2 = getlinelist('../timexNelleke/timexlist')\n",
      "print(fixed2)\n",
      "\n",
      "for f1 in fixed1:\n",
      "    for f2 in fixed2:\n",
      "        timex4.append(f1+' '+f2)\n",
      "\n",
      "print(len(fixed1),len(fixed2),len(timex4))\n",
      "wrToFile(timex4)\n",
      "print(timex4)"
     ],
     "language": "python",
     "metadata": {},
     "outputs": [
      {
       "output_type": "stream",
       "stream": "stdout",
       "text": [
        "['aanstaande', 'deze', 'die', 'komende', 'verleden', 'volgende', 'vorige', 'volgende week', 'vorige week', 'komende week']\n",
        "['zondag', 'zondagavond', 'zondagmiddag', 'zondagnamiddag', 'zondagmorgen', 'zondagnacht', 'zondagochtend', 'maandag', 'maandagavond', 'maandagmiddag', 'maandagnamiddag', 'maandagmorgen', 'maandagnacht', 'maandagochtend', 'dinsdag', 'dinsdagavond', 'dinsdagmiddag', 'dinsdagnamiddag', 'dinsdagmorgen', 'dinsdagnacht', 'dinsdagochtend', 'woensdag', 'woensdagavond', 'woensdagmiddag', 'woensdagnamiddag', 'woensdagmorgen', 'woensdagnacht', 'woensdagochtend', 'donderdag', 'donderdagavond', 'donderdagmiddag', 'donderdagnamiddag', 'donderdagmorgen', 'donderdagnacht', 'donderdagochtend', 'vrijdag', 'vrijdagavond', 'vrijdagmiddag', 'vrijdagnamiddag', 'vrijdagmorgen', 'vrijdagnacht', 'vrijdagochtend', 'zaterdag', 'zaterdagavond', 'zaterdagmiddag', 'zaterdagnamiddag', 'zaterdagmorgen', 'zaterdagnacht', 'zaterdagochtend']\n",
        "10 49 490\n",
        "['aanstaande zondag', 'aanstaande zondagavond', 'aanstaande zondagmiddag', 'aanstaande zondagnamiddag', 'aanstaande zondagmorgen', 'aanstaande zondagnacht', 'aanstaande zondagochtend', 'aanstaande maandag', 'aanstaande maandagavond', 'aanstaande maandagmiddag', 'aanstaande maandagnamiddag', 'aanstaande maandagmorgen', 'aanstaande maandagnacht', 'aanstaande maandagochtend', 'aanstaande dinsdag', 'aanstaande dinsdagavond', 'aanstaande dinsdagmiddag', 'aanstaande dinsdagnamiddag', 'aanstaande dinsdagmorgen', 'aanstaande dinsdagnacht', 'aanstaande dinsdagochtend', 'aanstaande woensdag', 'aanstaande woensdagavond', 'aanstaande woensdagmiddag', 'aanstaande woensdagnamiddag', 'aanstaande woensdagmorgen', 'aanstaande woensdagnacht', 'aanstaande woensdagochtend', 'aanstaande donderdag', 'aanstaande donderdagavond', 'aanstaande donderdagmiddag', 'aanstaande donderdagnamiddag', 'aanstaande donderdagmorgen', 'aanstaande donderdagnacht', 'aanstaande donderdagochtend', 'aanstaande vrijdag', 'aanstaande vrijdagavond', 'aanstaande vrijdagmiddag', 'aanstaande vrijdagnamiddag', 'aanstaande vrijdagmorgen', 'aanstaande vrijdagnacht', 'aanstaande vrijdagochtend', 'aanstaande zaterdag', 'aanstaande zaterdagavond', 'aanstaande zaterdagmiddag', 'aanstaande zaterdagnamiddag', 'aanstaande zaterdagmorgen', 'aanstaande zaterdagnacht', 'aanstaande zaterdagochtend', 'deze zondag', 'deze zondagavond', 'deze zondagmiddag', 'deze zondagnamiddag', 'deze zondagmorgen', 'deze zondagnacht', 'deze zondagochtend', 'deze maandag', 'deze maandagavond', 'deze maandagmiddag', 'deze maandagnamiddag', 'deze maandagmorgen', 'deze maandagnacht', 'deze maandagochtend', 'deze dinsdag', 'deze dinsdagavond', 'deze dinsdagmiddag', 'deze dinsdagnamiddag', 'deze dinsdagmorgen', 'deze dinsdagnacht', 'deze dinsdagochtend', 'deze woensdag', 'deze woensdagavond', 'deze woensdagmiddag', 'deze woensdagnamiddag', 'deze woensdagmorgen', 'deze woensdagnacht', 'deze woensdagochtend', 'deze donderdag', 'deze donderdagavond', 'deze donderdagmiddag', 'deze donderdagnamiddag', 'deze donderdagmorgen', 'deze donderdagnacht', 'deze donderdagochtend', 'deze vrijdag', 'deze vrijdagavond', 'deze vrijdagmiddag', 'deze vrijdagnamiddag', 'deze vrijdagmorgen', 'deze vrijdagnacht', 'deze vrijdagochtend', 'deze zaterdag', 'deze zaterdagavond', 'deze zaterdagmiddag', 'deze zaterdagnamiddag', 'deze zaterdagmorgen', 'deze zaterdagnacht', 'deze zaterdagochtend', 'die zondag', 'die zondagavond', 'die zondagmiddag', 'die zondagnamiddag', 'die zondagmorgen', 'die zondagnacht', 'die zondagochtend', 'die maandag', 'die maandagavond', 'die maandagmiddag', 'die maandagnamiddag', 'die maandagmorgen', 'die maandagnacht', 'die maandagochtend', 'die dinsdag', 'die dinsdagavond', 'die dinsdagmiddag', 'die dinsdagnamiddag', 'die dinsdagmorgen', 'die dinsdagnacht', 'die dinsdagochtend', 'die woensdag', 'die woensdagavond', 'die woensdagmiddag', 'die woensdagnamiddag', 'die woensdagmorgen', 'die woensdagnacht', 'die woensdagochtend', 'die donderdag', 'die donderdagavond', 'die donderdagmiddag', 'die donderdagnamiddag', 'die donderdagmorgen', 'die donderdagnacht', 'die donderdagochtend', 'die vrijdag', 'die vrijdagavond', 'die vrijdagmiddag', 'die vrijdagnamiddag', 'die vrijdagmorgen', 'die vrijdagnacht', 'die vrijdagochtend', 'die zaterdag', 'die zaterdagavond', 'die zaterdagmiddag', 'die zaterdagnamiddag', 'die zaterdagmorgen', 'die zaterdagnacht', 'die zaterdagochtend', 'komende zondag', 'komende zondagavond', 'komende zondagmiddag', 'komende zondagnamiddag', 'komende zondagmorgen', 'komende zondagnacht', 'komende zondagochtend', 'komende maandag', 'komende maandagavond', 'komende maandagmiddag', 'komende maandagnamiddag', 'komende maandagmorgen', 'komende maandagnacht', 'komende maandagochtend', 'komende dinsdag', 'komende dinsdagavond', 'komende dinsdagmiddag', 'komende dinsdagnamiddag', 'komende dinsdagmorgen', 'komende dinsdagnacht', 'komende dinsdagochtend', 'komende woensdag', 'komende woensdagavond', 'komende woensdagmiddag', 'komende woensdagnamiddag', 'komende woensdagmorgen', 'komende woensdagnacht', 'komende woensdagochtend', 'komende donderdag', 'komende donderdagavond', 'komende donderdagmiddag', 'komende donderdagnamiddag', 'komende donderdagmorgen', 'komende donderdagnacht', 'komende donderdagochtend', 'komende vrijdag', 'komende vrijdagavond', 'komende vrijdagmiddag', 'komende vrijdagnamiddag', 'komende vrijdagmorgen', 'komende vrijdagnacht', 'komende vrijdagochtend', 'komende zaterdag', 'komende zaterdagavond', 'komende zaterdagmiddag', 'komende zaterdagnamiddag', 'komende zaterdagmorgen', 'komende zaterdagnacht', 'komende zaterdagochtend', 'verleden zondag', 'verleden zondagavond', 'verleden zondagmiddag', 'verleden zondagnamiddag', 'verleden zondagmorgen', 'verleden zondagnacht', 'verleden zondagochtend', 'verleden maandag', 'verleden maandagavond', 'verleden maandagmiddag', 'verleden maandagnamiddag', 'verleden maandagmorgen', 'verleden maandagnacht', 'verleden maandagochtend', 'verleden dinsdag', 'verleden dinsdagavond', 'verleden dinsdagmiddag', 'verleden dinsdagnamiddag', 'verleden dinsdagmorgen', 'verleden dinsdagnacht', 'verleden dinsdagochtend', 'verleden woensdag', 'verleden woensdagavond', 'verleden woensdagmiddag', 'verleden woensdagnamiddag', 'verleden woensdagmorgen', 'verleden woensdagnacht', 'verleden woensdagochtend', 'verleden donderdag', 'verleden donderdagavond', 'verleden donderdagmiddag', 'verleden donderdagnamiddag', 'verleden donderdagmorgen', 'verleden donderdagnacht', 'verleden donderdagochtend', 'verleden vrijdag', 'verleden vrijdagavond', 'verleden vrijdagmiddag', 'verleden vrijdagnamiddag', 'verleden vrijdagmorgen', 'verleden vrijdagnacht', 'verleden vrijdagochtend', 'verleden zaterdag', 'verleden zaterdagavond', 'verleden zaterdagmiddag', 'verleden zaterdagnamiddag', 'verleden zaterdagmorgen', 'verleden zaterdagnacht', 'verleden zaterdagochtend', 'volgende zondag', 'volgende zondagavond', 'volgende zondagmiddag', 'volgende zondagnamiddag', 'volgende zondagmorgen', 'volgende zondagnacht', 'volgende zondagochtend', 'volgende maandag', 'volgende maandagavond', 'volgende maandagmiddag', 'volgende maandagnamiddag', 'volgende maandagmorgen', 'volgende maandagnacht', 'volgende maandagochtend', 'volgende dinsdag', 'volgende dinsdagavond', 'volgende dinsdagmiddag', 'volgende dinsdagnamiddag', 'volgende dinsdagmorgen', 'volgende dinsdagnacht', 'volgende dinsdagochtend', 'volgende woensdag', 'volgende woensdagavond', 'volgende woensdagmiddag', 'volgende woensdagnamiddag', 'volgende woensdagmorgen', 'volgende woensdagnacht', 'volgende woensdagochtend', 'volgende donderdag', 'volgende donderdagavond', 'volgende donderdagmiddag', 'volgende donderdagnamiddag', 'volgende donderdagmorgen', 'volgende donderdagnacht', 'volgende donderdagochtend', 'volgende vrijdag', 'volgende vrijdagavond', 'volgende vrijdagmiddag', 'volgende vrijdagnamiddag', 'volgende vrijdagmorgen', 'volgende vrijdagnacht', 'volgende vrijdagochtend', 'volgende zaterdag', 'volgende zaterdagavond', 'volgende zaterdagmiddag', 'volgende zaterdagnamiddag', 'volgende zaterdagmorgen', 'volgende zaterdagnacht', 'volgende zaterdagochtend', 'vorige zondag', 'vorige zondagavond', 'vorige zondagmiddag', 'vorige zondagnamiddag', 'vorige zondagmorgen', 'vorige zondagnacht', 'vorige zondagochtend', 'vorige maandag', 'vorige maandagavond', 'vorige maandagmiddag', 'vorige maandagnamiddag', 'vorige maandagmorgen', 'vorige maandagnacht', 'vorige maandagochtend', 'vorige dinsdag', 'vorige dinsdagavond', 'vorige dinsdagmiddag', 'vorige dinsdagnamiddag', 'vorige dinsdagmorgen', 'vorige dinsdagnacht', 'vorige dinsdagochtend', 'vorige woensdag', 'vorige woensdagavond', 'vorige woensdagmiddag', 'vorige woensdagnamiddag', 'vorige woensdagmorgen', 'vorige woensdagnacht', 'vorige woensdagochtend', 'vorige donderdag', 'vorige donderdagavond', 'vorige donderdagmiddag', 'vorige donderdagnamiddag', 'vorige donderdagmorgen', 'vorige donderdagnacht', 'vorige donderdagochtend', 'vorige vrijdag', 'vorige vrijdagavond', 'vorige vrijdagmiddag', 'vorige vrijdagnamiddag', 'vorige vrijdagmorgen', 'vorige vrijdagnacht', 'vorige vrijdagochtend', 'vorige zaterdag', 'vorige zaterdagavond', 'vorige zaterdagmiddag', 'vorige zaterdagnamiddag', 'vorige zaterdagmorgen', 'vorige zaterdagnacht', 'vorige zaterdagochtend', 'volgende week zondag', 'volgende week zondagavond', 'volgende week zondagmiddag', 'volgende week zondagnamiddag', 'volgende week zondagmorgen', 'volgende week zondagnacht', 'volgende week zondagochtend', 'volgende week maandag', 'volgende week maandagavond', 'volgende week maandagmiddag', 'volgende week maandagnamiddag', 'volgende week maandagmorgen', 'volgende week maandagnacht', 'volgende week maandagochtend', 'volgende week dinsdag', 'volgende week dinsdagavond', 'volgende week dinsdagmiddag', 'volgende week dinsdagnamiddag', 'volgende week dinsdagmorgen', 'volgende week dinsdagnacht', 'volgende week dinsdagochtend', 'volgende week woensdag', 'volgende week woensdagavond', 'volgende week woensdagmiddag', 'volgende week woensdagnamiddag', 'volgende week woensdagmorgen', 'volgende week woensdagnacht', 'volgende week woensdagochtend', 'volgende week donderdag', 'volgende week donderdagavond', 'volgende week donderdagmiddag', 'volgende week donderdagnamiddag', 'volgende week donderdagmorgen', 'volgende week donderdagnacht', 'volgende week donderdagochtend', 'volgende week vrijdag', 'volgende week vrijdagavond', 'volgende week vrijdagmiddag', 'volgende week vrijdagnamiddag', 'volgende week vrijdagmorgen', 'volgende week vrijdagnacht', 'volgende week vrijdagochtend', 'volgende week zaterdag', 'volgende week zaterdagavond', 'volgende week zaterdagmiddag', 'volgende week zaterdagnamiddag', 'volgende week zaterdagmorgen', 'volgende week zaterdagnacht', 'volgende week zaterdagochtend', 'vorige week zondag', 'vorige week zondagavond', 'vorige week zondagmiddag', 'vorige week zondagnamiddag', 'vorige week zondagmorgen', 'vorige week zondagnacht', 'vorige week zondagochtend', 'vorige week maandag', 'vorige week maandagavond', 'vorige week maandagmiddag', 'vorige week maandagnamiddag', 'vorige week maandagmorgen', 'vorige week maandagnacht', 'vorige week maandagochtend', 'vorige week dinsdag', 'vorige week dinsdagavond', 'vorige week dinsdagmiddag', 'vorige week dinsdagnamiddag', 'vorige week dinsdagmorgen', 'vorige week dinsdagnacht', 'vorige week dinsdagochtend', 'vorige week woensdag', 'vorige week woensdagavond', 'vorige week woensdagmiddag', 'vorige week woensdagnamiddag', 'vorige week woensdagmorgen', 'vorige week woensdagnacht', 'vorige week woensdagochtend', 'vorige week donderdag', 'vorige week donderdagavond', 'vorige week donderdagmiddag', 'vorige week donderdagnamiddag', 'vorige week donderdagmorgen', 'vorige week donderdagnacht', 'vorige week donderdagochtend', 'vorige week vrijdag', 'vorige week vrijdagavond', 'vorige week vrijdagmiddag', 'vorige week vrijdagnamiddag', 'vorige week vrijdagmorgen', 'vorige week vrijdagnacht', 'vorige week vrijdagochtend', 'vorige week zaterdag', 'vorige week zaterdagavond', 'vorige week zaterdagmiddag', 'vorige week zaterdagnamiddag', 'vorige week zaterdagmorgen', 'vorige week zaterdagnacht', 'vorige week zaterdagochtend', 'komende week zondag', 'komende week zondagavond', 'komende week zondagmiddag', 'komende week zondagnamiddag', 'komende week zondagmorgen', 'komende week zondagnacht', 'komende week zondagochtend', 'komende week maandag', 'komende week maandagavond', 'komende week maandagmiddag', 'komende week maandagnamiddag', 'komende week maandagmorgen', 'komende week maandagnacht', 'komende week maandagochtend', 'komende week dinsdag', 'komende week dinsdagavond', 'komende week dinsdagmiddag', 'komende week dinsdagnamiddag', 'komende week dinsdagmorgen', 'komende week dinsdagnacht', 'komende week dinsdagochtend', 'komende week woensdag', 'komende week woensdagavond', 'komende week woensdagmiddag', 'komende week woensdagnamiddag', 'komende week woensdagmorgen', 'komende week woensdagnacht', 'komende week woensdagochtend', 'komende week donderdag', 'komende week donderdagavond', 'komende week donderdagmiddag', 'komende week donderdagnamiddag', 'komende week donderdagmorgen', 'komende week donderdagnacht', 'komende week donderdagochtend', 'komende week vrijdag', 'komende week vrijdagavond', 'komende week vrijdagmiddag', 'komende week vrijdagnamiddag', 'komende week vrijdagmorgen', 'komende week vrijdagnacht', 'komende week vrijdagochtend', 'komende week zaterdag', 'komende week zaterdagavond', 'komende week zaterdagmiddag', 'komende week zaterdagnamiddag', 'komende week zaterdagmorgen', 'komende week zaterdagnacht', 'komende week zaterdagochtend']\n"
       ]
      }
     ],
     "prompt_number": 34
    },
    {
     "cell_type": "code",
     "collapsed": true,
     "input": [
      "timex5 = []\n",
      "fixed1 = [\"aanstaande\", \"daarop\", \"erop\", \"ervoor\", \"daarvoor\", \"daaropvolgend\", \"eropvolgend\", \"eraanvoorgaand\"]\n",
      "print(fixed1)\n",
      "opt1 = [\"de\", \"deze\", \"die\",\"\"]\n",
      "print(opt1)\n",
      "fixed2 = [\"zondag\", \"maandag\", \"dinsdag\", \"woensdag\", \"donderdag\", \"vrijdag\", \"zaterdag\"]\n",
      "print(fixed2)\n",
      "\n",
      "for fxd1 in fixed1:\n",
      "        for fxd2 in fixed2:\n",
      "            for o1 in opt1:\n",
      "                if o1 == '':\n",
      "                    timex5.append(fxd1+' '+fxd2)\n",
      "                else:\n",
      "                    timex5.append(o1+' '+fxd1+' '+fxd2)\n",
      "\n",
      "print(len(fixed1),len(fixed2),len(opt1),len(timex5))\n",
      "\n",
      "wrToFile(timex5)\n",
      "print(timex5)"
     ],
     "language": "python",
     "metadata": {},
     "outputs": [
      {
       "output_type": "stream",
       "stream": "stdout",
       "text": [
        "['aanstaande', 'daarop', 'erop', 'ervoor', 'daarvoor', 'daaropvolgend', 'eropvolgend', 'eraanvoorgaand']\n",
        "['de', 'deze', 'die', '']\n",
        "['zondag', 'maandag', 'dinsdag', 'woensdag', 'donderdag', 'vrijdag', 'zaterdag']\n",
        "8 7 4 224\n",
        "['de aanstaande zondag', 'deze aanstaande zondag', 'die aanstaande zondag', 'aanstaande zondag', 'de aanstaande maandag', 'deze aanstaande maandag', 'die aanstaande maandag', 'aanstaande maandag', 'de aanstaande dinsdag', 'deze aanstaande dinsdag', 'die aanstaande dinsdag', 'aanstaande dinsdag', 'de aanstaande woensdag', 'deze aanstaande woensdag', 'die aanstaande woensdag', 'aanstaande woensdag', 'de aanstaande donderdag', 'deze aanstaande donderdag', 'die aanstaande donderdag', 'aanstaande donderdag', 'de aanstaande vrijdag', 'deze aanstaande vrijdag', 'die aanstaande vrijdag', 'aanstaande vrijdag', 'de aanstaande zaterdag', 'deze aanstaande zaterdag', 'die aanstaande zaterdag', 'aanstaande zaterdag', 'de daarop zondag', 'deze daarop zondag', 'die daarop zondag', 'daarop zondag', 'de daarop maandag', 'deze daarop maandag', 'die daarop maandag', 'daarop maandag', 'de daarop dinsdag', 'deze daarop dinsdag', 'die daarop dinsdag', 'daarop dinsdag', 'de daarop woensdag', 'deze daarop woensdag', 'die daarop woensdag', 'daarop woensdag', 'de daarop donderdag', 'deze daarop donderdag', 'die daarop donderdag', 'daarop donderdag', 'de daarop vrijdag', 'deze daarop vrijdag', 'die daarop vrijdag', 'daarop vrijdag', 'de daarop zaterdag', 'deze daarop zaterdag', 'die daarop zaterdag', 'daarop zaterdag', 'de erop zondag', 'deze erop zondag', 'die erop zondag', 'erop zondag', 'de erop maandag', 'deze erop maandag', 'die erop maandag', 'erop maandag', 'de erop dinsdag', 'deze erop dinsdag', 'die erop dinsdag', 'erop dinsdag', 'de erop woensdag', 'deze erop woensdag', 'die erop woensdag', 'erop woensdag', 'de erop donderdag', 'deze erop donderdag', 'die erop donderdag', 'erop donderdag', 'de erop vrijdag', 'deze erop vrijdag', 'die erop vrijdag', 'erop vrijdag', 'de erop zaterdag', 'deze erop zaterdag', 'die erop zaterdag', 'erop zaterdag', 'de ervoor zondag', 'deze ervoor zondag', 'die ervoor zondag', 'ervoor zondag', 'de ervoor maandag', 'deze ervoor maandag', 'die ervoor maandag', 'ervoor maandag', 'de ervoor dinsdag', 'deze ervoor dinsdag', 'die ervoor dinsdag', 'ervoor dinsdag', 'de ervoor woensdag', 'deze ervoor woensdag', 'die ervoor woensdag', 'ervoor woensdag', 'de ervoor donderdag', 'deze ervoor donderdag', 'die ervoor donderdag', 'ervoor donderdag', 'de ervoor vrijdag', 'deze ervoor vrijdag', 'die ervoor vrijdag', 'ervoor vrijdag', 'de ervoor zaterdag', 'deze ervoor zaterdag', 'die ervoor zaterdag', 'ervoor zaterdag', 'de daarvoor zondag', 'deze daarvoor zondag', 'die daarvoor zondag', 'daarvoor zondag', 'de daarvoor maandag', 'deze daarvoor maandag', 'die daarvoor maandag', 'daarvoor maandag', 'de daarvoor dinsdag', 'deze daarvoor dinsdag', 'die daarvoor dinsdag', 'daarvoor dinsdag', 'de daarvoor woensdag', 'deze daarvoor woensdag', 'die daarvoor woensdag', 'daarvoor woensdag', 'de daarvoor donderdag', 'deze daarvoor donderdag', 'die daarvoor donderdag', 'daarvoor donderdag', 'de daarvoor vrijdag', 'deze daarvoor vrijdag', 'die daarvoor vrijdag', 'daarvoor vrijdag', 'de daarvoor zaterdag', 'deze daarvoor zaterdag', 'die daarvoor zaterdag', 'daarvoor zaterdag', 'de daaropvolgend zondag', 'deze daaropvolgend zondag', 'die daaropvolgend zondag', 'daaropvolgend zondag', 'de daaropvolgend maandag', 'deze daaropvolgend maandag', 'die daaropvolgend maandag', 'daaropvolgend maandag', 'de daaropvolgend dinsdag', 'deze daaropvolgend dinsdag', 'die daaropvolgend dinsdag', 'daaropvolgend dinsdag', 'de daaropvolgend woensdag', 'deze daaropvolgend woensdag', 'die daaropvolgend woensdag', 'daaropvolgend woensdag', 'de daaropvolgend donderdag', 'deze daaropvolgend donderdag', 'die daaropvolgend donderdag', 'daaropvolgend donderdag', 'de daaropvolgend vrijdag', 'deze daaropvolgend vrijdag', 'die daaropvolgend vrijdag', 'daaropvolgend vrijdag', 'de daaropvolgend zaterdag', 'deze daaropvolgend zaterdag', 'die daaropvolgend zaterdag', 'daaropvolgend zaterdag', 'de eropvolgend zondag', 'deze eropvolgend zondag', 'die eropvolgend zondag', 'eropvolgend zondag', 'de eropvolgend maandag', 'deze eropvolgend maandag', 'die eropvolgend maandag', 'eropvolgend maandag', 'de eropvolgend dinsdag', 'deze eropvolgend dinsdag', 'die eropvolgend dinsdag', 'eropvolgend dinsdag', 'de eropvolgend woensdag', 'deze eropvolgend woensdag', 'die eropvolgend woensdag', 'eropvolgend woensdag', 'de eropvolgend donderdag', 'deze eropvolgend donderdag', 'die eropvolgend donderdag', 'eropvolgend donderdag', 'de eropvolgend vrijdag', 'deze eropvolgend vrijdag', 'die eropvolgend vrijdag', 'eropvolgend vrijdag', 'de eropvolgend zaterdag', 'deze eropvolgend zaterdag', 'die eropvolgend zaterdag', 'eropvolgend zaterdag', 'de eraanvoorgaand zondag', 'deze eraanvoorgaand zondag', 'die eraanvoorgaand zondag', 'eraanvoorgaand zondag', 'de eraanvoorgaand maandag', 'deze eraanvoorgaand maandag', 'die eraanvoorgaand maandag', 'eraanvoorgaand maandag', 'de eraanvoorgaand dinsdag', 'deze eraanvoorgaand dinsdag', 'die eraanvoorgaand dinsdag', 'eraanvoorgaand dinsdag', 'de eraanvoorgaand woensdag', 'deze eraanvoorgaand woensdag', 'die eraanvoorgaand woensdag', 'eraanvoorgaand woensdag', 'de eraanvoorgaand donderdag', 'deze eraanvoorgaand donderdag', 'die eraanvoorgaand donderdag', 'eraanvoorgaand donderdag', 'de eraanvoorgaand vrijdag', 'deze eraanvoorgaand vrijdag', 'die eraanvoorgaand vrijdag', 'eraanvoorgaand vrijdag', 'de eraanvoorgaand zaterdag', 'deze eraanvoorgaand zaterdag', 'die eraanvoorgaand zaterdag', 'eraanvoorgaand zaterdag']\n"
       ]
      }
     ],
     "prompt_number": 37
    },
    {
     "cell_type": "code",
     "collapsed": true,
     "input": [
      "timex6 = []\n",
      "fixed1 = \"alle \"\n",
      "print(fixed1)\n",
      "fixed2 = getlinelist('../timexNelleke/timexlist')\n",
      "print(fixed2)\n",
      "\n",
      "timex6 = [fixed1+f2 for f2 in fixed2]\n",
      "\n",
      "wrToFile(timex6)\n",
      "print(timex6)"
     ],
     "language": "python",
     "metadata": {},
     "outputs": [
      {
       "output_type": "stream",
       "stream": "stdout",
       "text": [
        "alle \n",
        "['avonden', 'zondagavonden', 'maandagavonden', 'dinsdagavonden', 'woendagavonden', 'donderdagavonden', 'vrijdagavonden', 'zaterdagavonden', 'dagen', 'zondagen', 'maandagen', 'dinsdagen', 'woensdagen', 'donderdagen', 'vrijdagen', 'zaterdagen', 'middagen', 'zondagmiddagen', 'maandagmiddagen', 'dinsdagmiddagen', 'woensdagmiddagen', 'donderdagmiddagen', 'vrijdagmiddagen', 'zaterdagmiddagen', 'namiddagen', 'zondagnamiddagen', 'maandagnamiddagen', 'dinsdagnamiddagen', 'woensdagnamiddagen', 'donderdagnamiddagen', 'vrijdagnamiddagen', 'zaterdagnamiddagen', 'nachten', 'zondagnachten', 'maandagnachten', 'dinsdagnachten', 'woendagnachten', 'donderdagnachten', 'vrijdagnachten', 'zaterdagnachten', 'ochtenden', 'zondagochtenden', 'maandagochtenden', 'dinsdagochtenden', 'woensdagochtenden', 'donderdagochtenden', 'vrijdagochtenden', 'zaterdagochtenden']\n",
        "['alle avonden', 'alle zondagavonden', 'alle maandagavonden', 'alle dinsdagavonden', 'alle woendagavonden', 'alle donderdagavonden', 'alle vrijdagavonden', 'alle zaterdagavonden', 'alle dagen', 'alle zondagen', 'alle maandagen', 'alle dinsdagen', 'alle woensdagen', 'alle donderdagen', 'alle vrijdagen', 'alle zaterdagen', 'alle middagen', 'alle zondagmiddagen', 'alle maandagmiddagen', 'alle dinsdagmiddagen', 'alle woensdagmiddagen', 'alle donderdagmiddagen', 'alle vrijdagmiddagen', 'alle zaterdagmiddagen', 'alle namiddagen', 'alle zondagnamiddagen', 'alle maandagnamiddagen', 'alle dinsdagnamiddagen', 'alle woensdagnamiddagen', 'alle donderdagnamiddagen', 'alle vrijdagnamiddagen', 'alle zaterdagnamiddagen', 'alle nachten', 'alle zondagnachten', 'alle maandagnachten', 'alle dinsdagnachten', 'alle woendagnachten', 'alle donderdagnachten', 'alle vrijdagnachten', 'alle zaterdagnachten', 'alle ochtenden', 'alle zondagochtenden', 'alle maandagochtenden', 'alle dinsdagochtenden', 'alle woensdagochtenden', 'alle donderdagochtenden', 'alle vrijdagochtenden', 'alle zaterdagochtenden']\n"
       ]
      }
     ],
     "prompt_number": 38
    },
    {
     "cell_type": "code",
     "collapsed": true,
     "input": [
      "timex7 = []\n",
      "fixed1 = [\"de\", \"deze\", \"die\", \"eerste\", \"komende\", \"laatste\", \"volgende\", \"vorige\"]\n",
      "print(fixed1)\n",
      "fixed2 = getlinelist('../timexNelleke/timexlist')\n",
      "print(fixed2)\n",
      "\n",
      "for f1 in fixed1:\n",
      "    for f2 in fixed2:\n",
      "        timex7.append(f1+' '+f2)\n",
      "\n",
      "print(len(fixed1),len(fixed2),len(timex7))\n",
      "wrToFile(timex7)\n",
      "print(timex7)"
     ],
     "language": "python",
     "metadata": {},
     "outputs": [
      {
       "output_type": "stream",
       "stream": "stdout",
       "text": [
        "['de', 'deze', 'die', 'eerste', 'komende', 'laatste', 'volgende', 'vorige']\n",
        "['dag', 'avond', 'middag', 'namiddag', 'morgen', 'nacht', 'ochtend']\n",
        "8 7 56\n",
        "['de dag', 'de avond', 'de middag', 'de namiddag', 'de morgen', 'de nacht', 'de ochtend', 'deze dag', 'deze avond', 'deze middag', 'deze namiddag', 'deze morgen', 'deze nacht', 'deze ochtend', 'die dag', 'die avond', 'die middag', 'die namiddag', 'die morgen', 'die nacht', 'die ochtend', 'eerste dag', 'eerste avond', 'eerste middag', 'eerste namiddag', 'eerste morgen', 'eerste nacht', 'eerste ochtend', 'komende dag', 'komende avond', 'komende middag', 'komende namiddag', 'komende morgen', 'komende nacht', 'komende ochtend', 'laatste dag', 'laatste avond', 'laatste middag', 'laatste namiddag', 'laatste morgen', 'laatste nacht', 'laatste ochtend', 'volgende dag', 'volgende avond', 'volgende middag', 'volgende namiddag', 'volgende morgen', 'volgende nacht', 'volgende ochtend', 'vorige dag', 'vorige avond', 'vorige middag', 'vorige namiddag', 'vorige morgen', 'vorige nacht', 'vorige ochtend']\n"
       ]
      }
     ],
     "prompt_number": 40
    },
    {
     "cell_type": "code",
     "collapsed": true,
     "input": [
      "timex7 = []\n",
      "fixed1 = [\"de\", \"deze\", \"die\"]\n",
      "fixed2 = getlinelist('../timexNelleke/timexlist')\n",
      "\n",
      "for f1 in fixed1:\n",
      "    for f2 in fixed2:\n",
      "        timex7.append(f1+' '+f2)\n",
      "\n",
      "print(len(fixed1),len(fixed2),len(timex7))\n",
      "wrToFile(timex7)\n",
      "\n",
      "for t in timex7:\n",
      "    print(t)"
     ],
     "language": "python",
     "metadata": {},
     "outputs": [
      {
       "output_type": "stream",
       "stream": "stdout",
       "text": [
        "3 45 135\n",
        "de aftrap\n",
        "de bekerwedstrijd\n",
        "de bekerwedstrijden\n",
        "de blessuretijd\n",
        "de confrontatie\n",
        "de confrontaties\n",
        "de degradatiewedstrijd\n",
        "de degradatiewedstrijden\n",
        "de derbies\n",
        "de derby\n",
        "de duel\n",
        "de duels\n",
        "de eerste helft\n",
        "de kwartfinale\n",
        "de kwartfinales\n",
        "de match\n",
        "de matches\n",
        "de nederlaag\n",
        "de nederlagen\n",
        "de oefenwedstrijd\n",
        "de oefenwedstrijden\n",
        "de ontmoeting\n",
        "de ontmoetingen\n",
        "de overwinning\n",
        "de overwinningen\n",
        "de play-off\n",
        "de play off\n",
        "de play-offs\n",
        "de play offs\n",
        "de revanche\n",
        "de rust\n",
        "de speeltijd\n",
        "de thuiswedstrijd\n",
        "de thuiswedstrijden\n",
        "de treffen\n",
        "de treffens\n",
        "de tweede helft\n",
        "de uitwedstrijd\n",
        "de uitwedstrijden\n",
        "de verlenging\n",
        "de verlengingen\n",
        "de wedstrijd\n",
        "de wedstrijden\n",
        "de winterstop\n",
        "de zomerstop\n",
        "deze aftrap\n",
        "deze bekerwedstrijd\n",
        "deze bekerwedstrijden\n",
        "deze blessuretijd\n",
        "deze confrontatie\n",
        "deze confrontaties\n",
        "deze degradatiewedstrijd\n",
        "deze degradatiewedstrijden\n",
        "deze derbies\n",
        "deze derby\n",
        "deze duel\n",
        "deze duels\n",
        "deze eerste helft\n",
        "deze kwartfinale\n",
        "deze kwartfinales\n",
        "deze match\n",
        "deze matches\n",
        "deze nederlaag\n",
        "deze nederlagen\n",
        "deze oefenwedstrijd\n",
        "deze oefenwedstrijden\n",
        "deze ontmoeting\n",
        "deze ontmoetingen\n",
        "deze overwinning\n",
        "deze overwinningen\n",
        "deze play-off\n",
        "deze play off\n",
        "deze play-offs\n",
        "deze play offs\n",
        "deze revanche\n",
        "deze rust\n",
        "deze speeltijd\n",
        "deze thuiswedstrijd\n",
        "deze thuiswedstrijden\n",
        "deze treffen\n",
        "deze treffens\n",
        "deze tweede helft\n",
        "deze uitwedstrijd\n",
        "deze uitwedstrijden\n",
        "deze verlenging\n",
        "deze verlengingen\n",
        "deze wedstrijd\n",
        "deze wedstrijden\n",
        "deze winterstop\n",
        "deze zomerstop\n",
        "die aftrap\n",
        "die bekerwedstrijd\n",
        "die bekerwedstrijden\n",
        "die blessuretijd\n",
        "die confrontatie\n",
        "die confrontaties\n",
        "die degradatiewedstrijd\n",
        "die degradatiewedstrijden\n",
        "die derbies\n",
        "die derby\n",
        "die duel\n",
        "die duels\n",
        "die eerste helft\n",
        "die kwartfinale\n",
        "die kwartfinales\n",
        "die match\n",
        "die matches\n",
        "die nederlaag\n",
        "die nederlagen\n",
        "die oefenwedstrijd\n",
        "die oefenwedstrijden\n",
        "die ontmoeting\n",
        "die ontmoetingen\n",
        "die overwinning\n",
        "die overwinningen\n",
        "die play-off\n",
        "die play off\n",
        "die play-offs\n",
        "die play offs\n",
        "die revanche\n",
        "die rust\n",
        "die speeltijd\n",
        "die thuiswedstrijd\n",
        "die thuiswedstrijden\n",
        "die treffen\n",
        "die treffens\n",
        "die tweede helft\n",
        "die uitwedstrijd\n",
        "die uitwedstrijden\n",
        "die verlenging\n",
        "die verlengingen\n",
        "die wedstrijd\n",
        "die wedstrijden\n",
        "die winterstop\n",
        "die zomerstop\n"
       ]
      }
     ],
     "prompt_number": 99
    },
    {
     "cell_type": "code",
     "collapsed": false,
     "input": [
      "from itertools import product\n",
      "\n",
      "timex8 = []\n",
      "fixed1 = [\"de\",\"die\"]\n",
      "print(fixed1)\n",
      "fixed2 = getlinelist('../timexNelleke/timexlist')\n",
      "print(fixed2)\n",
      "fixed3 = [\"daarop\", \"erop\", \"ervoor\", \"daarvoor\", \"daaropvolgend\", \"eropvolgend\", \"eraan voorgaand\", \"voorafgaand aan\"]\n",
      "\n",
      "timex8 = [\" \".join(map(str,x)) for x in product(*[fixed1, fixed2,fixed3])]\n",
      "\n",
      "print(len(fixed1),len(fixed2),len(opt1),len(timex8))\n",
      "\n",
      "wrToFile(timex8)\n",
      "print(timex8)"
     ],
     "language": "python",
     "metadata": {},
     "outputs": []
    },
    {
     "cell_type": "code",
     "collapsed": false,
     "input": [
      "timex9 = []\n",
      "fixed1 = [\"1\",\"een\"]\n",
      "print(fixed1)\n",
      "fixed2 = getlinelist('../timexNelleke/timexlist')\n",
      "print(fixed2)\n",
      "fixed3 = [\"eerder\", \"ervoor\", \"erna\", \"voorafgaand\", \"later\"]\n",
      "\n",
      "timex9 = [\" \".join(map(str,x)) for x in product(*[fixed1, fixed2,fixed3])]\n",
      "\n",
      "print(len(fixed1),len(fixed2),len(timex9))\n",
      "\n",
      "wrToFile(timex9)\n",
      "print(timex9)"
     ],
     "language": "python",
     "metadata": {},
     "outputs": [
      {
       "output_type": "stream",
       "stream": "stdout",
       "text": [
        "['1', 'een']\n",
        "['dag', 'avond', 'middag', 'namiddag', 'morgen', 'nacht', 'ochtend']\n",
        "2 7 70\n",
        "['1 dag eerder', '1 dag ervoor', '1 dag erna', '1 dag voorafgaand', '1 dag later', '1 avond eerder', '1 avond ervoor', '1 avond erna', '1 avond voorafgaand', '1 avond later', '1 middag eerder', '1 middag ervoor', '1 middag erna', '1 middag voorafgaand', '1 middag later', '1 namiddag eerder', '1 namiddag ervoor', '1 namiddag erna', '1 namiddag voorafgaand', '1 namiddag later', '1 morgen eerder', '1 morgen ervoor', '1 morgen erna', '1 morgen voorafgaand', '1 morgen later', '1 nacht eerder', '1 nacht ervoor', '1 nacht erna', '1 nacht voorafgaand', '1 nacht later', '1 ochtend eerder', '1 ochtend ervoor', '1 ochtend erna', '1 ochtend voorafgaand', '1 ochtend later', 'een dag eerder', 'een dag ervoor', 'een dag erna', 'een dag voorafgaand', 'een dag later', 'een avond eerder', 'een avond ervoor', 'een avond erna', 'een avond voorafgaand', 'een avond later', 'een middag eerder', 'een middag ervoor', 'een middag erna', 'een middag voorafgaand', 'een middag later', 'een namiddag eerder', 'een namiddag ervoor', 'een namiddag erna', 'een namiddag voorafgaand', 'een namiddag later', 'een morgen eerder', 'een morgen ervoor', 'een morgen erna', 'een morgen voorafgaand', 'een morgen later', 'een nacht eerder', 'een nacht ervoor', 'een nacht erna', 'een nacht voorafgaand', 'een nacht later', 'een ochtend eerder', 'een ochtend ervoor', 'een ochtend erna', 'een ochtend voorafgaand', 'een ochtend later']\n"
       ]
      }
     ],
     "prompt_number": 44
    },
    {
     "cell_type": "code",
     "collapsed": true,
     "input": [
      "timex10 = []\n",
      "fixed1 = [\"2\",\"3\",\"4\",\"5\",\"6\",\"7\",\"8\",\"9\",\"10\"]\n",
      "fixed2 = ['dagen', 'avonden', 'middagen', 'namiddagen','nachten', 'ochtenden']\n",
      "fixed3 = [\"eerder\", \"eraan voorafgaand\", \"ervoor\", \"erna\", \"voorafgaand\", \"later\"]\n",
      "timex10 = [\" \".join(map(str,x)) for x in product(*[fixed1, fixed2,fixed3])]\n",
      "wrToFile(timex10)"
     ],
     "language": "python",
     "metadata": {},
     "outputs": [],
     "prompt_number": 48
    },
    {
     "cell_type": "code",
     "collapsed": false,
     "input": [
      "timex11 = []\n",
      "fixed1 = [\"in\",\"op\", \"voor\", \"na\", \"tijdens\", \"tot\", \"van\", \"vanaf\", \"\"]\n",
      "fixed2 = ['dag', 'avond', 'middag', 'namiddag', 'morgen', 'nacht', 'ochtend']\n",
      "fixed3 = getlinelist('../timexNelleke/timexlist')\n",
      "fixed3.append(\"\")\n",
      "timex11 = [\" \".join(map(str,x)) for x in product(*[fixed1,[\"de\"], fixed2, fixed3])]\n",
      "timex11 = [t11.strip() for t11 in timex11]\n",
      "wrToFile(timex11)"
     ],
     "language": "python",
     "metadata": {},
     "outputs": [],
     "prompt_number": 50
    },
    {
     "cell_type": "code",
     "collapsed": false,
     "input": [
      "timex12 = []\n",
      "fixed2 = [\"januari\", \"februari\", \"maart\", \"april\", \"mei\", \"juni\", \"juli\", \"augustus\", \"september\", \"oktober\", \"november\", \"december\"]\n",
      "#fixed1 = [\"in\", \"m.i.v.\", \"miv\", \"met ingang van\", \"na\", \"t/m\", \"tegen\", \"tot en met\", \"van\", \"vanaf\", \"voor\"]\n",
      "timex12 = [\" \".join(map(str,x)) for x in product(*[[\"medio\"], fixed2])]\n",
      "wrToFile(timex12)"
     ],
     "language": "python",
     "metadata": {},
     "outputs": [],
     "prompt_number": 56
    },
    {
     "cell_type": "code",
     "collapsed": false,
     "input": [
      "timex13 = []\n",
      "fixed1 = [\"aan het begin van\", \"aan het eind van\", \"aan het einde van\", \"halverwege\", \"bij\", \"tot\", \"tot aan\", \"voor\", \"na\", \"voorafgaand aan\", \"tijdens\", \"in de loop van\", \"bij\"]\n",
      "fixed2 = getlinelist('../timexNelleke/timexlist')\n",
      "timex13 = [\" \".join(map(str,x)) for x in product(*[fixed1, fixed2])]\n",
      "wrToFile(timex13)"
     ],
     "language": "python",
     "metadata": {},
     "outputs": [],
     "prompt_number": 58
    },
    {
     "cell_type": "code",
     "collapsed": false,
     "input": [
      "timex14 = []\n",
      "opt1 = [\"binnen\", \"met\", \"om\", \"na\", \"over\", \"rond\", \"tot\", \"van\", \"vanaf\", \"voor\", \"tegen\", \"\"]\n",
      "fixed1 = [\"een\", \"twee\", \"drie\", \"vier\", \"vijf\", \"zes\", \"zeven\", \"acht\", \"negen\", \"tien\", \"elf\", \"twaalf\", \\\n",
      "          \"1\", \"2\", \"3\", \"4\", \"5\", \"6\", \"7\", \"8\", \"9\", \"10\", \"11\", \"12\",\"13\", \"14\", \"15\", \"16\", \"17\", \"18\", \"19\", \"20\",\\\n",
      "          \"21\", \"22\", \"23\", \"24\", \"25\", \"26\", \"27\", \"28\", \"29\", \"30\", \"31\", \"32\", \"33\", \"34\", \"35\", \"36\", \"37\", \"38\", \"39\", \"40\",\\\n",
      "          \"41\", \"42\", \"43\", \"44\", \"45\", \"46\", \"47\", \"48\", \"49\", \"50\", \"51\", \"52\", \"53\", \"54\", \"55\", \"56\", \"57\", \"58\", \"59\", \"60\",\"72\"]\n",
      "timex14 = [\" \".join(map(str,x)) for x in product(*[opt1, fixed1, [\"uur\"]])]\n",
      "timex14 = [t14.strip() for t14 in timex14]\n",
      "\n",
      "wrToFile(timex14)"
     ],
     "language": "python",
     "metadata": {},
     "outputs": [],
     "prompt_number": 61
    },
    {
     "cell_type": "code",
     "collapsed": false,
     "input": [
      "timex15 = []\n",
      "opt1 = [\"binnen\", \"met\", \"om\", \"na\", \"over\", \"rond\", \"tot\", \"van\", \"vanaf\", \"voor\", \"tegen\", \"\"]\n",
      "fixed2 = [\"een\", \"twee\", \"drie\", \"vier\", \"vijf\", \"zes\", \"zeven\", \"acht\", \"negen\", \"tien\", \"elf\", \"twaalf\", \\\n",
      "          \"1\", \"2\", \"3\", \"4\", \"5\", \"6\", \"7\", \"8\", \"9\", \"10\", \"11\", \"12\",\"13\", \"14\", \"15\", \"16\", \"17\", \"18\", \"19\", \"20\",\\\n",
      "          \"21\", \"22\", \"23\", \"24\", \"25\", \"26\", \"27\", \"28\", \"29\", \"30\", \"31\", \"32\", \"33\", \"34\", \"35\", \"36\", \"37\", \"38\", \"39\", \"40\",\\\n",
      "          \"41\", \"42\", \"43\", \"44\", \"45\", \"46\", \"47\", \"48\", \"49\", \"50\", \"51\", \"52\", \"53\", \"54\", \"55\", \"56\", \"57\", \"58\", \"59\", \"60\",\"72\"]\n",
      "timex15 = [\" \".join(map(str,x)) for x in product(*[opt1, [\"een uur of\"], fixed2])]\n",
      "timex15 = [t15.strip() for t15 in timex15]\n",
      "\n",
      "wrToFile(timex15)"
     ],
     "language": "python",
     "metadata": {},
     "outputs": [],
     "prompt_number": 63
    },
    {
     "cell_type": "code",
     "collapsed": false,
     "input": [
      "timex16 = []\n",
      "fixed1 = [\"een\", \"twee\", \"drie\", \"vier\", \"vijf\", \"zes\", \"zeven\", \"acht\", \"negen\", \"tien\", \"elf\", \"twaalf\", \\\n",
      "          \"1\", \"2\", \"3\", \"4\", \"5\", \"6\", \"7\", \"8\", \"9\", \"10\", \"11\", \"12\",\"13\", \"14\", \"15\", \"16\", \"17\", \"18\", \"19\", \"20\",\\\n",
      "          \"21\", \"22\", \"23\", \"24\", \"25\", \"26\", \"27\", \"28\", \"29\", \"30\", \"31\", \"32\", \"33\", \"34\", \"35\", \"36\", \"37\", \"38\", \"39\", \"40\",\\\n",
      "          \"41\", \"42\", \"43\", \"44\", \"45\", \"46\", \"47\", \"48\", \"49\", \"50\", \"51\", \"52\", \"53\", \"54\", \"55\", \"56\", \"57\", \"58\", \"59\", \"60\",\"72\"]\n",
      "fixed2 = [\"eerder\",\"later\",\"vroeger\"]\n",
      "timex16 = [\" \".join(map(str,x)) for x in product(*[[\"een uur of\"], fixed1, fixed2])]\n",
      "timex16 = [t16.strip() for t16 in timex16]\n",
      "\n",
      "wrToFile(timex16)"
     ],
     "language": "python",
     "metadata": {},
     "outputs": [],
     "prompt_number": 64
    },
    {
     "cell_type": "code",
     "collapsed": false,
     "input": [
      "timex17 = []\n",
      "opt1 = [\"binnen\", \"met\", \"om\", \"na\", \"over\", \"rond\", \"tot\", \"van\", \"vanaf\", \"voor\", \"tegen\", \"\"]\n",
      "fixed1 = [\"een\", \"twee\", \"drie\", \"vier\", \"vijf\", \"zes\", \"zeven\", \"acht\", \"negen\", \"tien\", \"elf\", \"twaalf\", \\\n",
      "          \"1\", \"2\", \"3\", \"4\", \"5\", \"6\", \"7\", \"8\", \"9\", \"10\", \"11\", \"12\",\"13\", \"14\", \"15\", \"16\", \"17\", \"18\", \"19\", \"20\",\\\n",
      "          \"21\", \"22\", \"23\", \"24\", \"25\", \"26\", \"27\", \"28\", \"29\", \"30\", \"31\", \"32\", \"33\", \"34\", \"35\", \"36\", \"37\", \"38\", \"39\", \"40\",\\\n",
      "          \"41\", \"42\", \"43\", \"44\", \"45\", \"46\", \"47\", \"48\", \"49\", \"50\", \"51\", \"52\", \"53\", \"54\", \"55\", \"56\", \"57\", \"58\", \"59\", \"60\",\"72\"]\n",
      "fixed2 = [\"eerder\",\"later\",\"vroeger\"]\n",
      "timex17 = [\" \".join(map(str,x)) for x in product(*[opt1, fixed1, [\"uur\"]])]\n",
      "timex17 = [t17.strip() for t17 in timex17]\n",
      "\n",
      "wrToFile(timex17)"
     ],
     "language": "python",
     "metadata": {},
     "outputs": [],
     "prompt_number": 65
    },
    {
     "cell_type": "code",
     "collapsed": false,
     "input": [
      "timex18 = []\n",
      "opt1 = [\"elk\", \"ieder\", \"om het\", \"een heel\", \"\"]\n",
      "timex18 = [\" \".join(map(str,x)) for x in product(*[opt1, [\"uur\"]])]\n",
      "timex18 = [t18.strip() for t18 in timex18]\n",
      "\n",
      "wrToFile(timex18)"
     ],
     "language": "python",
     "metadata": {},
     "outputs": [],
     "prompt_number": 66
    },
    {
     "cell_type": "code",
     "collapsed": false,
     "input": [
      "timex19 = []\n",
      "fixed1 = [\"een\", \"twee\", \"drie\", \"vier\", \"vijf\", \"zes\", \"zeven\", \"acht\", \"negen\", \"tien\", \"elf\", \"twaalf\", \\\n",
      "          \"1\", \"2\", \"3\", \"4\", \"5\", \"6\", \"7\", \"8\", \"9\", \"10\", \"11\", \"12\",\"13\", \"14\", \"15\", \"16\", \"17\", \"18\", \"19\", \"20\",\\\n",
      "          \"21\", \"22\", \"23\", \"24\", \"25\", \"26\", \"27\", \"28\", \"29\", \"30\", \"31\", \"32\", \"33\", \"34\", \"35\", \"36\", \"37\", \"38\", \"39\", \"40\",\\\n",
      "          \"41\", \"42\", \"43\", \"44\", \"45\", \"46\", \"47\", \"48\", \"49\", \"50\", \"51\", \"52\", \"53\", \"54\", \"55\", \"56\", \"57\", \"58\", \"59\", \"60\",\"72\"]\n",
      "timex19 = [\" \".join(map(str,x)) for x in product(*[fixed1, [\"uur\"]])]\n",
      "wrToFile(timex19)"
     ],
     "language": "python",
     "metadata": {},
     "outputs": [],
     "prompt_number": 67
    },
    {
     "cell_type": "code",
     "collapsed": false,
     "input": [
      "timex20 = []\n",
      "fixed1 = [\"een\", \"twee\", \"drie\", \"vier\", \"vijf\", \"zes\", \"zeven\", \"acht\", \"negen\", \"tien\", \"elf\", \"twaalf\", \\\n",
      "          \"1\", \"2\", \"3\", \"4\", \"5\", \"6\", \"7\", \"8\", \"9\", \"10\", \"11\", \"12\",\"13\", \"14\", \"15\", \"16\", \"17\", \"18\", \"19\", \"20\",\\\n",
      "          \"21\", \"22\", \"23\", \"24\", \"25\", \"26\", \"27\", \"28\", \"29\", \"30\", \"31\", \"32\", \"33\", \"34\", \"35\", \"36\", \"37\", \"38\", \"39\", \"40\",\\\n",
      "          \"41\", \"42\", \"43\", \"44\", \"45\", \"46\", \"47\", \"48\", \"49\", \"50\", \"51\", \"52\", \"53\", \"54\", \"55\", \"56\", \"57\", \"58\", \"59\", \"60\",\"72\"]\n",
      "fixed2 = [\"eerder\", \"later\", \"vroeger\", \"te vroeg\", \"te laat\"] \n",
      "timex20 = [\" \".join(map(str,x)) for x in product(*[fixed1, [\"uur\"], fixed2])]\n",
      "wrToFile(timex20)"
     ],
     "language": "python",
     "metadata": {},
     "outputs": [],
     "prompt_number": 68
    },
    {
     "cell_type": "code",
     "collapsed": false,
     "input": [
      "timex21 = []\n",
      "fixed1 = [\"seconde\", \"minuut\", \"week\", \"maand\", \"jaar\", \"eeuw\"]\n",
      "fixed2 = [\"eerder\", \"later\"] \n",
      "timex21 = [\" \".join(map(str,x)) for x in product(*[[\"een\"],fixed1,[\"of wat\"], fixed2])]\n",
      "wrToFile(timex21)"
     ],
     "language": "python",
     "metadata": {},
     "outputs": [],
     "prompt_number": 72
    },
    {
     "cell_type": "code",
     "collapsed": false,
     "input": [
      "timex22 = []\n",
      "fixed1 = [\"eerder\", \"later\"] \n",
      "timex22 = [\" \".join(map(str,x)) for x in product(*[[\"een paar uur\"],fixed1])]\n",
      "wrToFile(timex22)"
     ],
     "language": "python",
     "metadata": {},
     "outputs": [],
     "prompt_number": 73
    },
    {
     "cell_type": "code",
     "collapsed": false,
     "input": [
      "timex23 = []\n",
      "fixed1 = [\"een paar\", \"enkele\"] \n",
      "fixed2 = [\"seconden\", \"minuten\", \"uren\", \"weken\", \"maanden\", \"jaren\", \"eeuwen\"]\n",
      "fixed3 = [\"eerder\", \"later\"] \n",
      "timex23 = [\" \".join(map(str,x)) for x in product(*[fixed1, fixed2, fixed3])]\n",
      "wrToFile(timex23)"
     ],
     "language": "python",
     "metadata": {},
     "outputs": [],
     "prompt_number": 74
    },
    {
     "cell_type": "code",
     "collapsed": false,
     "input": [
      "timex24 = []\n",
      "fixed1 = [\"het uur\", \"de minuut\", \"het kwartier\", \"het weekend\", \"het weekeinde\", \"de week\", \"de maand\", \"het jaar\", \"de uren\", \"de minuten\", \"de weken\", \"de maanden\", \"de jaren\", \"de eeuw\", \"de eeuwen\"] \n",
      "fixed2 = [\"daaraan voorafgaand\", \"daarop\", \"daaropvolgend\", \"daarop volgend\", \"daarvoor\", \"daarna\", \"eraan voorafgaand\", \"erop\", \"eropvolgend\", \"ervoor\", \"erna\"]\n",
      "timex24 = [\" \".join(map(str,x)) for x in product(*[fixed1, fixed2])]\n",
      "wrToFile(timex24)"
     ],
     "language": "python",
     "metadata": {},
     "outputs": [],
     "prompt_number": 75
    },
    {
     "cell_type": "code",
     "collapsed": false,
     "input": [
      "timex25 = []\n",
      "fixed1 = [\"aan het begin van\", \"aan het eind van\", \"aan het einde van\", \"gedurende\", \"na\", \"met ingang van\", \"m.i.v.\", \"miv\", \"op\", \"tijdens\", \"tot\", \"tot aan\", \"t/m\", \"tm\", \"tot en met\", \"van\", \"vanaf\", \"voor\", \"voorgaand aan\"] \n",
      "fixed2 = [\" de \",\" deze \", \" \"]\n",
      "fixed3 = [\"week\", \"maand\", \"vakantie\", \"periode\", \"vakantieperiode\", \"eeuw\"]\n",
      "timex25 = [\"\".join(map(str,x)) for x in product(*[fixed1, fixed2, fixed3])]\n",
      "wrToFile(timex25)"
     ],
     "language": "python",
     "metadata": {},
     "outputs": [],
     "prompt_number": 77
    },
    {
     "cell_type": "code",
     "collapsed": false,
     "input": [
      "timex26 = []\n",
      "fixed1 = [\"iedere\", \"elke\"] \n",
      "fixed2 = [\" eerste \", \" tweede \", \" derde\", \" vierde \", \" laatste \", \" \"]\n",
      "fixed3 = [\"seconde\", \"minuut\", \"week\", \"weekend\", \"weekeinde\", \"maand\"]\n",
      "timex26 = [\"\".join(map(str,x)) for x in product(*[fixed1, fixed2, fixed3])]\n",
      "wrToFile(timex26)"
     ],
     "language": "python",
     "metadata": {},
     "outputs": [],
     "prompt_number": 78
    },
    {
     "cell_type": "code",
     "collapsed": false,
     "input": [
      "timex27 = []\n",
      "fixed1 = [\"ieder\", \"elk\"] \n",
      "fixed2 = [\" eerste \", \" tweede \", \" derde\", \" vierde \", \" laatste \", \" \"]\n",
      "fixed3 = [\"seizoen\", \"jaar\"]\n",
      "timex27 = [\"\".join(map(str,x)) for x in product(*[fixed1, fixed2, fixed3])]\n",
      "wrToFile(timex27)"
     ],
     "language": "python",
     "metadata": {},
     "outputs": [],
     "prompt_number": 80
    },
    {
     "cell_type": "code",
     "collapsed": false,
     "input": [
      "timex28 = []\n",
      "fixed1 = [\"aan het begin van \", \"aan het eind van \", \"aan het einde van \", \"halverwege \", \"gaandeweg \", \"in de loop van \", \"\"]\n",
      "fixed2 = [\"dit \", \"komend \", \"verleden \", \"volgend \", \"vorig \"]\n",
      "fixed3 = [\"weekend\", \"weekeinde\", \"jaar\", \"seizoen\"]\n",
      "timex28 = [\"\".join(map(str,x)) for x in product(*[fixed1, fixed2, fixed3])]\n",
      "wrToFile(timex28)"
     ],
     "language": "python",
     "metadata": {},
     "outputs": [],
     "prompt_number": 84
    },
    {
     "cell_type": "code",
     "collapsed": false,
     "input": [
      "# prepare for timex29\n",
      "#([eerste | komende | laatste | volgende | vorige | voorbije] + (N))\n",
      "timextmp = []\n",
      "fixed1 = [\"eerste\", \"komende\", \"laatste\",\"volgende\",\"vorige\", \"voorbije\"]\n",
      "fixed2 = getlinelist('../timexNelleke/timexlist')\n",
      "fixed2 = [\" \"+f for f in fixed2]\n",
      "fixed2.append(\"\")\n",
      "timextmp = [\"\".join(map(str,x)) for x in product(*[fixed1, fixed2])]\n",
      "writelinelist(\"combinedtimex\", timextmp)"
     ],
     "language": "python",
     "metadata": {},
     "outputs": [],
     "prompt_number": 14
    },
    {
     "cell_type": "code",
     "collapsed": false,
     "input": [
      "timex29 = []\n",
      "fixed1 = [\"in \", \"voor \", \"na \", \"tijdens \", \"tot \", \"tot en met \", \"gedurende \", \"in de loop van \", \"\"]\n",
      "fixed2 = [\"de\",\"deze\",\"die\"] # if you want this comment the below line. Do not forget fixed4!\n",
      "fixed2 = [\"het\", \"dat\",\"dit\"]\n",
      "fixed3 = getlinelist('../timexNelleke/timexlist')\n",
      "fixed3 = [\" \"+f+\" \" for f in fixed3]\n",
      "fixed3.append(\" \")\n",
      "fixed4 = [\"seconde\", \"seconden\", \"minuut\", \"minuten\"]  #if you want this comment the below line\n",
      "fixed4 = [\"weekend\", \"seizoen\", \"jaar\"] # \"uur\" has different numbers, combined differently\n",
      "timex29 = [\"\".join(map(str,x)) for x in product(*[fixed1, fixed2, fixed3, fixed4])]\n",
      "writelinelist(\"combinedtimex\", timex29)"
     ],
     "language": "python",
     "metadata": {},
     "outputs": [],
     "prompt_number": 19
    },
    {
     "cell_type": "code",
     "collapsed": false,
     "input": [
      "timex30 = []\n",
      "fixed1 = [\"1\", \"een\"]\n",
      "fixed2 = [\"seconde\", \"minuut\", \"uur\", \"kwartier\", \"week\", \"maand\", \"jaar\", \"eeuw\"]\n",
      "fixed3 = [\"eerder\", \"ervoor\", \"erna\", \"geleden\", \"voorafgaand\", \"later\"]\n",
      "timex30 = [\" \".join(map(str,x)) for x in product(*[fixed1, fixed2, fixed3])]\n",
      "wrToFile(timex30)"
     ],
     "language": "python",
     "metadata": {},
     "outputs": [],
     "prompt_number": 93
    },
    {
     "cell_type": "code",
     "collapsed": false,
     "input": [
      "timex31 = []\n",
      "fixed1 = [str(n) for n in range(2,121)]\n",
      "fixed2 = [\"seconden\", \"minuuten\", \"uren\", \"weken\", \"maanden\", \"jaren\", \"eeuwen\"]\n",
      "fixed3 = [\"eerder\", \"ervoor\", \"erna\", \"geleden\", \"voorafgaand\", \"later\"]\n",
      "timex31 = [\" \".join(map(str,x)) for x in product(*[fixed1, fixed2, fixed3])]\n",
      "wrToFile(timex31)"
     ],
     "language": "python",
     "metadata": {},
     "outputs": [],
     "prompt_number": 96
    },
    {
     "cell_type": "code",
     "collapsed": false,
     "input": [
      "timex32 = []\n",
      "fixed1 = [\"in\"]\n",
      "fixed2 = [\"het uur\", \"de uren\", \"de week\", \"de weken\", \"de maand\", \"de maanden\"]\n",
      "fixed3 = [\"na\",\"van\",\"voor\"]\n",
      "fixed4 = getlinelist('../timexNelleke/timexlist')\n",
      "timex32 = [\" \".join(map(str,x)) for x in product(*[fixed1, fixed2, fixed3, ])]\n",
      "wrToFile(timex32)"
     ],
     "language": "python",
     "metadata": {},
     "outputs": [],
     "prompt_number": 100
    },
    {
     "cell_type": "code",
     "collapsed": false,
     "input": [
      "monthlist = [\"januari\",\"februari\",\"maart\",\"april\",\"mei\",\"juli\",\"juni\",\"augustus\",\"september\",\"oktober\",\"november\",\"december\"]\n",
      "for m in monthlist:\n",
      "    for i in range(1,32):\n",
      "        print(str(i)+' '+m[:3])\n",
      "        print(str(i)+' '+m)"
     ],
     "language": "python",
     "metadata": {},
     "outputs": []
    },
    {
     "cell_type": "code",
     "collapsed": false,
     "input": [
      "#rule: over [zo'n|precies|exact|krap|ruim|ongeveer|om en nabij|dik] driekwartier\n",
      "timex33 = []\n",
      "fixed1 = [\"zo'n\", \"precies\", \"exact\", \"krap\", \"ruim\", \"ongeveer\", \"om en nabij\", \"dik\"]\n",
      "for f1 in fixed1:\n",
      "    print(\"over \"+f1+\" driekwartier\")"
     ],
     "language": "python",
     "metadata": {},
     "outputs": [
      {
       "output_type": "stream",
       "stream": "stdout",
       "text": [
        "over zo'n driekwartier\n",
        "over precies driekwartier\n",
        "over exact driekwartier\n",
        "over krap driekwartier\n",
        "over ruim driekwartier\n",
        "over ongeveer driekwartier\n",
        "over om en nabij driekwartier\n",
        "over dik driekwartier\n"
       ]
      }
     ],
     "prompt_number": 21
    },
    {
     "cell_type": "code",
     "collapsed": false,
     "input": [
      "#rule: nog ([maar|slechts]) [een paar|enkele] \n",
      "#    [seconden|minuten|minuutjes|kwartier|kwartiertjes|uren|uurtjes|dagen|daagjes|nachten|nachtjes|weken|weekjes|maanden|maandjes|jaar|jaartjes|eeuwen] \n",
      "#    ([tot d-day|tot de wedstrijd|tot de rust|tot de ontmoeting|tot het treffen|tot het fluitsignaal])\n",
      "timex34 = [] \n",
      "fixed1 = [\"nog \"]\n",
      "opt1 = [\"maar \",\"slechts \", \"\"]\n",
      "fixed2 = [\"een paar \", \"enkele \"]\n",
      "fixed3 = [\"seconden \", \"minuten \", \"minuutjes \", \"kwartier \", \"kwartiertjes \", \"uren \", \"uurtjes \", \"dagen \", \"daagjes \", \"nachten \", \"nachtjes \", \"weken \", \"weekjes \", \"maanden \", \"maandjes \", \"jaar \", \"jaartjes \", \"eeuwen \"]\n",
      "opt2 = [\"tot d-day\", \"tot de wedstrijd\", \"tot de rust\", \"tot de ontmoeting\", \"tot het treffen\", \"tot het fluitsignaal\", \"\"]\n",
      "timex34 = [\"\".join(map(str,x)) for x in product(*[fixed1, opt1, fixed2, fixed3, opt2])]\n",
      "writelinelist(\"combinedtimex\",timex34)"
     ],
     "language": "python",
     "metadata": {},
     "outputs": [],
     "prompt_number": 24
    },
    {
     "cell_type": "code",
     "collapsed": false,
     "input": [
      "#rule: nog ([maar|slechts]) [een paar|enkele] \n",
      "#    [seconden|minuten|minuutjes|kwartier|kwartiertjes|uren|uurtjes|dagen|daagjes|nachten|nachtjes|weken|weekjes|maanden|maandjes|jaar|jaartjes|eeuwen] geleden\n",
      "timex35 = [] \n",
      "fixed1 = [\"nog \"]\n",
      "opt1 = [\"maar \",\"slechts \", \"\"]\n",
      "fixed2 = [\"een paar \", \"enkele \"]\n",
      "fixed3 = [\"seconden \", \"minuten \", \"minuutjes \", \"kwartier \", \"kwartiertjes \", \"uren \", \"uurtjes \", \"dagen \", \"daagjes \", \"nachten \", \"nachtjes \", \"weken \", \"weekjes \", \"maanden \", \"maandjes \", \"jaar \", \"jaartjes \", \"eeuwen \"]\n",
      "fixed4 = [\"geleden\"]\n",
      "timex35 = [\"\".join(map(str,x)) for x in product(*[fixed1, opt1, fixed2, fixed3, fixed4])]\n",
      "writelinelist(\"combinedtimex\",timex35)"
     ],
     "language": "python",
     "metadata": {},
     "outputs": [],
     "prompt_number": 25
    },
    {
     "cell_type": "code",
     "collapsed": false,
     "input": [
      "#rule: over [precies|exact|krap|ruim|ongeveer|bij benadering|om en nabij|dik] [1, een] [seconde|minuut|kwartier|half uur|uur|dag|week|maand|jaar|eeuw]\n",
      "timex36 = []\n",
      "fixed1 = [\"over\"]\n",
      "fixed2 = [\"precies\", \"exact\", \"krap\", \"ruim\", \"ongeveer\", \"bij benadering\", \"om en nabij\", \"dik\"]\n",
      "fixed3 = [\"1\",\"een\"]\n",
      "fixed4 = [\"seconde\", \"minuut\", \"kwartier\", \"half uur\", \"uur\", \"dag\", \"week\", \"maand\", \"jaar\", \"eeuw\"]\n",
      "timex36 = [\" \".join(map(str,x)) for x in product(*[fixed1,fixed2,fixed3,fixed4])]\n",
      "writelinelist(\"combinedtimex\", timex36)"
     ],
     "language": "python",
     "metadata": {},
     "outputs": [],
     "prompt_number": 27
    },
    {
     "cell_type": "code",
     "collapsed": false,
     "input": [
      "#rule: nog ([maar|slechts|meer dan|minder dan|iets meer dan|iets minder dan|dik]) [een|1] \n",
      "#   [seconde|minuut|minuutje|uur|uurtje|kwartier|kwartiertje|dag|dagje|nacht|nachtje|week|weekje|maand|maandje|jaar|jaartje|eeuw] \n",
      "#  ([tot d-day|tot de wedstrijd|tot de rust|tot de ontmoeting|tot het treffen|tot het fluitsignaal])\n",
      "timex37 = []\n",
      "fixed1 = [\"nog \"]\n",
      "fixed2 = [\"maar \", \"slechts \", \"meer dan \", \"minder dan \", \"iets meer dan \", \"iets minder dan \", \"dik \", \"\"]\n",
      "fixed3 = [\"een \", \"1 \"]\n",
      "fixed4 = [\"seconde \", \"minuut \", \"minuutje \", \"uur \", \"uurtje \", \"kwartier \", \"kwartiertje \", \"dag \", \"dagje \", \"nacht \", \"nachtje \", \"week \", \"weekje \", \"maand \", \"maandje \", \"jaar \", \"jaartje \", \"eeuw \"]\n",
      "fixed5 = [\"tot d-day\", \"tot de wedstrijd\", \"tot de rust\", \"tot de ontmoeting\", \"tot het treffen\", \"tot het fluitsignaal\", \"\"]\n",
      "timex37 = [\"\".join(map(str,x)) for x in product(*[fixed1,fixed2,fixed3,fixed4, fixed5])]\n",
      "writelinelist(\"combinedtimex\", timex37)"
     ],
     "language": "python",
     "metadata": {},
     "outputs": [],
     "prompt_number": 29
    },
    {
     "cell_type": "code",
     "collapsed": false,
     "input": [
      "#rule: [1|een] [seconde|minuut|minuutje|kwartier|kwartiertje|half uur|half uurtje|uur|uurtje|dag|dagje|nacht|nachtje|week|weekje|maand|maandje]\n",
      "# [voor|na|tot|tot aan] [d-day|de wedstrijd|de rust|de ontmoeting|het treffen|het fluitsignaal]\n",
      "timex38 = []\n",
      "fixed1 = [\"een \", \"1 \"]\n",
      "fixed2 = fixed4 = [\"seconde \", \"minuut \", \"minuutje \", \"kwartier \", \"kwartiertje \", \"half uur \", \"half uurtje \", \"uur \", \"uurtje \", \"dag \", \"dagje \", \"nacht \", \"nachtje \", \"week \", \"weekje \", \"maand \", \"maandje \"]\n",
      "fixed3 = [\"voor \", \"na \", \"tot \", \"tot aan \"]\n",
      "fixed4 = [\"d-day\", \"de wedstrijd\", \"de rust\", \"de ontmoeting\", \"het treffen\", \"het fluitsignaal\"]\n",
      "timex38 = [\"\".join(map(str,x)) for x in product(*[fixed1,fixed2,fixed3,fixed4])]\n",
      "writelinelist(\"combinedtimex\", timex38)"
     ],
     "language": "python",
     "metadata": {},
     "outputs": [],
     "prompt_number": 31
    },
    {
     "cell_type": "code",
     "collapsed": false,
     "input": [
      "#rule(N==1): N [seconde|minuut|minuutje|kwartier|kwartiertje|half uur|half uurtje|uur|uurtje|dag|dagje|nacht|nachtje|week|weekje|maand|maandje]\n",
      "#     geleden\n",
      "timex39 = []\n",
      "fixed1 = [\"een \", \"1 \"]\n",
      "fixed2 = [\"seconde \", \"minuut \", \"minuutje \", \"kwartier \", \"kwartiertje \", \"half uur \", \"half uurtje \", \"uur \", \"uurtje \", \"dag \", \"dagje \", \"nacht \", \"nachtje \", \"week \", \"weekje \", \"maand \", \"maandje \"]\n",
      "fixed3 = [\"geleden\"]\n",
      "timex39 = [\"\".join(map(str,x)) for x in product(*[fixed1,fixed2,fixed3])]\n",
      "writelinelist(\"combinedtimex\", timex39)"
     ],
     "language": "python",
     "metadata": {},
     "outputs": [],
     "prompt_number": 32
    },
    {
     "cell_type": "code",
     "collapsed": false,
     "input": [
      "#rule(N==1): nog ([maar|slechts]) N \n",
      "#   [seconde|minuut|minuutje|uur|uurtje|kwartier|kwartiertje|dag|dagje|nacht|nachtje|week|weekje|maand|maandje|jaar|jaartje|eeuw] \n",
      "#   geleden\n",
      "timex40 = [] \n",
      "fixed1 = [\"nog \"]\n",
      "fixed2 = [\"maar \",\"slechts \",\"\"]\n",
      "fixed3 = [\"een \", \"1 \"]\n",
      "fixed4 = [\"seconde \", \"minuut \", \"minuutje \", \"kwartier \", \"kwartiertje \", \"half uur \", \"half uurtje \", \"uur \", \"uurtje \", \"dag \", \"dagje \", \"nacht \", \"nachtje \", \"week \", \"weekje \", \"maand \", \"maandje \", \"jaar \", \"jaartje \", \"eeuw \"]\n",
      "fixed5 = [\"geleden\"]\n",
      "timex40 = [\"\".join(map(str,x)) for x in product(*[fixed1,fixed2,fixed3, fixed4, fixed5])]\n",
      "writelinelist(\"combinedtimex\", timex40)"
     ],
     "language": "python",
     "metadata": {},
     "outputs": [],
     "prompt_number": 33
    },
    {
     "cell_type": "code",
     "collapsed": false,
     "input": [
      "#rule(N>1): over [precies|exact|krap|ruim|ongeveer|bij benadering|om en nabij|een kleine|dik] N \n",
      "#        [seconden|minuten|kwartier|uur|dagen|weken|maanden|jaar|eeuwen]\n",
      "timex41 = [] \n",
      "fixed1 = [\"over \"]\n",
      "fixed2 = [\"precies \", \"exact \", \"krap \", \"ruim \", \"ongeveer \", \"bij benadering \", \"om en nabij \", \"een kleine \", \"dik \"]\n",
      "fixed3 = getlinelist(\"../timexNelleke/timexlist\") # numbers\n",
      "fixed4 =  [\" seconden \", \" minuten \", \" kwartier \", \" uur \", \" dagen \", \" weken \", \" maanden \", \" jaar \", \" eeuwen\"] # every item should get a different numeral range.\n",
      "timex41 = [\"\".join(map(str,x)) for x in product(*[fixed1,fixed2,fixed3, fixed4])]\n",
      "writelinelist(\"combinedtimex\", timex41)"
     ],
     "language": "python",
     "metadata": {},
     "outputs": [],
     "prompt_number": 48
    },
    {
     "cell_type": "code",
     "collapsed": false,
     "input": [
      "#rule(N>1): nog ([maar|slechts|meer dan|minder dan|iets meer dan|iets minder dan|dik]) N \n",
      "#        [seconden|minuten|minuutjes|kwartier|kwartiertjes|uren|uurtjes|dagen|daagjes|nachten|nachtjes|weken|weekjes|maanden|maandjes|jaar|jaartjes|eeuwen] \n",
      "#       ([tot d-day|tot de wedstrijd|tot de rust|tot de ontmoeting|tot het treffen|tot het fluitsignaal])\n",
      "timex42 = [] \n",
      "fixed1 = [\"nog \"]\n",
      "fixed2 = [\"maar \", \"slechts \", \"meer dan \", \"minder dan \", \"iets meer dan \", \"iets minder dan \", \"dik \", \"\"]\n",
      "fixed3 = getlinelist(\"../timexNelleke/timexlist\") # numbers\n",
      "fixed4 = [\" weken \", \" weekjes \", \" maanden \", \" maandjes \", \" jaar \", \" jaartjes \", \" eeuwen\"]  #[\" seconden \", \" minuten \", \" minuutjes \", \" uren \", \" uurtjes \", \" kwartier \", \" kwartiertjes \", \" dagen \", \" daagjes \", \" nachten \", \" nachtjes \", \" weken \", \" weekjes \", \" maanden \", \" maandjes \", \" jaar \", \" jaartjes \", \" eeuwen\"] # every item should get a different numeral range.\n",
      "fixed5 = [\"tot d-day \", \"tot de wedstrijd \", \"tot de rust \", \"tot de ontmoeting \", \"tot het treffen \", \"tot het fluitsignaal\", \"\"]\n",
      "timex42 = [\"\".join(map(str,x)) for x in product(*[fixed1,fixed2,fixed3, fixed4, fixed5])]\n",
      "writelinelist(\"combinedtimex\", timex42)"
     ],
     "language": "python",
     "metadata": {},
     "outputs": [],
     "prompt_number": 55
    },
    {
     "cell_type": "code",
     "collapsed": false,
     "input": [
      "#rule(N>1): N [seconden|minuten|minuutjes|uur|uurtjes|kwartier|dagen|daagjes|nachten|nachtjes||weken|weekjes|maanden|maandjes] \n",
      "#       [voor|na|tot|tot aan] [d-day|de wedstrijd|de rust|de ontmoeting|het treffen|het fluitsignaal]\n",
      "timex43 = [] \n",
      "fixed1 = getlinelist(\"../timexNelleke/timexlist\") # numbers\n",
      "fixed2 =  #[\" seconden \", \" minuten \", \" minuutjes \", \" uren \", \" uurtjes \", \" kwartier \", \" kwartiertjes \", \" dagen \", \" daagjes \", \" nachten \", \" nachtjes \", \" weken \", \" weekjes \", \" maanden \", \" maandjes \", \" jaar \", \" jaartjes \", \" eeuwen\"] # every item should get a different numeral range.\n",
      "fixed3 = [\"voor \", \"na \",\"tot \", \"tot aan \"]\n",
      "fixed4 = [\"d-day\", \"de wedstrijd\", \"de rust\", \"de ontmoeting\", \"het treffen\", \"het fluitsignaal\"]\n",
      "timex43 = [\"\".join(map(str,x)) for x in product(*[fixed1,fixed2,fixed3, fixed4])]\n",
      "writelinelist(\"combinedtimex\", timex43)"
     ],
     "language": "python",
     "metadata": {},
     "outputs": [],
     "prompt_number": 66
    },
    {
     "cell_type": "code",
     "collapsed": false,
     "input": [
      "#rule(N>1): N [seconden|minuten|minuutjes|kwartier|uur|uurtjes|dagen|daagjes|nachten|nachtjes||weken|weekjes|maanden|maandjes] \n",
      "#         geleden\n",
      "\n",
      "timex44 = []\n",
      "fixed1 = getlinelist(\"../timexNelleke/timexlist\") # numbers\n",
      "fixed2 = [\"maanden\", \"maandjes\"]  #[\" seconden \", \" minuten \", \" minuutjes \", \" uren \", \" uurtjes \", \" kwartier \", \" kwartiertjes \", \" dagen \", \" daagjes \", \" nachten \", \" nachtjes \", \" weken \", \" weekjes \", \" maanden \", \" maandjes \"]\n",
      "fixed3 = [\"geleden\"]\n",
      "timex44 = [\" \".join(map(str,x)) for x in product(*[fixed1,fixed2,fixed3])]\n",
      "writelinelist(\"combinedtimex\", timex44)"
     ],
     "language": "python",
     "metadata": {},
     "outputs": [],
     "prompt_number": 73
    },
    {
     "cell_type": "code",
     "collapsed": false,
     "input": [
      "#rule(N>1): nog ([maar|slechts]) N \n",
      "#    [seconden|minuten|minuutjes|kwartier|kwartiertjes|uren|uurtjes|dagen|daagjes|nachten|nachtjes|weken|weekjes|maanden|maandjes|jaar|jaartjes|eeuwen] geleden\n",
      "timex45 = [] \n",
      "fixed1 = [\"nog \"]\n",
      "fixed2 = [\"maar \",\"slechts \",\"\"]\n",
      "fixed3 = getlinelist(\"../timexNelleke/timexlist\")\n",
      "fixed4 = [\" maanden \", \" maandjes \", \" jaar \", \" jaartjes \", \" eeuwen \"]  #[\" seconden \", \" minuten \", \" minuutjes \", \" uren \", \" uurtjes \", \" kwartier \", \" kwartiertjes \", \" dagen \", \" daagjes \", \" nachten \", \" nachtjes \", \" weken \", \" weekjes \", \" maanden \", \" maandjes \", \" jaar \", \" jaartjes \", \" eeuwen \"] # every item should get a different numeral range.\n",
      "fixed5 = [\"geleden\"]\n",
      "timex45 = [\"\".join(map(str,x)) for x in product(*[fixed1,fixed2,fixed3, fixed4, fixed5])]\n",
      "writelinelist(\"combinedtimex\", timex45)"
     ],
     "language": "python",
     "metadata": {},
     "outputs": [],
     "prompt_number": 78
    },
    {
     "cell_type": "code",
     "collapsed": false,
     "input": [
      "# hour\n",
      "fixed1 = [\"00\", \"01\", \"02\", \"03\", \"04\", \"05\", \"06\", \"07\", \"08\", \"09\", \"1\", \"2\", \"3\", \"4\", \"5\", \"6\", \"7\", \"8\", \"9\", \"10\", \"11\", \"12\", \"13\", \"14\", \"15\", \"16\", \"17\", \"18\", \"19\", \"20\", \"21\", \"22\", \"23\"]\n",
      "fixed2 = [\".\"]#[\":\",\"'\"]\n",
      "fixed3 = [\"00\",\"05\",\"10\",\"15\",\"20\",\"25\",\"30\",\"35\",\"40\",\"45\",\"50\",\"55\"]\n",
      "#fixed4 = [\" u\", \" uur\", \"\"]\n",
      "timextmp = [\"\".join(map(str,x)) for x in product(*[fixed1,fixed2,fixed3])]\n",
      "timextmp = [tt.strip() for tt in timextmp]\n",
      "writelinelist(\"combinedtimex\", timextmp)"
     ],
     "language": "python",
     "metadata": {},
     "outputs": [],
     "prompt_number": 9
    },
    {
     "cell_type": "code",
     "collapsed": false,
     "input": [
      "#rule(T is clock time): ([vandaag|vanochtend|vanmiddag|vanavond|vannacht|morgen|morgenochtend|morgenmiddag|morgenavond|gisteren|gistermiddag|gisteravond])\n",
      "#   [om|tot|vanaf|na|rond|aanvang] T ([u|uur])\n",
      "\n",
      "fixed1 = [\"vandaag\", \"vanochtend\", \"vanmiddag\", \"vanavond\", \"vannacht\", \"morgen\", \"morgenochtend\", \"morgenmiddag\", \"morgenavond\", \"gisteren\", \"gistermiddag\", \"gisteravond\", \"\"]\n",
      "fixed2 = [\"om\", \"tot\", \"vanaf\", \"na\", \"rond\", \"aanvang\", \"\"]\n",
      "fixed3 = getlinelist(\"../timexNelleke/timexlist\")\n",
      "fixed4 = [\"u\", \"uur\", \"\"]\n",
      "timex46 = [\" \".join(map(str,x)) for x in product(*[fixed1,fixed2,fixed3, fixed4])]\n",
      "timex46 = [tx.strip() for tx in timex46]\n",
      "writelinelist(\"combinedtimex\", timex46)"
     ],
     "language": "python",
     "metadata": {},
     "outputs": [],
     "prompt_number": 12
    },
    {
     "cell_type": "code",
     "collapsed": false,
     "input": [
      "#rule(T is fraction): over ([zo'n|precies|exact|krap|ruim|ongeveer|een kleine]) T uur\n",
      "fixed1 = [\"over\"]\n",
      "fixed2 = [\"zo'n\", \"precies\", \"exact\", \"krap\", \"ruim\", \"ongeveer\", \"een kleine\", \"\"]\n",
      "fixed3 = getlinelist(\"../timexNelleke/timexlist\")\n",
      "fixed4 = [\"u\", \"uur\", \"\"]\n",
      "timex47 = [\" \".join(map(str,x)) for x in product(*[fixed1,fixed2,fixed3, fixed4])]\n",
      "timex47 = [tx.strip() for tx in timex47]\n",
      "writelinelist(\"combinedtimex\", timex47)"
     ],
     "language": "python",
     "metadata": {},
     "outputs": [],
     "prompt_number": 27
    },
    {
     "cell_type": "code",
     "collapsed": false,
     "input": [
      "#rule: [aan|tegen] het [begin|eind] van [de|deze|die] [ochtend|morgen|dag|nacht|middag|avond|week|maand]\n",
      "fixed1 = [\"aan\", \"tegen\"]\n",
      "fixed2 = [\"het begin\", \"het eind\"]\n",
      "fixed3 = [\"van de\",\"van deze\",\"van die\"]\n",
      "fixed4 = [\"ochtend\", \"morgen\", \"dag\", \"nacht\", \"middag\", \"avond\", \"week\", \"maand\"]\n",
      "timex48 = [\" \".join(map(str,x)) for x in product(*[fixed1,fixed2,fixed3, fixed4])]\n",
      "writelinelist(\"combinedtimex\", timex48)"
     ],
     "language": "python",
     "metadata": {},
     "outputs": [],
     "prompt_number": 104
    },
    {
     "cell_type": "code",
     "collapsed": false,
     "input": [
      "#rule:  [aan|tegen] het [begin|eind] van [het|dit|dat] [weekend|jaar|seizoen]\n",
      "fixed1 = [\"aan\", \"tegen\"]\n",
      "fixed2 = [\"het begin\", \"het eind\"]\n",
      "fixed3 = [\"van het\",\"van dit\",\"van dat\"]\n",
      "fixed4 = [\"weekend\",\"jaar\", \"seizoen\"]\n",
      "timex49 = [\" \".join(map(str,x)) for x in product(*[fixed1,fixed2,fixed3, fixed4])]\n",
      "writelinelist(\"combinedtimex\", timex49)"
     ],
     "language": "python",
     "metadata": {},
     "outputs": [],
     "prompt_number": 105
    },
    {
     "cell_type": "code",
     "collapsed": false,
     "input": [
      "# rule: nog ([maar|slechts]) N1|N2 uur en N2 min|minuten\n",
      "\n",
      "fixed1 = [\"nog\"]\n",
      "opt1 = [\"maar\",\"slechts\", \"\"]\n",
      "fixed2 = getlinelist(\"../timexNelleke/timexlist\")\n",
      "fixed3 = [\"uur en\"]\n",
      "fixed4 = fixed2[2:] # do not include 1 en een\n",
      "fixed5 = [\"minuten\",\"min\"]\n",
      "timex50 = [\" \".join(map(str,x)) for x in product(*[fixed1, opt1, fixed2,fixed3, fixed4, fixed5])]\n",
      "writelinelist(\"combinedtimex\", timex50)\n"
     ],
     "language": "python",
     "metadata": {},
     "outputs": [],
     "prompt_number": 109
    },
    {
     "cell_type": "code",
     "collapsed": false,
     "input": [
      "#nog ([maar|slechts]) N1 week en N2 dagen\n",
      "#nog ([maar|slechts]) N1 week en N1 dag\n",
      "\n",
      "#nog ([maar|slechts]) N2 weken en N1 dag\n",
      "#nog ([maar|slechts]) N2 weken en N2 dagen\n",
      "fixed1 = [\"nog\"]\n",
      "opt1 = [\"maar\",\"slechts\", \"\"]\n",
      "fixed2 = getlinelist(\"../timexNelleke/timexlist\")\n",
      "fixed3 = [\"weken en\"]#getlinelist(\"../timexNelleke/timexlist\")\n",
      "#fixed4 = fixed2 be careful!\n",
      "fixed5 = [\"dagen\"]\n",
      "timex51 = [\" \".join(map(str,x)) for x in product(*[fixed1, opt1, fixed2, fixed3, fixed2, fixed5])]\n",
      "writelinelist(\"combinedtimex\", timex51)"
     ],
     "language": "python",
     "metadata": {},
     "outputs": [],
     "prompt_number": 115
    },
    {
     "cell_type": "code",
     "collapsed": false,
     "input": [
      "fixed1 = [\"nog\"]\n",
      "fixed2 = getlinelist(\"../timexNelleke/timexlist\")\n",
      "fixed3 = [\"min\", \"sec\", \"u\"]\n",
      "timex51 = [\" \".join(map(str,x)) for x in product(*[fixed1, fixed2, fixed3])]\n",
      "writelinelist(\"combinedtimex\", timex51)"
     ],
     "language": "python",
     "metadata": {},
     "outputs": [],
     "prompt_number": 119
    },
    {
     "cell_type": "code",
     "collapsed": false,
     "input": [
      "fixed1 = [\"komende\", \"aanstaande\"]\n",
      "fixed2 = getlinelist(\"../timexNelleke/timexlist\")\n",
      "timex52 = [\" \".join(map(str,x)) for x in product(*[fixed1, fixed2])]\n",
      "writelinelist(\"combinedtimex\", timex52)"
     ],
     "language": "python",
     "metadata": {},
     "outputs": [],
     "prompt_number": 29
    },
    {
     "cell_type": "code",
     "collapsed": true,
     "input": [
      "seedtmx = getlinelist('seedtimex')\n",
      "print(len(seedtmx))\n",
      "seedtmx = list(set(seedtmx))\n",
      "\n",
      "for st in sorted(seedtmx):\n",
      "    print(st)\n",
      "\n",
      "writelinelist('cleanseedtmx',sorted(seedtmx))"
     ],
     "language": "python",
     "metadata": {},
     "outputs": [
      {
       "output_type": "stream",
       "stream": "stdout",
       "text": [
        "536\n",
        "a la minute\n",
        "aan het eind\n",
        "aan het eind van de rit\n",
        "aan het einde\n",
        "aan het einde van de rit\n",
        "aanstaand\n",
        "aanstaand weekeinde\n",
        "aanstaand weekend\n",
        "aanstaande\n",
        "aanvankelijk\n",
        "achteraf\n",
        "acuut\n",
        "af en toe\n",
        "aftrap\n",
        "al\n",
        "alsnog\n",
        "altijd\n",
        "alweer\n",
        "april\n",
        "aswoendag\n",
        "augustus\n",
        "avondje\n",
        "avondjes\n",
        "avonds laat\n",
        "bekerwedstrijd\n",
        "bekerwedstrijden\n",
        "binnenkort\n",
        "blessuretijd\n",
        "carnaval\n",
        "confrontatie\n",
        "confrontaties\n",
        "d-day\n",
        "daagjes\n",
        "daags\n",
        "daags erna\n",
        "daags ervoor\n",
        "daags na de match\n",
        "daags na de wedstrijd\n",
        "daags na deze match\n",
        "daags na deze wedstrijd\n",
        "daags na dit duel\n",
        "daags na het duel\n",
        "daags voor de match\n",
        "daags voor de wedstrijd\n",
        "daags voor deze match\n",
        "daags voor dit duel\n",
        "daarna\n",
        "dadelijk\n",
        "dag\n",
        "dagelijks\n",
        "dagen\n",
        "dagen lang\n",
        "dagje\n",
        "dagjes\n",
        "dalijk\n",
        "dan\n",
        "day\n",
        "de maand\n",
        "de minuut\n",
        "de week\n",
        "december\n",
        "degradatiewedstrijd\n",
        "degradatiewedstrijden\n",
        "derbies\n",
        "derby\n",
        "derde kerstdag\n",
        "derde paasdag\n",
        "destijds\n",
        "deze weken\n",
        "die weken\n",
        "dikwijls\n",
        "direct\n",
        "doorgaans\n",
        "duel\n",
        "duels\n",
        "een hele poos\n",
        "een klein uurtje\n",
        "een poos daarna\n",
        "een poos daarvoor\n",
        "een poos eerder\n",
        "een poos erna\n",
        "een poos ervoor\n",
        "een poos later\n",
        "een poosje daarna\n",
        "een poosje daarvoor\n",
        "een poosje eerder\n",
        "een poosje erna\n",
        "een poosje ervoor\n",
        "een poosje later\n",
        "een uurtje of wat\n",
        "eenmaal daags\n",
        "eerder\n",
        "eergister\n",
        "eergisteren\n",
        "eerst\n",
        "eerste helft\n",
        "eerste kerstdag\n",
        "eerste paasdag\n",
        "eeuw\n",
        "eeuwen\n",
        "eeuwen lang\n",
        "eeuwig\n",
        "eindelijk\n",
        "februari\n",
        "feestdag\n",
        "feestdagen\n",
        "finale\n",
        "frequent\n",
        "gaandeweg\n",
        "gauw\n",
        "gedurende\n",
        "gewoonlijk\n",
        "gisteren\n",
        "halloween\n",
        "heden\n",
        "hedenavond\n",
        "hedenmiddag\n",
        "hedenmorgen\n",
        "hedennacht\n",
        "hedenochtend\n",
        "helft\n",
        "hemelvaart\n",
        "herfst\n",
        "herhaaldeijk\n",
        "het half uur\n",
        "het jaar\n",
        "het kwartier\n",
        "het uur\n",
        "het weekeinde\n",
        "het weekend\n",
        "hoe laat\n",
        "hoe lang\n",
        "in aanloop naar\n",
        "in de jaren daarna\n",
        "in de jaren daarvoor\n",
        "in de jaren erna\n",
        "in de jaren ervoor\n",
        "in de late uren\n",
        "in de loop van\n",
        "in de morgen\n",
        "in de tussentijd\n",
        "in de vroege uren\n",
        "in een ogenblik\n",
        "in het begin\n",
        "in het verleden\n",
        "in het verloop van\n",
        "indertijd\n",
        "infrequent\n",
        "inmiddels\n",
        "instantaan\n",
        "intussen\n",
        "jaar\n",
        "jaarlijks\n",
        "jaarlijkse\n",
        "januari\n",
        "jaren\n",
        "jaren later\n",
        "juli\n",
        "juni\n",
        "kerst\n",
        "kerstavond\n",
        "kerstavonden\n",
        "kerstdag\n",
        "kerstdagen\n",
        "komend\n",
        "komende\n",
        "koninginnedag\n",
        "koninginnedagen\n",
        "kort geleden\n",
        "kort tevoren\n",
        "kort van tevoren\n",
        "kwartfinale\n",
        "kwartfinales\n",
        "kwartier\n",
        "kwartiertje\n",
        "kwartiertjes\n",
        "laat in\n",
        "laatst\n",
        "lang geleden\n",
        "lang van tevoren\n",
        "later\n",
        "m.i.v.\n",
        "maand\n",
        "maandelijks\n",
        "maanden\n",
        "maanden lang\n",
        "maart\n",
        "match\n",
        "matchday\n",
        "matches\n",
        "medio\n",
        "meestal\n",
        "mei\n",
        "met de paasdagen\n",
        "met het verstrijken van\n",
        "met het verstrijken van de uren\n",
        "met pasen\n",
        "met tijd en wijle\n",
        "met verloop van tijd\n",
        "meteen\n",
        "mettertijd\n",
        "middaagjes\n",
        "middagen\n",
        "middagje\n",
        "middagjes\n",
        "middags\n",
        "middernacht\n",
        "minuten\n",
        "minuut\n",
        "minuutje\n",
        "minuutjes\n",
        "miv\n",
        "moment\n",
        "momenten\n",
        "momentje\n",
        "morgens\n",
        "na afloop van\n",
        "na de paasdagen\n",
        "na pasen\n",
        "na verloop van tijd\n",
        "nachten\n",
        "nachtje\n",
        "nachtjes\n",
        "nadat\n",
        "naderhand\n",
        "nadien\n",
        "namiddag\n",
        "namiddagen\n",
        "nederlaag\n",
        "nederlagen\n",
        "net even\n",
        "net nog\n",
        "nieuwjaar\n",
        "nog\n",
        "nog NN dagen\n",
        "nog NN uur\n",
        "nog een ogenblik\n",
        "nog even\n",
        "nog geen moment\n",
        "nog maar net\n",
        "nog net\n",
        "nog nooit\n",
        "nooit\n",
        "november\n",
        "now\n",
        "nu\n",
        "nu en dan\n",
        "ochtend\n",
        "ochtenden\n",
        "ochtends\n",
        "ochtens vroeg\n",
        "oefenwedstrijd\n",
        "oefenwedstrijden\n",
        "ogenblik\n",
        "oktober\n",
        "omstreeks\n",
        "omstreeks N maand\n",
        "omstreeks N uur\n",
        "omstreeks dit tijdstip\n",
        "ondertussen\n",
        "ongeveer een uur\n",
        "onlangs\n",
        "onmiddellijk\n",
        "onregelmatig\n",
        "ontmoeting\n",
        "ontmoetingen\n",
        "ooit\n",
        "op den duur\n",
        "op het ogenblik\n",
        "opnieuw\n",
        "oudjaar\n",
        "oudjaarsdag\n",
        "overdag\n",
        "overmorgen\n",
        "overwinning\n",
        "overwinningen\n",
        "paasdag\n",
        "paasdagen\n",
        "pas\n",
        "pas nog\n",
        "pasen\n",
        "periode\n",
        "pinksterdag\n",
        "pinksterdagen\n",
        "pinksteren\n",
        "play off\n",
        "play offs\n",
        "play-off\n",
        "play-offs\n",
        "poos\n",
        "poosje\n",
        "reeds\n",
        "regelmatig\n",
        "revanche\n",
        "rosenmontag\n",
        "rust\n",
        "seconde\n",
        "seconden\n",
        "sedertdien\n",
        "seizoen\n",
        "seizoenen\n",
        "september\n",
        "sindsdien\n",
        "soms\n",
        "speeltijd\n",
        "spoedig\n",
        "sporadisch\n",
        "steeds\n",
        "strakjes\n",
        "straks\n",
        "t.z.t.\n",
        "te laat\n",
        "tegelijk\n",
        "tegelijkertijd\n",
        "tegenwoordig\n",
        "telkens\n",
        "telkens weer\n",
        "tenslotte\n",
        "terstond\n",
        "terwijl\n",
        "tevoren\n",
        "the day\n",
        "thuiswedstrijd\n",
        "thuiswedstrijden\n",
        "tijd\n",
        "tijdelijk\n",
        "tijden\n",
        "tijdens\n",
        "tijdens de paasdagen\n",
        "tijdens pasen\n",
        "tijdje\n",
        "tijdperk\n",
        "tijdstip\n",
        "today\n",
        "toekomst\n",
        "toekomstig\n",
        "toekomstige\n",
        "toen\n",
        "toen nog\n",
        "toen pas\n",
        "toendertijd\n",
        "toentertijd\n",
        "toernooi\n",
        "tot diep in de nacht\n",
        "tot dusver\n",
        "tot nog toe\n",
        "tot nu toe\n",
        "treffen\n",
        "treffens\n",
        "tussentijd\n",
        "tussentijds\n",
        "tweede helft\n",
        "tweede kerstdag\n",
        "tweede paasdag\n",
        "tweemaal daags\n",
        "tzt\n",
        "uiteindelijk\n",
        "uiterlijk\n",
        "uitwedstrijd\n",
        "uitwedstrijden\n",
        "uren\n",
        "urenlang\n",
        "uur\n",
        "uurtje\n",
        "uurtjes\n",
        "vaak\n",
        "vaakst\n",
        "vakantie\n",
        "vakantieperiode\n",
        "vaker\n",
        "van 's ochtends tot 's avonds\n",
        "van 's ochtends vroeg tot 's avonds laat\n",
        "van de ochtend tot de avond\n",
        "van de vroege ochtend tot de late avond\n",
        "van jongs af\n",
        "van lieverlee\n",
        "van tijd tot tijd\n",
        "vanaf het begin\n",
        "vanavond\n",
        "vandaag\n",
        "vanmiddag\n",
        "vannacht\n",
        "vanochtend\n",
        "vanouds\n",
        "verleden\n",
        "verlenging\n",
        "verlengingen\n",
        "vervolgens\n",
        "volgend\n",
        "volgende\n",
        "volgende N minuten\n",
        "volgende avond\n",
        "volgende dag\n",
        "volgende middag\n",
        "volgende minuten\n",
        "volgende minuut\n",
        "volgende morgen\n",
        "volgende namiddag\n",
        "voor de paasdagen\n",
        "voor het eerst\n",
        "voor pasen\n",
        "vooraf\n",
        "voorafgaand\n",
        "voorafgaande\n",
        "voorbij\n",
        "voorbije\n",
        "voordat\n",
        "voorgoed\n",
        "voorheen\n",
        "voorjaar\n",
        "voorlopig\n",
        "voorlopige\n",
        "vroeg\n",
        "vroeg in\n",
        "vroeger\n",
        "vroegst\n",
        "wanneer\n",
        "wedstrijd\n",
        "wedstrijden\n",
        "week\n",
        "weekeinde\n",
        "weekeinden\n",
        "weekend\n",
        "weekenden\n",
        "weekends\n",
        "weer\n",
        "weken\n",
        "winter\n",
        "winters\n",
        "winterstop\n",
        "zelden\n",
        "zo\n",
        "zodadelijk\n",
        "zoeven nog\n",
        "zojuist\n",
        "zomer\n",
        "zomers\n",
        "zomerstop\n",
        "zometeen\n"
       ]
      }
     ],
     "prompt_number": 26
    },
    {
     "cell_type": "code",
     "collapsed": true,
     "input": [
      "# tmxtemp will have the elements which are contained by others. If a string contains an element from this list, it will have\n",
      "# at least one match from the long list. \n",
      "tmxtemp = copy.deepcopy(timexall5)\n",
      "for i in range(0, len(tmxtemp)):\n",
      "    #print(timexall3[i], [t for t in timexall3[i:] if \" \"+timexall3[i]+\" \" in t])\n",
      "    recurrent = [t for t in tmxtemp[i+1:] if (\" \"+tmxtemp[i]+\" \" in t) or (tmxtemp[i]+\" \" in t) or (\" \"+tmxtemp[i] in t)]\n",
      "    \n",
      "    if len(recurrent) > 0:\n",
      "        tmxtemp = [tt for tt in tmxtemp if tt not in recurrent]\n",
      "    \n",
      "    print(tmxtemp[i], i, len(tmxtemp), len(recurrent))\n",
      "    if i == len(tmxtemp):\n",
      "        break"
     ],
     "language": "python",
     "metadata": {},
     "outputs": [
      {
       "output_type": "stream",
       "stream": "stdout",
       "text": [
        "al 0 498725 2\n",
        "zo"
       ]
      },
      {
       "output_type": "stream",
       "stream": "stdout",
       "text": [
        " 1 498158 567\n",
        "nu"
       ]
      },
      {
       "output_type": "stream",
       "stream": "stdout",
       "text": [
        " 2 498156 2\n",
        "pas"
       ]
      },
      {
       "output_type": "stream",
       "stream": "stdout",
       "text": [
        " 3 498150 6\n",
        "uur"
       ]
      },
      {
       "output_type": "stream",
       "stream": "stdout",
       "text": [
        " 4 337658 160492\n",
        "now"
       ]
      },
      {
       "output_type": "stream",
       "stream": "stdout",
       "text": [
        " 5 337658 0\n",
        "nog"
       ]
      },
      {
       "output_type": "stream",
       "stream": "stdout",
       "text": [
        " 6 294800 42858\n",
        "tzt"
       ]
      },
      {
       "output_type": "stream",
       "stream": "stdout",
       "text": [
        " 7 294800 0\n",
        "mai"
       ]
      },
      {
       "output_type": "stream",
       "stream": "stdout",
       "text": [
        " 8 294800 0\n",
        "dag"
       ]
      },
      {
       "output_type": "stream",
       "stream": "stdout",
       "text": [
        " 9 241642 53158\n",
        "dan"
       ]
      },
      {
       "output_type": "stream",
       "stream": "stdout",
       "text": [
        " 10 241642 0\n",
        "day"
       ]
      },
      {
       "output_type": "stream",
       "stream": "stdout",
       "text": [
        " 11 241641 1\n",
        "miv"
       ]
      },
      {
       "output_type": "stream",
       "stream": "stdout",
       "text": [
        " 12 241599 42\n",
        "1.10"
       ]
      },
      {
       "output_type": "stream",
       "stream": "stdout",
       "text": [
        " 13 241250 349\n",
        "7.20"
       ]
      },
      {
       "output_type": "stream",
       "stream": "stdout",
       "text": [
        " 14 240971 279\n",
        "7.25"
       ]
      },
      {
       "output_type": "stream",
       "stream": "stdout",
       "text": [
        " 15 240692 279\n",
        "7:55"
       ]
      },
      {
       "output_type": "stream",
       "stream": "stdout",
       "text": [
        " 16 240449 243\n",
        "7:50"
       ]
      },
      {
       "output_type": "stream",
       "stream": "stdout",
       "text": [
        " 17 240206 243\n",
        "1:00"
       ]
      },
      {
       "output_type": "stream",
       "stream": "stdout",
       "text": [
        " 18 239902 304\n",
        "1:05"
       ]
      },
      {
       "output_type": "stream",
       "stream": "stdout",
       "text": [
        " 19 239598 304\n",
        "gauw"
       ]
      },
      {
       "output_type": "stream",
       "stream": "stdout",
       "text": [
        " 20 239598 0\n",
        "2:55"
       ]
      },
      {
       "output_type": "stream",
       "stream": "stdout",
       "text": [
        " 21 239294 304\n",
        "2:50"
       ]
      },
      {
       "output_type": "stream",
       "stream": "stdout",
       "text": [
        " 22 238990 304\n",
        "9'25"
       ]
      },
      {
       "output_type": "stream",
       "stream": "stdout",
       "text": [
        " 23 238747 243\n",
        "9'20"
       ]
      },
      {
       "output_type": "stream",
       "stream": "stdout",
       "text": [
        " 24 238504 243\n",
        "8.55"
       ]
      },
      {
       "output_type": "stream",
       "stream": "stdout",
       "text": [
        " 25 238225 279\n",
        "8.50"
       ]
      },
      {
       "output_type": "stream",
       "stream": "stdout",
       "text": [
        " 26 237946 279\n",
        "8:20"
       ]
      },
      {
       "output_type": "stream",
       "stream": "stdout",
       "text": [
        " 27 237703 243\n",
        "8:25"
       ]
      },
      {
       "output_type": "stream",
       "stream": "stdout",
       "text": [
        " 28 237460 243\n",
        "4'30"
       ]
      },
      {
       "output_type": "stream",
       "stream": "stdout",
       "text": [
        " 29 237217 243\n",
        "4'35"
       ]
      },
      {
       "output_type": "stream",
       "stream": "stdout",
       "text": [
        " 30 236974 243\n",
        "5.50"
       ]
      },
      {
       "output_type": "stream",
       "stream": "stdout",
       "text": [
        " 31 236695 279\n",
        "5.55"
       ]
      },
      {
       "output_type": "stream",
       "stream": "stdout",
       "text": [
        " 32 236416 279\n",
        "4:15"
       ]
      },
      {
       "output_type": "stream",
       "stream": "stdout",
       "text": [
        " 33 236173 243\n",
        "9.55"
       ]
      },
      {
       "output_type": "stream",
       "stream": "stdout",
       "text": [
        " 34 235894 279\n",
        "9.50"
       ]
      },
      {
       "output_type": "stream",
       "stream": "stdout",
       "text": [
        " 35 235615 279\n",
        "6'50"
       ]
      },
      {
       "output_type": "stream",
       "stream": "stdout",
       "text": [
        " 36 235372 243\n",
        "6'55"
       ]
      },
      {
       "output_type": "stream",
       "stream": "stdout",
       "text": [
        " 37 235129 243\n",
        "6'15"
       ]
      },
      {
       "output_type": "stream",
       "stream": "stdout",
       "text": [
        " 38 234886 243\n",
        "8:15"
       ]
      },
      {
       "output_type": "stream",
       "stream": "stdout",
       "text": [
        " 39 234643 243\n",
        "7.35"
       ]
      },
      {
       "output_type": "stream",
       "stream": "stdout",
       "text": [
        " 40 234364 279\n",
        "3.45"
       ]
      },
      {
       "output_type": "stream",
       "stream": "stdout",
       "text": [
        " 41 234015 349\n",
        "1:15"
       ]
      },
      {
       "output_type": "stream",
       "stream": "stdout",
       "text": [
        " 42 233711 304\n",
        "1:10"
       ]
      },
      {
       "output_type": "stream",
       "stream": "stdout",
       "text": [
        " 43 233407 304\n",
        "2'00"
       ]
      },
      {
       "output_type": "stream",
       "stream": "stdout",
       "text": [
        " 44 233103 304\n",
        "2:45"
       ]
      },
      {
       "output_type": "stream",
       "stream": "stdout",
       "text": [
        " 45 232799 304\n",
        "2:40"
       ]
      },
      {
       "output_type": "stream",
       "stream": "stdout",
       "text": [
        " 46 232495 304\n",
        "9'50"
       ]
      },
      {
       "output_type": "stream",
       "stream": "stdout",
       "text": [
        " 47 232252 243\n",
        "9'55"
       ]
      },
      {
       "output_type": "stream",
       "stream": "stdout",
       "text": [
        " 48 232009 243\n",
        "8.40"
       ]
      },
      {
       "output_type": "stream",
       "stream": "stdout",
       "text": [
        " 49 231730 279\n",
        "8.45"
       ]
      },
      {
       "output_type": "stream",
       "stream": "stdout",
       "text": [
        " 50 231451 279\n",
        "4:05"
       ]
      },
      {
       "output_type": "stream",
       "stream": "stdout",
       "text": [
        " 51 231208 243\n",
        "4:00"
       ]
      },
      {
       "output_type": "stream",
       "stream": "stdout",
       "text": [
        " 52 230965 243\n",
        "9.20"
       ]
      },
      {
       "output_type": "stream",
       "stream": "stdout",
       "text": [
        " 53 230686 279\n",
        "9.25"
       ]
      },
      {
       "output_type": "stream",
       "stream": "stdout",
       "text": [
        " 54 230407 279\n",
        "6:15"
       ]
      },
      {
       "output_type": "stream",
       "stream": "stdout",
       "text": [
        " 55 230164 243\n",
        "6:10"
       ]
      },
      {
       "output_type": "stream",
       "stream": "stdout",
       "text": [
        " 56 229921 243\n",
        "8:00"
       ]
      },
      {
       "output_type": "stream",
       "stream": "stdout",
       "text": [
        " 57 229678 243\n",
        "8:05"
       ]
      },
      {
       "output_type": "stream",
       "stream": "stdout",
       "text": [
        " 58 229435 243\n",
        "7.40"
       ]
      },
      {
       "output_type": "stream",
       "stream": "stdout",
       "text": [
        " 59 229156 279\n",
        "7.45"
       ]
      },
      {
       "output_type": "stream",
       "stream": "stdout",
       "text": [
        " 60 228877 279\n",
        "5.10"
       ]
      },
      {
       "output_type": "stream",
       "stream": "stdout",
       "text": [
        " 61 228598 279\n",
        "2.45"
       ]
      },
      {
       "output_type": "stream",
       "stream": "stdout",
       "text": [
        " 62 228249 349\n",
        "9.30"
       ]
      },
      {
       "output_type": "stream",
       "stream": "stdout",
       "text": [
        " 63 227970 279\n",
        "9.35"
       ]
      },
      {
       "output_type": "stream",
       "stream": "stdout",
       "text": [
        " 64 227691 279\n",
        "6:05"
       ]
      },
      {
       "output_type": "stream",
       "stream": "stdout",
       "text": [
        " 65 227448 243\n",
        "6:00"
       ]
      },
      {
       "output_type": "stream",
       "stream": "stdout",
       "text": [
        " 66 227205 243\n",
        "ooit"
       ]
      },
      {
       "output_type": "stream",
       "stream": "stdout",
       "text": [
        " 67 227205 0\n",
        "soms"
       ]
      },
      {
       "output_type": "stream",
       "stream": "stdout",
       "text": [
        " 68 227205 0\n",
        "7.50"
       ]
      },
      {
       "output_type": "stream",
       "stream": "stdout",
       "text": [
        " 69 226926 279\n",
        "2'15"
       ]
      },
      {
       "output_type": "stream",
       "stream": "stdout",
       "text": [
        " 70 226622 304\n",
        "4:10"
       ]
      },
      {
       "output_type": "stream",
       "stream": "stdout",
       "text": [
        " 71 226379 243\n",
        "poos"
       ]
      },
      {
       "output_type": "stream",
       "stream": "stdout",
       "text": [
        " 72 226366 13\n",
        "7'40"
       ]
      },
      {
       "output_type": "stream",
       "stream": "stdout",
       "text": [
        " 73 226123 243\n",
        "9.05"
       ]
      },
      {
       "output_type": "stream",
       "stream": "stdout",
       "text": [
        " 74 225844 279\n",
        "9.00"
       ]
      },
      {
       "output_type": "stream",
       "stream": "stdout",
       "text": [
        " 75 225565 279\n",
        "3'00"
       ]
      },
      {
       "output_type": "stream",
       "stream": "stdout",
       "text": [
        " 76 225261 304\n",
        "6:30"
       ]
      },
      {
       "output_type": "stream",
       "stream": "stdout",
       "text": [
        " 77 225018 243\n",
        "6:35"
       ]
      },
      {
       "output_type": "stream",
       "stream": "stdout",
       "text": [
        " 78 224775 243\n",
        "5:40"
       ]
      },
      {
       "output_type": "stream",
       "stream": "stdout",
       "text": [
        " 79 224532 243\n",
        "5:45"
       ]
      },
      {
       "output_type": "stream",
       "stream": "stdout",
       "text": [
        " 80 224289 243\n",
        "7:10"
       ]
      },
      {
       "output_type": "stream",
       "stream": "stdout",
       "text": [
        " 81 224046 243\n",
        "7:15"
       ]
      },
      {
       "output_type": "stream",
       "stream": "stdout",
       "text": [
        " 82 223803 243\n",
        "1:45"
       ]
      },
      {
       "output_type": "stream",
       "stream": "stdout",
       "text": [
        " 83 223499 304\n",
        "1:40"
       ]
      },
      {
       "output_type": "stream",
       "stream": "stdout",
       "text": [
        " 84 223195 304\n",
        "2:10"
       ]
      },
      {
       "output_type": "stream",
       "stream": "stdout",
       "text": [
        " 85 222891 304\n",
        "2:15"
       ]
      },
      {
       "output_type": "stream",
       "stream": "stdout",
       "text": [
        " 86 222587 304\n",
        "4'45"
       ]
      },
      {
       "output_type": "stream",
       "stream": "stdout",
       "text": [
        " 87 222344 243\n",
        "4'25"
       ]
      },
      {
       "output_type": "stream",
       "stream": "stdout",
       "text": [
        " 88 222101 243\n",
        "4:50"
       ]
      },
      {
       "output_type": "stream",
       "stream": "stdout",
       "text": [
        " 89 221858 243\n",
        "9.10"
       ]
      },
      {
       "output_type": "stream",
       "stream": "stdout",
       "text": [
        " 90 221579 279\n",
        "9.15"
       ]
      },
      {
       "output_type": "stream",
       "stream": "stdout",
       "text": [
        " 91 221300 279\n",
        "vaak"
       ]
      },
      {
       "output_type": "stream",
       "stream": "stdout",
       "text": [
        " 92 221300 0\n",
        "6:20"
       ]
      },
      {
       "output_type": "stream",
       "stream": "stdout",
       "text": [
        " 93 221057 243\n",
        "5:50"
       ]
      },
      {
       "output_type": "stream",
       "stream": "stdout",
       "text": [
        " 94 220814 243\n",
        "8.00"
       ]
      },
      {
       "output_type": "stream",
       "stream": "stdout",
       "text": [
        " 95 220535 279\n",
        "7:25"
       ]
      },
      {
       "output_type": "stream",
       "stream": "stdout",
       "text": [
        " 96 220292 243\n",
        "7:20"
       ]
      },
      {
       "output_type": "stream",
       "stream": "stdout",
       "text": [
        " 97 220049 243\n",
        "1:55"
       ]
      },
      {
       "output_type": "stream",
       "stream": "stdout",
       "text": [
        " 98 219745 304\n",
        "2:00"
       ]
      },
      {
       "output_type": "stream",
       "stream": "stdout",
       "text": [
        " 99 219441 304\n",
        "2:05"
       ]
      },
      {
       "output_type": "stream",
       "stream": "stdout",
       "text": [
        " 100 219137 304\n",
        "5.20"
       ]
      },
      {
       "output_type": "stream",
       "stream": "stdout",
       "text": [
        " 101 218858 279\n",
        "6:55"
       ]
      },
      {
       "output_type": "stream",
       "stream": "stdout",
       "text": [
        " 102 218615 243\n",
        "4:40"
       ]
      },
      {
       "output_type": "stream",
       "stream": "stdout",
       "text": [
        " 103 218372 243\n",
        "4:45"
       ]
      },
      {
       "output_type": "stream",
       "stream": "stdout",
       "text": [
        " 104 218129 243\n",
        "4.50"
       ]
      },
      {
       "output_type": "stream",
       "stream": "stdout",
       "text": [
        " 105 217850 279\n",
        "4.55"
       ]
      },
      {
       "output_type": "stream",
       "stream": "stdout",
       "text": [
        " 106 217571 279\n",
        "5:20"
       ]
      },
      {
       "output_type": "stream",
       "stream": "stdout",
       "text": [
        " 107 217328 243\n",
        "5:25"
       ]
      },
      {
       "output_type": "stream",
       "stream": "stdout",
       "text": [
        " 108 217085 243\n",
        "2.10"
       ]
      },
      {
       "output_type": "stream",
       "stream": "stdout",
       "text": [
        " 109 216736 349\n",
        "8:10"
       ]
      },
      {
       "output_type": "stream",
       "stream": "stdout",
       "text": [
        " 110 216493 243\n",
        "7:30"
       ]
      },
      {
       "output_type": "stream",
       "stream": "stdout",
       "text": [
        " 111 216250 243\n",
        "7:35"
       ]
      },
      {
       "output_type": "stream",
       "stream": "stdout",
       "text": [
        " 112 216007 243\n",
        "4:55"
       ]
      },
      {
       "output_type": "stream",
       "stream": "stdout",
       "text": [
        " 113 215764 243\n",
        "2:35"
       ]
      },
      {
       "output_type": "stream",
       "stream": "stdout",
       "text": [
        " 114 215460 304\n",
        "2:30"
       ]
      },
      {
       "output_type": "stream",
       "stream": "stdout",
       "text": [
        " 115 215156 304\n",
        "9:25"
       ]
      },
      {
       "output_type": "stream",
       "stream": "stdout",
       "text": [
        " 116 214913 243\n",
        "9:20"
       ]
      },
      {
       "output_type": "stream",
       "stream": "stdout",
       "text": [
        " 117 214670 243\n",
        "6:40"
       ]
      },
      {
       "output_type": "stream",
       "stream": "stdout",
       "text": [
        " 118 214427 243\n",
        "6:45"
       ]
      },
      {
       "output_type": "stream",
       "stream": "stdout",
       "text": [
        " 119 214184 243\n",
        "4.45"
       ]
      },
      {
       "output_type": "stream",
       "stream": "stdout",
       "text": [
        " 120 213905 279\n",
        "5:30"
       ]
      },
      {
       "output_type": "stream",
       "stream": "stdout",
       "text": [
        " 121 213662 243\n",
        "5:35"
       ]
      },
      {
       "output_type": "stream",
       "stream": "stdout",
       "text": [
        " 122 213419 243\n",
        "2:20"
       ]
      },
      {
       "output_type": "stream",
       "stream": "stdout",
       "text": [
        " 123 213115 304\n",
        "2:25"
       ]
      },
      {
       "output_type": "stream",
       "stream": "stdout",
       "text": [
        " 124 212811 304\n",
        "9:35"
       ]
      },
      {
       "output_type": "stream",
       "stream": "stdout",
       "text": [
        " 125 212568 243\n",
        "9:30"
       ]
      },
      {
       "output_type": "stream",
       "stream": "stdout",
       "text": [
        " 126 212325 243\n",
        "uren"
       ]
      },
      {
       "output_type": "stream",
       "stream": "stdout",
       "text": [
        " 127 208841 3484\n",
        "1'15"
       ]
      },
      {
       "output_type": "stream",
       "stream": "stdout",
       "text": [
        " 128 208537 304\n",
        "1'10"
       ]
      },
      {
       "output_type": "stream",
       "stream": "stdout",
       "text": [
        " 129 208233 304\n",
        "4.30"
       ]
      },
      {
       "output_type": "stream",
       "stream": "stdout",
       "text": [
        " 130 207954 279\n",
        "4.35"
       ]
      },
      {
       "output_type": "stream",
       "stream": "stdout",
       "text": [
        " 131 207675 279\n",
        "5:55"
       ]
      },
      {
       "output_type": "stream",
       "stream": "stdout",
       "text": [
        " 132 207432 243\n",
        "5:00"
       ]
      },
      {
       "output_type": "stream",
       "stream": "stdout",
       "text": [
        " 133 207189 243\n",
        "eeuw"
       ]
      },
      {
       "output_type": "stream",
       "stream": "stdout",
       "text": [
        " 134 206141 1048\n",
        "2.30"
       ]
      },
      {
       "output_type": "stream",
       "stream": "stdout",
       "text": [
        " 135 205792 349\n",
        "2.35"
       ]
      },
      {
       "output_type": "stream",
       "stream": "stdout",
       "text": [
        " 136 205443 349\n",
        "5'50"
       ]
      },
      {
       "output_type": "stream",
       "stream": "stdout",
       "text": [
        " 137 205200 243\n",
        "6.55"
       ]
      },
      {
       "output_type": "stream",
       "stream": "stdout",
       "text": [
        " 138 204921 279\n",
        "6.50"
       ]
      },
      {
       "output_type": "stream",
       "stream": "stdout",
       "text": [
        " 139 204642 279\n",
        "9:00"
       ]
      },
      {
       "output_type": "stream",
       "stream": "stdout",
       "text": [
        " 140 204399 243\n",
        "9:05"
       ]
      },
      {
       "output_type": "stream",
       "stream": "stdout",
       "text": [
        " 141 204156 243\n",
        "3.25"
       ]
      },
      {
       "output_type": "stream",
       "stream": "stdout",
       "text": [
        " 142 203807 349\n",
        "3:00"
       ]
      },
      {
       "output_type": "stream",
       "stream": "stdout",
       "text": [
        " 143 203503 304\n",
        "4.20"
       ]
      },
      {
       "output_type": "stream",
       "stream": "stdout",
       "text": [
        " 144 203224 279\n",
        "4.25"
       ]
      },
      {
       "output_type": "stream",
       "stream": "stdout",
       "text": [
        " 145 202945 279\n",
        "1'05"
       ]
      },
      {
       "output_type": "stream",
       "stream": "stdout",
       "text": [
        " 146 202641 304\n",
        "1'00"
       ]
      },
      {
       "output_type": "stream",
       "stream": "stdout",
       "text": [
        " 147 202337 304\n",
        "5:10"
       ]
      },
      {
       "output_type": "stream",
       "stream": "stdout",
       "text": [
        " 148 202094 243\n",
        "5:15"
       ]
      },
      {
       "output_type": "stream",
       "stream": "stdout",
       "text": [
        " 149 201851 243\n",
        "2.25"
       ]
      },
      {
       "output_type": "stream",
       "stream": "stdout",
       "text": [
        " 150 201502 349\n",
        "2.20"
       ]
      },
      {
       "output_type": "stream",
       "stream": "stdout",
       "text": [
        " 151 201153 349\n",
        "3:05"
       ]
      },
      {
       "output_type": "stream",
       "stream": "stdout",
       "text": [
        " 152 200849 304\n",
        "toen"
       ]
      },
      {
       "output_type": "stream",
       "stream": "stdout",
       "text": [
        " 153 200849 0\n",
        "weer"
       ]
      },
      {
       "output_type": "stream",
       "stream": "stdout",
       "text": [
        " 154 200848 1\n",
        "5'45"
       ]
      },
      {
       "output_type": "stream",
       "stream": "stdout",
       "text": [
        " 155 200605 243\n",
        "5'40"
       ]
      },
      {
       "output_type": "stream",
       "stream": "stdout",
       "text": [
        " 156 200362 243\n",
        "6:25"
       ]
      },
      {
       "output_type": "stream",
       "stream": "stdout",
       "text": [
        " 157 200119 243\n",
        "6.45"
       ]
      },
      {
       "output_type": "stream",
       "stream": "stdout",
       "text": [
        " 158 199840 279\n",
        "6.40"
       ]
      },
      {
       "output_type": "stream",
       "stream": "stdout",
       "text": [
        " 159 199561 279\n",
        "9:15"
       ]
      },
      {
       "output_type": "stream",
       "stream": "stdout",
       "text": [
        " 160 199318 243\n",
        "9:10"
       ]
      },
      {
       "output_type": "stream",
       "stream": "stdout",
       "text": [
        " 161 199075 243\n",
        "juli"
       ]
      },
      {
       "output_type": "stream",
       "stream": "stdout",
       "text": [
        " 162 199046 29\n",
        "1'30"
       ]
      },
      {
       "output_type": "stream",
       "stream": "stdout",
       "text": [
        " 163 198742 304\n",
        "1'35"
       ]
      },
      {
       "output_type": "stream",
       "stream": "stdout",
       "text": [
        " 164 198438 304\n",
        "3:15"
       ]
      },
      {
       "output_type": "stream",
       "stream": "stdout",
       "text": [
        " 165 198134 304\n",
        "3:10"
       ]
      },
      {
       "output_type": "stream",
       "stream": "stdout",
       "text": [
        " 166 197830 304\n",
        "2'40"
       ]
      },
      {
       "output_type": "stream",
       "stream": "stdout",
       "text": [
        " 167 197526 304\n",
        "2'45"
       ]
      },
      {
       "output_type": "stream",
       "stream": "stdout",
       "text": [
        " 168 197222 304\n",
        "4.15"
       ]
      },
      {
       "output_type": "stream",
       "stream": "stdout",
       "text": [
        " 169 196943 279\n",
        "4.10"
       ]
      },
      {
       "output_type": "stream",
       "stream": "stdout",
       "text": [
        " 170 196664 279\n",
        "2.50"
       ]
      },
      {
       "output_type": "stream",
       "stream": "stdout",
       "text": [
        " 171 196315 349\n",
        "2.55"
       ]
      },
      {
       "output_type": "stream",
       "stream": "stdout",
       "text": [
        " 172 195966 349\n",
        "1:50"
       ]
      },
      {
       "output_type": "stream",
       "stream": "stdout",
       "text": [
        " 173 195662 304\n",
        "duel"
       ]
      },
      {
       "output_type": "stream",
       "stream": "stdout",
       "text": [
        " 174 195029 633\n",
        "1'25"
       ]
      },
      {
       "output_type": "stream",
       "stream": "stdout",
       "text": [
        " 175 194725 304\n",
        "1'20"
       ]
      },
      {
       "output_type": "stream",
       "stream": "stdout",
       "text": [
        " 176 194421 304\n",
        "3:20"
       ]
      },
      {
       "output_type": "stream",
       "stream": "stdout",
       "text": [
        " 177 194117 304\n",
        "3:25"
       ]
      },
      {
       "output_type": "stream",
       "stream": "stdout",
       "text": [
        " 178 193813 304\n",
        "3.55"
       ]
      },
      {
       "output_type": "stream",
       "stream": "stdout",
       "text": [
        " 179 193464 349\n",
        "3.50"
       ]
      },
      {
       "output_type": "stream",
       "stream": "stdout",
       "text": [
        " 180 193115 349\n",
        "6:50"
       ]
      },
      {
       "output_type": "stream",
       "stream": "stdout",
       "text": [
        " 181 192872 243\n",
        "2'55"
       ]
      },
      {
       "output_type": "stream",
       "stream": "stdout",
       "text": [
        " 182 192568 304\n",
        "2'50"
       ]
      },
      {
       "output_type": "stream",
       "stream": "stdout",
       "text": [
        " 183 192264 304\n",
        "4.00"
       ]
      },
      {
       "output_type": "stream",
       "stream": "stdout",
       "text": [
        " 184 191985 279\n",
        "4.05"
       ]
      },
      {
       "output_type": "stream",
       "stream": "stdout",
       "text": [
        " 185 191706 279\n",
        "9'00"
       ]
      },
      {
       "output_type": "stream",
       "stream": "stdout",
       "text": [
        " 186 191463 243\n",
        "2.40"
       ]
      },
      {
       "output_type": "stream",
       "stream": "stdout",
       "text": [
        " 187 191114 349\n",
        "juni"
       ]
      },
      {
       "output_type": "stream",
       "stream": "stdout",
       "text": [
        " 188 191085 29\n",
        "7'35"
       ]
      },
      {
       "output_type": "stream",
       "stream": "stdout",
       "text": [
        " 189 190842 243\n",
        "7'30"
       ]
      },
      {
       "output_type": "stream",
       "stream": "stdout",
       "text": [
        " 190 190599 243\n",
        "4'15"
       ]
      },
      {
       "output_type": "stream",
       "stream": "stdout",
       "text": [
        " 191 190356 243\n",
        "1'50"
       ]
      },
      {
       "output_type": "stream",
       "stream": "stdout",
       "text": [
        " 192 190052 304\n",
        "1'55"
       ]
      },
      {
       "output_type": "stream",
       "stream": "stdout",
       "text": [
        " 193 189748 304\n",
        "3:35"
       ]
      },
      {
       "output_type": "stream",
       "stream": "stdout",
       "text": [
        " 194 189444 304\n",
        "3:30"
       ]
      },
      {
       "output_type": "stream",
       "stream": "stdout",
       "text": [
        " 195 189140 304\n",
        "2'20"
       ]
      },
      {
       "output_type": "stream",
       "stream": "stdout",
       "text": [
        " 196 188836 304\n",
        "2'25"
       ]
      },
      {
       "output_type": "stream",
       "stream": "stdout",
       "text": [
        " 197 188532 304\n",
        "6.10"
       ]
      },
      {
       "output_type": "stream",
       "stream": "stdout",
       "text": [
        " 198 188253 279\n",
        "6.15"
       ]
      },
      {
       "output_type": "stream",
       "stream": "stdout",
       "text": [
        " 199 187974 279\n",
        "week"
       ]
      },
      {
       "output_type": "stream",
       "stream": "stdout",
       "text": [
        " 200 185805 2169\n",
        "5'10"
       ]
      },
      {
       "output_type": "stream",
       "stream": "stdout",
       "text": [
        " 201 185562 243\n",
        "5'15"
       ]
      },
      {
       "output_type": "stream",
       "stream": "stdout",
       "text": [
        " 202 185319 243\n",
        "1.45"
       ]
      },
      {
       "output_type": "stream",
       "stream": "stdout",
       "text": [
        " 203 184970 349\n",
        "7'25"
       ]
      },
      {
       "output_type": "stream",
       "stream": "stdout",
       "text": [
        " 204 184727 243\n",
        "7'20"
       ]
      },
      {
       "output_type": "stream",
       "stream": "stdout",
       "text": [
        " 205 184484 243\n",
        "3:40"
       ]
      },
      {
       "output_type": "stream",
       "stream": "stdout",
       "text": [
        " 206 184180 304\n",
        "3:45"
       ]
      },
      {
       "output_type": "stream",
       "stream": "stdout",
       "text": [
        " 207 183876 304\n",
        "9:45"
       ]
      },
      {
       "output_type": "stream",
       "stream": "stdout",
       "text": [
        " 208 183633 243\n",
        "9:40"
       ]
      },
      {
       "output_type": "stream",
       "stream": "stdout",
       "text": [
        " 209 183390 243\n",
        "1'40"
       ]
      },
      {
       "output_type": "stream",
       "stream": "stdout",
       "text": [
        " 210 183086 304\n",
        "1'45"
       ]
      },
      {
       "output_type": "stream",
       "stream": "stdout",
       "text": [
        " 211 182782 304\n",
        "2'30"
       ]
      },
      {
       "output_type": "stream",
       "stream": "stdout",
       "text": [
        " 212 182478 304\n",
        "2'35"
       ]
      },
      {
       "output_type": "stream",
       "stream": "stdout",
       "text": [
        " 213 182174 304\n",
        "1.40"
       ]
      },
      {
       "output_type": "stream",
       "stream": "stdout",
       "text": [
        " 214 181825 349\n",
        "3'25"
       ]
      },
      {
       "output_type": "stream",
       "stream": "stdout",
       "text": [
        " 215 181521 304\n",
        "7.00"
       ]
      },
      {
       "output_type": "stream",
       "stream": "stdout",
       "text": [
        " 216 181242 279\n",
        "6.00"
       ]
      },
      {
       "output_type": "stream",
       "stream": "stdout",
       "text": [
        " 217 180963 279\n",
        "6.05"
       ]
      },
      {
       "output_type": "stream",
       "stream": "stdout",
       "text": [
        " 218 180684 279\n",
        "3.30"
       ]
      },
      {
       "output_type": "stream",
       "stream": "stdout",
       "text": [
        " 219 180335 349\n",
        "5'00"
       ]
      },
      {
       "output_type": "stream",
       "stream": "stdout",
       "text": [
        " 220 180092 243\n",
        "7'10"
       ]
      },
      {
       "output_type": "stream",
       "stream": "stdout",
       "text": [
        " 221 179849 243\n",
        "7'15"
       ]
      },
      {
       "output_type": "stream",
       "stream": "stdout",
       "text": [
        " 222 179606 243\n",
        "3:50"
       ]
      },
      {
       "output_type": "stream",
       "stream": "stdout",
       "text": [
        " 223 179302 304\n",
        "3:55"
       ]
      },
      {
       "output_type": "stream",
       "stream": "stdout",
       "text": [
        " 224 178998 304\n",
        "3.00"
       ]
      },
      {
       "output_type": "stream",
       "stream": "stdout",
       "text": [
        " 225 178649 349\n",
        "3.05"
       ]
      },
      {
       "output_type": "stream",
       "stream": "stdout",
       "text": [
        " 226 178300 349\n",
        "9:50"
       ]
      },
      {
       "output_type": "stream",
       "stream": "stdout",
       "text": [
        " 227 178057 243\n",
        "9:55"
       ]
      },
      {
       "output_type": "stream",
       "stream": "stdout",
       "text": [
        " 228 177814 243\n",
        "3'50"
       ]
      },
      {
       "output_type": "stream",
       "stream": "stdout",
       "text": [
        " 229 177510 304\n",
        "3'55"
       ]
      },
      {
       "output_type": "stream",
       "stream": "stdout",
       "text": [
        " 230 177206 304\n",
        "2'05"
       ]
      },
      {
       "output_type": "stream",
       "stream": "stdout",
       "text": [
        " 231 176902 304\n",
        "1.55"
       ]
      },
      {
       "output_type": "stream",
       "stream": "stdout",
       "text": [
        " 232 176553 349\n",
        "1.50"
       ]
      },
      {
       "output_type": "stream",
       "stream": "stdout",
       "text": [
        " 233 176204 349\n",
        "9'40"
       ]
      },
      {
       "output_type": "stream",
       "stream": "stdout",
       "text": [
        " 234 175961 243\n",
        "9'45"
       ]
      },
      {
       "output_type": "stream",
       "stream": "stdout",
       "text": [
        " 235 175718 243\n",
        "7'05"
       ]
      },
      {
       "output_type": "stream",
       "stream": "stdout",
       "text": [
        " 236 175475 243\n",
        "7'00"
       ]
      },
      {
       "output_type": "stream",
       "stream": "stdout",
       "text": [
        " 237 175232 243\n",
        "rust"
       ]
      },
      {
       "output_type": "stream",
       "stream": "stdout",
       "text": [
        " 238 173038 2194\n",
        "6.35"
       ]
      },
      {
       "output_type": "stream",
       "stream": "stdout",
       "text": [
        " 239 172759 279\n",
        "6.30"
       ]
      },
      {
       "output_type": "stream",
       "stream": "stdout",
       "text": [
        " 240 172480 279\n",
        "8.25"
       ]
      },
      {
       "output_type": "stream",
       "stream": "stdout",
       "text": [
        " 241 172201 279\n",
        "5'35"
       ]
      },
      {
       "output_type": "stream",
       "stream": "stdout",
       "text": [
        " 242 171958 243\n",
        "5'30"
       ]
      },
      {
       "output_type": "stream",
       "stream": "stdout",
       "text": [
        " 243 171715 243\n",
        "3.10"
       ]
      },
      {
       "output_type": "stream",
       "stream": "stdout",
       "text": [
        " 244 171366 349\n",
        "3.15"
       ]
      },
      {
       "output_type": "stream",
       "stream": "stdout",
       "text": [
        " 245 171017 349\n",
        "3'45"
       ]
      },
      {
       "output_type": "stream",
       "stream": "stdout",
       "text": [
        " 246 170713 304\n",
        "3'40"
       ]
      },
      {
       "output_type": "stream",
       "stream": "stdout",
       "text": [
        " 247 170409 304\n",
        "2'10"
       ]
      },
      {
       "output_type": "stream",
       "stream": "stdout",
       "text": [
        " 248 170105 304\n",
        "2.15"
       ]
      },
      {
       "output_type": "stream",
       "stream": "stdout",
       "text": [
        " 249 169756 349\n",
        "1.20"
       ]
      },
      {
       "output_type": "stream",
       "stream": "stdout",
       "text": [
        " 250 169407 349\n",
        "1.25"
       ]
      },
      {
       "output_type": "stream",
       "stream": "stdout",
       "text": [
        " 251 169058 349\n",
        "6'25"
       ]
      },
      {
       "output_type": "stream",
       "stream": "stdout",
       "text": [
        " 252 168815 243\n",
        "6'20"
       ]
      },
      {
       "output_type": "stream",
       "stream": "stdout",
       "text": [
        " 253 168572 243\n",
        "4'40"
       ]
      },
      {
       "output_type": "stream",
       "stream": "stdout",
       "text": [
        " 254 168329 243\n",
        "8'05"
       ]
      },
      {
       "output_type": "stream",
       "stream": "stdout",
       "text": [
        " 255 168086 243\n",
        "8'00"
       ]
      },
      {
       "output_type": "stream",
       "stream": "stdout",
       "text": [
        " 256 167843 243\n",
        "6.20"
       ]
      },
      {
       "output_type": "stream",
       "stream": "stdout",
       "text": [
        " 257 167564 279\n",
        "6.25"
       ]
      },
      {
       "output_type": "stream",
       "stream": "stdout",
       "text": [
        " 258 167285 279\n",
        "5.25"
       ]
      },
      {
       "output_type": "stream",
       "stream": "stdout",
       "text": [
        " 259 167006 279\n",
        "3.40"
       ]
      },
      {
       "output_type": "stream",
       "stream": "stdout",
       "text": [
        " 260 166657 349\n",
        "5'20"
       ]
      },
      {
       "output_type": "stream",
       "stream": "stdout",
       "text": [
        " 261 166414 243\n",
        "5'25"
       ]
      },
      {
       "output_type": "stream",
       "stream": "stdout",
       "text": [
        " 262 166171 243\n",
        "3'30"
       ]
      },
      {
       "output_type": "stream",
       "stream": "stdout",
       "text": [
        " 263 165867 304\n",
        "3'35"
       ]
      },
      {
       "output_type": "stream",
       "stream": "stdout",
       "text": [
        " 264 165563 304\n",
        "3.20"
       ]
      },
      {
       "output_type": "stream",
       "stream": "stdout",
       "text": [
        " 265 165214 349\n",
        "5'05"
       ]
      },
      {
       "output_type": "stream",
       "stream": "stdout",
       "text": [
        " 266 164971 243\n",
        "8.35"
       ]
      },
      {
       "output_type": "stream",
       "stream": "stdout",
       "text": [
        " 267 164692 279\n",
        "8.30"
       ]
      },
      {
       "output_type": "stream",
       "stream": "stdout",
       "text": [
        " 268 164413 279\n",
        "2.05"
       ]
      },
      {
       "output_type": "stream",
       "stream": "stdout",
       "text": [
        " 269 164064 349\n",
        "1.30"
       ]
      },
      {
       "output_type": "stream",
       "stream": "stdout",
       "text": [
        " 270 163715 349\n",
        "1.35"
       ]
      },
      {
       "output_type": "stream",
       "stream": "stdout",
       "text": [
        " 271 163366 349\n",
        "5'55"
       ]
      },
      {
       "output_type": "stream",
       "stream": "stdout",
       "text": [
        " 272 163123 243\n",
        "tijd"
       ]
      },
      {
       "output_type": "stream",
       "stream": "stdout",
       "text": [
        " 273 163114 9\n",
        "6'35"
       ]
      },
      {
       "output_type": "stream",
       "stream": "stdout",
       "text": [
        " 274 162871 243\n",
        "6'30"
       ]
      },
      {
       "output_type": "stream",
       "stream": "stdout",
       "text": [
        " 275 162628 243\n",
        "4'55"
       ]
      },
      {
       "output_type": "stream",
       "stream": "stdout",
       "text": [
        " 276 162385 243\n",
        "4'50"
       ]
      },
      {
       "output_type": "stream",
       "stream": "stdout",
       "text": [
        " 277 162142 243\n",
        "8'15"
       ]
      },
      {
       "output_type": "stream",
       "stream": "stdout",
       "text": [
        " 278 161899 243\n",
        "8'10"
       ]
      },
      {
       "output_type": "stream",
       "stream": "stdout",
       "text": [
        " 279 161656 243\n",
        "5.35"
       ]
      },
      {
       "output_type": "stream",
       "stream": "stdout",
       "text": [
        " 280 161377 279\n",
        "5.30"
       ]
      },
      {
       "output_type": "stream",
       "stream": "stdout",
       "text": [
        " 281 161098 279\n",
        "3'20"
       ]
      },
      {
       "output_type": "stream",
       "stream": "stdout",
       "text": [
        " 282 160794 304\n",
        "3.35"
       ]
      },
      {
       "output_type": "stream",
       "stream": "stdout",
       "text": [
        " 283 160445 349\n",
        "8'20"
       ]
      },
      {
       "output_type": "stream",
       "stream": "stdout",
       "text": [
        " 284 160202 243\n",
        "8.20"
       ]
      },
      {
       "output_type": "stream",
       "stream": "stdout",
       "text": [
        " 285 159923 279\n",
        "1.05"
       ]
      },
      {
       "output_type": "stream",
       "stream": "stdout",
       "text": [
        " 286 159574 349\n",
        "1.00"
       ]
      },
      {
       "output_type": "stream",
       "stream": "stdout",
       "text": [
        " 287 159225 349\n",
        "6'00"
       ]
      },
      {
       "output_type": "stream",
       "stream": "stdout",
       "text": [
        " 288 158982 243\n",
        "6'05"
       ]
      },
      {
       "output_type": "stream",
       "stream": "stdout",
       "text": [
        " 289 158739 243\n",
        "7.55"
       ]
      },
      {
       "output_type": "stream",
       "stream": "stdout",
       "text": [
        " 290 158460 279\n",
        "7'50"
       ]
      },
      {
       "output_type": "stream",
       "stream": "stdout",
       "text": [
        " 291 158217 243\n",
        "8'25"
       ]
      },
      {
       "output_type": "stream",
       "stream": "stdout",
       "text": [
        " 292 157974 243\n",
        "5.00"
       ]
      },
      {
       "output_type": "stream",
       "stream": "stdout",
       "text": [
        " 293 157695 279\n",
        "5.05"
       ]
      },
      {
       "output_type": "stream",
       "stream": "stdout",
       "text": [
        " 294 157416 279\n",
        "3'15"
       ]
      },
      {
       "output_type": "stream",
       "stream": "stdout",
       "text": [
        " 295 157112 304\n",
        "3'10"
       ]
      },
      {
       "output_type": "stream",
       "stream": "stdout",
       "text": [
        " 296 156808 304\n",
        "8.10"
       ]
      },
      {
       "output_type": "stream",
       "stream": "stdout",
       "text": [
        " 297 156529 279\n",
        "8.15"
       ]
      },
      {
       "output_type": "stream",
       "stream": "stdout",
       "text": [
        " 298 156250 279\n",
        "1.15"
       ]
      },
      {
       "output_type": "stream",
       "stream": "stdout",
       "text": [
        " 299 155901 349\n",
        "jaar"
       ]
      },
      {
       "output_type": "stream",
       "stream": "stdout",
       "text": [
        " 300 154442 1459\n",
        "6'10"
       ]
      },
      {
       "output_type": "stream",
       "stream": "stdout",
       "text": [
        " 301 154199 243\n",
        "7'55"
       ]
      },
      {
       "output_type": "stream",
       "stream": "stdout",
       "text": [
        " 302 153956 243\n",
        "8'35"
       ]
      },
      {
       "output_type": "stream",
       "stream": "stdout",
       "text": [
        " 303 153713 243\n",
        "8'30"
       ]
      },
      {
       "output_type": "stream",
       "stream": "stdout",
       "text": [
        " 304 153470 243\n",
        "7'45"
       ]
      },
      {
       "output_type": "stream",
       "stream": "stdout",
       "text": [
        " 305 153227 243\n",
        "5.15"
       ]
      },
      {
       "output_type": "stream",
       "stream": "stdout",
       "text": [
        " 306 152948 279\n",
        "3'05"
       ]
      },
      {
       "output_type": "stream",
       "stream": "stdout",
       "text": [
        " 307 152644 304\n",
        "9'15"
       ]
      },
      {
       "output_type": "stream",
       "stream": "stdout",
       "text": [
        " 308 152401 243\n",
        "9'10"
       ]
      },
      {
       "output_type": "stream",
       "stream": "stdout",
       "text": [
        " 309 152158 243\n",
        "8.05"
       ]
      },
      {
       "output_type": "stream",
       "stream": "stdout",
       "text": [
        " 310 151879 279\n",
        "8:50"
       ]
      },
      {
       "output_type": "stream",
       "stream": "stdout",
       "text": [
        " 311 151636 243\n",
        "8:55"
       ]
      },
      {
       "output_type": "stream",
       "stream": "stdout",
       "text": [
        " 312 151393 243\n",
        "7:00"
       ]
      },
      {
       "output_type": "stream",
       "stream": "stdout",
       "text": [
        " 313 151150 243\n",
        "7:05"
       ]
      },
      {
       "output_type": "stream",
       "stream": "stdout",
       "text": [
        " 314 150907 243\n",
        "9.40"
       ]
      },
      {
       "output_type": "stream",
       "stream": "stdout",
       "text": [
        " 315 150628 279\n",
        "9.45"
       ]
      },
      {
       "output_type": "stream",
       "stream": "stdout",
       "text": [
        " 316 150349 279\n",
        "4'00"
       ]
      },
      {
       "output_type": "stream",
       "stream": "stdout",
       "text": [
        " 317 150106 243\n",
        "4'05"
       ]
      },
      {
       "output_type": "stream",
       "stream": "stdout",
       "text": [
        " 318 149863 243\n",
        "8'40"
       ]
      },
      {
       "output_type": "stream",
       "stream": "stdout",
       "text": [
        " 319 149620 243\n",
        "8'45"
       ]
      },
      {
       "output_type": "stream",
       "stream": "stdout",
       "text": [
        " 320 149377 243\n",
        "4.40"
       ]
      },
      {
       "output_type": "stream",
       "stream": "stdout",
       "text": [
        " 321 149098 279\n",
        "7.05"
       ]
      },
      {
       "output_type": "stream",
       "stream": "stdout",
       "text": [
        " 322 148819 279\n",
        "9'05"
       ]
      },
      {
       "output_type": "stream",
       "stream": "stdout",
       "text": [
        " 323 148576 243\n",
        "8:45"
       ]
      },
      {
       "output_type": "stream",
       "stream": "stdout",
       "text": [
        " 324 148333 243\n",
        "8:40"
       ]
      },
      {
       "output_type": "stream",
       "stream": "stdout",
       "text": [
        " 325 148090 243\n",
        "5:05"
       ]
      },
      {
       "output_type": "stream",
       "stream": "stdout",
       "text": [
        " 326 147847 243\n",
        "4'10"
       ]
      },
      {
       "output_type": "stream",
       "stream": "stdout",
       "text": [
        " 327 147604 243\n",
        "1:25"
       ]
      },
      {
       "output_type": "stream",
       "stream": "stdout",
       "text": [
        " 328 147300 304\n",
        "1:20"
       ]
      },
      {
       "output_type": "stream",
       "stream": "stdout",
       "text": [
        " 329 146996 304\n",
        "4:35"
       ]
      },
      {
       "output_type": "stream",
       "stream": "stdout",
       "text": [
        " 330 146753 243\n",
        "4:30"
       ]
      },
      {
       "output_type": "stream",
       "stream": "stdout",
       "text": [
        " 331 146510 243\n",
        "8'50"
       ]
      },
      {
       "output_type": "stream",
       "stream": "stdout",
       "text": [
        " 332 146267 243\n",
        "7.15"
       ]
      },
      {
       "output_type": "stream",
       "stream": "stdout",
       "text": [
        " 333 145988 279\n",
        "7.10"
       ]
      },
      {
       "output_type": "stream",
       "stream": "stdout",
       "text": [
        " 334 145709 279\n",
        "7:40"
       ]
      },
      {
       "output_type": "stream",
       "stream": "stdout",
       "text": [
        " 335 145466 243\n",
        "7:45"
       ]
      },
      {
       "output_type": "stream",
       "stream": "stdout",
       "text": [
        " 336 145223 243\n",
        "1:35"
       ]
      },
      {
       "output_type": "stream",
       "stream": "stdout",
       "text": [
        " 337 144919 304\n",
        "1:30"
       ]
      },
      {
       "output_type": "stream",
       "stream": "stdout",
       "text": [
        " 338 144615 304\n",
        "9'30"
       ]
      },
      {
       "output_type": "stream",
       "stream": "stdout",
       "text": [
        " 339 144372 243\n",
        "9'35"
       ]
      },
      {
       "output_type": "stream",
       "stream": "stdout",
       "text": [
        " 340 144129 243\n",
        "8:30"
       ]
      },
      {
       "output_type": "stream",
       "stream": "stdout",
       "text": [
        " 341 143886 243\n",
        "8:35"
       ]
      },
      {
       "output_type": "stream",
       "stream": "stdout",
       "text": [
        " 342 143643 243\n",
        "4'20"
       ]
      },
      {
       "output_type": "stream",
       "stream": "stdout",
       "text": [
        " 343 143400 243\n",
        "2.00"
       ]
      },
      {
       "output_type": "stream",
       "stream": "stdout",
       "text": [
        " 344 143051 349\n",
        "5.45"
       ]
      },
      {
       "output_type": "stream",
       "stream": "stdout",
       "text": [
        " 345 142772 279\n",
        "5.40"
       ]
      },
      {
       "output_type": "stream",
       "stream": "stdout",
       "text": [
        " 346 142493 279\n",
        "4:25"
       ]
      },
      {
       "output_type": "stream",
       "stream": "stdout",
       "text": [
        " 347 142250 243\n",
        "4:20"
       ]
      },
      {
       "output_type": "stream",
       "stream": "stdout",
       "text": [
        " 348 142007 243\n",
        "6'45"
       ]
      },
      {
       "output_type": "stream",
       "stream": "stdout",
       "text": [
        " 349 141764 243\n",
        "6'40"
       ]
      },
      {
       "output_type": "stream",
       "stream": "stdout",
       "text": [
        " 350 141521 243\n",
        "8'55"
       ]
      },
      {
       "output_type": "stream",
       "stream": "stdout",
       "text": [
        " 351 141278 243\n",
        "7.30"
       ]
      },
      {
       "output_type": "stream",
       "stream": "stdout",
       "text": [
        " 352 140999 279\n",
        "22.25"
       ]
      },
      {
       "output_type": "stream",
       "stream": "stdout",
       "text": [
        " 353 140930 69\n",
        "04:50"
       ]
      },
      {
       "output_type": "stream",
       "stream": "stdout",
       "text": [
        " 354 140870 60\n",
        "04:55"
       ]
      },
      {
       "output_type": "stream",
       "stream": "stdout",
       "text": [
        " 355 140810 60\n",
        "04:10"
       ]
      },
      {
       "output_type": "stream",
       "stream": "stdout",
       "text": [
        " 356 140750 60\n",
        "14'35"
       ]
      },
      {
       "output_type": "stream",
       "stream": "stdout",
       "text": [
        " 357 140690 60\n",
        "14'30"
       ]
      },
      {
       "output_type": "stream",
       "stream": "stdout",
       "text": [
        " 358 140630 60\n",
        "07'20"
       ]
      },
      {
       "output_type": "stream",
       "stream": "stdout",
       "text": [
        " 359 140570 60\n",
        "07'25"
       ]
      },
      {
       "output_type": "stream",
       "stream": "stdout",
       "text": [
        " 360 140510 60\n",
        "05'05"
       ]
      },
      {
       "output_type": "stream",
       "stream": "stdout",
       "text": [
        " 361 140450 60\n",
        "08'20"
       ]
      },
      {
       "output_type": "stream",
       "stream": "stdout",
       "text": [
        " 362 140390 60\n",
        "08'25"
       ]
      },
      {
       "output_type": "stream",
       "stream": "stdout",
       "text": [
        " 363 140330 60\n",
        "21'15"
       ]
      },
      {
       "output_type": "stream",
       "stream": "stdout",
       "text": [
        " 364 140270 60\n",
        "21'10"
       ]
      },
      {
       "output_type": "stream",
       "stream": "stdout",
       "text": [
        " 365 140210 60\n",
        "11'50"
       ]
      },
      {
       "output_type": "stream",
       "stream": "stdout",
       "text": [
        " 366 140150 60\n",
        "11'55"
       ]
      },
      {
       "output_type": "stream",
       "stream": "stdout",
       "text": [
        " 367 140090 60\n",
        "17:25"
       ]
      },
      {
       "output_type": "stream",
       "stream": "stdout",
       "text": [
        " 368 140030 60\n",
        "17:20"
       ]
      },
      {
       "output_type": "stream",
       "stream": "stdout",
       "text": [
        " 369 139970 60\n",
        "10:35"
       ]
      },
      {
       "output_type": "stream",
       "stream": "stdout",
       "text": [
        " 370 139849 121\n",
        "10:30"
       ]
      },
      {
       "output_type": "stream",
       "stream": "stdout",
       "text": [
        " 371 139728 121\n",
        "03:00"
       ]
      },
      {
       "output_type": "stream",
       "stream": "stdout",
       "text": [
        " 372 139668 60\n",
        "03:05"
       ]
      },
      {
       "output_type": "stream",
       "stream": "stdout",
       "text": [
        " 373 139608 60\n",
        "maand"
       ]
      },
      {
       "output_type": "stream",
       "stream": "stdout",
       "text": [
        " 374 137381 2227\n",
        "10:40"
       ]
      },
      {
       "output_type": "stream",
       "stream": "stdout",
       "text": [
        " 375 137260 121\n",
        "05'35"
       ]
      },
      {
       "output_type": "stream",
       "stream": "stdout",
       "text": [
        " 376 137200 60\n",
        "05'30"
       ]
      },
      {
       "output_type": "stream",
       "stream": "stdout",
       "text": [
        " 377 137140 60\n",
        "18.05"
       ]
      },
      {
       "output_type": "stream",
       "stream": "stdout",
       "text": [
        " 378 137071 69\n",
        "18.00"
       ]
      },
      {
       "output_type": "stream",
       "stream": "stdout",
       "text": [
        " 379 137002 69\n",
        "11.55"
       ]
      },
      {
       "output_type": "stream",
       "stream": "stdout",
       "text": [
        " 380 136933 69\n",
        "11.50"
       ]
      },
      {
       "output_type": "stream",
       "stream": "stdout",
       "text": [
        " 381 136864 69\n",
        "22'25"
       ]
      },
      {
       "output_type": "stream",
       "stream": "stdout",
       "text": [
        " 382 136804 60\n",
        "14.50"
       ]
      },
      {
       "output_type": "stream",
       "stream": "stdout",
       "text": [
        " 383 136735 69\n",
        "14.55"
       ]
      },
      {
       "output_type": "stream",
       "stream": "stdout",
       "text": [
        " 384 136666 69\n",
        "02.40"
       ]
      },
      {
       "output_type": "stream",
       "stream": "stdout",
       "text": [
        " 385 136597 69\n",
        "02.45"
       ]
      },
      {
       "output_type": "stream",
       "stream": "stdout",
       "text": [
        " 386 136528 69\n",
        "20'20"
       ]
      },
      {
       "output_type": "stream",
       "stream": "stdout",
       "text": [
        " 387 136407 121\n",
        "20'25"
       ]
      },
      {
       "output_type": "stream",
       "stream": "stdout",
       "text": [
        " 388 136286 121\n",
        "13'30"
       ]
      },
      {
       "output_type": "stream",
       "stream": "stdout",
       "text": [
        " 389 136226 60\n",
        "14.15"
       ]
      },
      {
       "output_type": "stream",
       "stream": "stdout",
       "text": [
        " 390 136157 69\n",
        "09:10"
       ]
      },
      {
       "output_type": "stream",
       "stream": "stdout",
       "text": [
        " 391 136097 60\n",
        "16.05"
       ]
      },
      {
       "output_type": "stream",
       "stream": "stdout",
       "text": [
        " 392 136028 69\n",
        "16.00"
       ]
      },
      {
       "output_type": "stream",
       "stream": "stdout",
       "text": [
        " 393 135959 69\n",
        "05.15"
       ]
      },
      {
       "output_type": "stream",
       "stream": "stdout",
       "text": [
        " 394 135890 69\n",
        "05.10"
       ]
      },
      {
       "output_type": "stream",
       "stream": "stdout",
       "text": [
        " 395 135821 69\n",
        "12.30"
       ]
      },
      {
       "output_type": "stream",
       "stream": "stdout",
       "text": [
        " 396 135752 69\n",
        "12.35"
       ]
      },
      {
       "output_type": "stream",
       "stream": "stdout",
       "text": [
        " 397 135683 69\n",
        "23:30"
       ]
      },
      {
       "output_type": "stream",
       "stream": "stdout",
       "text": [
        " 398 135623 60\n",
        "05'00"
       ]
      },
      {
       "output_type": "stream",
       "stream": "stdout",
       "text": [
        " 399 135563 60\n",
        "dagje"
       ]
      },
      {
       "output_type": "stream",
       "stream": "stdout",
       "text": [
        " 400 135563 0\n",
        "04:40"
       ]
      },
      {
       "output_type": "stream",
       "stream": "stdout",
       "text": [
        " 401 135503 60\n",
        "04:45"
       ]
      },
      {
       "output_type": "stream",
       "stream": "stdout",
       "text": [
        " 402 135443 60\n",
        "14'25"
       ]
      },
      {
       "output_type": "stream",
       "stream": "stdout",
       "text": [
        " 403 135383 60\n",
        "20'35"
       ]
      },
      {
       "output_type": "stream",
       "stream": "stdout",
       "text": [
        " 404 135262 121\n",
        "20'30"
       ]
      },
      {
       "output_type": "stream",
       "stream": "stdout",
       "text": [
        " 405 135141 121\n",
        "01:05"
       ]
      },
      {
       "output_type": "stream",
       "stream": "stdout",
       "text": [
        " 406 135081 60\n",
        "01:00"
       ]
      },
      {
       "output_type": "stream",
       "stream": "stdout",
       "text": [
        " 407 135021 60\n",
        "08'30"
       ]
      },
      {
       "output_type": "stream",
       "stream": "stdout",
       "text": [
        " 408 134961 60\n",
        "08'35"
       ]
      },
      {
       "output_type": "stream",
       "stream": "stdout",
       "text": [
        " 409 134901 60\n",
        "15.55"
       ]
      },
      {
       "output_type": "stream",
       "stream": "stdout",
       "text": [
        " 410 134832 69\n",
        "21'05"
       ]
      },
      {
       "output_type": "stream",
       "stream": "stdout",
       "text": [
        " 411 134772 60\n",
        "21'00"
       ]
      },
      {
       "output_type": "stream",
       "stream": "stdout",
       "text": [
        " 412 134712 60\n",
        "17:50"
       ]
      },
      {
       "output_type": "stream",
       "stream": "stdout",
       "text": [
        " 413 134652 60\n",
        "10:00"
       ]
      },
      {
       "output_type": "stream",
       "stream": "stdout",
       "text": [
        " 414 134531 121\n",
        "10:05"
       ]
      },
      {
       "output_type": "stream",
       "stream": "stdout",
       "text": [
        " 415 134410 121\n",
        "16'35"
       ]
      },
      {
       "output_type": "stream",
       "stream": "stdout",
       "text": [
        " 416 134350 60\n",
        "03:15"
       ]
      },
      {
       "output_type": "stream",
       "stream": "stdout",
       "text": [
        " 417 134290 60\n",
        "03:10"
       ]
      },
      {
       "output_type": "stream",
       "stream": "stdout",
       "text": [
        " 418 134230 60\n",
        "05'25"
       ]
      },
      {
       "output_type": "stream",
       "stream": "stdout",
       "text": [
        " 419 134170 60\n",
        "05'20"
       ]
      },
      {
       "output_type": "stream",
       "stream": "stdout",
       "text": [
        " 420 134110 60\n",
        "18.10"
       ]
      },
      {
       "output_type": "stream",
       "stream": "stdout",
       "text": [
        " 421 134041 69\n",
        "18.15"
       ]
      },
      {
       "output_type": "stream",
       "stream": "stdout",
       "text": [
        " 422 133972 69\n",
        "11.40"
       ]
      },
      {
       "output_type": "stream",
       "stream": "stdout",
       "text": [
        " 423 133903 69\n",
        "11.45"
       ]
      },
      {
       "output_type": "stream",
       "stream": "stdout",
       "text": [
        " 424 133834 69\n",
        "22'30"
       ]
      },
      {
       "output_type": "stream",
       "stream": "stdout",
       "text": [
        " 425 133774 60\n",
        "22'35"
       ]
      },
      {
       "output_type": "stream",
       "stream": "stdout",
       "text": [
        " 426 133714 60\n",
        "today"
       ]
      },
      {
       "output_type": "stream",
       "stream": "stdout",
       "text": [
        " 427 133714 0\n",
        "19:50"
       ]
      },
      {
       "output_type": "stream",
       "stream": "stdout",
       "text": [
        " 428 133654 60\n",
        "19:55"
       ]
      },
      {
       "output_type": "stream",
       "stream": "stdout",
       "text": [
        " 429 133594 60\n",
        "16.15"
       ]
      },
      {
       "output_type": "stream",
       "stream": "stdout",
       "text": [
        " 430 133525 69\n",
        "05.20"
       ]
      },
      {
       "output_type": "stream",
       "stream": "stdout",
       "text": [
        " 431 133456 69\n",
        "05.25"
       ]
      },
      {
       "output_type": "stream",
       "stream": "stdout",
       "text": [
        " 432 133387 69\n",
        "03.40"
       ]
      },
      {
       "output_type": "stream",
       "stream": "stdout",
       "text": [
        " 433 133318 69\n",
        "03.45"
       ]
      },
      {
       "output_type": "stream",
       "stream": "stdout",
       "text": [
        " 434 133249 69\n",
        "09:40"
       ]
      },
      {
       "output_type": "stream",
       "stream": "stdout",
       "text": [
        " 435 133189 60\n",
        "17.35"
       ]
      },
      {
       "output_type": "stream",
       "stream": "stdout",
       "text": [
        " 436 133120 69\n",
        "02:50"
       ]
      },
      {
       "output_type": "stream",
       "stream": "stdout",
       "text": [
        " 437 133060 60\n",
        "02:55"
       ]
      },
      {
       "output_type": "stream",
       "stream": "stdout",
       "text": [
        " 438 133000 60\n",
        "09'10"
       ]
      },
      {
       "output_type": "stream",
       "stream": "stdout",
       "text": [
        " 439 132940 60\n",
        "11:20"
       ]
      },
      {
       "output_type": "stream",
       "stream": "stdout",
       "text": [
        " 440 132880 60\n",
        "11:25"
       ]
      },
      {
       "output_type": "stream",
       "stream": "stdout",
       "text": [
        " 441 132820 60\n",
        "20'40"
       ]
      },
      {
       "output_type": "stream",
       "stream": "stdout",
       "text": [
        " 442 132699 121\n",
        "20'45"
       ]
      },
      {
       "output_type": "stream",
       "stream": "stdout",
       "text": [
        " 443 132578 121\n",
        "06'45"
       ]
      },
      {
       "output_type": "stream",
       "stream": "stdout",
       "text": [
        " 444 132518 60\n",
        "06'40"
       ]
      },
      {
       "output_type": "stream",
       "stream": "stdout",
       "text": [
        " 445 132458 60\n",
        "01:15"
       ]
      },
      {
       "output_type": "stream",
       "stream": "stdout",
       "text": [
        " 446 132398 60\n",
        "01:10"
       ]
      },
      {
       "output_type": "stream",
       "stream": "stdout",
       "text": [
        " 447 132338 60\n",
        "15:45"
       ]
      },
      {
       "output_type": "stream",
       "stream": "stdout",
       "text": [
        " 448 132278 60\n",
        "00.15"
       ]
      },
      {
       "output_type": "stream",
       "stream": "stdout",
       "text": [
        " 449 132139 139\n",
        "00.10"
       ]
      },
      {
       "output_type": "stream",
       "stream": "stdout",
       "text": [
        " 450 132000 139\n",
        "08'05"
       ]
      },
      {
       "output_type": "stream",
       "stream": "stdout",
       "text": [
        " 451 131940 60\n",
        "08'00"
       ]
      },
      {
       "output_type": "stream",
       "stream": "stdout",
       "text": [
        " 452 131880 60\n",
        "17:40"
       ]
      },
      {
       "output_type": "stream",
       "stream": "stdout",
       "text": [
        " 453 131820 60\n",
        "17:45"
       ]
      },
      {
       "output_type": "stream",
       "stream": "stdout",
       "text": [
        " 454 131760 60\n",
        "19.45"
       ]
      },
      {
       "output_type": "stream",
       "stream": "stdout",
       "text": [
        " 455 131691 69\n",
        "10:15"
       ]
      },
      {
       "output_type": "stream",
       "stream": "stdout",
       "text": [
        " 456 131570 121\n",
        "10:10"
       ]
      },
      {
       "output_type": "stream",
       "stream": "stdout",
       "text": [
        " 457 131449 121\n",
        "16'25"
       ]
      },
      {
       "output_type": "stream",
       "stream": "stdout",
       "text": [
        " 458 131389 60\n",
        "16'20"
       ]
      },
      {
       "output_type": "stream",
       "stream": "stdout",
       "text": [
        " 459 131329 60\n",
        "match"
       ]
      },
      {
       "output_type": "stream",
       "stream": "stdout",
       "text": [
        " 460 130749 580\n",
        "05'10"
       ]
      },
      {
       "output_type": "stream",
       "stream": "stdout",
       "text": [
        " 461 130689 60\n",
        "05'15"
       ]
      },
      {
       "output_type": "stream",
       "stream": "stdout",
       "text": [
        " 462 130629 60\n",
        "22'05"
       ]
      },
      {
       "output_type": "stream",
       "stream": "stdout",
       "text": [
        " 463 130569 60\n",
        "22'00"
       ]
      },
      {
       "output_type": "stream",
       "stream": "stdout",
       "text": [
        " 464 130509 60\n",
        "12:05"
       ]
      },
      {
       "output_type": "stream",
       "stream": "stdout",
       "text": [
        " 465 130449 60\n",
        "12:00"
       ]
      },
      {
       "output_type": "stream",
       "stream": "stdout",
       "text": [
        " 466 130389 60\n",
        "10'10"
       ]
      },
      {
       "output_type": "stream",
       "stream": "stdout",
       "text": [
        " 467 130268 121\n",
        "19:45"
       ]
      },
      {
       "output_type": "stream",
       "stream": "stdout",
       "text": [
        " 468 130208 60\n",
        "19:40"
       ]
      },
      {
       "output_type": "stream",
       "stream": "stdout",
       "text": [
        " 469 130148 60\n",
        "09:35"
       ]
      },
      {
       "output_type": "stream",
       "stream": "stdout",
       "text": [
        " 470 130088 60\n",
        "09:30"
       ]
      },
      {
       "output_type": "stream",
       "stream": "stdout",
       "text": [
        " 471 130028 60\n",
        "16.20"
       ]
      },
      {
       "output_type": "stream",
       "stream": "stdout",
       "text": [
        " 472 129959 69\n",
        "16.25"
       ]
      },
      {
       "output_type": "stream",
       "stream": "stdout",
       "text": [
        " 473 129890 69\n",
        "05.30"
       ]
      },
      {
       "output_type": "stream",
       "stream": "stdout",
       "text": [
        " 474 129821 69\n",
        "07:40"
       ]
      },
      {
       "output_type": "stream",
       "stream": "stdout",
       "text": [
        " 475 129761 60\n",
        "kerst"
       ]
      },
      {
       "output_type": "stream",
       "stream": "stdout",
       "text": [
        " 476 129758 3\n",
        "16'55"
       ]
      },
      {
       "output_type": "stream",
       "stream": "stdout",
       "text": [
        " 477 129698 60\n",
        "avond"
       ]
      },
      {
       "output_type": "stream",
       "stream": "stdout",
       "text": [
        " 478 111226 18472\n",
        "11:50"
       ]
      },
      {
       "output_type": "stream",
       "stream": "stdout",
       "text": [
        " 479 111184 42\n",
        "11:55"
       ]
      },
      {
       "output_type": "stream",
       "stream": "stdout",
       "text": [
        " 480 111142 42\n",
        "00'40"
       ]
      },
      {
       "output_type": "stream",
       "stream": "stdout",
       "text": [
        " 481 111057 85\n",
        "00'45"
       ]
      },
      {
       "output_type": "stream",
       "stream": "stdout",
       "text": [
        " 482 110972 85\n",
        "02:45"
       ]
      },
      {
       "output_type": "stream",
       "stream": "stdout",
       "text": [
        " 483 110930 42\n",
        "02:40"
       ]
      },
      {
       "output_type": "stream",
       "stream": "stdout",
       "text": [
        " 484 110888 42\n",
        "12:10"
       ]
      },
      {
       "output_type": "stream",
       "stream": "stdout",
       "text": [
        " 485 110846 42\n",
        "15'45"
       ]
      },
      {
       "output_type": "stream",
       "stream": "stdout",
       "text": [
        " 486 110804 42\n",
        "20'50"
       ]
      },
      {
       "output_type": "stream",
       "stream": "stdout",
       "text": [
        " 487 110719 85\n",
        "13.15"
       ]
      },
      {
       "output_type": "stream",
       "stream": "stdout",
       "text": [
        " 488 110671 48\n",
        "13.10"
       ]
      },
      {
       "output_type": "stream",
       "stream": "stdout",
       "text": [
        " 489 110623 48\n",
        "06'55"
       ]
      },
      {
       "output_type": "stream",
       "stream": "stdout",
       "text": [
        " 490 110581 42\n",
        "06'50"
       ]
      },
      {
       "output_type": "stream",
       "stream": "stdout",
       "text": [
        " 491 110539 42\n",
        "01:20"
       ]
      },
      {
       "output_type": "stream",
       "stream": "stdout",
       "text": [
        " 492 110497 42\n",
        "01:25"
       ]
      },
      {
       "output_type": "stream",
       "stream": "stdout",
       "text": [
        " 493 110455 42\n",
        "00.05"
       ]
      },
      {
       "output_type": "stream",
       "stream": "stdout",
       "text": [
        " 494 110358 97\n",
        "00.00"
       ]
      },
      {
       "output_type": "stream",
       "stream": "stdout",
       "text": [
        " 495 110261 97\n",
        "08'10"
       ]
      },
      {
       "output_type": "stream",
       "stream": "stdout",
       "text": [
        " 496 110219 42\n",
        "08'15"
       ]
      },
      {
       "output_type": "stream",
       "stream": "stdout",
       "text": [
        " 497 110177 42\n",
        "21'20"
       ]
      },
      {
       "output_type": "stream",
       "stream": "stdout",
       "text": [
        " 498 110135 42\n",
        "21:40"
       ]
      },
      {
       "output_type": "stream",
       "stream": "stdout",
       "text": [
        " 499 110093 42\n",
        "16'10"
       ]
      },
      {
       "output_type": "stream",
       "stream": "stdout",
       "text": [
        " 500 110051 42\n",
        "22'10"
       ]
      },
      {
       "output_type": "stream",
       "stream": "stdout",
       "text": [
        " 501 110009 42\n",
        "22'15"
       ]
      },
      {
       "output_type": "stream",
       "stream": "stdout",
       "text": [
        " 502 109967 42\n",
        "07:55"
       ]
      },
      {
       "output_type": "stream",
       "stream": "stdout",
       "text": [
        " 503 109925 42\n",
        "07:50"
       ]
      },
      {
       "output_type": "stream",
       "stream": "stdout",
       "text": [
        " 504 109883 42\n",
        "19:30"
       ]
      },
      {
       "output_type": "stream",
       "stream": "stdout",
       "text": [
        " 505 109841 42\n",
        "19:35"
       ]
      },
      {
       "output_type": "stream",
       "stream": "stdout",
       "text": [
        " 506 109799 42\n",
        "nacht"
       ]
      },
      {
       "output_type": "stream",
       "stream": "stdout",
       "text": [
        " 507 101300 8499\n",
        "09:45"
       ]
      },
      {
       "output_type": "stream",
       "stream": "stdout",
       "text": [
        " 508 101264 36\n",
        "16.35"
       ]
      },
      {
       "output_type": "stream",
       "stream": "stdout",
       "text": [
        " 509 101223 41\n",
        "16.30"
       ]
      },
      {
       "output_type": "stream",
       "stream": "stdout",
       "text": [
        " 510 101182 41\n",
        "14:45"
       ]
      },
      {
       "output_type": "stream",
       "stream": "stdout",
       "text": [
        " 511 101146 36\n",
        "05.40"
       ]
      },
      {
       "output_type": "stream",
       "stream": "stdout",
       "text": [
        " 512 101105 41\n",
        "05.45"
       ]
      },
      {
       "output_type": "stream",
       "stream": "stdout",
       "text": [
        " 513 101064 41\n",
        "19.35"
       ]
      },
      {
       "output_type": "stream",
       "stream": "stdout",
       "text": [
        " 514 101023 41\n",
        "19.30"
       ]
      },
      {
       "output_type": "stream",
       "stream": "stdout",
       "text": [
        " 515 100982 41\n",
        "14.25"
       ]
      },
      {
       "output_type": "stream",
       "stream": "stdout",
       "text": [
        " 516 100941 41\n",
        "21.40"
       ]
      },
      {
       "output_type": "stream",
       "stream": "stdout",
       "text": [
        " 517 100900 41\n",
        "21.45"
       ]
      },
      {
       "output_type": "stream",
       "stream": "stdout",
       "text": [
        " 518 100859 41\n",
        "13'40"
       ]
      },
      {
       "output_type": "stream",
       "stream": "stdout",
       "text": [
        " 519 100823 36\n",
        "13'45"
       ]
      },
      {
       "output_type": "stream",
       "stream": "stdout",
       "text": [
        " 520 100787 36\n",
        "23:05"
       ]
      },
      {
       "output_type": "stream",
       "stream": "stdout",
       "text": [
        " 521 100751 36\n",
        "23:00"
       ]
      },
      {
       "output_type": "stream",
       "stream": "stdout",
       "text": [
        " 522 100715 36\n",
        "11:45"
       ]
      },
      {
       "output_type": "stream",
       "stream": "stdout",
       "text": [
        " 523 100679 36\n",
        "11:40"
       ]
      },
      {
       "output_type": "stream",
       "stream": "stdout",
       "text": [
        " 524 100643 36\n",
        "00'55"
       ]
      },
      {
       "output_type": "stream",
       "stream": "stdout",
       "text": [
        " 525 100570 73\n",
        "00'50"
       ]
      },
      {
       "output_type": "stream",
       "stream": "stdout",
       "text": [
        " 526 100497 73\n",
        "02:30"
       ]
      },
      {
       "output_type": "stream",
       "stream": "stdout",
       "text": [
        " 527 100461 36\n",
        "02:35"
       ]
      },
      {
       "output_type": "stream",
       "stream": "stdout",
       "text": [
        " 528 100425 36\n",
        "15'50"
       ]
      },
      {
       "output_type": "stream",
       "stream": "stdout",
       "text": [
        " 529 100389 36\n",
        "12:20"
       ]
      },
      {
       "output_type": "stream",
       "stream": "stdout",
       "text": [
        " 530 100353 36\n",
        "12:25"
       ]
      },
      {
       "output_type": "stream",
       "stream": "stdout",
       "text": [
        " 531 100317 36\n",
        "13.05"
       ]
      },
      {
       "output_type": "stream",
       "stream": "stdout",
       "text": [
        " 532 100276 41\n",
        "13.00"
       ]
      },
      {
       "output_type": "stream",
       "stream": "stdout",
       "text": [
        " 533 100235 41\n",
        "01:30"
       ]
      },
      {
       "output_type": "stream",
       "stream": "stdout",
       "text": [
        " 534 100199 36\n",
        "00.30"
       ]
      },
      {
       "output_type": "stream",
       "stream": "stdout",
       "text": [
        " 535 100116 83\n",
        "00.35"
       ]
      },
      {
       "output_type": "stream",
       "stream": "stdout",
       "text": [
        " 536 100033 83\n",
        "21'50"
       ]
      },
      {
       "output_type": "stream",
       "stream": "stdout",
       "text": [
        " 537 99997 36\n",
        "21'55"
       ]
      },
      {
       "output_type": "stream",
       "stream": "stdout",
       "text": [
        " 538 99961 36\n",
        "16'05"
       ]
      },
      {
       "output_type": "stream",
       "stream": "stdout",
       "text": [
        " 539 99925 36\n",
        "16'00"
       ]
      },
      {
       "output_type": "stream",
       "stream": "stdout",
       "text": [
        " 540 99889 36\n",
        "03:45"
       ]
      },
      {
       "output_type": "stream",
       "stream": "stdout",
       "text": [
        " 541 99853 36\n",
        "03:40"
       ]
      },
      {
       "output_type": "stream",
       "stream": "stdout",
       "text": [
        " 542 99817 36\n",
        "05.50"
       ]
      },
      {
       "output_type": "stream",
       "stream": "stdout",
       "text": [
        " 543 99776 41\n",
        "05.55"
       ]
      },
      {
       "output_type": "stream",
       "stream": "stdout",
       "text": [
        " 544 99735 41\n",
        "07:20"
       ]
      },
      {
       "output_type": "stream",
       "stream": "stdout",
       "text": [
        " 545 99699 36\n",
        "19:20"
       ]
      },
      {
       "output_type": "stream",
       "stream": "stdout",
       "text": [
        " 546 99663 36\n",
        "19:25"
       ]
      },
      {
       "output_type": "stream",
       "stream": "stdout",
       "text": [
        " 547 99627 36\n",
        "14:35"
       ]
      },
      {
       "output_type": "stream",
       "stream": "stdout",
       "text": [
        " 548 99591 36\n",
        "09:50"
       ]
      },
      {
       "output_type": "stream",
       "stream": "stdout",
       "text": [
        " 549 99555 36\n",
        "16.45"
       ]
      },
      {
       "output_type": "stream",
       "stream": "stdout",
       "text": [
        " 550 99514 41\n",
        "14:50"
       ]
      },
      {
       "output_type": "stream",
       "stream": "stdout",
       "text": [
        " 551 99478 36\n",
        "07'10"
       ]
      },
      {
       "output_type": "stream",
       "stream": "stdout",
       "text": [
        " 552 99442 36\n",
        "01'50"
       ]
      },
      {
       "output_type": "stream",
       "stream": "stdout",
       "text": [
        " 553 99406 36\n",
        "01'55"
       ]
      },
      {
       "output_type": "stream",
       "stream": "stdout",
       "text": [
        " 554 99370 36\n",
        "21.50"
       ]
      },
      {
       "output_type": "stream",
       "stream": "stdout",
       "text": [
        " 555 99329 41\n",
        "20:50"
       ]
      },
      {
       "output_type": "stream",
       "stream": "stdout",
       "text": [
        " 556 99256 73\n",
        "13'55"
       ]
      },
      {
       "output_type": "stream",
       "stream": "stdout",
       "text": [
        " 557 99220 36\n",
        "13'50"
       ]
      },
      {
       "output_type": "stream",
       "stream": "stdout",
       "text": [
        " 558 99184 36\n",
        "20.45"
       ]
      },
      {
       "output_type": "stream",
       "stream": "stdout",
       "text": [
        " 559 99101 83\n",
        "23:15"
       ]
      },
      {
       "output_type": "stream",
       "stream": "stdout",
       "text": [
        " 560 99065 36\n",
        "23:10"
       ]
      },
      {
       "output_type": "stream",
       "stream": "stdout",
       "text": [
        " 561 99029 36\n",
        "23.45"
       ]
      },
      {
       "output_type": "stream",
       "stream": "stdout",
       "text": [
        " 562 98988 41\n",
        "23.40"
       ]
      },
      {
       "output_type": "stream",
       "stream": "stdout",
       "text": [
        " 563 98947 41\n",
        "00'25"
       ]
      },
      {
       "output_type": "stream",
       "stream": "stdout",
       "text": [
        " 564 98874 73\n",
        "02:20"
       ]
      },
      {
       "output_type": "stream",
       "stream": "stdout",
       "text": [
        " 565 98838 36\n",
        "02:25"
       ]
      },
      {
       "output_type": "stream",
       "stream": "stdout",
       "text": [
        " 566 98802 36\n",
        "09:15"
       ]
      },
      {
       "output_type": "stream",
       "stream": "stdout",
       "text": [
        " 567 98766 36\n",
        "12:35"
       ]
      },
      {
       "output_type": "stream",
       "stream": "stdout",
       "text": [
        " 568 98730 36\n",
        "01:40"
       ]
      },
      {
       "output_type": "stream",
       "stream": "stdout",
       "text": [
        " 569 98694 36\n",
        "13.35"
       ]
      },
      {
       "output_type": "stream",
       "stream": "stdout",
       "text": [
        " 570 98653 41\n",
        "00.25"
       ]
      },
      {
       "output_type": "stream",
       "stream": "stdout",
       "text": [
        " 571 98570 83\n",
        "00.20"
       ]
      },
      {
       "output_type": "stream",
       "stream": "stdout",
       "text": [
        " 572 98487 83\n",
        "09'40"
       ]
      },
      {
       "output_type": "stream",
       "stream": "stdout",
       "text": [
        " 573 98451 36\n",
        "21'45"
       ]
      },
      {
       "output_type": "stream",
       "stream": "stdout",
       "text": [
        " 574 98415 36\n",
        "10:45"
       ]
      },
      {
       "output_type": "stream",
       "stream": "stdout",
       "text": [
        " 575 98342 73\n",
        "03:50"
       ]
      },
      {
       "output_type": "stream",
       "stream": "stdout",
       "text": [
        " 576 98306 36\n",
        "03:55"
       ]
      },
      {
       "output_type": "stream",
       "stream": "stdout",
       "text": [
        " 577 98270 36\n",
        "12'30"
       ]
      },
      {
       "output_type": "stream",
       "stream": "stdout",
       "text": [
        " 578 98234 36\n",
        "07:30"
       ]
      },
      {
       "output_type": "stream",
       "stream": "stdout",
       "text": [
        " 579 98198 36\n",
        "19:15"
       ]
      },
      {
       "output_type": "stream",
       "stream": "stdout",
       "text": [
        " 580 98162 36\n",
        "19:10"
       ]
      },
      {
       "output_type": "stream",
       "stream": "stdout",
       "text": [
        " 581 98126 36\n",
        "19.20"
       ]
      },
      {
       "output_type": "stream",
       "stream": "stdout",
       "text": [
        " 582 98085 41\n",
        "16.50"
       ]
      },
      {
       "output_type": "stream",
       "stream": "stdout",
       "text": [
        " 583 98044 41\n",
        "16.55"
       ]
      },
      {
       "output_type": "stream",
       "stream": "stdout",
       "text": [
        " 584 98003 41\n",
        "14:20"
       ]
      },
      {
       "output_type": "stream",
       "stream": "stdout",
       "text": [
        " 585 97967 36\n",
        "17:15"
       ]
      },
      {
       "output_type": "stream",
       "stream": "stdout",
       "text": [
        " 586 97931 36\n",
        "19.10"
       ]
      },
      {
       "output_type": "stream",
       "stream": "stdout",
       "text": [
        " 587 97890 41\n",
        "12'50"
       ]
      },
      {
       "output_type": "stream",
       "stream": "stdout",
       "text": [
        " 588 97854 36\n",
        "12'55"
       ]
      },
      {
       "output_type": "stream",
       "stream": "stdout",
       "text": [
        " 589 97818 36\n",
        "08:55"
       ]
      },
      {
       "output_type": "stream",
       "stream": "stdout",
       "text": [
        " 590 97782 36\n",
        "08:50"
       ]
      },
      {
       "output_type": "stream",
       "stream": "stdout",
       "text": [
        " 591 97746 36\n",
        "21.25"
       ]
      },
      {
       "output_type": "stream",
       "stream": "stdout",
       "text": [
        " 592 97705 41\n",
        "20:45"
       ]
      },
      {
       "output_type": "stream",
       "stream": "stdout",
       "text": [
        " 593 97632 73\n",
        "20:40"
       ]
      },
      {
       "output_type": "stream",
       "stream": "stdout",
       "text": [
        " 594 97559 73\n",
        "13'20"
       ]
      },
      {
       "output_type": "stream",
       "stream": "stdout",
       "text": [
        " 595 97523 36\n",
        "13'25"
       ]
      },
      {
       "output_type": "stream",
       "stream": "stdout",
       "text": [
        " 596 97487 36\n",
        "15'55"
       ]
      },
      {
       "output_type": "stream",
       "stream": "stdout",
       "text": [
        " 597 97451 36\n",
        "23:20"
       ]
      },
      {
       "output_type": "stream",
       "stream": "stdout",
       "text": [
        " 598 97415 36\n",
        "00'30"
       ]
      },
      {
       "output_type": "stream",
       "stream": "stdout",
       "text": [
        " 599 97342 73\n",
        "14:55"
       ]
      },
      {
       "output_type": "stream",
       "stream": "stdout",
       "text": [
        " 600 97306 36\n",
        "02:15"
       ]
      },
      {
       "output_type": "stream",
       "stream": "stdout",
       "text": [
        " 601 97270 36\n",
        "02:10"
       ]
      },
      {
       "output_type": "stream",
       "stream": "stdout",
       "text": [
        " 602 97234 36\n",
        "06.50"
       ]
      },
      {
       "output_type": "stream",
       "stream": "stdout",
       "text": [
        " 603 97193 41\n",
        "06.55"
       ]
      },
      {
       "output_type": "stream",
       "stream": "stdout",
       "text": [
        " 604 97152 41\n",
        "12:40"
       ]
      },
      {
       "output_type": "stream",
       "stream": "stdout",
       "text": [
        " 605 97116 36\n",
        "12:45"
       ]
      },
      {
       "output_type": "stream",
       "stream": "stdout",
       "text": [
        " 606 97080 36\n",
        "01:50"
       ]
      },
      {
       "output_type": "stream",
       "stream": "stdout",
       "text": [
        " 607 97044 36\n",
        "01:55"
       ]
      },
      {
       "output_type": "stream",
       "stream": "stdout",
       "text": [
        " 608 97008 36\n",
        "13.20"
       ]
      },
      {
       "output_type": "stream",
       "stream": "stdout",
       "text": [
        " 609 96967 41\n",
        "06'00"
       ]
      },
      {
       "output_type": "stream",
       "stream": "stdout",
       "text": [
        " 610 96931 36\n",
        "06'05"
       ]
      },
      {
       "output_type": "stream",
       "stream": "stdout",
       "text": [
        " 611 96895 36\n",
        "00.50"
       ]
      },
      {
       "output_type": "stream",
       "stream": "stdout",
       "text": [
        " 612 96812 83\n",
        "00.55"
       ]
      },
      {
       "output_type": "stream",
       "stream": "stdout",
       "text": [
        " 613 96729 83\n",
        "09.45"
       ]
      },
      {
       "output_type": "stream",
       "stream": "stdout",
       "text": [
        " 614 96688 41\n",
        "09.40"
       ]
      },
      {
       "output_type": "stream",
       "stream": "stdout",
       "text": [
        " 615 96647 41\n",
        "10:50"
       ]
      },
      {
       "output_type": "stream",
       "stream": "stdout",
       "text": [
        " 616 96574 73\n",
        "10:55"
       ]
      },
      {
       "output_type": "stream",
       "stream": "stdout",
       "text": [
        " 617 96501 73\n",
        "daags"
       ]
      },
      {
       "output_type": "stream",
       "stream": "stdout",
       "text": [
        " 618 96496 5\n",
        "03'15"
       ]
      },
      {
       "output_type": "stream",
       "stream": "stdout",
       "text": [
        " 619 96460 36\n",
        "03'10"
       ]
      },
      {
       "output_type": "stream",
       "stream": "stdout",
       "text": [
        " 620 96424 36\n",
        "05'50"
       ]
      },
      {
       "output_type": "stream",
       "stream": "stdout",
       "text": [
        " 621 96388 36\n",
        "07:05"
       ]
      },
      {
       "output_type": "stream",
       "stream": "stdout",
       "text": [
        " 622 96352 36\n",
        "07:00"
       ]
      },
      {
       "output_type": "stream",
       "stream": "stdout",
       "text": [
        " 623 96316 36\n",
        "13'00"
       ]
      },
      {
       "output_type": "stream",
       "stream": "stdout",
       "text": [
        " 624 96280 36\n",
        "19:00"
       ]
      },
      {
       "output_type": "stream",
       "stream": "stdout",
       "text": [
        " 625 96244 36\n",
        "20:35"
       ]
      },
      {
       "output_type": "stream",
       "stream": "stdout",
       "text": [
        " 626 96171 73\n",
        "06.35"
       ]
      },
      {
       "output_type": "stream",
       "stream": "stdout",
       "text": [
        " 627 96130 41\n",
        "maart"
       ]
      },
      {
       "output_type": "stream",
       "stream": "stdout",
       "text": [
        " 628 96115 15\n",
        "04'25"
       ]
      },
      {
       "output_type": "stream",
       "stream": "stdout",
       "text": [
        " 629 96079 36\n",
        "04'20"
       ]
      },
      {
       "output_type": "stream",
       "stream": "stdout",
       "text": [
        " 630 96043 36\n",
        "14:30"
       ]
      },
      {
       "output_type": "stream",
       "stream": "stdout",
       "text": [
        " 631 96007 36\n",
        "02:00"
       ]
      },
      {
       "output_type": "stream",
       "stream": "stdout",
       "text": [
        " 632 95971 36\n",
        "02:05"
       ]
      },
      {
       "output_type": "stream",
       "stream": "stdout",
       "text": [
        " 633 95935 36\n",
        "12'45"
       ]
      },
      {
       "output_type": "stream",
       "stream": "stdout",
       "text": [
        " 634 95899 36\n",
        "12'40"
       ]
      },
      {
       "output_type": "stream",
       "stream": "stdout",
       "text": [
        " 635 95863 36\n",
        "19.05"
       ]
      },
      {
       "output_type": "stream",
       "stream": "stdout",
       "text": [
        " 636 95822 41\n",
        "19.00"
       ]
      },
      {
       "output_type": "stream",
       "stream": "stdout",
       "text": [
        " 637 95781 41\n",
        "01'30"
       ]
      },
      {
       "output_type": "stream",
       "stream": "stdout",
       "text": [
        " 638 95745 36\n",
        "01'35"
       ]
      },
      {
       "output_type": "stream",
       "stream": "stdout",
       "text": [
        " 639 95709 36\n",
        "21.30"
       ]
      },
      {
       "output_type": "stream",
       "stream": "stdout",
       "text": [
        " 640 95668 41\n",
        "21.35"
       ]
      },
      {
       "output_type": "stream",
       "stream": "stdout",
       "text": [
        " 641 95627 41\n",
        "08:45"
       ]
      },
      {
       "output_type": "stream",
       "stream": "stdout",
       "text": [
        " 642 95591 36\n",
        "08:40"
       ]
      },
      {
       "output_type": "stream",
       "stream": "stdout",
       "text": [
        " 643 95555 36\n",
        "vroeg"
       ]
      },
      {
       "output_type": "stream",
       "stream": "stdout",
       "text": [
        " 644 95551 4\n",
        "13'35"
       ]
      },
      {
       "output_type": "stream",
       "stream": "stdout",
       "text": [
        " 645 95515 36\n",
        "23:35"
       ]
      },
      {
       "output_type": "stream",
       "stream": "stdout",
       "text": [
        " 646 95479 36\n",
        "derby"
       ]
      },
      {
       "output_type": "stream",
       "stream": "stdout",
       "text": [
        " 647 95308 171\n",
        "00'05"
       ]
      },
      {
       "output_type": "stream",
       "stream": "stdout",
       "text": [
        " 648 95235 73\n",
        "00'00"
       ]
      },
      {
       "output_type": "stream",
       "stream": "stdout",
       "text": [
        " 649 95162 73\n",
        "11:15"
       ]
      },
      {
       "output_type": "stream",
       "stream": "stdout",
       "text": [
        " 650 95126 36\n",
        "11:10"
       ]
      },
      {
       "output_type": "stream",
       "stream": "stdout",
       "text": [
        " 651 95090 36\n",
        "15.50"
       ]
      },
      {
       "output_type": "stream",
       "stream": "stdout",
       "text": [
        " 652 95049 41\n",
        "15'00"
       ]
      },
      {
       "output_type": "stream",
       "stream": "stdout",
       "text": [
        " 653 95013 36\n",
        "15'05"
       ]
      },
      {
       "output_type": "stream",
       "stream": "stdout",
       "text": [
        " 654 94977 36\n",
        "06.45"
       ]
      },
      {
       "output_type": "stream",
       "stream": "stdout",
       "text": [
        " 655 94936 41\n",
        "12:50"
       ]
      },
      {
       "output_type": "stream",
       "stream": "stdout",
       "text": [
        " 656 94900 36\n",
        "12:55"
       ]
      },
      {
       "output_type": "stream",
       "stream": "stdout",
       "text": [
        " 657 94864 36\n",
        "13.50"
       ]
      },
      {
       "output_type": "stream",
       "stream": "stdout",
       "text": [
        " 658 94823 41\n",
        "13.55"
       ]
      },
      {
       "output_type": "stream",
       "stream": "stdout",
       "text": [
        " 659 94782 41\n",
        "06'10"
       ]
      },
      {
       "output_type": "stream",
       "stream": "stdout",
       "text": [
        " 660 94746 36\n",
        "06'15"
       ]
      },
      {
       "output_type": "stream",
       "stream": "stdout",
       "text": [
        " 661 94710 36\n",
        "00.40"
       ]
      },
      {
       "output_type": "stream",
       "stream": "stdout",
       "text": [
        " 662 94627 83\n",
        "00.45"
       ]
      },
      {
       "output_type": "stream",
       "stream": "stdout",
       "text": [
        " 663 94544 83\n",
        "04.55"
       ]
      },
      {
       "output_type": "stream",
       "stream": "stdout",
       "text": [
        " 664 94503 41\n",
        "04.50"
       ]
      },
      {
       "output_type": "stream",
       "stream": "stdout",
       "text": [
        " 665 94462 41\n",
        "10'15"
       ]
      },
      {
       "output_type": "stream",
       "stream": "stdout",
       "text": [
        " 666 94389 73\n",
        "09.55"
       ]
      },
      {
       "output_type": "stream",
       "stream": "stdout",
       "text": [
        " 667 94348 41\n",
        "09.50"
       ]
      },
      {
       "output_type": "stream",
       "stream": "stdout",
       "text": [
        " 668 94307 41\n",
        "03'05"
       ]
      },
      {
       "output_type": "stream",
       "stream": "stdout",
       "text": [
        " 669 94271 36\n",
        "03'00"
       ]
      },
      {
       "output_type": "stream",
       "stream": "stdout",
       "text": [
        " 670 94235 36\n",
        "00:55"
       ]
      },
      {
       "output_type": "stream",
       "stream": "stdout",
       "text": [
        " 671 94162 73\n",
        "00:50"
       ]
      },
      {
       "output_type": "stream",
       "stream": "stdout",
       "text": [
        " 672 94089 73\n",
        "16'50"
       ]
      },
      {
       "output_type": "stream",
       "stream": "stdout",
       "text": [
        " 673 94053 36\n",
        "05'40"
       ]
      },
      {
       "output_type": "stream",
       "stream": "stdout",
       "text": [
        " 674 94017 36\n",
        "05'45"
       ]
      },
      {
       "output_type": "stream",
       "stream": "stdout",
       "text": [
        " 675 93981 36\n",
        "14:05"
       ]
      },
      {
       "output_type": "stream",
       "stream": "stdout",
       "text": [
        " 676 93945 36\n",
        "14:00"
       ]
      },
      {
       "output_type": "stream",
       "stream": "stdout",
       "text": [
        " 677 93909 36\n",
        "07:10"
       ]
      },
      {
       "output_type": "stream",
       "stream": "stdout",
       "text": [
        " 678 93873 36\n",
        "07:15"
       ]
      },
      {
       "output_type": "stream",
       "stream": "stdout",
       "text": [
        " 679 93837 36\n",
        "20:20"
       ]
      },
      {
       "output_type": "stream",
       "stream": "stdout",
       "text": [
        " 680 93764 73\n",
        "20:25"
       ]
      },
      {
       "output_type": "stream",
       "stream": "stdout",
       "text": [
        " 681 93691 73\n",
        "08.20"
       ]
      },
      {
       "output_type": "stream",
       "stream": "stdout",
       "text": [
        " 682 93650 41\n",
        "17'25"
       ]
      },
      {
       "output_type": "stream",
       "stream": "stdout",
       "text": [
        " 683 93614 36\n",
        "17'20"
       ]
      },
      {
       "output_type": "stream",
       "stream": "stdout",
       "text": [
        " 684 93578 36\n",
        "04'35"
       ]
      },
      {
       "output_type": "stream",
       "stream": "stdout",
       "text": [
        " 685 93542 36\n",
        "04'30"
       ]
      },
      {
       "output_type": "stream",
       "stream": "stdout",
       "text": [
        " 686 93506 36\n",
        "12'35"
       ]
      },
      {
       "output_type": "stream",
       "stream": "stdout",
       "text": [
        " 687 93470 36\n",
        "07'45"
       ]
      },
      {
       "output_type": "stream",
       "stream": "stdout",
       "text": [
        " 688 93434 36\n",
        "01'20"
       ]
      },
      {
       "output_type": "stream",
       "stream": "stdout",
       "text": [
        " 689 93398 36\n",
        "01'25"
       ]
      },
      {
       "output_type": "stream",
       "stream": "stdout",
       "text": [
        " 690 93362 36\n",
        "21.05"
       ]
      },
      {
       "output_type": "stream",
       "stream": "stdout",
       "text": [
        " 691 93321 41\n",
        "21.00"
       ]
      },
      {
       "output_type": "stream",
       "stream": "stdout",
       "text": [
        " 692 93280 41\n",
        "09:55"
       ]
      },
      {
       "output_type": "stream",
       "stream": "stdout",
       "text": [
        " 693 93244 36\n",
        "13'05"
       ]
      },
      {
       "output_type": "stream",
       "stream": "stdout",
       "text": [
        " 694 93208 36\n",
        "23:45"
       ]
      },
      {
       "output_type": "stream",
       "stream": "stdout",
       "text": [
        " 695 93172 36\n",
        "11:00"
       ]
      },
      {
       "output_type": "stream",
       "stream": "stdout",
       "text": [
        " 696 93136 36\n",
        "11:05"
       ]
      },
      {
       "output_type": "stream",
       "stream": "stdout",
       "text": [
        " 697 93100 36\n",
        "00'10"
       ]
      },
      {
       "output_type": "stream",
       "stream": "stdout",
       "text": [
        " 698 93027 73\n",
        "00'15"
       ]
      },
      {
       "output_type": "stream",
       "stream": "stdout",
       "text": [
        " 699 92954 73\n",
        "15.45"
       ]
      },
      {
       "output_type": "stream",
       "stream": "stdout",
       "text": [
        " 700 92913 41\n",
        "15.40"
       ]
      },
      {
       "output_type": "stream",
       "stream": "stdout",
       "text": [
        " 701 92872 41\n",
        "16.40"
       ]
      },
      {
       "output_type": "stream",
       "stream": "stdout",
       "text": [
        " 702 92831 41\n",
        "10.40"
       ]
      },
      {
       "output_type": "stream",
       "stream": "stdout",
       "text": [
        " 703 92748 83\n",
        "10.45"
       ]
      },
      {
       "output_type": "stream",
       "stream": "stdout",
       "text": [
        " 704 92665 83\n",
        "06.30"
       ]
      },
      {
       "output_type": "stream",
       "stream": "stdout",
       "text": [
        " 705 92624 41\n",
        "15'10"
       ]
      },
      {
       "output_type": "stream",
       "stream": "stdout",
       "text": [
        " 706 92588 36\n",
        "15'15"
       ]
      },
      {
       "output_type": "stream",
       "stream": "stdout",
       "text": [
        " 707 92552 36\n",
        "13.40"
       ]
      },
      {
       "output_type": "stream",
       "stream": "stdout",
       "text": [
        " 708 92511 41\n",
        "13.45"
       ]
      },
      {
       "output_type": "stream",
       "stream": "stdout",
       "text": [
        " 709 92470 41\n",
        "06'25"
       ]
      },
      {
       "output_type": "stream",
       "stream": "stdout",
       "text": [
        " 710 92434 36\n",
        "06'20"
       ]
      },
      {
       "output_type": "stream",
       "stream": "stdout",
       "text": [
        " 711 92398 36\n",
        "03.55"
       ]
      },
      {
       "output_type": "stream",
       "stream": "stdout",
       "text": [
        " 712 92357 41\n",
        "03.50"
       ]
      },
      {
       "output_type": "stream",
       "stream": "stdout",
       "text": [
        " 713 92316 41\n",
        "17.55"
       ]
      },
      {
       "output_type": "stream",
       "stream": "stdout",
       "text": [
        " 714 92275 41\n",
        "17.50"
       ]
      },
      {
       "output_type": "stream",
       "stream": "stdout",
       "text": [
        " 715 92234 41\n",
        "04.45"
       ]
      },
      {
       "output_type": "stream",
       "stream": "stdout",
       "text": [
        " 716 92193 41\n",
        "04.40"
       ]
      },
      {
       "output_type": "stream",
       "stream": "stdout",
       "text": [
        " 717 92152 41\n",
        "10'05"
       ]
      },
      {
       "output_type": "stream",
       "stream": "stdout",
       "text": [
        " 718 92079 73\n",
        "10'00"
       ]
      },
      {
       "output_type": "stream",
       "stream": "stdout",
       "text": [
        " 719 92006 73\n",
        "13:55"
       ]
      },
      {
       "output_type": "stream",
       "stream": "stdout",
       "text": [
        " 720 91970 36\n",
        "13:50"
       ]
      },
      {
       "output_type": "stream",
       "stream": "stdout",
       "text": [
        " 721 91934 36\n",
        "03'30"
       ]
      },
      {
       "output_type": "stream",
       "stream": "stdout",
       "text": [
        " 722 91898 36\n",
        "03'35"
       ]
      },
      {
       "output_type": "stream",
       "stream": "stdout",
       "text": [
        " 723 91862 36\n",
        "00:40"
       ]
      },
      {
       "output_type": "stream",
       "stream": "stdout",
       "text": [
        " 724 91789 73\n",
        "16'45"
       ]
      },
      {
       "output_type": "stream",
       "stream": "stdout",
       "text": [
        " 725 91753 36\n",
        "14:10"
       ]
      },
      {
       "output_type": "stream",
       "stream": "stdout",
       "text": [
        " 726 91717 36\n",
        "14:15"
       ]
      },
      {
       "output_type": "stream",
       "stream": "stdout",
       "text": [
        " 727 91681 36\n",
        "19.25"
       ]
      },
      {
       "output_type": "stream",
       "stream": "stdout",
       "text": [
        " 728 91640 41\n",
        "20:15"
       ]
      },
      {
       "output_type": "stream",
       "stream": "stdout",
       "text": [
        " 729 91567 73\n",
        "20:10"
       ]
      },
      {
       "output_type": "stream",
       "stream": "stdout",
       "text": [
        " 730 91494 73\n",
        "17:55"
       ]
      },
      {
       "output_type": "stream",
       "stream": "stdout",
       "text": [
        " 731 91458 36\n",
        "17'30"
       ]
      },
      {
       "output_type": "stream",
       "stream": "stdout",
       "text": [
        " 732 91422 36\n",
        "04'00"
       ]
      },
      {
       "output_type": "stream",
       "stream": "stdout",
       "text": [
        " 733 91386 36\n",
        "04'05"
       ]
      },
      {
       "output_type": "stream",
       "stream": "stdout",
       "text": [
        " 734 91350 36\n",
        "00:45"
       ]
      },
      {
       "output_type": "stream",
       "stream": "stdout",
       "text": [
        " 735 91277 73\n",
        "01'15"
       ]
      },
      {
       "output_type": "stream",
       "stream": "stdout",
       "text": [
        " 736 91241 36\n",
        "01'10"
       ]
      },
      {
       "output_type": "stream",
       "stream": "stdout",
       "text": [
        " 737 91205 36\n",
        "16'40"
       ]
      },
      {
       "output_type": "stream",
       "stream": "stdout",
       "text": [
        " 738 91169 36\n",
        "21.10"
       ]
      },
      {
       "output_type": "stream",
       "stream": "stdout",
       "text": [
        " 739 91128 41\n",
        "21.15"
       ]
      },
      {
       "output_type": "stream",
       "stream": "stdout",
       "text": [
        " 740 91087 41\n",
        "01:45"
       ]
      },
      {
       "output_type": "stream",
       "stream": "stdout",
       "text": [
        " 741 91051 36\n",
        "00:25"
       ]
      },
      {
       "output_type": "stream",
       "stream": "stdout",
       "text": [
        " 742 90978 73\n",
        "13'10"
       ]
      },
      {
       "output_type": "stream",
       "stream": "stdout",
       "text": [
        " 743 90942 36\n",
        "13'15"
       ]
      },
      {
       "output_type": "stream",
       "stream": "stdout",
       "text": [
        " 744 90906 36\n",
        "16'30"
       ]
      },
      {
       "output_type": "stream",
       "stream": "stdout",
       "text": [
        " 745 90870 36\n",
        "18:25"
       ]
      },
      {
       "output_type": "stream",
       "stream": "stdout",
       "text": [
        " 746 90834 36\n",
        "18:20"
       ]
      },
      {
       "output_type": "stream",
       "stream": "stdout",
       "text": [
        " 747 90798 36\n",
        "23:50"
       ]
      },
      {
       "output_type": "stream",
       "stream": "stdout",
       "text": [
        " 748 90762 36\n",
        "23:55"
       ]
      },
      {
       "output_type": "stream",
       "stream": "stdout",
       "text": [
        " 749 90726 36\n",
        "21.55"
       ]
      },
      {
       "output_type": "stream",
       "stream": "stdout",
       "text": [
        " 750 90685 41\n",
        "23.00"
       ]
      },
      {
       "output_type": "stream",
       "stream": "stdout",
       "text": [
        " 751 90644 41\n",
        "19.55"
       ]
      },
      {
       "output_type": "stream",
       "stream": "stdout",
       "text": [
        " 752 90603 41\n",
        "00'35"
       ]
      },
      {
       "output_type": "stream",
       "stream": "stdout",
       "text": [
        " 753 90530 73\n",
        "23.55"
       ]
      },
      {
       "output_type": "stream",
       "stream": "stdout",
       "text": [
        " 754 90489 41\n",
        "15.35"
       ]
      },
      {
       "output_type": "stream",
       "stream": "stdout",
       "text": [
        " 755 90448 41\n",
        "06.20"
       ]
      },
      {
       "output_type": "stream",
       "stream": "stdout",
       "text": [
        " 756 90407 41\n",
        "15'25"
       ]
      },
      {
       "output_type": "stream",
       "stream": "stdout",
       "text": [
        " 757 90371 36\n",
        "10.50"
       ]
      },
      {
       "output_type": "stream",
       "stream": "stdout",
       "text": [
        " 758 90288 83\n",
        "06'30"
       ]
      },
      {
       "output_type": "stream",
       "stream": "stdout",
       "text": [
        " 759 90252 36\n",
        "06'35"
       ]
      },
      {
       "output_type": "stream",
       "stream": "stdout",
       "text": [
        " 760 90216 36\n",
        "03.20"
       ]
      },
      {
       "output_type": "stream",
       "stream": "stdout",
       "text": [
        " 761 90175 41\n",
        "03.25"
       ]
      },
      {
       "output_type": "stream",
       "stream": "stdout",
       "text": [
        " 762 90134 41\n",
        "17.40"
       ]
      },
      {
       "output_type": "stream",
       "stream": "stdout",
       "text": [
        " 763 90093 41\n",
        "23'00"
       ]
      },
      {
       "output_type": "stream",
       "stream": "stdout",
       "text": [
        " 764 90057 36\n",
        "10'30"
       ]
      },
      {
       "output_type": "stream",
       "stream": "stdout",
       "text": [
        " 765 89984 73\n",
        "10'35"
       ]
      },
      {
       "output_type": "stream",
       "stream": "stdout",
       "text": [
        " 766 89911 73\n",
        "03'25"
       ]
      },
      {
       "output_type": "stream",
       "stream": "stdout",
       "text": [
        " 767 89875 36\n",
        "03'20"
       ]
      },
      {
       "output_type": "stream",
       "stream": "stdout",
       "text": [
        " 768 89839 36\n",
        "07:35"
       ]
      },
      {
       "output_type": "stream",
       "stream": "stdout",
       "text": [
        " 769 89803 36\n",
        "08:10"
       ]
      },
      {
       "output_type": "stream",
       "stream": "stdout",
       "text": [
        " 770 89767 36\n",
        "20:00"
       ]
      },
      {
       "output_type": "stream",
       "stream": "stdout",
       "text": [
        " 771 89694 73\n",
        "20:05"
       ]
      },
      {
       "output_type": "stream",
       "stream": "stdout",
       "text": [
        " 772 89621 73\n",
        "17.45"
       ]
      },
      {
       "output_type": "stream",
       "stream": "stdout",
       "text": [
        " 773 89580 41\n",
        "17'05"
       ]
      },
      {
       "output_type": "stream",
       "stream": "stdout",
       "text": [
        " 774 89544 36\n",
        "04'15"
       ]
      },
      {
       "output_type": "stream",
       "stream": "stdout",
       "text": [
        " 775 89508 36\n",
        "04'10"
       ]
      },
      {
       "output_type": "stream",
       "stream": "stdout",
       "text": [
        " 776 89472 36\n",
        "nadat"
       ]
      },
      {
       "output_type": "stream",
       "stream": "stdout",
       "text": [
        " 777 89472 0\n",
        "12'10"
       ]
      },
      {
       "output_type": "stream",
       "stream": "stdout",
       "text": [
        " 778 89436 36\n",
        "19.50"
       ]
      },
      {
       "output_type": "stream",
       "stream": "stdout",
       "text": [
        " 779 89395 41\n",
        "01'00"
       ]
      },
      {
       "output_type": "stream",
       "stream": "stdout",
       "text": [
        " 780 89359 36\n",
        "01'05"
       ]
      },
      {
       "output_type": "stream",
       "stream": "stdout",
       "text": [
        " 781 89323 36\n",
        "11:30"
       ]
      },
      {
       "output_type": "stream",
       "stream": "stdout",
       "text": [
        " 782 89287 36\n",
        "00'20"
       ]
      },
      {
       "output_type": "stream",
       "stream": "stdout",
       "text": [
        " 783 89214 73\n",
        "18:35"
       ]
      },
      {
       "output_type": "stream",
       "stream": "stdout",
       "text": [
        " 784 89178 36\n",
        "18:30"
       ]
      },
      {
       "output_type": "stream",
       "stream": "stdout",
       "text": [
        " 785 89142 36\n",
        "23.15"
       ]
      },
      {
       "output_type": "stream",
       "stream": "stdout",
       "text": [
        " 786 89101 41\n",
        "15.20"
       ]
      },
      {
       "output_type": "stream",
       "stream": "stdout",
       "text": [
        " 787 89060 41\n",
        "06.15"
       ]
      },
      {
       "output_type": "stream",
       "stream": "stdout",
       "text": [
        " 788 89019 41\n",
        "06.10"
       ]
      },
      {
       "output_type": "stream",
       "stream": "stdout",
       "text": [
        " 789 88978 41\n",
        "15'30"
       ]
      },
      {
       "output_type": "stream",
       "stream": "stdout",
       "text": [
        " 790 88942 36\n",
        "10.20"
       ]
      },
      {
       "output_type": "stream",
       "stream": "stdout",
       "text": [
        " 791 88859 83\n",
        "10.25"
       ]
      },
      {
       "output_type": "stream",
       "stream": "stdout",
       "text": [
        " 792 88776 83\n",
        "06:35"
       ]
      },
      {
       "output_type": "stream",
       "stream": "stdout",
       "text": [
        " 793 88740 36\n",
        "06:30"
       ]
      },
      {
       "output_type": "stream",
       "stream": "stdout",
       "text": [
        " 794 88704 36\n",
        "03.30"
       ]
      },
      {
       "output_type": "stream",
       "stream": "stdout",
       "text": [
        " 795 88663 41\n",
        "19'05"
       ]
      },
      {
       "output_type": "stream",
       "stream": "stdout",
       "text": [
        " 796 88627 36\n",
        "22:55"
       ]
      },
      {
       "output_type": "stream",
       "stream": "stdout",
       "text": [
        " 797 88591 36\n",
        "22:50"
       ]
      },
      {
       "output_type": "stream",
       "stream": "stdout",
       "text": [
        " 798 88555 36\n",
        "09'50"
       ]
      },
      {
       "output_type": "stream",
       "stream": "stdout",
       "text": [
        " 799 88519 36\n",
        "09'55"
       ]
      },
      {
       "output_type": "stream",
       "stream": "stdout",
       "text": [
        " 800 88483 36\n",
        "10'25"
       ]
      },
      {
       "output_type": "stream",
       "stream": "stdout",
       "text": [
        " 801 88410 73\n",
        "10.55"
       ]
      },
      {
       "output_type": "stream",
       "stream": "stdout",
       "text": [
        " 802 88327 83\n",
        "09.00"
       ]
      },
      {
       "output_type": "stream",
       "stream": "stdout",
       "text": [
        " 803 88286 41\n",
        "09.05"
       ]
      },
      {
       "output_type": "stream",
       "stream": "stdout",
       "text": [
        " 804 88245 41\n",
        "03'55"
       ]
      },
      {
       "output_type": "stream",
       "stream": "stdout",
       "text": [
        " 805 88209 36\n",
        "jaren"
       ]
      },
      {
       "output_type": "stream",
       "stream": "stdout",
       "text": [
        " 806 87432 777\n",
        "17'35"
       ]
      },
      {
       "output_type": "stream",
       "stream": "stdout",
       "text": [
        " 807 87396 36\n",
        "23'50"
       ]
      },
      {
       "output_type": "stream",
       "stream": "stdout",
       "text": [
        " 808 87360 36\n",
        "23'55"
       ]
      },
      {
       "output_type": "stream",
       "stream": "stdout",
       "text": [
        " 809 87324 36\n",
        "08:00"
       ]
      },
      {
       "output_type": "stream",
       "stream": "stdout",
       "text": [
        " 810 87288 36\n",
        "08:05"
       ]
      },
      {
       "output_type": "stream",
       "stream": "stdout",
       "text": [
        " 811 87252 36\n",
        "05:30"
       ]
      },
      {
       "output_type": "stream",
       "stream": "stdout",
       "text": [
        " 812 87216 36\n",
        "21:25"
       ]
      },
      {
       "output_type": "stream",
       "stream": "stdout",
       "text": [
        " 813 87180 36\n",
        "21:20"
       ]
      },
      {
       "output_type": "stream",
       "stream": "stdout",
       "text": [
        " 814 87144 36\n",
        "12:30"
       ]
      },
      {
       "output_type": "stream",
       "stream": "stdout",
       "text": [
        " 815 87108 36\n",
        "17'15"
       ]
      },
      {
       "output_type": "stream",
       "stream": "stdout",
       "text": [
        " 816 87072 36\n",
        "17'10"
       ]
      },
      {
       "output_type": "stream",
       "stream": "stdout",
       "text": [
        " 817 87036 36\n",
        "23.25"
       ]
      },
      {
       "output_type": "stream",
       "stream": "stdout",
       "text": [
        " 818 86995 41\n",
        "23.20"
       ]
      },
      {
       "output_type": "stream",
       "stream": "stdout",
       "text": [
        " 819 86954 41\n",
        "12'00"
       ]
      },
      {
       "output_type": "stream",
       "stream": "stdout",
       "text": [
        " 820 86918 36\n",
        "12'05"
       ]
      },
      {
       "output_type": "stream",
       "stream": "stdout",
       "text": [
        " 821 86882 36\n",
        "19.40"
       ]
      },
      {
       "output_type": "stream",
       "stream": "stdout",
       "text": [
        " 822 86841 41\n",
        "13.30"
       ]
      },
      {
       "output_type": "stream",
       "stream": "stdout",
       "text": [
        " 823 86800 41\n",
        "17.10"
       ]
      },
      {
       "output_type": "stream",
       "stream": "stdout",
       "text": [
        " 824 86759 41\n",
        "18:00"
       ]
      },
      {
       "output_type": "stream",
       "stream": "stdout",
       "text": [
        " 825 86723 36\n",
        "18:05"
       ]
      },
      {
       "output_type": "stream",
       "stream": "stdout",
       "text": [
        " 826 86687 36\n",
        "15.15"
       ]
      },
      {
       "output_type": "stream",
       "stream": "stdout",
       "text": [
        " 827 86646 41\n",
        "15.10"
       ]
      },
      {
       "output_type": "stream",
       "stream": "stdout",
       "text": [
        " 828 86605 41\n",
        "09:20"
       ]
      },
      {
       "output_type": "stream",
       "stream": "stdout",
       "text": [
        " 829 86569 36\n",
        "09:25"
       ]
      },
      {
       "output_type": "stream",
       "stream": "stdout",
       "text": [
        " 830 86533 36\n",
        "15:35"
       ]
      },
      {
       "output_type": "stream",
       "stream": "stdout",
       "text": [
        " 831 86497 36\n",
        "15:30"
       ]
      },
      {
       "output_type": "stream",
       "stream": "stdout",
       "text": [
        " 832 86461 36\n",
        "zomer"
       ]
      },
      {
       "output_type": "stream",
       "stream": "stdout",
       "text": [
        " 833 86461 0\n",
        "10.30"
       ]
      },
      {
       "output_type": "stream",
       "stream": "stdout",
       "text": [
        " 834 86378 83\n",
        "10.35"
       ]
      },
      {
       "output_type": "stream",
       "stream": "stdout",
       "text": [
        " 835 86295 83\n",
        "06.00"
       ]
      },
      {
       "output_type": "stream",
       "stream": "stdout",
       "text": [
        " 836 86254 41\n",
        "06.05"
       ]
      },
      {
       "output_type": "stream",
       "stream": "stdout",
       "text": [
        " 837 86213 41\n",
        "06:25"
       ]
      },
      {
       "output_type": "stream",
       "stream": "stdout",
       "text": [
        " 838 86177 36\n",
        "06:20"
       ]
      },
      {
       "output_type": "stream",
       "stream": "stdout",
       "text": [
        " 839 86141 36\n",
        "03.05"
       ]
      },
      {
       "output_type": "stream",
       "stream": "stdout",
       "text": [
        " 840 86100 41\n",
        "03.00"
       ]
      },
      {
       "output_type": "stream",
       "stream": "stdout",
       "text": [
        " 841 86059 41\n",
        "22:45"
       ]
      },
      {
       "output_type": "stream",
       "stream": "stdout",
       "text": [
        " 842 86023 36\n",
        "22:40"
       ]
      },
      {
       "output_type": "stream",
       "stream": "stdout",
       "text": [
        " 843 85987 36\n",
        "20.35"
       ]
      },
      {
       "output_type": "stream",
       "stream": "stdout",
       "text": [
        " 844 85904 83\n",
        "20.30"
       ]
      },
      {
       "output_type": "stream",
       "stream": "stdout",
       "text": [
        " 845 85821 83\n",
        "09'45"
       ]
      },
      {
       "output_type": "stream",
       "stream": "stdout",
       "text": [
        " 846 85785 36\n",
        "04.10"
       ]
      },
      {
       "output_type": "stream",
       "stream": "stdout",
       "text": [
        " 847 85744 41\n",
        "04.15"
       ]
      },
      {
       "output_type": "stream",
       "stream": "stdout",
       "text": [
        " 848 85703 41\n",
        "10'50"
       ]
      },
      {
       "output_type": "stream",
       "stream": "stdout",
       "text": [
        " 849 85630 73\n",
        "10'55"
       ]
      },
      {
       "output_type": "stream",
       "stream": "stdout",
       "text": [
        " 850 85557 73\n",
        "09.10"
       ]
      },
      {
       "output_type": "stream",
       "stream": "stdout",
       "text": [
        " 851 85516 41\n",
        "09.15"
       ]
      },
      {
       "output_type": "stream",
       "stream": "stdout",
       "text": [
        " 852 85475 41\n",
        "21'40"
       ]
      },
      {
       "output_type": "stream",
       "stream": "stdout",
       "text": [
        " 853 85439 36\n",
        "01.25"
       ]
      },
      {
       "output_type": "stream",
       "stream": "stdout",
       "text": [
        " 854 85398 41\n",
        "03'40"
       ]
      },
      {
       "output_type": "stream",
       "stream": "stdout",
       "text": [
        " 855 85362 36\n",
        "03'45"
       ]
      },
      {
       "output_type": "stream",
       "stream": "stdout",
       "text": [
        " 856 85326 36\n",
        "00:10"
       ]
      },
      {
       "output_type": "stream",
       "stream": "stdout",
       "text": [
        " 857 85253 73\n",
        "00:15"
       ]
      },
      {
       "output_type": "stream",
       "stream": "stdout",
       "text": [
        " 858 85180 73\n",
        "12'20"
       ]
      },
      {
       "output_type": "stream",
       "stream": "stdout",
       "text": [
        " 859 85144 36\n",
        "12'25"
       ]
      },
      {
       "output_type": "stream",
       "stream": "stdout",
       "text": [
        " 860 85108 36\n",
        "13:10"
       ]
      },
      {
       "output_type": "stream",
       "stream": "stdout",
       "text": [
        " 861 85072 36\n",
        "13:15"
       ]
      },
      {
       "output_type": "stream",
       "stream": "stdout",
       "text": [
        " 862 85036 36\n",
        "08'40"
       ]
      },
      {
       "output_type": "stream",
       "stream": "stdout",
       "text": [
        " 863 85000 36\n",
        "23'45"
       ]
      },
      {
       "output_type": "stream",
       "stream": "stdout",
       "text": [
        " 864 84964 36\n",
        "23'40"
       ]
      },
      {
       "output_type": "stream",
       "stream": "stdout",
       "text": [
        " 865 84928 36\n",
        "06:50"
       ]
      },
      {
       "output_type": "stream",
       "stream": "stdout",
       "text": [
        " 866 84892 36\n",
        "11'35"
       ]
      },
      {
       "output_type": "stream",
       "stream": "stdout",
       "text": [
        " 867 84856 36\n",
        "08:35"
       ]
      },
      {
       "output_type": "stream",
       "stream": "stdout",
       "text": [
        " 868 84820 36\n",
        "08:30"
       ]
      },
      {
       "output_type": "stream",
       "stream": "stdout",
       "text": [
        " 869 84784 36\n",
        "21:35"
       ]
      },
      {
       "output_type": "stream",
       "stream": "stdout",
       "text": [
        " 870 84748 36\n",
        "21:30"
       ]
      },
      {
       "output_type": "stream",
       "stream": "stdout",
       "text": [
        " 871 84712 36\n",
        "18:10"
       ]
      },
      {
       "output_type": "stream",
       "stream": "stdout",
       "text": [
        " 872 84676 36\n",
        "23.30"
       ]
      },
      {
       "output_type": "stream",
       "stream": "stdout",
       "text": [
        " 873 84635 41\n",
        "23.35"
       ]
      },
      {
       "output_type": "stream",
       "stream": "stdout",
       "text": [
        " 874 84594 41\n",
        "01'45"
       ]
      },
      {
       "output_type": "stream",
       "stream": "stdout",
       "text": [
        " 875 84558 36\n",
        "22.40"
       ]
      },
      {
       "output_type": "stream",
       "stream": "stdout",
       "text": [
        " 876 84517 41\n",
        "22.45"
       ]
      },
      {
       "output_type": "stream",
       "stream": "stdout",
       "text": [
        " 877 84476 41\n",
        "00:00"
       ]
      },
      {
       "output_type": "stream",
       "stream": "stdout",
       "text": [
        " 878 84403 73\n",
        "00:05"
       ]
      },
      {
       "output_type": "stream",
       "stream": "stdout",
       "text": [
        " 879 84330 73\n",
        "15.00"
       ]
      },
      {
       "output_type": "stream",
       "stream": "stdout",
       "text": [
        " 880 84289 41\n",
        "15.05"
       ]
      },
      {
       "output_type": "stream",
       "stream": "stdout",
       "text": [
        " 881 84248 41\n",
        "19'00"
       ]
      },
      {
       "output_type": "stream",
       "stream": "stdout",
       "text": [
        " 882 84212 36\n",
        "15:25"
       ]
      },
      {
       "output_type": "stream",
       "stream": "stdout",
       "text": [
        " 883 84176 36\n",
        "15:20"
       ]
      },
      {
       "output_type": "stream",
       "stream": "stdout",
       "text": [
        " 884 84140 36\n",
        "10.05"
       ]
      },
      {
       "output_type": "stream",
       "stream": "stdout",
       "text": [
        " 885 84057 83\n",
        "10.00"
       ]
      },
      {
       "output_type": "stream",
       "stream": "stdout",
       "text": [
        " 886 83974 83\n",
        "06:10"
       ]
      },
      {
       "output_type": "stream",
       "stream": "stdout",
       "text": [
        " 887 83938 36\n",
        "06:15"
       ]
      },
      {
       "output_type": "stream",
       "stream": "stdout",
       "text": [
        " 888 83902 36\n",
        "03.10"
       ]
      },
      {
       "output_type": "stream",
       "stream": "stdout",
       "text": [
        " 889 83861 41\n",
        "03.15"
       ]
      },
      {
       "output_type": "stream",
       "stream": "stdout",
       "text": [
        " 890 83820 41\n",
        "05:45"
       ]
      },
      {
       "output_type": "stream",
       "stream": "stdout",
       "text": [
        " 891 83784 36\n",
        "05:40"
       ]
      },
      {
       "output_type": "stream",
       "stream": "stdout",
       "text": [
        " 892 83748 36\n",
        "17.15"
       ]
      },
      {
       "output_type": "stream",
       "stream": "stdout",
       "text": [
        " 893 83707 41\n",
        "20.25"
       ]
      },
      {
       "output_type": "stream",
       "stream": "stdout",
       "text": [
        " 894 83624 83\n",
        "20.20"
       ]
      },
      {
       "output_type": "stream",
       "stream": "stdout",
       "text": [
        " 895 83541 83\n",
        "13:45"
       ]
      },
      {
       "output_type": "stream",
       "stream": "stdout",
       "text": [
        " 896 83505 36\n",
        "13:40"
       ]
      },
      {
       "output_type": "stream",
       "stream": "stdout",
       "text": [
        " 897 83469 36\n",
        "09'30"
       ]
      },
      {
       "output_type": "stream",
       "stream": "stdout",
       "text": [
        " 898 83433 36\n",
        "09'35"
       ]
      },
      {
       "output_type": "stream",
       "stream": "stdout",
       "text": [
        " 899 83397 36\n",
        "04.00"
       ]
      },
      {
       "output_type": "stream",
       "stream": "stdout",
       "text": [
        " 900 83356 41\n",
        "04.05"
       ]
      },
      {
       "output_type": "stream",
       "stream": "stdout",
       "text": [
        " 901 83315 41\n",
        "10'40"
       ]
      },
      {
       "output_type": "stream",
       "stream": "stdout",
       "text": [
        " 902 83242 73\n",
        "10'45"
       ]
      },
      {
       "output_type": "stream",
       "stream": "stdout",
       "text": [
        " 903 83169 73\n",
        "09.25"
       ]
      },
      {
       "output_type": "stream",
       "stream": "stdout",
       "text": [
        " 904 83128 41\n",
        "09.20"
       ]
      },
      {
       "output_type": "stream",
       "stream": "stdout",
       "text": [
        " 905 83087 41\n",
        "18.20"
       ]
      },
      {
       "output_type": "stream",
       "stream": "stdout",
       "text": [
        " 906 83046 41\n",
        "23'30"
       ]
      },
      {
       "output_type": "stream",
       "stream": "stdout",
       "text": [
        " 907 83010 36\n",
        "23'35"
       ]
      },
      {
       "output_type": "stream",
       "stream": "stdout",
       "text": [
        " 908 82974 36\n",
        "23.10"
       ]
      },
      {
       "output_type": "stream",
       "stream": "stdout",
       "text": [
        " 909 82933 41\n",
        "08:20"
       ]
      },
      {
       "output_type": "stream",
       "stream": "stdout",
       "text": [
        " 910 82897 36\n",
        "21:00"
       ]
      },
      {
       "output_type": "stream",
       "stream": "stdout",
       "text": [
        " 911 82861 36\n",
        "21:05"
       ]
      },
      {
       "output_type": "stream",
       "stream": "stdout",
       "text": [
        " 912 82825 36\n",
        "04'45"
       ]
      },
      {
       "output_type": "stream",
       "stream": "stdout",
       "text": [
        " 913 82789 36\n",
        "04'40"
       ]
      },
      {
       "output_type": "stream",
       "stream": "stdout",
       "text": [
        " 914 82753 36\n",
        "20'00"
       ]
      },
      {
       "output_type": "stream",
       "stream": "stdout",
       "text": [
        " 915 82680 73\n",
        "08:25"
       ]
      },
      {
       "output_type": "stream",
       "stream": "stdout",
       "text": [
        " 916 82644 36\n",
        "23.05"
       ]
      },
      {
       "output_type": "stream",
       "stream": "stdout",
       "text": [
        " 917 82603 41\n",
        "00:35"
       ]
      },
      {
       "output_type": "stream",
       "stream": "stdout",
       "text": [
        " 918 82530 73\n",
        "00:30"
       ]
      },
      {
       "output_type": "stream",
       "stream": "stdout",
       "text": [
        " 919 82457 73\n",
        "19'45"
       ]
      },
      {
       "output_type": "stream",
       "stream": "stdout",
       "text": [
        " 920 82421 36\n",
        "19'15"
       ]
      },
      {
       "output_type": "stream",
       "stream": "stdout",
       "text": [
        " 921 82385 36\n",
        "19'10"
       ]
      },
      {
       "output_type": "stream",
       "stream": "stdout",
       "text": [
        " 922 82349 36\n",
        "15:10"
       ]
      },
      {
       "output_type": "stream",
       "stream": "stdout",
       "text": [
        " 923 82313 36\n",
        "10.10"
       ]
      },
      {
       "output_type": "stream",
       "stream": "stdout",
       "text": [
        " 924 82230 83\n",
        "10.15"
       ]
      },
      {
       "output_type": "stream",
       "stream": "stdout",
       "text": [
        " 925 82147 83\n",
        "06:05"
       ]
      },
      {
       "output_type": "stream",
       "stream": "stdout",
       "text": [
        " 926 82111 36\n",
        "06:00"
       ]
      },
      {
       "output_type": "stream",
       "stream": "stdout",
       "text": [
        " 927 82075 36\n",
        "05:55"
       ]
      },
      {
       "output_type": "stream",
       "stream": "stdout",
       "text": [
        " 928 82039 36\n",
        "05:50"
       ]
      },
      {
       "output_type": "stream",
       "stream": "stdout",
       "text": [
        " 929 82003 36\n",
        "heden"
       ]
      },
      {
       "output_type": "stream",
       "stream": "stdout",
       "text": [
        " 930 82003 0\n",
        "medio"
       ]
      },
      {
       "output_type": "stream",
       "stream": "stdout",
       "text": [
        " 931 81994 9\n",
        "17.00"
       ]
      },
      {
       "output_type": "stream",
       "stream": "stdout",
       "text": [
        " 932 81953 41\n",
        "17.05"
       ]
      },
      {
       "output_type": "stream",
       "stream": "stdout",
       "text": [
        " 933 81912 41\n",
        "20.10"
       ]
      },
      {
       "output_type": "stream",
       "stream": "stdout",
       "text": [
        " 934 81829 83\n",
        "20.15"
       ]
      },
      {
       "output_type": "stream",
       "stream": "stdout",
       "text": [
        " 935 81746 83\n",
        "09'20"
       ]
      },
      {
       "output_type": "stream",
       "stream": "stdout",
       "text": [
        " 936 81710 36\n",
        "09'25"
       ]
      },
      {
       "output_type": "stream",
       "stream": "stdout",
       "text": [
        " 937 81674 36\n",
        "04.35"
       ]
      },
      {
       "output_type": "stream",
       "stream": "stdout",
       "text": [
        " 938 81633 41\n",
        "04.30"
       ]
      },
      {
       "output_type": "stream",
       "stream": "stdout",
       "text": [
        " 939 81592 41\n",
        "13:00"
       ]
      },
      {
       "output_type": "stream",
       "stream": "stdout",
       "text": [
        " 940 81556 36\n",
        "13:05"
       ]
      },
      {
       "output_type": "stream",
       "stream": "stdout",
       "text": [
        " 941 81520 36\n",
        "09.30"
       ]
      },
      {
       "output_type": "stream",
       "stream": "stdout",
       "text": [
        " 942 81479 41\n",
        "09.35"
       ]
      },
      {
       "output_type": "stream",
       "stream": "stdout",
       "text": [
        " 943 81438 41\n",
        "23'20"
       ]
      },
      {
       "output_type": "stream",
       "stream": "stdout",
       "text": [
        " 944 81402 36\n",
        "23'25"
       ]
      },
      {
       "output_type": "stream",
       "stream": "stdout",
       "text": [
        " 945 81366 36\n",
        "16:45"
       ]
      },
      {
       "output_type": "stream",
       "stream": "stdout",
       "text": [
        " 946 81330 36\n",
        "16:40"
       ]
      },
      {
       "output_type": "stream",
       "stream": "stdout",
       "text": [
        " 947 81294 36\n",
        "14'45"
       ]
      },
      {
       "output_type": "stream",
       "stream": "stdout",
       "text": [
        " 948 81258 36\n",
        "15'20"
       ]
      },
      {
       "output_type": "stream",
       "stream": "stdout",
       "text": [
        " 949 81222 36\n",
        "21:15"
       ]
      },
      {
       "output_type": "stream",
       "stream": "stdout",
       "text": [
        " 950 81186 36\n",
        "21:10"
       ]
      },
      {
       "output_type": "stream",
       "stream": "stdout",
       "text": [
        " 951 81150 36\n",
        "07.20"
       ]
      },
      {
       "output_type": "stream",
       "stream": "stdout",
       "text": [
        " 952 81109 41\n",
        "17'45"
       ]
      },
      {
       "output_type": "stream",
       "stream": "stdout",
       "text": [
        " 953 81073 36\n",
        "17'40"
       ]
      },
      {
       "output_type": "stream",
       "stream": "stdout",
       "text": [
        " 954 81037 36\n",
        "04'50"
       ]
      },
      {
       "output_type": "stream",
       "stream": "stdout",
       "text": [
        " 955 81001 36\n",
        "04'55"
       ]
      },
      {
       "output_type": "stream",
       "stream": "stdout",
       "text": [
        " 956 80965 36\n",
        "05:00"
       ]
      },
      {
       "output_type": "stream",
       "stream": "stdout",
       "text": [
        " 957 80929 36\n",
        "11:35"
       ]
      },
      {
       "output_type": "stream",
       "stream": "stdout",
       "text": [
        " 958 80893 36\n",
        "23:40"
       ]
      },
      {
       "output_type": "stream",
       "stream": "stdout",
       "text": [
        " 959 80857 36\n",
        "22:10"
       ]
      },
      {
       "output_type": "stream",
       "stream": "stdout",
       "text": [
        " 960 80821 36\n",
        "22:15"
       ]
      },
      {
       "output_type": "stream",
       "stream": "stdout",
       "text": [
        " 961 80785 36\n",
        "18'15"
       ]
      },
      {
       "output_type": "stream",
       "stream": "stdout",
       "text": [
        " 962 80749 36\n",
        "18'10"
       ]
      },
      {
       "output_type": "stream",
       "stream": "stdout",
       "text": [
        " 963 80713 36\n",
        "01.45"
       ]
      },
      {
       "output_type": "stream",
       "stream": "stdout",
       "text": [
        " 964 80672 41\n",
        "01.40"
       ]
      },
      {
       "output_type": "stream",
       "stream": "stdout",
       "text": [
        " 965 80631 41\n",
        "00:20"
       ]
      },
      {
       "output_type": "stream",
       "stream": "stdout",
       "text": [
        " 966 80558 73\n",
        "19'20"
       ]
      },
      {
       "output_type": "stream",
       "stream": "stdout",
       "text": [
        " 967 80522 36\n",
        "19'25"
       ]
      },
      {
       "output_type": "stream",
       "stream": "stdout",
       "text": [
        " 968 80486 36\n",
        "april"
       ]
      },
      {
       "output_type": "stream",
       "stream": "stdout",
       "text": [
        " 969 80472 14\n",
        "15:05"
       ]
      },
      {
       "output_type": "stream",
       "stream": "stdout",
       "text": [
        " 970 80436 36\n",
        "15:00"
       ]
      },
      {
       "output_type": "stream",
       "stream": "stdout",
       "text": [
        " 971 80400 36\n",
        "07'55"
       ]
      },
      {
       "output_type": "stream",
       "stream": "stdout",
       "text": [
        " 972 80364 36\n",
        "07'50"
       ]
      },
      {
       "output_type": "stream",
       "stream": "stdout",
       "text": [
        " 973 80328 36\n",
        "17.30"
       ]
      },
      {
       "output_type": "stream",
       "stream": "stdout",
       "text": [
        " 974 80287 41\n",
        "20.05"
       ]
      },
      {
       "output_type": "stream",
       "stream": "stdout",
       "text": [
        " 975 80204 83\n",
        "20.00"
       ]
      },
      {
       "output_type": "stream",
       "stream": "stdout",
       "text": [
        " 976 80121 83\n",
        "14:25"
       ]
      },
      {
       "output_type": "stream",
       "stream": "stdout",
       "text": [
        " 977 80085 36\n",
        "09'15"
       ]
      },
      {
       "output_type": "stream",
       "stream": "stdout",
       "text": [
        " 978 80049 36\n",
        "04.20"
       ]
      },
      {
       "output_type": "stream",
       "stream": "stdout",
       "text": [
        " 979 80008 41\n",
        "04.25"
       ]
      },
      {
       "output_type": "stream",
       "stream": "stdout",
       "text": [
        " 980 79967 41\n",
        "13:30"
       ]
      },
      {
       "output_type": "stream",
       "stream": "stdout",
       "text": [
        " 981 79931 36\n",
        "21'30"
       ]
      },
      {
       "output_type": "stream",
       "stream": "stdout",
       "text": [
        " 982 79895 36\n",
        "21'35"
       ]
      },
      {
       "output_type": "stream",
       "stream": "stdout",
       "text": [
        " 983 79859 36\n",
        "22.15"
       ]
      },
      {
       "output_type": "stream",
       "stream": "stdout",
       "text": [
        " 984 79818 41\n",
        "22.10"
       ]
      },
      {
       "output_type": "stream",
       "stream": "stdout",
       "text": [
        " 985 79777 41\n",
        "19.15"
       ]
      },
      {
       "output_type": "stream",
       "stream": "stdout",
       "text": [
        " 986 79736 41\n",
        "23'15"
       ]
      },
      {
       "output_type": "stream",
       "stream": "stdout",
       "text": [
        " 987 79700 36\n",
        "23'10"
       ]
      },
      {
       "output_type": "stream",
       "stream": "stdout",
       "text": [
        " 988 79664 36\n",
        "16:55"
       ]
      },
      {
       "output_type": "stream",
       "stream": "stdout",
       "text": [
        " 989 79628 36\n",
        "16:50"
       ]
      },
      {
       "output_type": "stream",
       "stream": "stdout",
       "text": [
        " 990 79592 36\n",
        "14.20"
       ]
      },
      {
       "output_type": "stream",
       "stream": "stdout",
       "text": [
        " 991 79551 41\n",
        "02.35"
       ]
      },
      {
       "output_type": "stream",
       "stream": "stdout",
       "text": [
        " 992 79510 41\n",
        "02.30"
       ]
      },
      {
       "output_type": "stream",
       "stream": "stdout",
       "text": [
        " 993 79469 41\n",
        "07.35"
       ]
      },
      {
       "output_type": "stream",
       "stream": "stdout",
       "text": [
        " 994 79428 41\n",
        "07.30"
       ]
      },
      {
       "output_type": "stream",
       "stream": "stdout",
       "text": [
        " 995 79387 41\n",
        "17'50"
       ]
      },
      {
       "output_type": "stream",
       "stream": "stdout",
       "text": [
        " 996 79351 36\n",
        "17'55"
       ]
      },
      {
       "output_type": "stream",
       "stream": "stdout",
       "text": [
        " 997 79315 36\n",
        "11'05"
       ]
      },
      {
       "output_type": "stream",
       "stream": "stdout",
       "text": [
        " 998 79279 36\n",
        "11'00"
       ]
      },
      {
       "output_type": "stream",
       "stream": "stdout",
       "text": [
        " 999 79243 36\n",
        "14'20"
       ]
      },
      {
       "output_type": "stream",
       "stream": "stdout",
       "text": [
        " 1000 79207 36\n",
        "18:40"
       ]
      },
      {
       "output_type": "stream",
       "stream": "stdout",
       "text": [
        " 1001 79171 36\n",
        "16'15"
       ]
      },
      {
       "output_type": "stream",
       "stream": "stdout",
       "text": [
        " 1002 79135 36\n",
        "01'40"
       ]
      },
      {
       "output_type": "stream",
       "stream": "stdout",
       "text": [
        " 1003 79099 36\n",
        "later"
       ]
      },
      {
       "output_type": "stream",
       "stream": "stdout",
       "text": [
        " 1004 78694 405\n",
        "22:00"
       ]
      },
      {
       "output_type": "stream",
       "stream": "stdout",
       "text": [
        " 1005 78658 36\n",
        "22:05"
       ]
      },
      {
       "output_type": "stream",
       "stream": "stdout",
       "text": [
        " 1006 78622 36\n",
        "18'05"
       ]
      },
      {
       "output_type": "stream",
       "stream": "stdout",
       "text": [
        " 1007 78586 36\n",
        "18'00"
       ]
      },
      {
       "output_type": "stream",
       "stream": "stdout",
       "text": [
        " 1008 78550 36\n",
        "12.45"
       ]
      },
      {
       "output_type": "stream",
       "stream": "stdout",
       "text": [
        " 1009 78509 41\n",
        "12.40"
       ]
      },
      {
       "output_type": "stream",
       "stream": "stdout",
       "text": [
        " 1010 78468 41\n",
        "02'10"
       ]
      },
      {
       "output_type": "stream",
       "stream": "stdout",
       "text": [
        " 1011 78432 36\n",
        "01.55"
       ]
      },
      {
       "output_type": "stream",
       "stream": "stdout",
       "text": [
        " 1012 78391 41\n",
        "01.50"
       ]
      },
      {
       "output_type": "stream",
       "stream": "stdout",
       "text": [
        " 1013 78350 41\n",
        "19'35"
       ]
      },
      {
       "output_type": "stream",
       "stream": "stdout",
       "text": [
        " 1014 78314 36\n",
        "19'30"
       ]
      },
      {
       "output_type": "stream",
       "stream": "stdout",
       "text": [
        " 1015 78278 36\n",
        "21.20"
       ]
      },
      {
       "output_type": "stream",
       "stream": "stdout",
       "text": [
        " 1016 78237 41\n",
        "14'55"
       ]
      },
      {
       "output_type": "stream",
       "stream": "stdout",
       "text": [
        " 1017 78201 36\n",
        "14'50"
       ]
      },
      {
       "output_type": "stream",
       "stream": "stdout",
       "text": [
        " 1018 78165 36\n",
        "acuut"
       ]
      },
      {
       "output_type": "stream",
       "stream": "stdout",
       "text": [
        " 1019 78165 0\n",
        "07'40"
       ]
      },
      {
       "output_type": "stream",
       "stream": "stdout",
       "text": [
        " 1020 78129 36\n",
        "17.20"
       ]
      },
      {
       "output_type": "stream",
       "stream": "stdout",
       "text": [
        " 1021 78088 41\n",
        "17.25"
       ]
      },
      {
       "output_type": "stream",
       "stream": "stdout",
       "text": [
        " 1022 78047 41\n",
        "09'00"
       ]
      },
      {
       "output_type": "stream",
       "stream": "stdout",
       "text": [
        " 1023 78011 36\n",
        "09'05"
       ]
      },
      {
       "output_type": "stream",
       "stream": "stdout",
       "text": [
        " 1024 77975 36\n",
        "13:20"
       ]
      },
      {
       "output_type": "stream",
       "stream": "stdout",
       "text": [
        " 1025 77939 36\n",
        "13:25"
       ]
      },
      {
       "output_type": "stream",
       "stream": "stdout",
       "text": [
        " 1026 77903 36\n",
        "02'05"
       ]
      },
      {
       "output_type": "stream",
       "stream": "stdout",
       "text": [
        " 1027 77867 36\n",
        "02'00"
       ]
      },
      {
       "output_type": "stream",
       "stream": "stdout",
       "text": [
        " 1028 77831 36\n",
        "22.05"
       ]
      },
      {
       "output_type": "stream",
       "stream": "stdout",
       "text": [
        " 1029 77790 41\n",
        "22.00"
       ]
      },
      {
       "output_type": "stream",
       "stream": "stdout",
       "text": [
        " 1030 77749 41\n",
        "23'05"
       ]
      },
      {
       "output_type": "stream",
       "stream": "stdout",
       "text": [
        " 1031 77713 36\n",
        "11.35"
       ]
      },
      {
       "output_type": "stream",
       "stream": "stdout",
       "text": [
        " 1032 77672 41\n",
        "11.30"
       ]
      },
      {
       "output_type": "stream",
       "stream": "stdout",
       "text": [
        " 1033 77631 41\n",
        "14.35"
       ]
      },
      {
       "output_type": "stream",
       "stream": "stdout",
       "text": [
        " 1034 77590 41\n",
        "14.30"
       ]
      },
      {
       "output_type": "stream",
       "stream": "stdout",
       "text": [
        " 1035 77549 41\n",
        "02.25"
       ]
      },
      {
       "output_type": "stream",
       "stream": "stdout",
       "text": [
        " 1036 77508 41\n",
        "02.20"
       ]
      },
      {
       "output_type": "stream",
       "stream": "stdout",
       "text": [
        " 1037 77467 41\n",
        "07.00"
       ]
      },
      {
       "output_type": "stream",
       "stream": "stdout",
       "text": [
        " 1038 77426 41\n",
        "07.05"
       ]
      },
      {
       "output_type": "stream",
       "stream": "stdout",
       "text": [
        " 1039 77385 41\n",
        "08.15"
       ]
      },
      {
       "output_type": "stream",
       "stream": "stdout",
       "text": [
        " 1040 77344 41\n",
        "08.10"
       ]
      },
      {
       "output_type": "stream",
       "stream": "stdout",
       "text": [
        " 1041 77303 41\n",
        "18:50"
       ]
      },
      {
       "output_type": "stream",
       "stream": "stdout",
       "text": [
        " 1042 77267 36\n",
        "18:55"
       ]
      },
      {
       "output_type": "stream",
       "stream": "stdout",
       "text": [
        " 1043 77231 36\n",
        "13:35"
       ]
      },
      {
       "output_type": "stream",
       "stream": "stdout",
       "text": [
        " 1044 77195 36\n",
        "14.00"
       ]
      },
      {
       "output_type": "stream",
       "stream": "stdout",
       "text": [
        " 1045 77154 41\n",
        "06:55"
       ]
      },
      {
       "output_type": "stream",
       "stream": "stdout",
       "text": [
        " 1046 77118 36\n",
        "22:35"
       ]
      },
      {
       "output_type": "stream",
       "stream": "stdout",
       "text": [
        " 1047 77082 36\n",
        "22:30"
       ]
      },
      {
       "output_type": "stream",
       "stream": "stdout",
       "text": [
        " 1048 77046 36\n",
        "18'30"
       ]
      },
      {
       "output_type": "stream",
       "stream": "stdout",
       "text": [
        " 1049 77010 36\n",
        "18'35"
       ]
      },
      {
       "output_type": "stream",
       "stream": "stdout",
       "text": [
        " 1050 76974 36\n",
        "12.55"
       ]
      },
      {
       "output_type": "stream",
       "stream": "stdout",
       "text": [
        " 1051 76933 41\n",
        "12.50"
       ]
      },
      {
       "output_type": "stream",
       "stream": "stdout",
       "text": [
        " 1052 76892 41\n",
        "23:25"
       ]
      },
      {
       "output_type": "stream",
       "stream": "stdout",
       "text": [
        " 1053 76856 36\n",
        "23.50"
       ]
      },
      {
       "output_type": "stream",
       "stream": "stdout",
       "text": [
        " 1054 76815 41\n",
        "08:15"
       ]
      },
      {
       "output_type": "stream",
       "stream": "stdout",
       "text": [
        " 1055 76779 36\n",
        "19'40"
       ]
      },
      {
       "output_type": "stream",
       "stream": "stdout",
       "text": [
        " 1056 76743 36\n",
        "06.25"
       ]
      },
      {
       "output_type": "stream",
       "stream": "stdout",
       "text": [
        " 1057 76702 41\n",
        "14'40"
       ]
      },
      {
       "output_type": "stream",
       "stream": "stdout",
       "text": [
        " 1058 76666 36\n",
        "05:05"
       ]
      },
      {
       "output_type": "stream",
       "stream": "stdout",
       "text": [
        " 1059 76630 36\n",
        "18:15"
       ]
      },
      {
       "output_type": "stream",
       "stream": "stdout",
       "text": [
        " 1060 76594 36\n",
        "15:15"
       ]
      },
      {
       "output_type": "stream",
       "stream": "stdout",
       "text": [
        " 1061 76558 36\n",
        "17'00"
       ]
      },
      {
       "output_type": "stream",
       "stream": "stdout",
       "text": [
        " 1062 76522 36\n",
        "02'15"
       ]
      },
      {
       "output_type": "stream",
       "stream": "stdout",
       "text": [
        " 1063 76486 36\n",
        "22.30"
       ]
      },
      {
       "output_type": "stream",
       "stream": "stdout",
       "text": [
        " 1064 76445 41\n",
        "22.35"
       ]
      },
      {
       "output_type": "stream",
       "stream": "stdout",
       "text": [
        " 1065 76404 41\n",
        "eerst"
       ]
      },
      {
       "output_type": "stream",
       "stream": "stdout",
       "text": [
        " 1066 68178 8226\n",
        "11.25"
       ]
      },
      {
       "output_type": "stream",
       "stream": "stdout",
       "text": [
        " 1067 68137 41\n",
        "11.20"
       ]
      },
      {
       "output_type": "stream",
       "stream": "stdout",
       "text": [
        " 1068 68096 41\n",
        "14.05"
       ]
      },
      {
       "output_type": "stream",
       "stream": "stdout",
       "text": [
        " 1069 68055 41\n",
        "02.10"
       ]
      },
      {
       "output_type": "stream",
       "stream": "stdout",
       "text": [
        " 1070 68014 41\n",
        "02.15"
       ]
      },
      {
       "output_type": "stream",
       "stream": "stdout",
       "text": [
        " 1071 67973 41\n",
        "21:45"
       ]
      },
      {
       "output_type": "stream",
       "stream": "stdout",
       "text": [
        " 1072 67937 36\n",
        "07.15"
       ]
      },
      {
       "output_type": "stream",
       "stream": "stdout",
       "text": [
        " 1073 67896 41\n",
        "07.10"
       ]
      },
      {
       "output_type": "stream",
       "stream": "stdout",
       "text": [
        " 1074 67855 41\n",
        "22'20"
       ]
      },
      {
       "output_type": "stream",
       "stream": "stdout",
       "text": [
        " 1075 67819 36\n",
        "08.00"
       ]
      },
      {
       "output_type": "stream",
       "stream": "stdout",
       "text": [
        " 1076 67778 41\n",
        "08.05"
       ]
      },
      {
       "output_type": "stream",
       "stream": "stdout",
       "text": [
        " 1077 67737 41\n",
        "07'30"
       ]
      },
      {
       "output_type": "stream",
       "stream": "stdout",
       "text": [
        " 1078 67701 36\n",
        "16:30"
       ]
      },
      {
       "output_type": "stream",
       "stream": "stdout",
       "text": [
        " 1079 67665 36\n",
        "06:40"
       ]
      },
      {
       "output_type": "stream",
       "stream": "stdout",
       "text": [
        " 1080 67629 36\n",
        "06:45"
       ]
      },
      {
       "output_type": "stream",
       "stream": "stdout",
       "text": [
        " 1081 67593 36\n",
        "13.25"
       ]
      },
      {
       "output_type": "stream",
       "stream": "stdout",
       "text": [
        " 1082 67552 41\n",
        "22:20"
       ]
      },
      {
       "output_type": "stream",
       "stream": "stdout",
       "text": [
        " 1083 67516 36\n",
        "22:25"
       ]
      },
      {
       "output_type": "stream",
       "stream": "stdout",
       "text": [
        " 1084 67480 36\n",
        "18'20"
       ]
      },
      {
       "output_type": "stream",
       "stream": "stdout",
       "text": [
        " 1085 67444 36\n",
        "20:55"
       ]
      },
      {
       "output_type": "stream",
       "stream": "stdout",
       "text": [
        " 1086 67371 73\n",
        "19'50"
       ]
      },
      {
       "output_type": "stream",
       "stream": "stdout",
       "text": [
        " 1087 67335 36\n",
        "15:55"
       ]
      },
      {
       "output_type": "stream",
       "stream": "stdout",
       "text": [
        " 1088 67299 36\n",
        "15:50"
       ]
      },
      {
       "output_type": "stream",
       "stream": "stdout",
       "text": [
        " 1089 67263 36\n",
        "16:00"
       ]
      },
      {
       "output_type": "stream",
       "stream": "stdout",
       "text": [
        " 1090 67227 36\n",
        "16:05"
       ]
      },
      {
       "output_type": "stream",
       "stream": "stdout",
       "text": [
        " 1091 67191 36\n",
        "05:10"
       ]
      },
      {
       "output_type": "stream",
       "stream": "stdout",
       "text": [
        " 1092 67155 36\n",
        "05:15"
       ]
      },
      {
       "output_type": "stream",
       "stream": "stdout",
       "text": [
        " 1093 67119 36\n",
        "20.55"
       ]
      },
      {
       "output_type": "stream",
       "stream": "stdout",
       "text": [
        " 1094 67036 83\n",
        "12'15"
       ]
      },
      {
       "output_type": "stream",
       "stream": "stdout",
       "text": [
        " 1095 67000 36\n",
        "11'15"
       ]
      },
      {
       "output_type": "stream",
       "stream": "stdout",
       "text": [
        " 1096 66964 36\n",
        "11'10"
       ]
      },
      {
       "output_type": "stream",
       "stream": "stdout",
       "text": [
        " 1097 66928 36\n",
        "08'55"
       ]
      },
      {
       "output_type": "stream",
       "stream": "stdout",
       "text": [
        " 1098 66892 36\n",
        "02'20"
       ]
      },
      {
       "output_type": "stream",
       "stream": "stdout",
       "text": [
        " 1099 66856 36\n",
        "22.20"
       ]
      },
      {
       "output_type": "stream",
       "stream": "stdout",
       "text": [
        " 1100 66815 41\n",
        "04:15"
       ]
      },
      {
       "output_type": "stream",
       "stream": "stdout",
       "text": [
        " 1101 66779 36\n",
        "05.35"
       ]
      },
      {
       "output_type": "stream",
       "stream": "stdout",
       "text": [
        " 1102 66738 41\n",
        "07:45"
       ]
      },
      {
       "output_type": "stream",
       "stream": "stdout",
       "text": [
        " 1103 66702 36\n",
        "18.40"
       ]
      },
      {
       "output_type": "stream",
       "stream": "stdout",
       "text": [
        " 1104 66661 41\n",
        "18.45"
       ]
      },
      {
       "output_type": "stream",
       "stream": "stdout",
       "text": [
        " 1105 66620 41\n",
        "11.10"
       ]
      },
      {
       "output_type": "stream",
       "stream": "stdout",
       "text": [
        " 1106 66579 41\n",
        "11.15"
       ]
      },
      {
       "output_type": "stream",
       "stream": "stdout",
       "text": [
        " 1107 66538 41\n",
        "14.10"
       ]
      },
      {
       "output_type": "stream",
       "stream": "stdout",
       "text": [
        " 1108 66497 41\n",
        "02.05"
       ]
      },
      {
       "output_type": "stream",
       "stream": "stdout",
       "text": [
        " 1109 66456 41\n",
        "02.00"
       ]
      },
      {
       "output_type": "stream",
       "stream": "stdout",
       "text": [
        " 1110 66415 41\n",
        "14:40"
       ]
      },
      {
       "output_type": "stream",
       "stream": "stdout",
       "text": [
        " 1111 66379 36\n",
        "21:50"
       ]
      },
      {
       "output_type": "stream",
       "stream": "stdout",
       "text": [
        " 1112 66343 36\n",
        "21:55"
       ]
      },
      {
       "output_type": "stream",
       "stream": "stdout",
       "text": [
        " 1113 66307 36\n",
        "08.30"
       ]
      },
      {
       "output_type": "stream",
       "stream": "stdout",
       "text": [
        " 1114 66266 41\n",
        "08.35"
       ]
      },
      {
       "output_type": "stream",
       "stream": "stdout",
       "text": [
        " 1115 66225 41\n",
        "17:30"
       ]
      },
      {
       "output_type": "stream",
       "stream": "stdout",
       "text": [
        " 1116 66189 36\n",
        "17:35"
       ]
      },
      {
       "output_type": "stream",
       "stream": "stdout",
       "text": [
        " 1117 66153 36\n",
        "12.25"
       ]
      },
      {
       "output_type": "stream",
       "stream": "stdout",
       "text": [
        " 1118 66112 41\n",
        "18'25"
       ]
      },
      {
       "output_type": "stream",
       "stream": "stdout",
       "text": [
        " 1119 66076 36\n",
        "reeds"
       ]
      },
      {
       "output_type": "stream",
       "stream": "stdout",
       "text": [
        " 1120 66076 0\n",
        "15:40"
       ]
      },
      {
       "output_type": "stream",
       "stream": "stdout",
       "text": [
        " 1121 66040 36\n",
        "01:35"
       ]
      },
      {
       "output_type": "stream",
       "stream": "stdout",
       "text": [
        " 1122 66004 36\n",
        "18'50"
       ]
      },
      {
       "output_type": "stream",
       "stream": "stdout",
       "text": [
        " 1123 65968 36\n",
        "18'55"
       ]
      },
      {
       "output_type": "stream",
       "stream": "stdout",
       "text": [
        " 1124 65932 36\n",
        "01.00"
       ]
      },
      {
       "output_type": "stream",
       "stream": "stdout",
       "text": [
        " 1125 65891 41\n",
        "01.05"
       ]
      },
      {
       "output_type": "stream",
       "stream": "stdout",
       "text": [
        " 1126 65850 41\n",
        "16:10"
       ]
      },
      {
       "output_type": "stream",
       "stream": "stdout",
       "text": [
        " 1127 65814 36\n",
        "16:15"
       ]
      },
      {
       "output_type": "stream",
       "stream": "stdout",
       "text": [
        " 1128 65778 36\n",
        "05:25"
       ]
      },
      {
       "output_type": "stream",
       "stream": "stdout",
       "text": [
        " 1129 65742 36\n",
        "05:20"
       ]
      },
      {
       "output_type": "stream",
       "stream": "stdout",
       "text": [
        " 1130 65706 36\n",
        "07'15"
       ]
      },
      {
       "output_type": "stream",
       "stream": "stdout",
       "text": [
        " 1131 65670 36\n",
        "20.40"
       ]
      },
      {
       "output_type": "stream",
       "stream": "stdout",
       "text": [
        " 1132 65587 83\n",
        "15.30"
       ]
      },
      {
       "output_type": "stream",
       "stream": "stdout",
       "text": [
        " 1133 65546 41\n",
        "07:25"
       ]
      },
      {
       "output_type": "stream",
       "stream": "stdout",
       "text": [
        " 1134 65510 36\n",
        "11'20"
       ]
      },
      {
       "output_type": "stream",
       "stream": "stdout",
       "text": [
        " 1135 65474 36\n",
        "11'25"
       ]
      },
      {
       "output_type": "stream",
       "stream": "stdout",
       "text": [
        " 1136 65438 36\n",
        "17:10"
       ]
      },
      {
       "output_type": "stream",
       "stream": "stdout",
       "text": [
        " 1137 65402 36\n",
        "02'35"
       ]
      },
      {
       "output_type": "stream",
       "stream": "stdout",
       "text": [
        " 1138 65366 36\n",
        "02'30"
       ]
      },
      {
       "output_type": "stream",
       "stream": "stdout",
       "text": [
        " 1139 65330 36\n",
        "22.50"
       ]
      },
      {
       "output_type": "stream",
       "stream": "stdout",
       "text": [
        " 1140 65289 41\n",
        "22.55"
       ]
      },
      {
       "output_type": "stream",
       "stream": "stdout",
       "text": [
        " 1141 65248 41\n",
        "18.55"
       ]
      },
      {
       "output_type": "stream",
       "stream": "stdout",
       "text": [
        " 1142 65207 41\n",
        "18.50"
       ]
      },
      {
       "output_type": "stream",
       "stream": "stdout",
       "text": [
        " 1143 65166 41\n",
        "11.05"
       ]
      },
      {
       "output_type": "stream",
       "stream": "stdout",
       "text": [
        " 1144 65125 41\n",
        "11.00"
       ]
      },
      {
       "output_type": "stream",
       "stream": "stdout",
       "text": [
        " 1145 65084 41\n",
        "18:45"
       ]
      },
      {
       "output_type": "stream",
       "stream": "stdout",
       "text": [
        " 1146 65048 36\n",
        "16.10"
       ]
      },
      {
       "output_type": "stream",
       "stream": "stdout",
       "text": [
        " 1147 65007 41\n",
        "08.25"
       ]
      },
      {
       "output_type": "stream",
       "stream": "stdout",
       "text": [
        " 1148 64966 41\n",
        "pasen"
       ]
      },
      {
       "output_type": "stream",
       "stream": "stdout",
       "text": [
        " 1149 64966 0\n",
        "18'40"
       ]
      },
      {
       "output_type": "stream",
       "stream": "stdout",
       "text": [
        " 1150 64930 36\n",
        "18'45"
       ]
      },
      {
       "output_type": "stream",
       "stream": "stdout",
       "text": [
        " 1151 64894 36\n",
        "12.00"
       ]
      },
      {
       "output_type": "stream",
       "stream": "stdout",
       "text": [
        " 1152 64853 41\n",
        "12.05"
       ]
      },
      {
       "output_type": "stream",
       "stream": "stdout",
       "text": [
        " 1153 64812 41\n",
        "01.10"
       ]
      },
      {
       "output_type": "stream",
       "stream": "stdout",
       "text": [
        " 1154 64771 41\n",
        "01.15"
       ]
      },
      {
       "output_type": "stream",
       "stream": "stdout",
       "text": [
        " 1155 64730 41\n",
        "19'55"
       ]
      },
      {
       "output_type": "stream",
       "stream": "stdout",
       "text": [
        " 1156 64694 36\n",
        "07.25"
       ]
      },
      {
       "output_type": "stream",
       "stream": "stdout",
       "text": [
        " 1157 64653 41\n",
        "16:25"
       ]
      },
      {
       "output_type": "stream",
       "stream": "stdout",
       "text": [
        " 1158 64617 36\n",
        "16:20"
       ]
      },
      {
       "output_type": "stream",
       "stream": "stdout",
       "text": [
        " 1159 64581 36\n",
        "19:05"
       ]
      },
      {
       "output_type": "stream",
       "stream": "stdout",
       "text": [
        " 1160 64545 36\n",
        "14'10"
       ]
      },
      {
       "output_type": "stream",
       "stream": "stdout",
       "text": [
        " 1161 64509 36\n",
        "14'15"
       ]
      },
      {
       "output_type": "stream",
       "stream": "stdout",
       "text": [
        " 1162 64473 36\n",
        "05:35"
       ]
      },
      {
       "output_type": "stream",
       "stream": "stdout",
       "text": [
        " 1163 64437 36\n",
        "15.25"
       ]
      },
      {
       "output_type": "stream",
       "stream": "stdout",
       "text": [
        " 1164 64396 41\n",
        "07'00"
       ]
      },
      {
       "output_type": "stream",
       "stream": "stdout",
       "text": [
        " 1165 64360 36\n",
        "07'05"
       ]
      },
      {
       "output_type": "stream",
       "stream": "stdout",
       "text": [
        " 1166 64324 36\n",
        "08'45"
       ]
      },
      {
       "output_type": "stream",
       "stream": "stdout",
       "text": [
        " 1167 64288 36\n",
        "nooit"
       ]
      },
      {
       "output_type": "stream",
       "stream": "stdout",
       "text": [
        " 1168 64288 0\n",
        "11'30"
       ]
      },
      {
       "output_type": "stream",
       "stream": "stdout",
       "text": [
        " 1169 64252 36\n",
        "20:30"
       ]
      },
      {
       "output_type": "stream",
       "stream": "stdout",
       "text": [
        " 1170 64179 73\n",
        "17:05"
       ]
      },
      {
       "output_type": "stream",
       "stream": "stdout",
       "text": [
        " 1171 64143 36\n",
        "17:00"
       ]
      },
      {
       "output_type": "stream",
       "stream": "stdout",
       "text": [
        " 1172 64107 36\n",
        "02'40"
       ]
      },
      {
       "output_type": "stream",
       "stream": "stdout",
       "text": [
        " 1173 64071 36\n",
        "02'45"
       ]
      },
      {
       "output_type": "stream",
       "stream": "stdout",
       "text": [
        " 1174 64035 36\n",
        "dagen"
       ]
      },
      {
       "output_type": "stream",
       "stream": "stdout",
       "text": [
        " 1175 63944 91\n",
        "04:30"
       ]
      },
      {
       "output_type": "stream",
       "stream": "stdout",
       "text": [
        " 1176 63908 36\n",
        "04:35"
       ]
      },
      {
       "output_type": "stream",
       "stream": "stdout",
       "text": [
        " 1177 63872 36\n",
        "03:25"
       ]
      },
      {
       "output_type": "stream",
       "stream": "stdout",
       "text": [
        " 1178 63836 36\n",
        "03:20"
       ]
      },
      {
       "output_type": "stream",
       "stream": "stdout",
       "text": [
        " 1179 63800 36\n",
        "18.25"
       ]
      },
      {
       "output_type": "stream",
       "stream": "stdout",
       "text": [
        " 1180 63759 41\n",
        "22'40"
       ]
      },
      {
       "output_type": "stream",
       "stream": "stdout",
       "text": [
        " 1181 63723 36\n",
        "22'45"
       ]
      },
      {
       "output_type": "stream",
       "stream": "stdout",
       "text": [
        " 1182 63687 36\n",
        "15'35"
       ]
      },
      {
       "output_type": "stream",
       "stream": "stdout",
       "text": [
        " 1183 63651 36\n",
        "20'05"
       ]
      },
      {
       "output_type": "stream",
       "stream": "stdout",
       "text": [
        " 1184 63578 73\n",
        "07.45"
       ]
      },
      {
       "output_type": "stream",
       "stream": "stdout",
       "text": [
        " 1185 63537 41\n",
        "07.40"
       ]
      },
      {
       "output_type": "stream",
       "stream": "stdout",
       "text": [
        " 1186 63496 41\n",
        "12:15"
       ]
      },
      {
       "output_type": "stream",
       "stream": "stdout",
       "text": [
        " 1187 63460 36\n",
        "15'40"
       ]
      },
      {
       "output_type": "stream",
       "stream": "stdout",
       "text": [
        " 1188 63424 36\n",
        "08.50"
       ]
      },
      {
       "output_type": "stream",
       "stream": "stdout",
       "text": [
        " 1189 63383 41\n",
        "08.55"
       ]
      },
      {
       "output_type": "stream",
       "stream": "stdout",
       "text": [
        " 1190 63342 41\n",
        "20'55"
       ]
      },
      {
       "output_type": "stream",
       "stream": "stdout",
       "text": [
        " 1191 63269 73\n",
        "03.35"
       ]
      },
      {
       "output_type": "stream",
       "stream": "stdout",
       "text": [
        " 1192 63228 41\n",
        "12.10"
       ]
      },
      {
       "output_type": "stream",
       "stream": "stdout",
       "text": [
        " 1193 63187 41\n",
        "12.15"
       ]
      },
      {
       "output_type": "stream",
       "stream": "stdout",
       "text": [
        " 1194 63146 41\n",
        "01.20"
       ]
      },
      {
       "output_type": "stream",
       "stream": "stdout",
       "text": [
        " 1195 63105 41\n",
        "04:25"
       ]
      },
      {
       "output_type": "stream",
       "stream": "stdout",
       "text": [
        " 1196 63069 36\n",
        "04:20"
       ]
      },
      {
       "output_type": "stream",
       "stream": "stdout",
       "text": [
        " 1197 63033 36\n",
        "20.50"
       ]
      },
      {
       "output_type": "stream",
       "stream": "stdout",
       "text": [
        " 1198 62950 83\n",
        "16:35"
       ]
      },
      {
       "output_type": "stream",
       "stream": "stdout",
       "text": [
        " 1199 62914 36\n",
        "14'00"
       ]
      },
      {
       "output_type": "stream",
       "stream": "stdout",
       "text": [
        " 1200 62878 36\n",
        "14'05"
       ]
      },
      {
       "output_type": "stream",
       "stream": "stdout",
       "text": [
        " 1201 62842 36\n",
        "02.50"
       ]
      },
      {
       "output_type": "stream",
       "stream": "stdout",
       "text": [
        " 1202 62801 41\n",
        "07'35"
       ]
      },
      {
       "output_type": "stream",
       "stream": "stdout",
       "text": [
        " 1203 62765 36\n",
        "07.50"
       ]
      },
      {
       "output_type": "stream",
       "stream": "stdout",
       "text": [
        " 1204 62724 41\n",
        "07.55"
       ]
      },
      {
       "output_type": "stream",
       "stream": "stdout",
       "text": [
        " 1205 62683 41\n",
        "vaker"
       ]
      },
      {
       "output_type": "stream",
       "stream": "stdout",
       "text": [
        " 1206 62683 0\n",
        "08'50"
       ]
      },
      {
       "output_type": "stream",
       "stream": "stdout",
       "text": [
        " 1207 62647 36\n",
        "11'40"
       ]
      },
      {
       "output_type": "stream",
       "stream": "stdout",
       "text": [
        " 1208 62611 36\n",
        "11'45"
       ]
      },
      {
       "output_type": "stream",
       "stream": "stdout",
       "text": [
        " 1209 62575 36\n",
        "02'50"
       ]
      },
      {
       "output_type": "stream",
       "stream": "stdout",
       "text": [
        " 1210 62539 36\n",
        "02'55"
       ]
      },
      {
       "output_type": "stream",
       "stream": "stdout",
       "text": [
        " 1211 62503 36\n",
        "03:35"
       ]
      },
      {
       "output_type": "stream",
       "stream": "stdout",
       "text": [
        " 1212 62467 36\n",
        "03:30"
       ]
      },
      {
       "output_type": "stream",
       "stream": "stdout",
       "text": [
        " 1213 62431 36\n",
        "21'25"
       ]
      },
      {
       "output_type": "stream",
       "stream": "stdout",
       "text": [
        " 1214 62395 36\n",
        "10'20"
       ]
      },
      {
       "output_type": "stream",
       "stream": "stdout",
       "text": [
        " 1215 62322 73\n",
        "18.30"
       ]
      },
      {
       "output_type": "stream",
       "stream": "stdout",
       "text": [
        " 1216 62281 41\n",
        "18.35"
       ]
      },
      {
       "output_type": "stream",
       "stream": "stdout",
       "text": [
        " 1217 62240 41\n",
        "22'55"
       ]
      },
      {
       "output_type": "stream",
       "stream": "stdout",
       "text": [
        " 1218 62204 36\n",
        "22'50"
       ]
      },
      {
       "output_type": "stream",
       "stream": "stdout",
       "text": [
        " 1219 62168 36\n",
        "14.45"
       ]
      },
      {
       "output_type": "stream",
       "stream": "stdout",
       "text": [
        " 1220 62127 41\n",
        "14.40"
       ]
      },
      {
       "output_type": "stream",
       "stream": "stdout",
       "text": [
        " 1221 62086 41\n",
        "20'15"
       ]
      },
      {
       "output_type": "stream",
       "stream": "stdout",
       "text": [
        " 1222 62013 73\n",
        "20'10"
       ]
      },
      {
       "output_type": "stream",
       "stream": "stdout",
       "text": [
        " 1223 61940 73\n",
        "02.55"
       ]
      },
      {
       "output_type": "stream",
       "stream": "stdout",
       "text": [
        " 1224 61899 41\n",
        "05.05"
       ]
      },
      {
       "output_type": "stream",
       "stream": "stdout",
       "text": [
        " 1225 61858 41\n",
        "01.30"
       ]
      },
      {
       "output_type": "stream",
       "stream": "stdout",
       "text": [
        " 1226 61817 41\n",
        "01.35"
       ]
      },
      {
       "output_type": "stream",
       "stream": "stdout",
       "text": [
        " 1227 61776 41\n",
        "d-day"
       ]
      },
      {
       "output_type": "stream",
       "stream": "stdout",
       "text": [
        " 1228 60232 1544\n",
        "05'55"
       ]
      },
      {
       "output_type": "stream",
       "stream": "stdout",
       "text": [
        " 1229 60196 36\n",
        "04:05"
       ]
      },
      {
       "output_type": "stream",
       "stream": "stdout",
       "text": [
        " 1230 60160 36\n",
        "04:00"
       ]
      },
      {
       "output_type": "stream",
       "stream": "stdout",
       "text": [
        " 1231 60124 36\n",
        "12.20"
       ]
      },
      {
       "output_type": "stream",
       "stream": "stdout",
       "text": [
        " 1232 60083 41\n",
        "08.40"
       ]
      },
      {
       "output_type": "stream",
       "stream": "stdout",
       "text": [
        " 1233 60042 41\n",
        "08.45"
       ]
      },
      {
       "output_type": "stream",
       "stream": "stdout",
       "text": [
        " 1234 60001 41\n",
        "weken"
       ]
      },
      {
       "output_type": "stream",
       "stream": "stdout",
       "text": [
        " 1235 58757 1244\n",
        "10:25"
       ]
      },
      {
       "output_type": "stream",
       "stream": "stdout",
       "text": [
        " 1236 58684 73\n",
        "10:20"
       ]
      },
      {
       "output_type": "stream",
       "stream": "stdout",
       "text": [
        " 1237 58611 73\n",
        "09:05"
       ]
      },
      {
       "output_type": "stream",
       "stream": "stdout",
       "text": [
        " 1238 58575 36\n",
        "09:00"
       ]
      },
      {
       "output_type": "stream",
       "stream": "stdout",
       "text": [
        " 1239 58539 36\n",
        "06.40"
       ]
      },
      {
       "output_type": "stream",
       "stream": "stdout",
       "text": [
        " 1240 58498 41\n",
        "03'50"
       ]
      },
      {
       "output_type": "stream",
       "stream": "stdout",
       "text": [
        " 1241 58462 36\n",
        "05.00"
       ]
      },
      {
       "output_type": "stream",
       "stream": "stdout",
       "text": [
        " 1242 58421 41\n",
        "02'25"
       ]
      },
      {
       "output_type": "stream",
       "stream": "stdout",
       "text": [
        " 1243 58385 36\n",
        "moment"
       ]
      },
      {
       "output_type": "stream",
       "stream": "stdout",
       "text": [
        " 1244 58377 8\n",
        "half 8"
       ]
      },
      {
       "output_type": "stream",
       "stream": "stdout",
       "text": [
        " 1245 58377 0\n",
        "na mei"
       ]
      },
      {
       "output_type": "stream",
       "stream": "stdout",
       "text": [
        " 1246 58377 0\n",
        "avonds"
       ]
      },
      {
       "output_type": "stream",
       "stream": "stdout",
       "text": [
        " 1247 58376 1\n",
        "laatst"
       ]
      },
      {
       "output_type": "stream",
       "stream": "stdout",
       "text": [
        " 1248 50324 8052\n",
        "winter"
       ]
      },
      {
       "output_type": "stream",
       "stream": "stdout",
       "text": [
        " 1249 50162 162\n",
        "nadien"
       ]
      },
      {
       "output_type": "stream",
       "stream": "stdout",
       "text": [
        " 1250 50162 0\n",
        "altijd"
       ]
      },
      {
       "output_type": "stream",
       "stream": "stdout",
       "text": [
        " 1251 50162 0\n",
        "half 5"
       ]
      },
      {
       "output_type": "stream",
       "stream": "stdout",
       "text": [
        " 1252 50162 0\n",
        "meteen"
       ]
      },
      {
       "output_type": "stream",
       "stream": "stdout",
       "text": [
        " 1253 50162 0\n",
        "morgen"
       ]
      },
      {
       "output_type": "stream",
       "stream": "stdout",
       "text": [
        " 1254 47863 2299\n",
        "zomers"
       ]
      },
      {
       "output_type": "stream",
       "stream": "stdout",
       "text": [
        " 1255 47863 0\n",
        "poosje"
       ]
      },
      {
       "output_type": "stream",
       "stream": "stdout",
       "text": [
        " 1256 47863 0\n",
        "eeuwen"
       ]
      },
      {
       "output_type": "stream",
       "stream": "stdout",
       "text": [
        " 1257 47862 1\n",
        "steeds"
       ]
      },
      {
       "output_type": "stream",
       "stream": "stdout",
       "text": [
        " 1258 47862 0\n",
        "alweer"
       ]
      },
      {
       "output_type": "stream",
       "stream": "stdout",
       "text": [
        " 1259 47862 0\n",
        "tijden"
       ]
      },
      {
       "output_type": "stream",
       "stream": "stdout",
       "text": [
        " 1260 47862 0\n",
        "aftrap"
       ]
      },
      {
       "output_type": "stream",
       "stream": "stdout",
       "text": [
        " 1261 47763 99\n",
        "zondag"
       ]
      },
      {
       "output_type": "stream",
       "stream": "stdout",
       "text": [
        " 1262 47763 0\n",
        "herfst"
       ]
      },
      {
       "output_type": "stream",
       "stream": "stdout",
       "text": [
        " 1263 47763 0\n",
        "direct"
       ]
      },
      {
       "output_type": "stream",
       "stream": "stdout",
       "text": [
        " 1264 47763 0\n",
        "half 9"
       ]
      },
      {
       "output_type": "stream",
       "stream": "stdout",
       "text": [
        " 1265 47763 0\n",
        "half 1"
       ]
      },
      {
       "output_type": "stream",
       "stream": "stdout",
       "text": [
        " 1266 47763 0\n",
        "half 2"
       ]
      },
      {
       "output_type": "stream",
       "stream": "stdout",
       "text": [
        " 1267 47763 0\n",
        "half 3"
       ]
      },
      {
       "output_type": "stream",
       "stream": "stdout",
       "text": [
        " 1268 47763 0\n",
        "half 4"
       ]
      },
      {
       "output_type": "stream",
       "stream": "stdout",
       "text": [
        " 1269 47763 0\n",
        "half 6"
       ]
      },
      {
       "output_type": "stream",
       "stream": "stdout",
       "text": [
        " 1270 47763 0\n",
        "half 7"
       ]
      },
      {
       "output_type": "stream",
       "stream": "stdout",
       "text": [
        " 1271 47763 0\n",
        "eerder"
       ]
      },
      {
       "output_type": "stream",
       "stream": "stdout",
       "text": [
        " 1272 47499 264\n",
        "uurtje"
       ]
      },
      {
       "output_type": "stream",
       "stream": "stdout",
       "text": [
        " 1273 47499 0\n",
        "m.i.v."
       ]
      },
      {
       "output_type": "stream",
       "stream": "stdout",
       "text": [
        " 1274 47483 16\n",
        "komend"
       ]
      },
      {
       "output_type": "stream",
       "stream": "stdout",
       "text": [
        " 1275 39424 8059\n",
        "zelden 1276 39424 0\n",
        "t.z.t."
       ]
      },
      {
       "output_type": "stream",
       "stream": "stdout",
       "text": [
        " 1277 39424 0\n",
        "dagjes 1278 39424 0\n",
        "alsnog"
       ]
      },
      {
       "output_type": "stream",
       "stream": "stdout",
       "text": [
        " 1279 39424 0\n",
        "vooraf"
       ]
      },
      {
       "output_type": "stream",
       "stream": "stdout",
       "text": [
        " 1280 39154 270\n",
        "straks 1281 39154 0\n",
        "vaakst"
       ]
      },
      {
       "output_type": "stream",
       "stream": "stdout",
       "text": [
        " 1282 39154 0\n",
        "minuut"
       ]
      },
      {
       "output_type": "stream",
       "stream": "stdout",
       "text": [
        " 1283 31102 8052\n",
        "eeuwig 1284 31102 0\n",
        "middag"
       ]
      },
      {
       "output_type": "stream",
       "stream": "stdout",
       "text": [
        " 1285 31077 25\n",
        "in mei 1286 31077 0\n",
        "daarna"
       ]
      },
      {
       "output_type": "stream",
       "stream": "stdout",
       "text": [
        " 1287 31073 4\n",
        "dalijk 1288 31073 0\n",
        "tijdje"
       ]
      },
      {
       "output_type": "stream",
       "stream": "stdout",
       "text": [
        " 1289 31073 0\n",
        "finale 1290 31073 0\n",
        "vanouds"
       ]
      },
      {
       "output_type": "stream",
       "stream": "stdout",
       "text": [
        " 1291 31073 0\n",
        "maandag 1292 31073 0\n",
        "matches"
       ]
      },
      {
       "output_type": "stream",
       "stream": "stdout",
       "text": [
        " 1293 31073 0\n",
        "telkens 1294 31073 0\n",
        "tevoren"
       ]
      },
      {
       "output_type": "stream",
       "stream": "stdout",
       "text": [
        " 1295 31070 3\n",
        "minuten"
       ]
      },
      {
       "output_type": "stream",
       "stream": "stdout",
       "text": [
        " 1296 22597 8473\n",
        "avondje 1297 22597 0\n",
        "daagjes"
       ]
      },
      {
       "output_type": "stream",
       "stream": "stdout",
       "text": [
        " 1298 21797 800\n",
        "seconde"
       ]
      },
      {
       "output_type": "stream",
       "stream": "stdout",
       "text": [
        " 1299 7048 14749\n",
        "komende 1300 7010 38\n",
        "zojuist 1301 7010 0\n",
        "ochtend"
       ]
      },
      {
       "output_type": "stream",
       "stream": "stdout",
       "text": [
        " 1302 4762 2248\n",
        "wanneer 1303 4762 0\n",
        "aanvang 1304 4762 0\n",
        "uurtjes 1305 4762 0\n",
        "voordat 1306 4762 0\n",
        "half 10 1307 4762 0\n",
        "volgend"
       ]
      },
      {
       "output_type": "stream",
       "stream": "stdout",
       "text": [
        " 1308 4586 176\n",
        "spoedig 1309 4586 0\n",
        "t/m mei 1310 4586 0\n",
        "savonds 1311 4586 0\n",
        "januari 1312 4573 13\n",
        "treffen 1313 4373 200\n",
        "avonden"
       ]
      },
      {
       "output_type": "stream",
       "stream": "stdout",
       "text": [
        " 1314 4373 0\n",
        "nachtje 1315 4373 0\n",
        "van mei 1316 4372 1\n",
        "weekend 1317 4372 0\n",
        "half 11 1318 4372 0\n",
        "winters 1319 4372 0\n",
        "onlangs 1320 4372 0\n",
        "oudjaar 1321 4372 0\n",
        "vrijdag 1322 4365 7\n",
        "overdag 1323 4365 0\n",
        "zondags 1324 4365 0\n",
        "nachten"
       ]
      },
      {
       "output_type": "stream",
       "stream": "stdout",
       "text": [
        " 1325 4365 0\n",
        "half 12 1326 4365 0\n",
        "opnieuw 1327 4365 0\n",
        "vroeger 1328 4365 0\n",
        "maanden 1329 4364 1\n",
        "paasdag 1330 4357 7\n",
        "morgens 1331 4357 0\n",
        "vroegst 1332 4357 0\n",
        "vandaag 1333 4357 0\n",
        "oktober 1334 4344 13\n",
        "dinsdag"
       ]
      },
      {
       "output_type": "stream",
       "stream": "stdout",
       "text": [
        " 1335 4337 7\n",
        "middags 1336 4337 0\n",
        "meestal 1337 4337 0\n",
        "laat in 1338 4337 0\n",
        "seizoen"
       ]
      },
      {
       "output_type": "stream",
       "stream": "stdout",
       "text": [
        " 1339 3895 442\n",
        "tijdens 1340 3789 106\n",
        "terwijl 1341 3789 0\n",
        "te laat 1342 3789 0\n",
        "voorbij 1343 3789 0\n",
        "over 9.5 1344 3788 1\n",
        "dinsdags"
       ]
      },
      {
       "output_type": "stream",
       "stream": "stdout",
       "text": [
        " 1345 3788 0\n",
        "vrijdags 1346 3788 0\n",
        "dikwijls 1347 3788 0\n",
        "gisteren"
       ]
      },
      {
       "output_type": "stream",
       "stream": "stdout",
       "text": [
        " 1348 3788 0\n",
        "play-off 1349 3722 66\n",
        "over 4,5 1350 3721 1\n",
        "voorgoed"
       ]
      },
      {
       "output_type": "stream",
       "stream": "stdout",
       "text": [
        " 1351 3721 0\n",
        "over 5,5 1352 3720 1\n",
        "terstond 1353 3720 0\n",
        "half zes"
       ]
      },
      {
       "output_type": "stream",
       "stream": "stdout",
       "text": [
        " 1354 3720 0\n",
        "voorbije 1355 3720 0\n",
        "strakjes 1356 3720 0\n",
        "over 0.5 "
       ]
      },
      {
       "output_type": "stream",
       "stream": "stdout",
       "text": [
        "1357 3719 1\n",
        "hoe lang 1358 3719 0\n",
        "avondjes 1359 3719 0\n",
        "intussen 1360 3719 0\n",
        "over 5.5"
       ]
      },
      {
       "output_type": "stream",
       "stream": "stdout",
       "text": [
        " 1361 3718 1\n",
        "woensdag 1362 3711 7\n",
        "urenlang 1363 3711 0\n",
        "half elf"
       ]
      },
      {
       "output_type": "stream",
       "stream": "stdout",
       "text": [
        " 1364 3711 0\n",
        "carnaval 1365 3711 0\n",
        "toernooi 1366 3711 0\n",
        "vanavond 1367 3711 0\n",
        "vannacht"
       ]
      },
      {
       "output_type": "stream",
       "stream": "stdout",
       "text": [
        " 1368 3711 0\n",
        "toekomst 1369 3711 0\n",
        "zaterdag 1370 3704 7\n",
        "maandags"
       ]
      },
      {
       "output_type": "stream",
       "stream": "stdout",
       "text": [
        " 1371 3704 0\n",
        "over 1.5 1372 3703 1\n",
        "zondagen 1373 3703 0\n",
        "november"
       ]
      },
      {
       "output_type": "stream",
       "stream": "stdout",
       "text": [
        " 1374 3690 13\n",
        "destijds 1375 3690 0\n",
        "nachtjes 1376 3690 0\n",
        "over 2,5 1377 3689 1\n",
        "momentje"
       ]
      },
      {
       "output_type": "stream",
       "stream": "stdout",
       "text": [
        " 1378 3689 0\n",
        "momenten 1379 3689 0\n",
        "seconden 1380 3689 0\n",
        "over 2.5 "
       ]
      },
      {
       "output_type": "stream",
       "stream": "stdout",
       "text": [
        "1381 3688 1\n",
        "december 1382 3675 13\n",
        "half een 1383 3675 0\n",
        "augustus"
       ]
      },
      {
       "output_type": "stream",
       "stream": "stdout",
       "text": [
        " 1384 3662 13\n",
        "middagen 1385 3662 0\n",
        "hoe laat 1386 3662 0\n",
        "dadelijk 1387 3662 0\n",
        "over 7.5"
       ]
      },
      {
       "output_type": "stream",
       "stream": "stdout",
       "text": [
        " 1388 3661 1\n",
        "kwartier "
       ]
      },
      {
       "output_type": "stream",
       "stream": "stdout",
       "text": [
        "1389 3203 458\n",
        "feestdag 1390 3203 0\n",
        "over 0,5 1391 3202 1\n",
        "matchday 1392 3202 0\n",
        "net even"
       ]
      },
      {
       "output_type": "stream",
       "stream": "stdout",
       "text": [
        " 1393 3202 0\n",
        "over 7,5 1394 3201 1\n",
        "zometeen 1395 3201 0\n",
        "over 6,5 1396 3200 1\n",
        "voorjaar"
       ]
      },
      {
       "output_type": "stream",
       "stream": "stdout",
       "text": [
        " 1397 3200 0\n",
        "middagje 1398 3200 0\n",
        "frequent 1399 3200 0\n",
        "over 3.5 1400 3199 1\n",
        "voorheen 1401 3199 0\n",
        "tijdperk"
       ]
      },
      {
       "output_type": "stream",
       "stream": "stdout",
       "text": [
        " 1402 3199 0\n",
        "over 8.5 1403 3198 1\n",
        "tijdstip 1404 3198 0\n",
        "volgende 1405 3197 1\n",
        "szondags"
       ]
      },
      {
       "output_type": "stream",
       "stream": "stdout",
       "text": [
        " 1406 3197 0\n",
        "weekends 1407 3197 0\n",
        "over 6.5 1408 3196 1\n",
        "februari 1409 3183 13\n",
        "revanche"
       ]
      },
      {
       "output_type": "stream",
       "stream": "stdout",
       "text": [
        " 1410 3150 33\n",
        "over 1,5 1411 3149 1\n",
        "verleden 1412 3148 1\n",
        "namiddag 1413 3139 9\n",
        "over 3,5 1414 3138 1"
       ]
      },
      {
       "output_type": "stream",
       "stream": "stdout",
       "text": [
        "\n",
        "tegelijk 1415 3138 0\n",
        "over 8,5 1416 3137 1\n",
        "half mei 1417 3134 3\n",
        "minuutje"
       ]
      },
      {
       "output_type": "stream",
       "stream": "stdout",
       "text": [
        " 1418 3134 0\n",
        "kerstdag 1419 3134 0\n",
        "over 9,5 1420 3133 1\n",
        "voor mei 1421 3133 0\n",
        "achteraf"
       ]
      },
      {
       "output_type": "stream",
       "stream": "stdout",
       "text": [
        " 1422 3133 0\n",
        "ogenblik 1423 3131 2\n",
        "ochtends 1424 3131 0\n",
        "over 4.5 1425 3130 1\n",
        "sdinsdags"
       ]
      },
      {
       "output_type": "stream",
       "stream": "stdout",
       "text": [
        " 1426 3130 0\n",
        "jaarlijks 1427 3130 0\n",
        "vanaf mei 1428 3130 0\n",
        "gaandeweg 1429 3130 0\n",
        "omstreeks"
       ]
      },
      {
       "output_type": "stream",
       "stream": "stdout",
       "text": [
        " 1430 3130 0\n",
        "zomerstop 1431 3130 0\n",
        "half vijf 1432 3130 0\n",
        "over 11.5 1433 3129 1\n",
        "vanmiddag"
       ]
      },
      {
       "output_type": "stream",
       "stream": "stdout",
       "text": [
        " 1434 3129 0\n",
        "aanstaand 1435 3129 0\n",
        "paasdagen 1436 3129 0\n",
        "vooravond 1437 3129 0\n",
        "dagelijks"
       ]
      },
      {
       "output_type": "stream",
       "stream": "stdout",
       "text": [
        " 1438 3129 0\n",
        "kort erna 1439 3129 0\n",
        "over 11,5 1440 3128 1\n",
        "sindsdien 1441 3128 0\n",
        "over 12.5 1442 3127 1\n",
        "speeltijd"
       ]
      },
      {
       "output_type": "stream",
       "stream": "stdout",
       "text": [
        " 1443 3094 33\n",
        "inmiddels 1444 3094 0\n",
        "over 10,5 1445 3093 1\n",
        "indertijd 1446 3093 0\n",
        "smaandags 1447 3093 0\n",
        "nederlaag"
       ]
      },
      {
       "output_type": "stream",
       "stream": "stdout",
       "text": [
        " 1448 3060 33\n",
        "weekenden 1449 3060 0\n",
        "over 12,5 1450 3059 1\n",
        "over 10.5 1451 3058 1\n",
        "vrijdagen 1452 3058 0\n",
        "nieuwjaar"
       ]
      },
      {
       "output_type": "stream",
       "stream": "stdout",
       "text": [
        " 1453 3058 0\n",
        "naderhand 1454 3058 0\n",
        "zaterdags 1455 3058 0\n",
        "af en toe 1456 3058 0\n",
        "play-offs 1457 3058 0\n",
        "half tien 1458 3058 0\n",
        "dinsdagen"
       ]
      },
      {
       "output_type": "stream",
       "stream": "stdout",
       "text": [
        " 1459 3058 0\n",
        "halloween 1460 3058 0\n",
        "tegen mei 1461 3058 0\n",
        "svrijdags 1462 3058 0\n",
        "maandagen 1463 3058 0\n",
        "tijdelijk 1464 3058 0\n",
        "decennium"
       ]
      },
      {
       "output_type": "stream",
       "stream": "stdout",
       "text": [
        " 1465 3056 2\n",
        "swoendags 1466 3056 0\n",
        "seizoenen 1467 3056 0\n",
        "aswoendag 1468 3056 0\n",
        "weekeinde 1469 3056 0\n",
        "tenslotte"
       ]
      },
      {
       "output_type": "stream",
       "stream": "stdout",
       "text": [
        " 1470 3056 0\n",
        "september 1471 3043 13\n",
        "uiterlijk 1472 3043 0\n",
        "half drie 1473 3043 0\n",
        "gedurende"
       ]
      },
      {
       "output_type": "stream",
       "stream": "stdout",
       "text": [
        " 1474 3034 9\n",
        "half acht 1475 3034 0\n",
        "voorlopig 1476 3034 0\n",
        "eindelijk 1477 3034 0\n",
        "woensdags 1478 3034 0\n",
        "wedstrijd"
       ]
      },
      {
       "output_type": "stream",
       "stream": "stdout",
       "text": [
        " 1479 2968 66\n",
        "vanmorgen 1480 2968 0\n",
        "middagjes 1481 2968 0\n",
        "ochtenden 1482 2968 0\n",
        "donderdag 1483 2961 7\n",
        "minuutjes"
       ]
      },
      {
       "output_type": "stream",
       "stream": "stdout",
       "text": [
        " 1484 2961 0\n",
        "eergister 1485 2961 0\n",
        "half twee 1486 2961 0\n",
        "doorgaans 1487 2961 0\n",
        "half vier 1488 2961 0\n",
        "instantaan"
       ]
      },
      {
       "output_type": "stream",
       "stream": "stdout",
       "text": [
        " 1489 2961 0\n",
        "donderdags 1490 2961 0\n",
        "middaagjes 1491 2961 0\n",
        "infrequent 1492 2961 0\n",
        "zaterdagen 1493 2961 0\n",
        "tot dusver 1494 2961 0\n",
        "tussentijd"
       ]
      },
      {
       "output_type": "stream",
       "stream": "stdout",
       "text": [
        " 1495 2960 1\n",
        "hedennacht 1496 2960 0\n",
        "sporadisch 1497 2960 0\n",
        "half zeven 1498 2960 0\n",
        "vanochtend 1499 2960 0\n",
        "feestdagen 1500 2960 0\n",
        "namiddagen"
       ]
      },
      {
       "output_type": "stream",
       "stream": "stdout",
       "text": [
        " 1501 2960 0\n",
        "sedertdien 1502 2960 0\n",
        "binnenkort 1503 2960 0\n",
        "half negen 1504 2960 0\n",
        "hedenavond 1505 2960 0\n",
        "mettertijd 1506 2960 0\n",
        "regelmatig"
       ]
      },
      {
       "output_type": "stream",
       "stream": "stdout",
       "text": [
        " 1507 2960 0\n",
        "toekomstig 1508 2960 0\n",
        "ontmoeting 1509 2894 66\n",
        "zodadelijk 1510 2894 0\n",
        "szaterdags 1511 2894 0\n",
        "overmorgen 1512 2894 0\n",
        "nederlagen"
       ]
      },
      {
       "output_type": "stream",
       "stream": "stdout",
       "text": [
        " 1513 2861 33\n",
        "aanstaande 1514 2861 0\n",
        "voorlopige 1515 2861 0\n",
        "hemelvaart 1516 2861 0\n",
        "jaarlijkse 1517 2861 0\n",
        "woensdagen 1518 2861 0\n",
        "vervolgens"
       ]
      },
      {
       "output_type": "stream",
       "stream": "stdout",
       "text": [
        " 1519 2861 0\n",
        "weekenddag 1520 2861 0\n",
        "kerstdagen 1521 2861 0\n",
        "gewoonlijk 1522 2861 0\n",
        "kerstavond 1523 2861 0\n",
        "winterstop 1524 2861 0\n",
        "pinksteren"
       ]
      },
      {
       "output_type": "stream",
       "stream": "stdout",
       "text": [
        " 1525 2861 0\n",
        "op den duur 1526 2861 0\n",
        "kort ervoor 1527 2861 0\n",
        "toentertijd 1528 2861 0\n",
        "rosenmontag 1529 2861 0\n",
        "oudjaarsdag 1530 2861 0\n",
        "kwartiertje"
       ]
      },
      {
       "output_type": "stream",
       "stream": "stdout",
       "text": [
        " 1531 2861 0\n",
        "toekomstige 1532 2861 0\n",
        "hedenmorgen 1533 2861 0\n",
        "maandelijks 1534 2861 0\n",
        "zondagnacht 1535 2861 0\n",
        "donderdagen 1536 2861 0\n",
        "half twaalf"
       ]
      },
      {
       "output_type": "stream",
       "stream": "stdout",
       "text": [
        " 1537 2861 0\n",
        "tussentijds 1538 2861 0\n",
        "toendertijd 1539 2861 0\n",
        "overwinning 1540 2795 66\n",
        "zondagavond 1541 2795 0\n",
        "voorafgaand"
       ]
      },
      {
       "output_type": "stream",
       "stream": "stdout",
       "text": [
        " 1542 2732 63\n",
        "middernacht 1543 2727 5\n",
        "pinksterdag 1544 2727 0\n",
        "a la minute 1545 2727 0\n",
        "eergisteren 1546 2727 0\n",
        "kwartfinale"
       ]
      },
      {
       "output_type": "stream",
       "stream": "stdout",
       "text": [
        " 1547 2667 60\n",
        "ondertussen 1548 2667 0\n",
        "sdonderdags 1549 2667 0\n",
        "hedenmiddag 1550 2667 0\n",
        "kwartfinales 1551 2667 0\n",
        "dinsdagavond 1552 2667 0\n",
        "lang geleden 1553 2667 0\n",
        "confrontatie"
       ]
      },
      {
       "output_type": "stream",
       "stream": "stdout",
       "text": [
        " 1554 2607 60\n",
        "maandagavond 1555 2607 0\n",
        "van jongs af 1556 2607 0\n",
        "kerstavonden 1557 2607 0\n",
        "tegenwoordig 1558 2607 0\n",
        "hedenochtend 1559 2607 0\n",
        "kwartiertjes 1560 2607 0\n",
        "maandagnacht 1561 2607 0\n",
        "dinsdagnacht"
       ]
      },
      {
       "output_type": "stream",
       "stream": "stdout",
       "text": [
        " 1562 2607 0\n",
        "zondagmiddag 1563 2607 0\n",
        "aanvankelijk 1564 2607 0\n",
        "tweede helft 1565 2577 30\n",
        "vrijdagavond 1566 2577 0\n",
        "vrijdagnacht 1567 2577 0\n",
        "onregelmatig 1568 2577 0\n",
        "zondagmorgen"
       ]
      },
      {
       "output_type": "stream",
       "stream": "stdout",
       "text": [
        " 1569 2577 0\n",
        "onmiddellijk 1570 2577 0\n",
        "uiteindelijk 1571 2577 0\n",
        "voorafgaande 1572 2577 0\n",
        "kort geleden 1573 2577 0\n",
        "eerste helft 1574 2577 0\n",
        "driekwartier"
       ]
      },
      {
       "output_type": "stream",
       "stream": "stdout",
       "text": [
        " 1575 2569 8\n",
        "uitwedstrijd 1576 2509 60\n",
        "aan het eind 1577 2457 52\n",
        "in het begin 1578 2457 0\n",
        "blessuretijd 1579 2430 27\n",
        "herhaaldeijk 1580 2430 0\n",
        "na afloop van 1581 2430 0\n",
        "over ruim 2.5"
       ]
      },
      {
       "output_type": "stream",
       "stream": "stdout",
       "text": [
        " 1582 2429 1\n",
        "over krap 5.5 1583 2428 1\n",
        "na de derbies 1584 2428 0\n",
        "over ruim 1,5 1585 2427 1\n",
        "over krap 0.5 1586 2426 1\n",
        "maandagmiddag 1587 2426 0\n",
        "vrijdagmiddag 1588 2426 0\n",
        "over ruim 9,5"
       ]
      },
      {
       "output_type": "stream",
       "stream": "stdout",
       "text": [
        " 1589 2425 1\n",
        "over krap 8,5 1590 2424 1\n",
        "pinksterdagen 1591 2424 0\n",
        "over krap 5,5 1592 2423 1\n",
        "woensdagavond 1593 2423 0\n",
        "over ruim 1.5 1594 2422 1\n",
        "dinsdagmorgen 1595 2422 0\n",
        "over ruim 9.5"
       ]
      },
      {
       "output_type": "stream",
       "stream": "stdout",
       "text": [
        " 1596 2421 1\n",
        "over krap 2.5 1597 2420 1\n",
        "aan het einde 1598 2371 49\n",
        "koninginnedag 1599 2371 0\n",
        "over ruim 4,5 1600 2370 1\n",
        "over krap 2,5 1601 2369 1\n",
        "over krap 3,5 1602 2368 1\n",
        "over ruim 5,5 1603 2367 1\n",
        "van lieverlee 1604 2367 0\n",
        "over ruim 0.5 1605 2366 1\n",
        "over ruim 8.5"
       ]
      },
      {
       "output_type": "stream",
       "stream": "stdout",
       "text": [
        " 1606 2365 1\n",
        "overwinningen 1607 2365 0\n",
        "over krap 3.5 1608 2364 1\n",
        "na de periode 1609 2364 0\n",
        "over ruim 0,5 1610 2363 1\n",
        "over ruim 8,5 1611 2362 1\n",
        "woensdagnacht 1612 2362 0\n",
        "zaterdagnacht 1613 2362 0\n",
        "over krap 6,5"
       ]
      },
      {
       "output_type": "stream",
       "stream": "stdout",
       "text": [
        " 1614 2361 1\n",
        "zondagnachten 1615 2361 0\n",
        "over ruim 7.5 1616 2360 1\n",
        "zondagochtend 1617 2360 0\n",
        "tm de periode 1618 2360 0\n",
        "dinsdagmiddag 1619 2360 0\n",
        "over krap 7,5 1620 2359 1\n",
        "over ruim 5.5 1621 2358 1\n",
        "lang daarvoor 1622 2358 0\n",
        "over krap 8.5"
       ]
      },
      {
       "output_type": "stream",
       "stream": "stdout",
       "text": [
        " 1623 2357 1\n",
        "over krap 9,5 1624 2356 1\n",
        "over ruim 7,5 1625 2355 1\n",
        "kort daarvoor 1626 2355 0\n",
        "over ruim 6,5 1627 2354 1\n",
        "over krap 7.5 1628 2353 1\n",
        "over krap 6.5 1629 2352 1\n",
        "over krap 4,5 1630 2351 1\n",
        "vrijdagmorgen 1631 2351 0\n",
        "over ruim 6.5"
       ]
      },
      {
       "output_type": "stream",
       "stream": "stdout",
       "text": [
        " 1632 2350 1\n",
        "over krap 1.5 1633 2349 1\n",
        "zaterdagavond 1634 2349 0\n",
        "over ruim 3.5 1635 2348 1\n",
        "over ruim 4.5 1636 2347 1\n",
        "over krap 4.5 1637 2346 1\n",
        "over krap 9.5 1638 2345 1\n",
        "over krap 1,5 1639 2344 1\n",
        "maandagmorgen 1640 2344 0\n",
        "over ruim 3,5"
       ]
      },
      {
       "output_type": "stream",
       "stream": "stdout",
       "text": [
        " 1641 2343 1\n",
        "zondagavonden 1642 2343 0\n",
        "over ruim 2,5 1643 2342 1\n",
        "over krap 0,5 1644 2341 1\n",
        "over exact 8.5 1645 2340 1\n",
        "over ruim 10.5 1646 2339 1\n",
        "over exact 2,5 1647 2338 1\n",
        "zaterdagmorgen 1648 2338 0\n",
        "vrijdagnachten 1649 2338 0\n",
        "maandagochtend 1650 2338 0\n",
        "dinsdagochtend 1651 2338 0\n",
        "tot de derbies"
       ]
      },
      {
       "output_type": "stream",
       "stream": "stdout",
       "text": [
        " 1652 2338 0\n",
        "over exact 3,5 1653 2337 1\n",
        "na de play off 1654 2337 0\n",
        "over ruim 10,5 1655 2336 1\n",
        "woensdagmorgen 1656 2336 0\n",
        "tegelijkertijd 1657 2336 0\n",
        "over exact 6.5 1658 2335 1\n",
        "over ruim 11,5 1659 2334 1\n",
        "donderdagavond 1660 2334 0\n",
        "over exact 3.5 1661 2333 1\n",
        "vrijdagavonden 1662 2333 0\n",
        "over ruim 11.5"
       ]
      },
      {
       "output_type": "stream",
       "stream": "stdout",
       "text": [
        " 1663 2332 1\n",
        "over exact 6,5 1664 2331 1\n",
        "over ruim 12,5 1665 2330 1\n",
        "vrijdagochtend 1666 2330 0\n",
        "over exact 1.5 1667 2329 1\n",
        "bekerwedstrijd 1668 2281 48\n",
        "tot de periode 1669 2281 0\n",
        "over krap 12,5 1670 2280 1\n",
        "zaterdagmiddag 1671 2280 0\n",
        "over exact 1,5 1672 2279 1\n",
        "over ruim 12.5"
       ]
      },
      {
       "output_type": "stream",
       "stream": "stdout",
       "text": [
        " 1673 2278 1\n",
        "over exact 0,5 1674 2277 1\n",
        "woendagnachten 1675 2277 0\n",
        "over exact 2.5 1676 2276 1\n",
        "over krap 12.5 1677 2275 1\n",
        "van de periode 1678 2273 2\n",
        "over krap 11,5 1679 2272 1\n",
        "over exact 0.5 1680 2271 1\n",
        "over exact 5.5 1681 2270 1\n",
        "dinsdagnachten 1682 2270 0\n",
        "woendagavonden"
       ]
      },
      {
       "output_type": "stream",
       "stream": "stdout",
       "text": [
        " 1683 2270 0\n",
        "over krap 11.5 1684 2269 1\n",
        "in de loop van 1685 2236 33\n",
        "dinsdagavonden 1686 2236 0\n",
        "over exact 4,5 1687 2235 1\n",
        "t/m de periode 1688 2235 0\n",
        "zondagmiddagen 1689 2235 0\n",
        "elke derdeweek 1690 2235 0\n",
        "over exact 9.5 1691 2234 1\n",
        "na die derbies 1692 2234 0\n",
        "thuiswedstrijd"
       ]
      },
      {
       "output_type": "stream",
       "stream": "stdout",
       "text": [
        " 1693 2192 42\n",
        "tm de vakantie 1694 2192 0\n",
        "over exact 4.5 1695 2191 1\n",
        "maandagavonden 1696 2191 0\n",
        "over krap 10.5 1697 2190 1\n",
        "over exact 7,5 1698 2189 1\n",
        "over exact 9,5 1699 2188 1\n",
        "maandagnachten 1700 2188 0\n",
        "over exact 8,5 1701 2187 1\n",
        "donderdagnacht 1702 2187 0\n",
        "woensdagmiddag 1703 2187 0\n",
        "over krap 10,5 1704 2186 1\n",
        "over exact 7.5"
       ]
      },
      {
       "output_type": "stream",
       "stream": "stdout",
       "text": [
        " 1705 2185 1\n",
        "na de vakantie 1706 2185 0\n",
        "bij de derbies 1707 2185 0\n",
        "zondagnamiddag 1708 2185 0\n",
        "tot en met mei 1709 2185 0\n",
        "over exact 5,5 1710 2184 1\n",
        "tot die derbies 1711 2184 0\n",
        "over exact 10.5 1712 2183 1\n",
        "elke derdemaand 1713 2183 0\n",
        "t/m de vakantie 1714 2183 0\n",
        "dinsdagnamiddag 1715 2183 0\n",
        "na de play offs 1716 2183 0\n",
        "over exact 11.5 1717 2182 1\n",
        "bij de play off 1718 2182 0\n",
        "tm deze periode"
       ]
      },
      {
       "output_type": "stream",
       "stream": "stdout",
       "text": [
        " 1719 2182 0\n",
        "tot de play off 1720 2182 0\n",
        "dinsdagmiddagen 1721 2182 0\n",
        "woensdagochtend 1722 2182 0\n",
        "over exact 11,5 1723 2181 1\n",
        "voor de periode 1724 2181 0\n",
        "donderdagmiddag 1725 2181 0\n",
        "maandagnamiddag 1726 2181 0\n",
        "koninginnedagen 1727 2181 0\n",
        "vrijdagmiddagen 1728 2181 0\n",
        "bij die derbies 1729 2181 0\n",
        "in aanloop naar 1730 2181 0\n",
        "tot de vakantie 1731 2181 0\n",
        "na deze derbies 1732 2181 0\n",
        "vanaf het begin 1733 2181 0\n",
        "over exact 12.5 1734 2180 1\n",
        "voor de derbies"
       ]
      },
      {
       "output_type": "stream",
       "stream": "stdout",
       "text": [
        " 1735 2180 0\n",
        "na die play off 1736 2180 0\n",
        "zaterdagavonden 1737 2180 0\n",
        "over exact 12,5 1738 2179 1\n",
        "donderdagmorgen 1739 2179 0\n",
        "vrijdagnamiddag 1740 2179 0\n",
        "zaterdagochtend 1741 2179 0\n",
        "zondagochtenden 1742 2179 0\n",
        "zaterdagnachten 1743 2179 0\n",
        "van de vakantie 1744 2175 4\n",
        "na deze periode 1745 2175 0\n",
        "over exact 10,5 1746 2174 1\n",
        "maandagmiddagen 1747 2174 0\n",
        "over precies 9.5 1748 2173 1\n",
        "maandagochtenden 1749 2173 0\n",
        "woensdagmiddagen 1750 2173 0\n",
        "over precies 4,5"
       ]
      },
      {
       "output_type": "stream",
       "stream": "stdout",
       "text": [
        " 1751 2172 1\n",
        "t/m deze periode 1752 2172 0\n",
        "over precies 0.5 1753 2171 1\n",
        "over precies 5,5 1754 2170 1\n",
        "tot de play offs 1755 2170 0\n",
        "dinsdagochtenden 1756 2170 0\n",
        "van deze periode 1757 2168 2\n",
        "na deze vakantie 1758 2168 0\n",
        "bekerwedstrijden 1759 2168 0\n",
        "over precies 5.5 1760 2167 1\n",
        "over precies 0,5 1761 2166 1\n",
        "vrijdagochtenden 1762 2166 0\n",
        "zaterdagmiddagen 1763 2166 0\n",
        "over precies 8,5 1764 2165 1\n",
        "tm deze vakantie"
       ]
      },
      {
       "output_type": "stream",
       "stream": "stdout",
       "text": [
        " 1765 2165 0\n",
        "over precies 2,5 1766 2164 1\n",
        "over precies 7.5 1767 2163 1\n",
        "over precies 8.5 1768 2162 1\n",
        "zondagnamiddagen 1769 2162 0\n",
        "over precies 7,5 1770 2161 1\n",
        "over precies 6,5 1771 2160 1\n",
        "over precies 3.5 1772 2159 1\n",
        "donderdagavonden 1773 2159 0\n",
        "over precies 6.5 1774 2158 1\n",
        "voor de play off 1775 2158 0\n",
        "tot deze derbies 1776 2158 0\n",
        "over precies 3,5 1777 2157 1\n",
        "tot die play off 1778 2157 0\n",
        "voor de vakantie 1779 2157 0\n",
        "elke derdeminuut"
       ]
      },
      {
       "output_type": "stream",
       "stream": "stdout",
       "text": [
        " 1780 2157 0\n",
        "donderdagochtend 1781 2157 0\n",
        "over precies 4.5 1782 2156 1\n",
        "zaterdagnamiddag 1783 2156 0\n",
        "vanaf de periode 1784 2156 0\n",
        "bij die play off 1785 2156 0\n",
        "woensdagnamiddag 1786 2156 0\n",
        "over precies 1,5 1787 2155 1\n",
        "bij deze derbies 1788 2155 0\n",
        "na de verlenging 1789 2155 0\n",
        "tot deze periode 1790 2155 0\n",
        "over precies 9,5 1791 2154 1\n",
        "over precies 2.5 1792 2153 1\n",
        "na die play offs 1793 2153 0\n",
        "bij de play offs 1794 2153 0\n",
        "over precies 1.5"
       ]
      },
      {
       "output_type": "stream",
       "stream": "stdout",
       "text": [
        " 1795 2152 1\n",
        "voor die derbies 1796 2152 0\n",
        "donderdagnachten 1797 2152 0\n",
        "na deze play off 1798 2152 0\n",
        "over precies 11.5 1799 2151 1\n",
        "over ongeveer 0,5 1800 2150 1\n",
        "voor de play offs 1801 2150 0\n",
        "over precies 12,5 1802 2149 1\n",
        "na deze play offs 1803 2149 0\n",
        "over ongeveer 1,5 1804 2148 1\n",
        "donderdagnamiddag 1805 2148 0\n",
        "over ongeveer 7,5 1806 2147 1\n",
        "zaterdagochtenden 1807 2147 0\n",
        "over ongeveer 4.5 1808 2146 1\n",
        "vanaf de vakantie"
       ]
      },
      {
       "output_type": "stream",
       "stream": "stdout",
       "text": [
        " 1809 2146 0\n",
        "over ongeveer 1.5 1810 2145 1\n",
        "t/m deze vakantie 1811 2145 0\n",
        "tot de verlenging 1812 2145 0\n",
        "over ongeveer 4,5 1813 2144 1\n",
        "woensdagochtenden 1814 2144 0\n",
        "over ongeveer 3.5 1815 2143 1\n",
        "tot die play offs 1816 2143 0\n",
        "over precies 12.5 1817 2142 1\n",
        "maandagnamiddagen 1818 2142 0\n",
        "tot deze play off 1819 2142 0\n",
        "over ongeveer 3,5"
       ]
      },
      {
       "output_type": "stream",
       "stream": "stdout",
       "text": [
        " 1820 2141 1\n",
        "elke derdeseconde 1821 2141 0\n",
        "over ongeveer 2,5 1822 2140 1\n",
        "over ongeveer 8,5 1823 2139 1\n",
        "over ongeveer 2.5 1824 2138 1\n",
        "over ongeveer 7.5 1825 2137 1\n",
        "bij die play offs 1826 2137 0\n",
        "tot deze vakantie 1827 2137 0\n",
        "over ongeveer 9,5 1828 2136 1\n",
        "na die verlenging 1829 2136 0\n",
        "bij de verlenging 1830 2136 0\n",
        "dinsdagnamiddagen 1831 2136 0\n",
        "over ongeveer 6,5 1832 2135 1\n",
        "elke derdeweekend 1833 2135 0\n",
        "over ongeveer 9.5 1834 2134 1\n",
        "voor deze derbies 1835 2134 0\n",
        "over precies 10.5"
       ]
      },
      {
       "output_type": "stream",
       "stream": "stdout",
       "text": [
        " 1836 2133 1\n",
        "van deze vakantie 1837 2129 4\n",
        "voor die play off 1838 2129 0\n",
        "over ongeveer 6.5 1839 2128 1\n",
        "over ongeveer 5,5 1840 2127 1\n",
        "over precies 10,5 1841 2126 1\n",
        "voor deze periode 1842 2126 0\n",
        "bij deze play off 1843 2126 0\n",
        "over precies 11,5 1844 2125 1\n",
        "over ongeveer 0.5 1845 2124 1\n",
        "donderdagmiddagen 1846 2124 0\n",
        "over ongeveer 5.5 1847 2123 1\n",
        "over ongeveer 8.5 1848 2122 1\n",
        "vrijdagnamiddagen 1849 2122 0\n",
        "tot en met periode 1850 2122 0\n",
        "in een vorig leven 1851 2122 0\n",
        "voor deze vakantie 1852 2122 0\n",
        "tot deze play offs 1853 2122 0\n",
        "woensdagnamiddagen"
       ]
      },
      {
       "output_type": "stream",
       "stream": "stdout",
       "text": [
        " 1854 2122 0\n",
        "voor die play offs 1855 2122 0\n",
        "vanaf deze periode 1856 2122 0\n",
        "na de verlengingen 1857 2122 0\n",
        "voor deze play off 1858 2122 0\n",
        "zaterdagnamiddagen 1859 2122 0\n",
        "na deze verlenging 1860 2122 0\n",
        "tot aan de derbies 1861 2122 0\n",
        "over ongeveer 10.5 1862 2121 1\n",
        "tot aan de periode 1863 2121 0\n",
        "over ongeveer 10,5 1864 2120 1\n",
        "over ongeveer 11,5 1865 2119 1\n",
        "over ongeveer 11.5 1866 2118 1\n",
        "tot die verlenging 1867 2118 0\n",
        "bij die verlenging 1868 2118 0\n",
        "over ongeveer 12,5 1869 2117 1\n",
        "in het verloop van 1870 2117 0\n",
        "donderdagochtenden 1871 2117 0\n",
        "over ongeveer 12.5 1872 2116 1\n",
        "bij deze play offs "
       ]
      },
      {
       "output_type": "stream",
       "stream": "stdout",
       "text": [
        "1873 2116 0\n",
        "voor de verlenging 1874 2116 0\n",
        "over een kleine 0,5 1875 2115 1\n",
        "tot aan de play off 1876 2115 0\n",
        "over een kleine 8.5 1877 2114 1\n",
        "over een kleine 3.5 1878 2113 1\n",
        "over een kleine 0.5 1879 2112 1\n",
        "vanaf deze vakantie 1880 2112 0\n",
        "over een kleine 5.5 1881 2111 1\n",
        "over een kleine 7,5 1882 2110 1\n",
        "tot de verlengingen 1883 2110 0\n",
        "over een kleine 5,5 1884 2109 1\n",
        "bij de verlengingen 1885 2109 0\n",
        "over een kleine 9.5 1886 2108 1\n",
        "over een kleine 2.5 1887 2107 1\n",
        "voor die verlenging 1888 2107 0\n",
        "over een kleine 9,5 "
       ]
      },
      {
       "output_type": "stream",
       "stream": "stdout",
       "text": [
        "1889 2106 1\n",
        "over een kleine 2,5 1890 2105 1\n",
        "over een kleine 1,5 1891 2104 1\n",
        "tot aan die derbies 1892 2104 0\n",
        "na die verlengingen 1893 2104 0\n",
        "voor deze play offs 1894 2104 0\n",
        "over een kleine 1.5 1895 2103 1\n",
        "over een kleine 6.5 1896 2102 1\n",
        "over een kleine 3,5 1897 2101 1\n",
        "over een halfuurtje 1898 2101 0\n",
        "over een kleine 6,5 1899 2100 1\n",
        "elke derdeweekeinde 1900 2100 0\n",
        "tot deze verlenging 1901 2100 0\n",
        "over een kleine 7.5 1902 2099 1\n",
        "over een kleine 4,5 1903 2098 1\n",
        "bij deze verlenging 1904 2098 0\n",
        "tot aan de vakantie 1905 2098 0\n",
        "over een kleine 4.5 1906 2097 1\n",
        "tot en met vakantie 1907 2097 0\n",
        "donderdagnamiddagen"
       ]
      },
      {
       "output_type": "stream",
       "stream": "stdout",
       "text": [
        " 1908 2097 0\n",
        "over een kleine 8,5 1909 2096 1\n",
        "na de oefenwedstrijd 1910 2096 0\n",
        "bij die verlengingen 1911 2096 0\n",
        "tot aan deze derbies 1912 2096 0\n",
        "van het begin af aan 1913 2096 0\n",
        "tot die verlengingen 1914 2096 0\n",
        "voor de verlengingen 1915 2096 0\n",
        "over een kleine 11,5 1916 2095 1\n",
        "over een kleine 12,5 1917 2094 1\n",
        "over een kleine 12.5 1918 2093 1\n",
        "tot aan die play off 1919 2093 0\n",
        "over een kleine 11.5 1920 2092 1\n",
        "na deze verlengingen 1921 2092 0\n",
        "over een kleine 10.5 1922 2091 1\n",
        "tot aan deze periode 1923 2091 0\n",
        "voor deze verlenging 1924 2091 0\n",
        "over een kleine 10,5 1925 2090 1\n",
        "tot aan de play offs 1926 2090 0\n",
        "tot aan de verlenging 1927 2090 0\n",
        "tot deze verlengingen 1928 2090 0\n",
        "tot de oefenwedstrijd"
       ]
      },
      {
       "output_type": "stream",
       "stream": "stdout",
       "text": [
        " 1929 2090 0\n",
        "halverwege de derbies 1930 2090 0\n",
        "tot aan die play offs 1931 2090 0\n",
        "na die oefenwedstrijd 1932 2090 0\n",
        "tot en met de periode 1933 2090 0\n",
        "voor die verlengingen 1934 2090 0\n",
        "bij de oefenwedstrijd 1935 2090 0\n",
        "tot aan deze vakantie 1936 2090 0\n",
        "na de vakantieperiode 1937 2090 0\n",
        "tot aan deze play off 1938 2090 0\n",
        "bij deze verlengingen 1939 2090 0\n",
        "tm de vakantieperiode 1940 2090 0\n",
        "met ingang van periode 1941 2090 0\n",
        "na deze oefenwedstrijd 1942 2090 0\n",
        "na de oefenwedstrijden 1943 2090 0\n",
        "tot de vakantieperiode 1944 2090 0\n",
        "halverwege die derbies 1945 2090 0\n",
        "halverwege de play off 1946 2090 0\n",
        "t/m de vakantieperiode 1947 2090 0\n",
        "van de vakantieperiode 1948 2090 0\n",
        "voor de oefenwedstrijd 1949 2090 0\n",
        "bij die oefenwedstrijd 1950 2090 0\n",
        "voor deze verlengingen 1951 2090 0\n",
        "tot die oefenwedstrijd 1952 2090 0\n",
        "tot aan die verlenging 1953 2090 0\n",
        "tot en met de vakantie 1954 2090 0\n",
        "tot aan deze play offs 1955 2090 0\n",
        "met ingang van vakantie 1956 2090 0\n",
        "bij de oefenwedstrijden 1957 2090 0\n",
        "halverwege die play off 1958 2090 0\n",
        "tot aan deze verlenging 1959 2090 0\n",
        "na die oefenwedstrijden 1960 2090 0\n",
        "tot en met deze periode 1961 2090 "
       ]
      },
      {
       "output_type": "stream",
       "stream": "stdout",
       "text": [
        "0\n",
        "tot aan de verlengingen 1962 2090 0\n",
        "tot de oefenwedstrijden 1963 2090 0\n",
        "voor de vakantieperiode 1964 2090 0\n",
        "halverwege de play offs 1965 2090 0\n",
        "tot deze oefenwedstrijd 1966 2090 0\n",
        "bij deze oefenwedstrijd 1967 2090 0\n",
        "halverwege deze derbies 1968 2090 0\n",
        "voor die oefenwedstrijd 1969 2090 0\n",
        "na deze vakantieperiode 1970 2090 0\n",
        "met het verstrijken van 1971 2090 0\n",
        "tm deze vakantieperiode 1972 2090 0\n",
        "voor de oefenwedstrijden 1973 2090 0\n",
        "tot die oefenwedstrijden 1974 2090 0\n",
        "van deze vakantieperiode 1975 2090 0\n",
        "vanaf de vakantieperiode 1976 2090 0\n",
        "halverwege deze play off 1977 2090 0\n",
        "voor deze oefenwedstrijd 1978 2090 0\n",
        "voorgaand aan de periode 1979 2090 0\n",
        "t/m deze vakantieperiode 1980 2090 0\n",
        "halverwege de verlenging 1981 2090 0\n",
        "na deze oefenwedstrijden 1982 2090 0\n",
        "tot en met deze vakantie 1983 2090 0\n",
        "tot aan die verlengingen 1984 2090 0\n",
        "bij die oefenwedstrijden 1985 2090 0\n",
        "tot deze vakantieperiode 1986 2090 0\n",
        "halverwege die play offs 1987 2090 0\n",
        "voor die oefenwedstrijden 1988 2090 0\n",
        "voorgaand aan de vakantie 1989 2090 0\n",
        "halverwege die verlenging 1990 2090 0\n",
        "tot aan deze verlengingen 1991 2090 0\n",
        "tot deze oefenwedstrijden 1992 2090 0\n",
        "voor deze vakantieperiode 1993 2090 0\n",
        "tot aan de oefenwedstrijd 1994 2090 0\n",
        "aan het begin van periode 1995 2090 0\n",
        "halverwege deze play offs 1996 2090 0\n",
        "bij deze oefenwedstrijden 1997 2090 0\n",
        "na de degradatiewedstrijd 1998 2090 0\n",
        "halverwege de verlengingen 1999 2090 0\n",
        "tot aan de vakantieperiode 2000 "
       ]
      },
      {
       "output_type": "stream",
       "stream": "stdout",
       "text": [
        "2090 0\n",
        "na die degradatiewedstrijd 2001 2090 0\n",
        "voor deze oefenwedstrijden 2002 2090 0\n",
        "vanaf deze vakantieperiode 2003 2090 0\n",
        "aan het begin van vakantie 2004 2090 0\n",
        "bij de degradatiewedstrijd 2005 2090 0\n",
        "voorgaand aan deze periode 2006 2090 0\n",
        "tot aan die oefenwedstrijd 2007 2090 0\n",
        "halverwege deze verlenging 2008 2090 0\n",
        "tot en met vakantieperiode 2009 2090 0\n",
        "tot de degradatiewedstrijd 2010 2090 0\n",
        "halverwege die verlengingen 2011 2090 0\n",
        "voorgaand aan deze vakantie 2012 2090 0\n",
        "na deze degradatiewedstrijd 2013 2090 0\n",
        "tot aan de oefenwedstrijden 2014 2090 0\n",
        "na de degradatiewedstrijden 2015 2090 0\n",
        "tot aan deze oefenwedstrijd 2016 2090 0\n",
        "tot die degradatiewedstrijd 2017 2090 0\n",
        "voor de degradatiewedstrijd 2018 2090 0\n",
        "bij die degradatiewedstrijd 2019 2090 0\n",
        "halverwege deze verlengingen 2020 2090 0\n",
        "tot aan die oefenwedstrijden 2021 2090 0\n",
        "halverwege de oefenwedstrijd 2022 2090 0\n",
        "voor die degradatiewedstrijd 2023 2090 0\n",
        "na die degradatiewedstrijden 2024 2090 0\n",
        "aan het begin van de derbies 2025 2090 0\n",
        "tot deze degradatiewedstrijd 2026 2090 0\n",
        "bij de degradatiewedstrijden 2027 2090 0\n",
        "bij deze degradatiewedstrijd 2028 2090 0\n",
        "tot de degradatiewedstrijden 2029 2090 0\n",
        "tot aan deze vakantieperiode 2030 2090 0\n",
        "tot aan deze oefenwedstrijden 2031 2090 0\n",
        "tot en met de vakantieperiode 2032 2090 0\n",
        "na deze degradatiewedstrijden 2033 2090 0\n",
        "bij die degradatiewedstrijden 2034 2090 0\n",
        "tot die degradatiewedstrijden 2035 2090 0\n",
        "voor de degradatiewedstrijden 2036 2090 0\n",
        "voor deze degradatiewedstrijd 2037 2090 0\n",
        "halverwege die oefenwedstrijd 2038 2090 0\n",
        "aan het begin van de play off 2039 2090 0\n",
        "aan het begin van die derbies 2040 2090 0\n",
        "tot aan de degradatiewedstrijd 2041 2090 0\n",
        "aan het begin van de play offs 2042 2090 0\n",
        "bij deze degradatiewedstrijden 2043 2090 0\n",
        "halverwege deze oefenwedstrijd 2044 2090 0\n",
        "tot deze degradatiewedstrijden 2045 2090 0\n",
        "met ingang van vakantieperiode 2046 2090 0\n",
        "aan het begin van die play off 2047 2090 0\n",
        "halverwege de oefenwedstrijden 2048 2090 0\n",
        "aan het begin van deze derbies 2049 2090 0\n",
        "voor die degradatiewedstrijden 2050 2090 0\n",
        "tot aan die degradatiewedstrijd 2051 2090 0\n",
        "tot en met deze vakantieperiode 2052 2090 0\n",
        "aan het begin van de verlenging"
       ]
      },
      {
       "ename": "IndexError",
       "evalue": "list index out of range",
       "output_type": "pyerr",
       "traceback": [
        "\u001b[1;31m---------------------------------------------------------------------------\u001b[0m\n\u001b[1;31mIndexError\u001b[0m                                Traceback (most recent call last)",
        "\u001b[1;32m<ipython-input-57-23dbecf4b22b>\u001b[0m in \u001b[0;36m<module>\u001b[1;34m()\u001b[0m\n\u001b[0;32m      9\u001b[0m         \u001b[0mtmxtemp\u001b[0m \u001b[1;33m=\u001b[0m \u001b[1;33m[\u001b[0m\u001b[0mtt\u001b[0m \u001b[1;32mfor\u001b[0m \u001b[0mtt\u001b[0m \u001b[1;32min\u001b[0m \u001b[0mtmxtemp\u001b[0m \u001b[1;32mif\u001b[0m \u001b[0mtt\u001b[0m \u001b[1;32mnot\u001b[0m \u001b[1;32min\u001b[0m \u001b[0mrecurrent\u001b[0m\u001b[1;33m]\u001b[0m\u001b[1;33m\u001b[0m\u001b[0m\n\u001b[0;32m     10\u001b[0m \u001b[1;33m\u001b[0m\u001b[0m\n\u001b[1;32m---> 11\u001b[1;33m     \u001b[0mprint\u001b[0m\u001b[1;33m(\u001b[0m\u001b[0mtmxtemp\u001b[0m\u001b[1;33m[\u001b[0m\u001b[0mi\u001b[0m\u001b[1;33m]\u001b[0m\u001b[1;33m,\u001b[0m \u001b[0mi\u001b[0m\u001b[1;33m,\u001b[0m \u001b[0mlen\u001b[0m\u001b[1;33m(\u001b[0m\u001b[0mtmxtemp\u001b[0m\u001b[1;33m)\u001b[0m\u001b[1;33m,\u001b[0m \u001b[0mlen\u001b[0m\u001b[1;33m(\u001b[0m\u001b[0mrecurrent\u001b[0m\u001b[1;33m)\u001b[0m\u001b[1;33m)\u001b[0m\u001b[1;33m\u001b[0m\u001b[0m\n\u001b[0m\u001b[0;32m     12\u001b[0m     \u001b[1;32mif\u001b[0m \u001b[0mi\u001b[0m \u001b[1;33m==\u001b[0m \u001b[0mlen\u001b[0m\u001b[1;33m(\u001b[0m\u001b[0mtmxtemp\u001b[0m\u001b[1;33m)\u001b[0m\u001b[1;33m:\u001b[0m\u001b[1;33m\u001b[0m\u001b[0m\n\u001b[0;32m     13\u001b[0m         \u001b[1;32mbreak\u001b[0m\u001b[1;33m\u001b[0m\u001b[0m\n",
        "\u001b[1;31mIndexError\u001b[0m: list index out of range"
       ]
      },
      {
       "output_type": "stream",
       "stream": "stdout",
       "text": [
        " 2053 2090 0\n",
        "aan het begin van deze play off 2054 2090 0\n",
        "halverwege die oefenwedstrijden 2055 2090 0\n",
        "voor deze degradatiewedstrijden 2056 2090 0\n",
        "aan het begin van die play offs 2057 2090 0\n",
        "tot aan de degradatiewedstrijden 2058 2090 0\n",
        "tot aan deze degradatiewedstrijd 2059 2090 0\n",
        "aan het begin van deze play offs 2060 2090 0\n",
        "aan het begin van die verlenging 2061 2090 0\n",
        "voorgaand aan de vakantieperiode 2062 2090 0\n",
        "halverwege deze oefenwedstrijden 2063 2090 0\n",
        "aan het begin van de verlengingen 2064 2090 0\n",
        "tot aan die degradatiewedstrijden 2065 2090 0\n",
        "aan het begin van vakantieperiode 2066 2090 0\n",
        "aan het begin van deze verlenging 2067 2090 0\n",
        "halverwege de degradatiewedstrijd 2068 2090 0\n",
        "tot aan deze degradatiewedstrijden 2069 2090 0\n",
        "aan het begin van die verlengingen 2070 2090 0\n",
        "voorgaand aan deze vakantieperiode 2071 2090 0\n",
        "halverwege die degradatiewedstrijd 2072 2090 0\n",
        "aan het begin van deze verlengingen 2073 2090 0\n",
        "halverwege de degradatiewedstrijden 2074 2090 0\n",
        "aan het begin van de oefenwedstrijd 2075 2090 0\n",
        "halverwege deze degradatiewedstrijd 2076 2090 0\n",
        "halverwege die degradatiewedstrijden 2077 2090 0\n",
        "aan het begin van die oefenwedstrijd 2078 2090 0\n",
        "halverwege deze degradatiewedstrijden 2079 2090 0\n",
        "aan het begin van deze oefenwedstrijd 2080 2090 0\n",
        "aan het begin van de oefenwedstrijden 2081 2090 0\n",
        "aan het begin van die oefenwedstrijden 2082 2090 0\n",
        "aan het begin van deze oefenwedstrijden 2083 2090 0\n",
        "aan het begin van de degradatiewedstrijd 2084 2090 0\n",
        "aan het begin van die degradatiewedstrijd 2085 2090 0\n",
        "aan het begin van de degradatiewedstrijden 2086 2090 0\n",
        "aan het begin van deze degradatiewedstrijd 2087 2090 0\n",
        "aan het begin van die degradatiewedstrijden 2088 2090 0\n",
        "aan het begin van deze degradatiewedstrijden 2089 2090 0\n"
       ]
      }
     ],
     "prompt_number": 57
    },
    {
     "cell_type": "code",
     "collapsed": false,
     "input": [
      "for n in range(2,101):\n",
      "    for tx in ['minuten','seconde','seconden']:\n",
      "        print('over '+str(n)+' '+tx)"
     ],
     "language": "python",
     "metadata": {},
     "outputs": [
      {
       "output_type": "stream",
       "stream": "stdout",
       "text": [
        "over 2 minuten\n",
        "over 2 seconde\n",
        "over 2 seconden\n",
        "over 3 minuten\n",
        "over 3 seconde\n",
        "over 3 seconden\n",
        "over 4 minuten\n",
        "over 4 seconde\n",
        "over 4 seconden\n",
        "over 5 minuten\n",
        "over 5 seconde\n",
        "over 5 seconden\n",
        "over 6 minuten\n",
        "over 6 seconde\n",
        "over 6 seconden\n",
        "over 7 minuten\n",
        "over 7 seconde\n",
        "over 7 seconden\n",
        "over 8 minuten\n",
        "over 8 seconde\n",
        "over 8 seconden\n",
        "over 9 minuten\n",
        "over 9 seconde\n",
        "over 9 seconden\n",
        "over 10 minuten\n",
        "over 10 seconde\n",
        "over 10 seconden\n",
        "over 11 minuten\n",
        "over 11 seconde\n",
        "over 11 seconden\n",
        "over 12 minuten\n",
        "over 12 seconde\n",
        "over 12 seconden\n",
        "over 13 minuten\n",
        "over 13 seconde\n",
        "over 13 seconden\n",
        "over 14 minuten\n",
        "over 14 seconde\n",
        "over 14 seconden\n",
        "over 15 minuten\n",
        "over 15 seconde\n",
        "over 15 seconden\n",
        "over 16 minuten\n",
        "over 16 seconde\n",
        "over 16 seconden\n",
        "over 17 minuten\n",
        "over 17 seconde\n",
        "over 17 seconden\n",
        "over 18 minuten\n",
        "over 18 seconde\n",
        "over 18 seconden\n",
        "over 19 minuten\n",
        "over 19 seconde\n",
        "over 19 seconden\n",
        "over 20 minuten\n",
        "over 20 seconde\n",
        "over 20 seconden\n",
        "over 21 minuten\n",
        "over 21 seconde\n",
        "over 21 seconden\n",
        "over 22 minuten\n",
        "over 22 seconde\n",
        "over 22 seconden\n",
        "over 23 minuten\n",
        "over 23 seconde\n",
        "over 23 seconden\n",
        "over 24 minuten\n",
        "over 24 seconde\n",
        "over 24 seconden\n",
        "over 25 minuten\n",
        "over 25 seconde\n",
        "over 25 seconden\n",
        "over 26 minuten\n",
        "over 26 seconde\n",
        "over 26 seconden\n",
        "over 27 minuten\n",
        "over 27 seconde\n",
        "over 27 seconden\n",
        "over 28 minuten\n",
        "over 28 seconde\n",
        "over 28 seconden\n",
        "over 29 minuten\n",
        "over 29 seconde\n",
        "over 29 seconden\n",
        "over 30 minuten\n",
        "over 30 seconde\n",
        "over 30 seconden\n",
        "over 31 minuten\n",
        "over 31 seconde\n",
        "over 31 seconden\n",
        "over 32 minuten\n",
        "over 32 seconde\n",
        "over 32 seconden\n",
        "over 33 minuten\n",
        "over 33 seconde\n",
        "over 33 seconden\n",
        "over 34 minuten\n",
        "over 34 seconde\n",
        "over 34 seconden\n",
        "over 35 minuten\n",
        "over 35 seconde\n",
        "over 35 seconden\n",
        "over 36 minuten\n",
        "over 36 seconde\n",
        "over 36 seconden\n",
        "over 37 minuten\n",
        "over 37 seconde\n",
        "over 37 seconden\n",
        "over 38 minuten\n",
        "over 38 seconde\n",
        "over 38 seconden\n",
        "over 39 minuten\n",
        "over 39 seconde\n",
        "over 39 seconden\n",
        "over 40 minuten\n",
        "over 40 seconde\n",
        "over 40 seconden\n",
        "over 41 minuten\n",
        "over 41 seconde\n",
        "over 41 seconden\n",
        "over 42 minuten\n",
        "over 42 seconde\n",
        "over 42 seconden\n",
        "over 43 minuten\n",
        "over 43 seconde\n",
        "over 43 seconden\n",
        "over 44 minuten\n",
        "over 44 seconde\n",
        "over 44 seconden\n",
        "over 45 minuten\n",
        "over 45 seconde\n",
        "over 45 seconden\n",
        "over 46 minuten\n",
        "over 46 seconde\n",
        "over 46 seconden\n",
        "over 47 minuten\n",
        "over 47 seconde\n",
        "over 47 seconden\n",
        "over 48 minuten\n",
        "over 48 seconde\n",
        "over 48 seconden\n",
        "over 49 minuten\n",
        "over 49 seconde\n",
        "over 49 seconden\n",
        "over 50 minuten\n",
        "over 50 seconde\n",
        "over 50 seconden\n",
        "over 51 minuten\n",
        "over 51 seconde\n",
        "over 51 seconden\n",
        "over 52 minuten\n",
        "over 52 seconde\n",
        "over 52 seconden\n",
        "over 53 minuten\n",
        "over 53 seconde\n",
        "over 53 seconden\n",
        "over 54 minuten\n",
        "over 54 seconde\n",
        "over 54 seconden\n",
        "over 55 minuten\n",
        "over 55 seconde\n",
        "over 55 seconden\n",
        "over 56 minuten\n",
        "over 56 seconde\n",
        "over 56 seconden\n",
        "over 57 minuten\n",
        "over 57 seconde\n",
        "over 57 seconden\n",
        "over 58 minuten\n",
        "over 58 seconde\n",
        "over 58 seconden\n",
        "over 59 minuten\n",
        "over 59 seconde\n",
        "over 59 seconden\n",
        "over 60 minuten\n",
        "over 60 seconde\n",
        "over 60 seconden\n",
        "over 61 minuten\n",
        "over 61 seconde\n",
        "over 61 seconden\n",
        "over 62 minuten\n",
        "over 62 seconde\n",
        "over 62 seconden\n",
        "over 63 minuten\n",
        "over 63 seconde\n",
        "over 63 seconden\n",
        "over 64 minuten\n",
        "over 64 seconde\n",
        "over 64 seconden\n",
        "over 65 minuten\n",
        "over 65 seconde\n",
        "over 65 seconden\n",
        "over 66 minuten\n",
        "over 66 seconde\n",
        "over 66 seconden\n",
        "over 67 minuten\n",
        "over 67 seconde\n",
        "over 67 seconden\n",
        "over 68 minuten\n",
        "over 68 seconde\n",
        "over 68 seconden\n",
        "over 69 minuten\n",
        "over 69 seconde\n",
        "over 69 seconden\n",
        "over 70 minuten\n",
        "over 70 seconde\n",
        "over 70 seconden\n",
        "over 71 minuten\n",
        "over 71 seconde\n",
        "over 71 seconden\n",
        "over 72 minuten\n",
        "over 72 seconde\n",
        "over 72 seconden\n",
        "over 73 minuten\n",
        "over 73 seconde\n",
        "over 73 seconden\n",
        "over 74 minuten\n",
        "over 74 seconde\n",
        "over 74 seconden\n",
        "over 75 minuten\n",
        "over 75 seconde\n",
        "over 75 seconden\n",
        "over 76 minuten\n",
        "over 76 seconde\n",
        "over 76 seconden\n",
        "over 77 minuten\n",
        "over 77 seconde\n",
        "over 77 seconden\n",
        "over 78 minuten\n",
        "over 78 seconde\n",
        "over 78 seconden\n",
        "over 79 minuten\n",
        "over 79 seconde\n",
        "over 79 seconden\n",
        "over 80 minuten\n",
        "over 80 seconde\n",
        "over 80 seconden\n",
        "over 81 minuten\n",
        "over 81 seconde\n",
        "over 81 seconden\n",
        "over 82 minuten\n",
        "over 82 seconde\n",
        "over 82 seconden\n",
        "over 83 minuten\n",
        "over 83 seconde\n",
        "over 83 seconden\n",
        "over 84 minuten\n",
        "over 84 seconde\n",
        "over 84 seconden\n",
        "over 85 minuten\n",
        "over 85 seconde\n",
        "over 85 seconden\n",
        "over 86 minuten\n",
        "over 86 seconde\n",
        "over 86 seconden\n",
        "over 87 minuten\n",
        "over 87 seconde\n",
        "over 87 seconden\n",
        "over 88 minuten\n",
        "over 88 seconde\n",
        "over 88 seconden\n",
        "over 89 minuten\n",
        "over 89 seconde\n",
        "over 89 seconden\n",
        "over 90 minuten\n",
        "over 90 seconde\n",
        "over 90 seconden\n",
        "over 91 minuten\n",
        "over 91 seconde\n",
        "over 91 seconden\n",
        "over 92 minuten\n",
        "over 92 seconde\n",
        "over 92 seconden\n",
        "over 93 minuten\n",
        "over 93 seconde\n",
        "over 93 seconden\n",
        "over 94 minuten\n",
        "over 94 seconde\n",
        "over 94 seconden\n",
        "over 95 minuten\n",
        "over 95 seconde\n",
        "over 95 seconden\n",
        "over 96 minuten\n",
        "over 96 seconde\n",
        "over 96 seconden\n",
        "over 97 minuten\n",
        "over 97 seconde\n",
        "over 97 seconden\n",
        "over 98 minuten\n",
        "over 98 seconde\n",
        "over 98 seconden\n",
        "over 99 minuten\n",
        "over 99 seconde\n",
        "over 99 seconden\n",
        "over 100 minuten\n",
        "over 100 seconde\n",
        "over 100 seconden\n"
       ]
      }
     ],
     "prompt_number": 2
    },
    {
     "cell_type": "code",
     "collapsed": false,
     "input": [
      "for n in range(1,9):\n",
      "    print('over '+str(n)+' kwartier')"
     ],
     "language": "python",
     "metadata": {},
     "outputs": [
      {
       "output_type": "stream",
       "stream": "stdout",
       "text": [
        "over 1 kwartier\n",
        "over 2 kwartier\n",
        "over 3 kwartier\n",
        "over 4 kwartier\n",
        "over 5 kwartier\n",
        "over 6 kwartier\n",
        "over 7 kwartier\n",
        "over 8 kwartier\n"
       ]
      }
     ],
     "prompt_number": 4
    },
    {
     "cell_type": "code",
     "collapsed": true,
     "input": [
      "# All times with comma seperator!\n",
      "for n in range(0,24):\n",
      "    h=str(n)\n",
      "    if n<10:\n",
      "        h='0'+h # keep in mind, hour does not need to be in zero-padded format.\n",
      "    for n2 in range(0,60):\n",
      "        m = str(n2)\n",
      "        if n2<10:\n",
      "            m='0'+m\n",
      "        \n",
      "        print(h+','+m+' uur')"
     ],
     "language": "python",
     "metadata": {},
     "outputs": [
      {
       "output_type": "stream",
       "stream": "stdout",
       "text": [
        "00,00 uur\n",
        "00,01 uur\n",
        "00,02 uur\n",
        "00,03 uur\n",
        "00,04 uur\n",
        "00,05 uur\n",
        "00,06 uur\n",
        "00,07 uur\n",
        "00,08 uur\n",
        "00,09 uur\n",
        "00,10 uur\n",
        "00,11 uur\n",
        "00,12 uur\n",
        "00,13 uur\n",
        "00,14 uur\n",
        "00,15 uur\n",
        "00,16 uur\n",
        "00,17 uur\n",
        "00,18 uur\n",
        "00,19 uur\n",
        "00,20 uur\n",
        "00,21 uur\n",
        "00,22 uur\n",
        "00,23 uur\n",
        "00,24 uur\n",
        "00,25 uur\n",
        "00,26 uur\n",
        "00,27 uur\n",
        "00,28 uur\n",
        "00,29 uur\n",
        "00,30 uur\n",
        "00,31 uur\n",
        "00,32 uur\n",
        "00,33 uur\n",
        "00,34 uur\n",
        "00,35 uur\n",
        "00,36 uur\n",
        "00,37 uur\n",
        "00,38 uur\n",
        "00,39 uur\n",
        "00,40 uur\n",
        "00,41 uur\n",
        "00,42 uur\n",
        "00,43 uur\n",
        "00,44 uur\n",
        "00,45 uur\n",
        "00,46 uur\n",
        "00,47 uur\n",
        "00,48 uur\n",
        "00,49 uur\n",
        "00,50 uur\n",
        "00,51 uur\n",
        "00,52 uur\n",
        "00,53 uur\n",
        "00,54 uur\n",
        "00,55 uur\n",
        "00,56 uur\n",
        "00,57 uur\n",
        "00,58 uur\n",
        "00,59 uur\n",
        "01,00 uur\n",
        "01,01 uur\n",
        "01,02 uur\n",
        "01,03 uur\n",
        "01,04 uur\n",
        "01,05 uur\n",
        "01,06 uur\n",
        "01,07 uur\n",
        "01,08 uur\n",
        "01,09 uur\n",
        "01,10 uur\n",
        "01,11 uur\n",
        "01,12 uur\n",
        "01,13 uur\n",
        "01,14 uur\n",
        "01,15 uur\n",
        "01,16 uur\n",
        "01,17 uur\n",
        "01,18 uur\n",
        "01,19 uur\n",
        "01,20 uur\n",
        "01,21 uur\n",
        "01,22 uur\n",
        "01,23 uur\n",
        "01,24 uur\n",
        "01,25 uur\n",
        "01,26 uur\n",
        "01,27 uur\n",
        "01,28 uur\n",
        "01,29 uur\n",
        "01,30 uur\n",
        "01,31 uur\n",
        "01,32 uur\n",
        "01,33 uur\n",
        "01,34 uur\n",
        "01,35 uur\n",
        "01,36 uur\n",
        "01,37 uur\n",
        "01,38 uur\n",
        "01,39 uur\n",
        "01,40 uur\n",
        "01,41 uur\n",
        "01,42 uur\n",
        "01,43 uur\n",
        "01,44 uur\n",
        "01,45 uur\n",
        "01,46 uur\n",
        "01,47 uur\n",
        "01,48 uur\n",
        "01,49 uur\n",
        "01,50 uur\n",
        "01,51 uur\n",
        "01,52 uur\n",
        "01,53 uur\n",
        "01,54 uur\n",
        "01,55 uur\n",
        "01,56 uur\n",
        "01,57 uur\n",
        "01,58 uur\n",
        "01,59 uur\n",
        "02,00 uur\n",
        "02,01 uur\n",
        "02,02 uur\n",
        "02,03 uur\n",
        "02,04 uur\n",
        "02,05 uur\n",
        "02,06 uur\n",
        "02,07 uur\n",
        "02,08 uur\n",
        "02,09 uur\n",
        "02,10 uur\n",
        "02,11 uur\n",
        "02,12 uur\n",
        "02,13 uur\n",
        "02,14 uur\n",
        "02,15 uur\n",
        "02,16 uur\n",
        "02,17 uur\n",
        "02,18 uur\n",
        "02,19 uur\n",
        "02,20 uur\n",
        "02,21 uur\n",
        "02,22 uur\n",
        "02,23 uur\n",
        "02,24 uur\n",
        "02,25 uur\n",
        "02,26 uur\n",
        "02,27 uur\n",
        "02,28 uur\n",
        "02,29 uur\n",
        "02,30 uur\n",
        "02,31 uur\n",
        "02,32 uur\n",
        "02,33 uur\n",
        "02,34 uur\n",
        "02,35 uur\n",
        "02,36 uur\n",
        "02,37 uur\n",
        "02,38 uur\n",
        "02,39 uur\n",
        "02,40 uur\n",
        "02,41 uur\n",
        "02,42 uur\n",
        "02,43 uur\n",
        "02,44 uur\n",
        "02,45 uur\n",
        "02,46 uur\n",
        "02,47 uur\n",
        "02,48 uur\n",
        "02,49 uur\n",
        "02,50 uur\n",
        "02,51 uur\n",
        "02,52 uur\n",
        "02,53 uur\n",
        "02,54 uur\n",
        "02,55 uur\n",
        "02,56 uur\n",
        "02,57 uur\n",
        "02,58 uur\n",
        "02,59 uur\n",
        "03,00 uur\n",
        "03,01 uur\n",
        "03,02 uur\n",
        "03,03 uur\n",
        "03,04 uur\n",
        "03,05 uur\n",
        "03,06 uur\n",
        "03,07 uur\n",
        "03,08 uur\n",
        "03,09 uur\n",
        "03,10 uur\n",
        "03,11 uur\n",
        "03,12 uur\n",
        "03,13 uur\n",
        "03,14 uur\n",
        "03,15 uur\n",
        "03,16 uur\n",
        "03,17 uur\n",
        "03,18 uur\n",
        "03,19 uur\n",
        "03,20 uur\n",
        "03,21 uur\n",
        "03,22 uur\n",
        "03,23 uur\n",
        "03,24 uur\n",
        "03,25 uur\n",
        "03,26 uur\n",
        "03,27 uur\n",
        "03,28 uur\n",
        "03,29 uur\n",
        "03,30 uur\n",
        "03,31 uur\n",
        "03,32 uur\n",
        "03,33 uur\n",
        "03,34 uur\n",
        "03,35 uur\n",
        "03,36 uur\n",
        "03,37 uur\n",
        "03,38 uur\n",
        "03,39 uur\n",
        "03,40 uur\n",
        "03,41 uur\n",
        "03,42 uur\n",
        "03,43 uur\n",
        "03,44 uur\n",
        "03,45 uur\n",
        "03,46 uur\n",
        "03,47 uur\n",
        "03,48 uur\n",
        "03,49 uur\n",
        "03,50 uur\n",
        "03,51 uur\n",
        "03,52 uur\n",
        "03,53 uur\n",
        "03,54 uur\n",
        "03,55 uur\n",
        "03,56 uur\n",
        "03,57 uur\n",
        "03,58 uur\n",
        "03,59 uur\n",
        "04,00 uur\n",
        "04,01 uur\n",
        "04,02 uur\n",
        "04,03 uur\n",
        "04,04 uur\n",
        "04,05 uur\n",
        "04,06 uur\n",
        "04,07 uur\n",
        "04,08 uur\n",
        "04,09 uur\n",
        "04,10 uur\n",
        "04,11 uur\n",
        "04,12 uur\n",
        "04,13 uur\n",
        "04,14 uur\n",
        "04,15 uur\n",
        "04,16 uur\n",
        "04,17 uur\n",
        "04,18 uur\n",
        "04,19 uur\n",
        "04,20 uur\n",
        "04,21 uur\n",
        "04,22 uur\n",
        "04,23 uur\n",
        "04,24 uur\n",
        "04,25 uur\n",
        "04,26 uur\n",
        "04,27 uur\n",
        "04,28 uur\n",
        "04,29 uur\n",
        "04,30 uur\n",
        "04,31 uur\n",
        "04,32 uur\n",
        "04,33 uur\n",
        "04,34 uur\n",
        "04,35 uur\n",
        "04,36 uur\n",
        "04,37 uur\n",
        "04,38 uur\n",
        "04,39 uur\n",
        "04,40 uur\n",
        "04,41 uur\n",
        "04,42 uur\n",
        "04,43 uur\n",
        "04,44 uur\n",
        "04,45 uur\n",
        "04,46 uur\n",
        "04,47 uur\n",
        "04,48 uur\n",
        "04,49 uur\n",
        "04,50 uur\n",
        "04,51 uur\n",
        "04,52 uur\n",
        "04,53 uur\n",
        "04,54 uur\n",
        "04,55 uur\n",
        "04,56 uur\n",
        "04,57 uur\n",
        "04,58 uur\n",
        "04,59 uur\n",
        "05,00 uur\n",
        "05,01 uur\n",
        "05,02 uur\n",
        "05,03 uur\n",
        "05,04 uur\n",
        "05,05 uur\n",
        "05,06 uur\n",
        "05,07 uur\n",
        "05,08 uur\n",
        "05,09 uur\n",
        "05,10 uur\n",
        "05,11 uur\n",
        "05,12 uur\n",
        "05,13 uur\n",
        "05,14 uur\n",
        "05,15 uur\n",
        "05,16 uur\n",
        "05,17 uur\n",
        "05,18 uur\n",
        "05,19 uur\n",
        "05,20 uur\n",
        "05,21 uur\n",
        "05,22 uur\n",
        "05,23 uur\n",
        "05,24 uur\n",
        "05,25 uur\n",
        "05,26 uur\n",
        "05,27 uur\n",
        "05,28 uur\n",
        "05,29 uur\n",
        "05,30 uur\n",
        "05,31 uur\n",
        "05,32 uur\n",
        "05,33 uur\n",
        "05,34 uur\n",
        "05,35 uur\n",
        "05,36 uur\n",
        "05,37 uur\n",
        "05,38 uur\n",
        "05,39 uur\n",
        "05,40 uur\n",
        "05,41 uur\n",
        "05,42 uur\n",
        "05,43 uur\n",
        "05,44 uur\n",
        "05,45 uur\n",
        "05,46 uur\n",
        "05,47 uur\n",
        "05,48 uur\n",
        "05,49 uur\n",
        "05,50 uur\n",
        "05,51 uur\n",
        "05,52 uur\n",
        "05,53 uur\n",
        "05,54 uur\n",
        "05,55 uur\n",
        "05,56 uur\n",
        "05,57 uur\n",
        "05,58 uur\n",
        "05,59 uur\n",
        "06,00 uur\n",
        "06,01 uur\n",
        "06,02 uur\n",
        "06,03 uur\n",
        "06,04 uur\n",
        "06,05 uur\n",
        "06,06 uur\n",
        "06,07 uur\n",
        "06,08 uur\n",
        "06,09 uur\n",
        "06,10 uur\n",
        "06,11 uur\n",
        "06,12 uur\n",
        "06,13 uur\n",
        "06,14 uur\n",
        "06,15 uur\n",
        "06,16 uur\n",
        "06,17 uur\n",
        "06,18 uur\n",
        "06,19 uur\n",
        "06,20 uur\n",
        "06,21 uur\n",
        "06,22 uur\n",
        "06,23 uur\n",
        "06,24 uur\n",
        "06,25 uur\n",
        "06,26 uur\n",
        "06,27 uur\n",
        "06,28 uur\n",
        "06,29 uur\n",
        "06,30 uur\n",
        "06,31 uur\n",
        "06,32 uur\n",
        "06,33 uur\n",
        "06,34 uur\n",
        "06,35 uur\n",
        "06,36 uur\n",
        "06,37 uur\n",
        "06,38 uur\n",
        "06,39 uur\n",
        "06,40 uur\n",
        "06,41 uur\n",
        "06,42 uur\n",
        "06,43 uur\n",
        "06,44 uur\n",
        "06,45 uur\n",
        "06,46 uur\n",
        "06,47 uur\n",
        "06,48 uur\n",
        "06,49 uur\n",
        "06,50 uur\n",
        "06,51 uur\n",
        "06,52 uur\n",
        "06,53 uur\n",
        "06,54 uur\n",
        "06,55 uur\n",
        "06,56 uur\n",
        "06,57 uur\n",
        "06,58 uur\n",
        "06,59 uur\n",
        "07,00 uur\n",
        "07,01 uur\n",
        "07,02 uur\n",
        "07,03 uur\n",
        "07,04 uur\n",
        "07,05 uur\n",
        "07,06 uur\n",
        "07,07 uur\n",
        "07,08 uur\n",
        "07,09 uur\n",
        "07,10 uur\n",
        "07,11 uur\n",
        "07,12 uur\n",
        "07,13 uur\n",
        "07,14 uur\n",
        "07,15 uur\n",
        "07,16 uur\n",
        "07,17 uur\n",
        "07,18 uur\n",
        "07,19 uur\n",
        "07,20 uur\n",
        "07,21 uur\n",
        "07,22 uur\n",
        "07,23 uur\n",
        "07,24 uur\n",
        "07,25 uur\n",
        "07,26 uur\n",
        "07,27 uur\n",
        "07,28 uur\n",
        "07,29 uur\n",
        "07,30 uur\n",
        "07,31 uur\n",
        "07,32 uur\n",
        "07,33 uur\n",
        "07,34 uur\n",
        "07,35 uur\n",
        "07,36 uur\n",
        "07,37 uur\n",
        "07,38 uur\n",
        "07,39 uur\n",
        "07,40 uur\n",
        "07,41 uur\n",
        "07,42 uur\n",
        "07,43 uur\n",
        "07,44 uur\n",
        "07,45 uur\n",
        "07,46 uur\n",
        "07,47 uur\n",
        "07,48 uur\n",
        "07,49 uur\n",
        "07,50 uur\n",
        "07,51 uur\n",
        "07,52 uur\n",
        "07,53 uur\n",
        "07,54 uur\n",
        "07,55 uur\n",
        "07,56 uur\n",
        "07,57 uur\n",
        "07,58 uur\n",
        "07,59 uur\n",
        "08,00 uur\n",
        "08,01 uur\n",
        "08,02 uur\n",
        "08,03 uur\n",
        "08,04 uur\n",
        "08,05 uur\n",
        "08,06 uur\n",
        "08,07 uur\n",
        "08,08 uur\n",
        "08,09 uur\n",
        "08,10 uur\n",
        "08,11 uur\n",
        "08,12 uur\n",
        "08,13 uur\n",
        "08,14 uur\n",
        "08,15 uur\n",
        "08,16 uur\n",
        "08,17 uur\n",
        "08,18 uur\n",
        "08,19 uur\n",
        "08,20 uur\n",
        "08,21 uur\n",
        "08,22 uur\n",
        "08,23 uur\n",
        "08,24 uur\n",
        "08,25 uur\n",
        "08,26 uur\n",
        "08,27 uur\n",
        "08,28 uur\n",
        "08,29 uur\n",
        "08,30 uur\n",
        "08,31 uur\n",
        "08,32 uur\n",
        "08,33 uur\n",
        "08,34 uur\n",
        "08,35 uur\n",
        "08,36 uur\n",
        "08,37 uur\n",
        "08,38 uur\n",
        "08,39 uur\n",
        "08,40 uur\n",
        "08,41 uur\n",
        "08,42 uur\n",
        "08,43 uur\n",
        "08,44 uur\n",
        "08,45 uur\n",
        "08,46 uur\n",
        "08,47 uur\n",
        "08,48 uur\n",
        "08,49 uur\n",
        "08,50 uur\n",
        "08,51 uur\n",
        "08,52 uur\n",
        "08,53 uur\n",
        "08,54 uur\n",
        "08,55 uur\n",
        "08,56 uur\n",
        "08,57 uur\n",
        "08,58 uur\n",
        "08,59 uur\n",
        "09,00 uur\n",
        "09,01 uur\n",
        "09,02 uur\n",
        "09,03 uur\n",
        "09,04 uur\n",
        "09,05 uur\n",
        "09,06 uur\n",
        "09,07 uur\n",
        "09,08 uur\n",
        "09,09 uur\n",
        "09,10 uur\n",
        "09,11 uur\n",
        "09,12 uur\n",
        "09,13 uur\n",
        "09,14 uur\n",
        "09,15 uur\n",
        "09,16 uur\n",
        "09,17 uur\n",
        "09,18 uur\n",
        "09,19 uur\n",
        "09,20 uur\n",
        "09,21 uur\n",
        "09,22 uur\n",
        "09,23 uur\n",
        "09,24 uur\n",
        "09,25 uur\n",
        "09,26 uur\n",
        "09,27 uur\n",
        "09,28 uur\n",
        "09,29 uur\n",
        "09,30 uur\n",
        "09,31 uur\n",
        "09,32 uur\n",
        "09,33 uur\n",
        "09,34 uur\n",
        "09,35 uur\n",
        "09,36 uur\n",
        "09,37 uur\n",
        "09,38 uur\n",
        "09,39 uur\n",
        "09,40 uur\n",
        "09,41 uur\n",
        "09,42 uur\n",
        "09,43 uur\n",
        "09,44 uur\n",
        "09,45 uur\n",
        "09,46 uur\n",
        "09,47 uur\n",
        "09,48 uur\n",
        "09,49 uur\n",
        "09,50 uur\n",
        "09,51 uur\n",
        "09,52 uur\n",
        "09,53 uur\n",
        "09,54 uur\n",
        "09,55 uur\n",
        "09,56 uur\n",
        "09,57 uur\n",
        "09,58 uur\n",
        "09,59 uur\n",
        "10,00 uur\n",
        "10,01 uur\n",
        "10,02 uur\n",
        "10,03 uur\n",
        "10,04 uur\n",
        "10,05 uur\n",
        "10,06 uur\n",
        "10,07 uur\n",
        "10,08 uur\n",
        "10,09 uur\n",
        "10,10 uur\n",
        "10,11 uur\n",
        "10,12 uur\n",
        "10,13 uur\n",
        "10,14 uur\n",
        "10,15 uur\n",
        "10,16 uur\n",
        "10,17 uur\n",
        "10,18 uur\n",
        "10,19 uur\n",
        "10,20 uur\n",
        "10,21 uur\n",
        "10,22 uur\n",
        "10,23 uur\n",
        "10,24 uur\n",
        "10,25 uur\n",
        "10,26 uur\n",
        "10,27 uur\n",
        "10,28 uur\n",
        "10,29 uur\n",
        "10,30 uur\n",
        "10,31 uur\n",
        "10,32 uur\n",
        "10,33 uur\n",
        "10,34 uur\n",
        "10,35 uur\n",
        "10,36 uur\n",
        "10,37 uur\n",
        "10,38 uur\n",
        "10,39 uur\n",
        "10,40 uur\n",
        "10,41 uur\n",
        "10,42 uur\n",
        "10,43 uur\n",
        "10,44 uur\n",
        "10,45 uur\n",
        "10,46 uur\n",
        "10,47 uur\n",
        "10,48 uur\n",
        "10,49 uur\n",
        "10,50 uur\n",
        "10,51 uur\n",
        "10,52 uur\n",
        "10,53 uur\n",
        "10,54 uur\n",
        "10,55 uur\n",
        "10,56 uur\n",
        "10,57 uur\n",
        "10,58 uur\n",
        "10,59 uur\n",
        "11,00 uur\n",
        "11,01 uur\n",
        "11,02 uur\n",
        "11,03 uur\n",
        "11,04 uur\n",
        "11,05 uur\n",
        "11,06 uur\n",
        "11,07 uur\n",
        "11,08 uur\n",
        "11,09 uur\n",
        "11,10 uur\n",
        "11,11 uur\n",
        "11,12 uur\n",
        "11,13 uur\n",
        "11,14 uur\n",
        "11,15 uur\n",
        "11,16 uur\n",
        "11,17 uur\n",
        "11,18 uur\n",
        "11,19 uur\n",
        "11,20 uur\n",
        "11,21 uur\n",
        "11,22 uur\n",
        "11,23 uur\n",
        "11,24 uur\n",
        "11,25 uur\n",
        "11,26 uur\n",
        "11,27 uur\n",
        "11,28 uur\n",
        "11,29 uur\n",
        "11,30 uur\n",
        "11,31 uur\n",
        "11,32 uur\n",
        "11,33 uur\n",
        "11,34 uur\n",
        "11,35 uur\n",
        "11,36 uur\n",
        "11,37 uur\n",
        "11,38 uur\n",
        "11,39 uur\n",
        "11,40 uur\n",
        "11,41 uur\n",
        "11,42 uur\n",
        "11,43 uur\n",
        "11,44 uur\n",
        "11,45 uur\n",
        "11,46 uur\n",
        "11,47 uur\n",
        "11,48 uur\n",
        "11,49 uur\n",
        "11,50 uur\n",
        "11,51 uur\n",
        "11,52 uur\n",
        "11,53 uur\n",
        "11,54 uur\n",
        "11,55 uur\n",
        "11,56 uur\n",
        "11,57 uur\n",
        "11,58 uur\n",
        "11,59 uur\n",
        "12,00 uur\n",
        "12,01 uur\n",
        "12,02 uur\n",
        "12,03 uur\n",
        "12,04 uur\n",
        "12,05 uur\n",
        "12,06 uur\n",
        "12,07 uur\n",
        "12,08 uur\n",
        "12,09 uur\n",
        "12,10 uur\n",
        "12,11 uur\n",
        "12,12 uur\n",
        "12,13 uur\n",
        "12,14 uur\n",
        "12,15 uur\n",
        "12,16 uur\n",
        "12,17 uur\n",
        "12,18 uur\n",
        "12,19 uur\n",
        "12,20 uur\n",
        "12,21 uur\n",
        "12,22 uur\n",
        "12,23 uur\n",
        "12,24 uur\n",
        "12,25 uur\n",
        "12,26 uur\n",
        "12,27 uur\n",
        "12,28 uur\n",
        "12,29 uur\n",
        "12,30 uur\n",
        "12,31 uur\n",
        "12,32 uur\n",
        "12,33 uur\n",
        "12,34 uur\n",
        "12,35 uur\n",
        "12,36 uur\n",
        "12,37 uur\n",
        "12,38 uur\n",
        "12,39 uur\n",
        "12,40 uur\n",
        "12,41 uur\n",
        "12,42 uur\n",
        "12,43 uur\n",
        "12,44 uur\n",
        "12,45 uur\n",
        "12,46 uur\n",
        "12,47 uur\n",
        "12,48 uur\n",
        "12,49 uur\n",
        "12,50 uur\n",
        "12,51 uur\n",
        "12,52 uur\n",
        "12,53 uur\n",
        "12,54 uur\n",
        "12,55 uur\n",
        "12,56 uur\n",
        "12,57 uur\n",
        "12,58 uur\n",
        "12,59 uur\n",
        "13,00 uur\n",
        "13,01 uur\n",
        "13,02 uur\n",
        "13,03 uur\n",
        "13,04 uur\n",
        "13,05 uur\n",
        "13,06 uur\n",
        "13,07 uur\n",
        "13,08 uur\n",
        "13,09 uur\n",
        "13,10 uur\n",
        "13,11 uur\n",
        "13,12 uur\n",
        "13,13 uur\n",
        "13,14 uur\n",
        "13,15 uur\n",
        "13,16 uur\n",
        "13,17 uur\n",
        "13,18 uur\n",
        "13,19 uur\n",
        "13,20 uur\n",
        "13,21 uur\n",
        "13,22 uur\n",
        "13,23 uur\n",
        "13,24 uur\n",
        "13,25 uur\n",
        "13,26 uur\n",
        "13,27 uur\n",
        "13,28 uur\n",
        "13,29 uur\n",
        "13,30 uur\n",
        "13,31 uur\n",
        "13,32 uur\n",
        "13,33 uur\n",
        "13,34 uur\n",
        "13,35 uur\n",
        "13,36 uur\n",
        "13,37 uur\n",
        "13,38 uur\n",
        "13,39 uur\n",
        "13,40 uur\n",
        "13,41 uur\n",
        "13,42 uur\n",
        "13,43 uur\n",
        "13,44 uur\n",
        "13,45 uur\n",
        "13,46 uur\n",
        "13,47 uur\n",
        "13,48 uur\n",
        "13,49 uur\n",
        "13,50 uur\n",
        "13,51 uur\n",
        "13,52 uur\n",
        "13,53 uur\n",
        "13,54 uur\n",
        "13,55 uur\n",
        "13,56 uur\n",
        "13,57 uur\n",
        "13,58 uur\n",
        "13,59 uur\n",
        "14,00 uur\n",
        "14,01 uur\n",
        "14,02 uur\n",
        "14,03 uur\n",
        "14,04 uur\n",
        "14,05 uur\n",
        "14,06 uur\n",
        "14,07 uur\n",
        "14,08 uur\n",
        "14,09 uur\n",
        "14,10 uur\n",
        "14,11 uur\n",
        "14,12 uur\n",
        "14,13 uur\n",
        "14,14 uur\n",
        "14,15 uur\n",
        "14,16 uur\n",
        "14,17 uur\n",
        "14,18 uur\n",
        "14,19 uur\n",
        "14,20 uur\n",
        "14,21 uur\n",
        "14,22 uur\n",
        "14,23 uur\n",
        "14,24 uur\n",
        "14,25 uur\n",
        "14,26 uur\n",
        "14,27 uur\n",
        "14,28 uur\n",
        "14,29 uur\n",
        "14,30 uur\n",
        "14,31 uur\n",
        "14,32 uur\n",
        "14,33 uur\n",
        "14,34 uur\n",
        "14,35 uur\n",
        "14,36 uur\n",
        "14,37 uur\n",
        "14,38 uur\n",
        "14,39 uur\n",
        "14,40 uur\n",
        "14,41 uur\n",
        "14,42 uur\n",
        "14,43 uur\n",
        "14,44 uur\n",
        "14,45 uur\n",
        "14,46 uur\n",
        "14,47 uur\n",
        "14,48 uur\n",
        "14,49 uur\n",
        "14,50 uur\n",
        "14,51 uur\n",
        "14,52 uur\n",
        "14,53 uur\n",
        "14,54 uur\n",
        "14,55 uur\n",
        "14,56 uur\n",
        "14,57 uur\n",
        "14,58 uur\n",
        "14,59 uur\n",
        "15,00 uur\n",
        "15,01 uur\n",
        "15,02 uur\n",
        "15,03 uur\n",
        "15,04 uur\n",
        "15,05 uur\n",
        "15,06 uur\n",
        "15,07 uur\n",
        "15,08 uur\n",
        "15,09 uur\n",
        "15,10 uur\n",
        "15,11 uur\n",
        "15,12 uur\n",
        "15,13 uur\n",
        "15,14 uur\n",
        "15,15 uur\n",
        "15,16 uur\n",
        "15,17 uur\n",
        "15,18 uur\n",
        "15,19 uur\n",
        "15,20 uur\n",
        "15,21 uur\n",
        "15,22 uur\n",
        "15,23 uur\n",
        "15,24 uur\n",
        "15,25 uur\n",
        "15,26 uur\n",
        "15,27 uur\n",
        "15,28 uur\n",
        "15,29 uur\n",
        "15,30 uur\n",
        "15,31 uur\n",
        "15,32 uur\n",
        "15,33 uur\n",
        "15,34 uur\n",
        "15,35 uur\n",
        "15,36 uur\n",
        "15,37 uur\n",
        "15,38 uur\n",
        "15,39 uur\n",
        "15,40 uur\n",
        "15,41 uur\n",
        "15,42 uur\n",
        "15,43 uur\n",
        "15,44 uur\n",
        "15,45 uur\n",
        "15,46 uur\n",
        "15,47 uur\n",
        "15,48 uur\n",
        "15,49 uur\n",
        "15,50 uur\n",
        "15,51 uur\n",
        "15,52 uur\n",
        "15,53 uur\n",
        "15,54 uur\n",
        "15,55 uur\n",
        "15,56 uur\n",
        "15,57 uur\n",
        "15,58 uur\n",
        "15,59 uur\n",
        "16,00 uur\n",
        "16,01 uur\n",
        "16,02 uur\n",
        "16,03 uur\n",
        "16,04 uur\n",
        "16,05 uur\n",
        "16,06 uur\n",
        "16,07 uur\n",
        "16,08 uur\n",
        "16,09 uur\n",
        "16,10 uur\n",
        "16,11 uur\n",
        "16,12 uur\n",
        "16,13 uur\n",
        "16,14 uur\n",
        "16,15 uur\n",
        "16,16 uur\n",
        "16,17 uur\n",
        "16,18 uur\n",
        "16,19 uur\n",
        "16,20 uur\n",
        "16,21 uur\n",
        "16,22 uur\n",
        "16,23 uur\n",
        "16,24 uur\n",
        "16,25 uur\n",
        "16,26 uur\n",
        "16,27 uur\n",
        "16,28 uur\n",
        "16,29 uur\n",
        "16,30 uur\n",
        "16,31 uur\n",
        "16,32 uur\n",
        "16,33 uur\n",
        "16,34 uur\n",
        "16,35 uur\n",
        "16,36 uur\n",
        "16,37 uur\n",
        "16,38 uur\n",
        "16,39 uur\n",
        "16,40 uur\n",
        "16,41 uur\n",
        "16,42 uur\n",
        "16,43 uur\n",
        "16,44 uur\n",
        "16,45 uur\n",
        "16,46 uur\n",
        "16,47 uur\n",
        "16,48 uur\n",
        "16,49 uur\n",
        "16,50 uur\n",
        "16,51 uur\n",
        "16,52 uur\n",
        "16,53 uur\n",
        "16,54 uur\n",
        "16,55 uur\n",
        "16,56 uur\n",
        "16,57 uur\n",
        "16,58 uur\n",
        "16,59 uur\n",
        "17,00 uur\n",
        "17,01 uur\n",
        "17,02 uur\n",
        "17,03 uur\n",
        "17,04 uur\n",
        "17,05 uur\n",
        "17,06 uur\n",
        "17,07 uur\n",
        "17,08 uur\n",
        "17,09 uur\n",
        "17,10 uur\n",
        "17,11 uur\n",
        "17,12 uur\n",
        "17,13 uur\n",
        "17,14 uur\n",
        "17,15 uur\n",
        "17,16 uur\n",
        "17,17 uur\n",
        "17,18 uur\n",
        "17,19 uur\n",
        "17,20 uur\n",
        "17,21 uur\n",
        "17,22 uur\n",
        "17,23 uur\n",
        "17,24 uur\n",
        "17,25 uur\n",
        "17,26 uur\n",
        "17,27 uur\n",
        "17,28 uur\n",
        "17,29 uur\n",
        "17,30 uur\n",
        "17,31 uur\n",
        "17,32 uur\n",
        "17,33 uur\n",
        "17,34 uur\n",
        "17,35 uur\n",
        "17,36 uur\n",
        "17,37 uur\n",
        "17,38 uur\n",
        "17,39 uur\n",
        "17,40 uur\n",
        "17,41 uur\n",
        "17,42 uur\n",
        "17,43 uur\n",
        "17,44 uur\n",
        "17,45 uur\n",
        "17,46 uur\n",
        "17,47 uur\n",
        "17,48 uur\n",
        "17,49 uur\n",
        "17,50 uur\n",
        "17,51 uur\n",
        "17,52 uur\n",
        "17,53 uur\n",
        "17,54 uur\n",
        "17,55 uur\n",
        "17,56 uur\n",
        "17,57 uur\n",
        "17,58 uur\n",
        "17,59 uur\n",
        "18,00 uur\n",
        "18,01 uur\n",
        "18,02 uur\n",
        "18,03 uur\n",
        "18,04 uur\n",
        "18,05 uur\n",
        "18,06 uur\n",
        "18,07 uur\n",
        "18,08 uur\n",
        "18,09 uur\n",
        "18,10 uur\n",
        "18,11 uur\n",
        "18,12 uur\n",
        "18,13 uur\n",
        "18,14 uur\n",
        "18,15 uur\n",
        "18,16 uur\n",
        "18,17 uur\n",
        "18,18 uur\n",
        "18,19 uur\n",
        "18,20 uur\n",
        "18,21 uur\n",
        "18,22 uur\n",
        "18,23 uur\n",
        "18,24 uur\n",
        "18,25 uur\n",
        "18,26 uur\n",
        "18,27 uur\n",
        "18,28 uur\n",
        "18,29 uur\n",
        "18,30 uur\n",
        "18,31 uur\n",
        "18,32 uur\n",
        "18,33 uur\n",
        "18,34 uur\n",
        "18,35 uur\n",
        "18,36 uur\n",
        "18,37 uur\n",
        "18,38 uur\n",
        "18,39 uur\n",
        "18,40 uur\n",
        "18,41 uur\n",
        "18,42 uur\n",
        "18,43 uur\n",
        "18,44 uur\n",
        "18,45 uur\n",
        "18,46 uur\n",
        "18,47 uur\n",
        "18,48 uur\n",
        "18,49 uur\n",
        "18,50 uur\n",
        "18,51 uur\n",
        "18,52 uur\n",
        "18,53 uur\n",
        "18,54 uur\n",
        "18,55 uur\n",
        "18,56 uur\n",
        "18,57 uur\n",
        "18,58 uur\n",
        "18,59 uur\n",
        "19,00 uur\n",
        "19,01 uur\n",
        "19,02 uur\n",
        "19,03 uur\n",
        "19,04 uur\n",
        "19,05 uur\n",
        "19,06 uur\n",
        "19,07 uur\n",
        "19,08 uur\n",
        "19,09 uur\n",
        "19,10 uur\n",
        "19,11 uur\n",
        "19,12 uur\n",
        "19,13 uur\n",
        "19,14 uur\n",
        "19,15 uur\n",
        "19,16 uur\n",
        "19,17 uur\n",
        "19,18 uur\n",
        "19,19 uur\n",
        "19,20 uur\n",
        "19,21 uur\n",
        "19,22 uur\n",
        "19,23 uur\n",
        "19,24 uur\n",
        "19,25 uur\n",
        "19,26 uur\n",
        "19,27 uur\n",
        "19,28 uur\n",
        "19,29 uur\n",
        "19,30 uur\n",
        "19,31 uur\n",
        "19,32 uur\n",
        "19,33 uur\n",
        "19,34 uur\n",
        "19,35 uur\n",
        "19,36 uur\n",
        "19,37 uur\n",
        "19,38 uur\n",
        "19,39 uur\n",
        "19,40 uur\n",
        "19,41 uur\n",
        "19,42 uur\n",
        "19,43 uur\n",
        "19,44 uur\n",
        "19,45 uur\n",
        "19,46 uur\n",
        "19,47 uur\n",
        "19,48 uur\n",
        "19,49 uur\n",
        "19,50 uur\n",
        "19,51 uur\n",
        "19,52 uur\n",
        "19,53 uur\n",
        "19,54 uur\n",
        "19,55 uur\n",
        "19,56 uur\n",
        "19,57 uur\n",
        "19,58 uur\n",
        "19,59 uur\n",
        "20,00 uur\n",
        "20,01 uur\n",
        "20,02 uur\n",
        "20,03 uur\n",
        "20,04 uur\n",
        "20,05 uur\n",
        "20,06 uur\n",
        "20,07 uur\n",
        "20,08 uur\n",
        "20,09 uur\n",
        "20,10 uur\n",
        "20,11 uur\n",
        "20,12 uur\n",
        "20,13 uur\n",
        "20,14 uur\n",
        "20,15 uur\n",
        "20,16 uur\n",
        "20,17 uur\n",
        "20,18 uur\n",
        "20,19 uur\n",
        "20,20 uur\n",
        "20,21 uur\n",
        "20,22 uur\n",
        "20,23 uur\n",
        "20,24 uur\n",
        "20,25 uur\n",
        "20,26 uur\n",
        "20,27 uur\n",
        "20,28 uur\n",
        "20,29 uur\n",
        "20,30 uur\n",
        "20,31 uur\n",
        "20,32 uur\n",
        "20,33 uur\n",
        "20,34 uur\n",
        "20,35 uur\n",
        "20,36 uur\n",
        "20,37 uur\n",
        "20,38 uur\n",
        "20,39 uur\n",
        "20,40 uur\n",
        "20,41 uur\n",
        "20,42 uur\n",
        "20,43 uur\n",
        "20,44 uur\n",
        "20,45 uur\n",
        "20,46 uur\n",
        "20,47 uur\n",
        "20,48 uur\n",
        "20,49 uur\n",
        "20,50 uur\n",
        "20,51 uur\n",
        "20,52 uur\n",
        "20,53 uur\n",
        "20,54 uur\n",
        "20,55 uur\n",
        "20,56 uur\n",
        "20,57 uur\n",
        "20,58 uur\n",
        "20,59 uur\n",
        "21,00 uur\n",
        "21,01 uur\n",
        "21,02 uur\n",
        "21,03 uur\n",
        "21,04 uur\n",
        "21,05 uur\n",
        "21,06 uur\n",
        "21,07 uur\n",
        "21,08 uur\n",
        "21,09 uur\n",
        "21,10 uur\n",
        "21,11 uur\n",
        "21,12 uur\n",
        "21,13 uur\n",
        "21,14 uur\n",
        "21,15 uur\n",
        "21,16 uur\n",
        "21,17 uur\n",
        "21,18 uur\n",
        "21,19 uur\n",
        "21,20 uur\n",
        "21,21 uur\n",
        "21,22 uur\n",
        "21,23 uur\n",
        "21,24 uur\n",
        "21,25 uur\n",
        "21,26 uur\n",
        "21,27 uur\n",
        "21,28 uur\n",
        "21,29 uur\n",
        "21,30 uur\n",
        "21,31 uur\n",
        "21,32 uur\n",
        "21,33 uur\n",
        "21,34 uur\n",
        "21,35 uur\n",
        "21,36 uur\n",
        "21,37 uur\n",
        "21,38 uur\n",
        "21,39 uur\n",
        "21,40 uur\n",
        "21,41 uur\n",
        "21,42 uur\n",
        "21,43 uur\n",
        "21,44 uur\n",
        "21,45 uur\n",
        "21,46 uur\n",
        "21,47 uur\n",
        "21,48 uur\n",
        "21,49 uur\n",
        "21,50 uur\n",
        "21,51 uur\n",
        "21,52 uur\n",
        "21,53 uur\n",
        "21,54 uur\n",
        "21,55 uur\n",
        "21,56 uur\n",
        "21,57 uur\n",
        "21,58 uur\n",
        "21,59 uur\n",
        "22,00 uur\n",
        "22,01 uur\n",
        "22,02 uur\n",
        "22,03 uur\n",
        "22,04 uur\n",
        "22,05 uur\n",
        "22,06 uur\n",
        "22,07 uur\n",
        "22,08 uur\n",
        "22,09 uur\n",
        "22,10 uur\n",
        "22,11 uur\n",
        "22,12 uur\n",
        "22,13 uur\n",
        "22,14 uur\n",
        "22,15 uur\n",
        "22,16 uur\n",
        "22,17 uur\n",
        "22,18 uur\n",
        "22,19 uur\n",
        "22,20 uur\n",
        "22,21 uur\n",
        "22,22 uur\n",
        "22,23 uur\n",
        "22,24 uur\n",
        "22,25 uur\n",
        "22,26 uur\n",
        "22,27 uur\n",
        "22,28 uur\n",
        "22,29 uur\n",
        "22,30 uur\n",
        "22,31 uur\n",
        "22,32 uur\n",
        "22,33 uur\n",
        "22,34 uur\n",
        "22,35 uur\n",
        "22,36 uur\n",
        "22,37 uur\n",
        "22,38 uur\n",
        "22,39 uur\n",
        "22,40 uur\n",
        "22,41 uur\n",
        "22,42 uur\n",
        "22,43 uur\n",
        "22,44 uur\n",
        "22,45 uur\n",
        "22,46 uur\n",
        "22,47 uur\n",
        "22,48 uur\n",
        "22,49 uur\n",
        "22,50 uur\n",
        "22,51 uur\n",
        "22,52 uur\n",
        "22,53 uur\n",
        "22,54 uur\n",
        "22,55 uur\n",
        "22,56 uur\n",
        "22,57 uur\n",
        "22,58 uur\n",
        "22,59 uur\n",
        "23,00 uur\n",
        "23,01 uur\n",
        "23,02 uur\n",
        "23,03 uur\n",
        "23,04 uur\n",
        "23,05 uur\n",
        "23,06 uur\n",
        "23,07 uur\n",
        "23,08 uur\n",
        "23,09 uur\n",
        "23,10 uur\n",
        "23,11 uur\n",
        "23,12 uur\n",
        "23,13 uur\n",
        "23,14 uur\n",
        "23,15 uur\n",
        "23,16 uur\n",
        "23,17 uur\n",
        "23,18 uur\n",
        "23,19 uur\n",
        "23,20 uur\n",
        "23,21 uur\n",
        "23,22 uur\n",
        "23,23 uur\n",
        "23,24 uur\n",
        "23,25 uur\n",
        "23,26 uur\n",
        "23,27 uur\n",
        "23,28 uur\n",
        "23,29 uur\n",
        "23,30 uur\n",
        "23,31 uur\n",
        "23,32 uur\n",
        "23,33 uur\n",
        "23,34 uur\n",
        "23,35 uur\n",
        "23,36 uur\n",
        "23,37 uur\n",
        "23,38 uur\n",
        "23,39 uur\n",
        "23,40 uur\n",
        "23,41 uur\n",
        "23,42 uur\n",
        "23,43 uur\n",
        "23,44 uur\n",
        "23,45 uur\n",
        "23,46 uur\n",
        "23,47 uur\n",
        "23,48 uur\n",
        "23,49 uur\n",
        "23,50 uur\n",
        "23,51 uur\n",
        "23,52 uur\n",
        "23,53 uur\n",
        "23,54 uur\n",
        "23,55 uur\n",
        "23,56 uur\n",
        "23,57 uur\n",
        "23,58 uur\n",
        "23,59 uur\n"
       ]
      }
     ],
     "prompt_number": 7
    },
    {
     "cell_type": "code",
     "collapsed": true,
     "input": [
      "for n in range(0,24):\n",
      "    h=str(n)\n",
      "    if n<10:\n",
      "        h='0'+h # keep in mind, hour does not need to be in zero-padded format.\n",
      "    for n2 in range(0,60):\n",
      "        m = str(n2)\n",
      "        if n2<10:\n",
      "            m='0'+m\n",
      "            \n",
      "        if n2%5 != 0:\n",
      "            print(h+'.'+m+' uur')\n",
      "            print(h+':'+m+' uur')"
     ],
     "language": "python",
     "metadata": {},
     "outputs": [
      {
       "output_type": "stream",
       "stream": "stdout",
       "text": [
        "00.01 uur\n",
        "00:01 uur\n",
        "00.02 uur\n",
        "00:02 uur\n",
        "00.03 uur\n",
        "00:03 uur\n",
        "00.04 uur\n",
        "00:04 uur\n",
        "00.06 uur\n",
        "00:06 uur\n",
        "00.07 uur\n",
        "00:07 uur\n",
        "00.08 uur\n",
        "00:08 uur\n",
        "00.09 uur\n",
        "00:09 uur\n",
        "00.11 uur\n",
        "00:11 uur\n",
        "00.12 uur\n",
        "00:12 uur\n",
        "00.13 uur\n",
        "00:13 uur\n",
        "00.14 uur\n",
        "00:14 uur\n",
        "00.16 uur\n",
        "00:16 uur\n",
        "00.17 uur\n",
        "00:17 uur\n",
        "00.18 uur\n",
        "00:18 uur\n",
        "00.19 uur\n",
        "00:19 uur\n",
        "00.21 uur\n",
        "00:21 uur\n",
        "00.22 uur\n",
        "00:22 uur\n",
        "00.23 uur\n",
        "00:23 uur\n",
        "00.24 uur\n",
        "00:24 uur\n",
        "00.26 uur\n",
        "00:26 uur\n",
        "00.27 uur\n",
        "00:27 uur\n",
        "00.28 uur\n",
        "00:28 uur\n",
        "00.29 uur\n",
        "00:29 uur\n",
        "00.31 uur\n",
        "00:31 uur\n",
        "00.32 uur\n",
        "00:32 uur\n",
        "00.33 uur\n",
        "00:33 uur\n",
        "00.34 uur\n",
        "00:34 uur\n",
        "00.36 uur\n",
        "00:36 uur\n",
        "00.37 uur\n",
        "00:37 uur\n",
        "00.38 uur\n",
        "00:38 uur\n",
        "00.39 uur\n",
        "00:39 uur\n",
        "00.41 uur\n",
        "00:41 uur\n",
        "00.42 uur\n",
        "00:42 uur\n",
        "00.43 uur\n",
        "00:43 uur\n",
        "00.44 uur\n",
        "00:44 uur\n",
        "00.46 uur\n",
        "00:46 uur\n",
        "00.47 uur\n",
        "00:47 uur\n",
        "00.48 uur\n",
        "00:48 uur\n",
        "00.49 uur\n",
        "00:49 uur\n",
        "00.51 uur\n",
        "00:51 uur\n",
        "00.52 uur\n",
        "00:52 uur\n",
        "00.53 uur\n",
        "00:53 uur\n",
        "00.54 uur\n",
        "00:54 uur\n",
        "00.56 uur\n",
        "00:56 uur\n",
        "00.57 uur\n",
        "00:57 uur\n",
        "00.58 uur\n",
        "00:58 uur\n",
        "00.59 uur\n",
        "00:59 uur\n",
        "01.01 uur\n",
        "01:01 uur\n",
        "01.02 uur\n",
        "01:02 uur\n",
        "01.03 uur\n",
        "01:03 uur\n",
        "01.04 uur\n",
        "01:04 uur\n",
        "01.06 uur\n",
        "01:06 uur\n",
        "01.07 uur\n",
        "01:07 uur\n",
        "01.08 uur\n",
        "01:08 uur\n",
        "01.09 uur\n",
        "01:09 uur\n",
        "01.11 uur\n",
        "01:11 uur\n",
        "01.12 uur\n",
        "01:12 uur\n",
        "01.13 uur\n",
        "01:13 uur\n",
        "01.14 uur\n",
        "01:14 uur\n",
        "01.16 uur\n",
        "01:16 uur\n",
        "01.17 uur\n",
        "01:17 uur\n",
        "01.18 uur\n",
        "01:18 uur\n",
        "01.19 uur\n",
        "01:19 uur\n",
        "01.21 uur\n",
        "01:21 uur\n",
        "01.22 uur\n",
        "01:22 uur\n",
        "01.23 uur\n",
        "01:23 uur\n",
        "01.24 uur\n",
        "01:24 uur\n",
        "01.26 uur\n",
        "01:26 uur\n",
        "01.27 uur\n",
        "01:27 uur\n",
        "01.28 uur\n",
        "01:28 uur\n",
        "01.29 uur\n",
        "01:29 uur\n",
        "01.31 uur\n",
        "01:31 uur\n",
        "01.32 uur\n",
        "01:32 uur\n",
        "01.33 uur\n",
        "01:33 uur\n",
        "01.34 uur\n",
        "01:34 uur\n",
        "01.36 uur\n",
        "01:36 uur\n",
        "01.37 uur\n",
        "01:37 uur\n",
        "01.38 uur\n",
        "01:38 uur\n",
        "01.39 uur\n",
        "01:39 uur\n",
        "01.41 uur\n",
        "01:41 uur\n",
        "01.42 uur\n",
        "01:42 uur\n",
        "01.43 uur\n",
        "01:43 uur\n",
        "01.44 uur\n",
        "01:44 uur\n",
        "01.46 uur\n",
        "01:46 uur\n",
        "01.47 uur\n",
        "01:47 uur\n",
        "01.48 uur\n",
        "01:48 uur\n",
        "01.49 uur\n",
        "01:49 uur\n",
        "01.51 uur\n",
        "01:51 uur\n",
        "01.52 uur\n",
        "01:52 uur\n",
        "01.53 uur\n",
        "01:53 uur\n",
        "01.54 uur\n",
        "01:54 uur\n",
        "01.56 uur\n",
        "01:56 uur\n",
        "01.57 uur\n",
        "01:57 uur\n",
        "01.58 uur\n",
        "01:58 uur\n",
        "01.59 uur\n",
        "01:59 uur\n",
        "02.01 uur\n",
        "02:01 uur\n",
        "02.02 uur\n",
        "02:02 uur\n",
        "02.03 uur\n",
        "02:03 uur\n",
        "02.04 uur\n",
        "02:04 uur\n",
        "02.06 uur\n",
        "02:06 uur\n",
        "02.07 uur\n",
        "02:07 uur\n",
        "02.08 uur\n",
        "02:08 uur\n",
        "02.09 uur\n",
        "02:09 uur\n",
        "02.11 uur\n",
        "02:11 uur\n",
        "02.12 uur\n",
        "02:12 uur\n",
        "02.13 uur\n",
        "02:13 uur\n",
        "02.14 uur\n",
        "02:14 uur\n",
        "02.16 uur\n",
        "02:16 uur\n",
        "02.17 uur\n",
        "02:17 uur\n",
        "02.18 uur\n",
        "02:18 uur\n",
        "02.19 uur\n",
        "02:19 uur\n",
        "02.21 uur\n",
        "02:21 uur\n",
        "02.22 uur\n",
        "02:22 uur\n",
        "02.23 uur\n",
        "02:23 uur\n",
        "02.24 uur\n",
        "02:24 uur\n",
        "02.26 uur\n",
        "02:26 uur\n",
        "02.27 uur\n",
        "02:27 uur\n",
        "02.28 uur\n",
        "02:28 uur\n",
        "02.29 uur\n",
        "02:29 uur\n",
        "02.31 uur\n",
        "02:31 uur\n",
        "02.32 uur\n",
        "02:32 uur\n",
        "02.33 uur\n",
        "02:33 uur\n",
        "02.34 uur\n",
        "02:34 uur\n",
        "02.36 uur\n",
        "02:36 uur\n",
        "02.37 uur\n",
        "02:37 uur\n",
        "02.38 uur\n",
        "02:38 uur\n",
        "02.39 uur\n",
        "02:39 uur\n",
        "02.41 uur\n",
        "02:41 uur\n",
        "02.42 uur\n",
        "02:42 uur\n",
        "02.43 uur\n",
        "02:43 uur\n",
        "02.44 uur\n",
        "02:44 uur\n",
        "02.46 uur\n",
        "02:46 uur\n",
        "02.47 uur\n",
        "02:47 uur\n",
        "02.48 uur\n",
        "02:48 uur\n",
        "02.49 uur\n",
        "02:49 uur\n",
        "02.51 uur\n",
        "02:51 uur\n",
        "02.52 uur\n",
        "02:52 uur\n",
        "02.53 uur\n",
        "02:53 uur\n",
        "02.54 uur\n",
        "02:54 uur\n",
        "02.56 uur\n",
        "02:56 uur\n",
        "02.57 uur\n",
        "02:57 uur\n",
        "02.58 uur\n",
        "02:58 uur\n",
        "02.59 uur\n",
        "02:59 uur\n",
        "03.01 uur\n",
        "03:01 uur\n",
        "03.02 uur\n",
        "03:02 uur\n",
        "03.03 uur\n",
        "03:03 uur\n",
        "03.04 uur\n",
        "03:04 uur\n",
        "03.06 uur\n",
        "03:06 uur\n",
        "03.07 uur\n",
        "03:07 uur\n",
        "03.08 uur\n",
        "03:08 uur\n",
        "03.09 uur\n",
        "03:09 uur\n",
        "03.11 uur\n",
        "03:11 uur\n",
        "03.12 uur\n",
        "03:12 uur\n",
        "03.13 uur\n",
        "03:13 uur\n",
        "03.14 uur\n",
        "03:14 uur\n",
        "03.16 uur\n",
        "03:16 uur\n",
        "03.17 uur\n",
        "03:17 uur\n",
        "03.18 uur\n",
        "03:18 uur\n",
        "03.19 uur\n",
        "03:19 uur\n",
        "03.21 uur\n",
        "03:21 uur\n",
        "03.22 uur\n",
        "03:22 uur\n",
        "03.23 uur\n",
        "03:23 uur\n",
        "03.24 uur\n",
        "03:24 uur\n",
        "03.26 uur\n",
        "03:26 uur\n",
        "03.27 uur\n",
        "03:27 uur\n",
        "03.28 uur\n",
        "03:28 uur\n",
        "03.29 uur\n",
        "03:29 uur\n",
        "03.31 uur\n",
        "03:31 uur\n",
        "03.32 uur\n",
        "03:32 uur\n",
        "03.33 uur\n",
        "03:33 uur\n",
        "03.34 uur\n",
        "03:34 uur\n",
        "03.36 uur\n",
        "03:36 uur\n",
        "03.37 uur\n",
        "03:37 uur\n",
        "03.38 uur\n",
        "03:38 uur\n",
        "03.39 uur\n",
        "03:39 uur\n",
        "03.41 uur\n",
        "03:41 uur\n",
        "03.42 uur\n",
        "03:42 uur\n",
        "03.43 uur\n",
        "03:43 uur\n",
        "03.44 uur\n",
        "03:44 uur\n",
        "03.46 uur\n",
        "03:46 uur\n",
        "03.47 uur\n",
        "03:47 uur\n",
        "03.48 uur\n",
        "03:48 uur\n",
        "03.49 uur\n",
        "03:49 uur\n",
        "03.51 uur\n",
        "03:51 uur\n",
        "03.52 uur\n",
        "03:52 uur\n",
        "03.53 uur\n",
        "03:53 uur\n",
        "03.54 uur\n",
        "03:54 uur\n",
        "03.56 uur\n",
        "03:56 uur\n",
        "03.57 uur\n",
        "03:57 uur\n",
        "03.58 uur\n",
        "03:58 uur\n",
        "03.59 uur\n",
        "03:59 uur\n",
        "04.01 uur\n",
        "04:01 uur\n",
        "04.02 uur\n",
        "04:02 uur\n",
        "04.03 uur\n",
        "04:03 uur\n",
        "04.04 uur\n",
        "04:04 uur\n",
        "04.06 uur\n",
        "04:06 uur\n",
        "04.07 uur\n",
        "04:07 uur\n",
        "04.08 uur\n",
        "04:08 uur\n",
        "04.09 uur\n",
        "04:09 uur\n",
        "04.11 uur\n",
        "04:11 uur\n",
        "04.12 uur\n",
        "04:12 uur\n",
        "04.13 uur\n",
        "04:13 uur\n",
        "04.14 uur\n",
        "04:14 uur\n",
        "04.16 uur\n",
        "04:16 uur\n",
        "04.17 uur\n",
        "04:17 uur\n",
        "04.18 uur\n",
        "04:18 uur\n",
        "04.19 uur\n",
        "04:19 uur\n",
        "04.21 uur\n",
        "04:21 uur\n",
        "04.22 uur\n",
        "04:22 uur\n",
        "04.23 uur\n",
        "04:23 uur\n",
        "04.24 uur\n",
        "04:24 uur\n",
        "04.26 uur\n",
        "04:26 uur\n",
        "04.27 uur\n",
        "04:27 uur\n",
        "04.28 uur\n",
        "04:28 uur\n",
        "04.29 uur\n",
        "04:29 uur\n",
        "04.31 uur\n",
        "04:31 uur\n",
        "04.32 uur\n",
        "04:32 uur\n",
        "04.33 uur\n",
        "04:33 uur\n",
        "04.34 uur\n",
        "04:34 uur\n",
        "04.36 uur\n",
        "04:36 uur\n",
        "04.37 uur\n",
        "04:37 uur\n",
        "04.38 uur\n",
        "04:38 uur\n",
        "04.39 uur\n",
        "04:39 uur\n",
        "04.41 uur\n",
        "04:41 uur\n",
        "04.42 uur\n",
        "04:42 uur\n",
        "04.43 uur\n",
        "04:43 uur\n",
        "04.44 uur\n",
        "04:44 uur\n",
        "04.46 uur\n",
        "04:46 uur\n",
        "04.47 uur\n",
        "04:47 uur\n",
        "04.48 uur\n",
        "04:48 uur\n",
        "04.49 uur\n",
        "04:49 uur\n",
        "04.51 uur\n",
        "04:51 uur\n",
        "04.52 uur\n",
        "04:52 uur\n",
        "04.53 uur\n",
        "04:53 uur\n",
        "04.54 uur\n",
        "04:54 uur\n",
        "04.56 uur\n",
        "04:56 uur\n",
        "04.57 uur\n",
        "04:57 uur\n",
        "04.58 uur\n",
        "04:58 uur\n",
        "04.59 uur\n",
        "04:59 uur\n",
        "05.01 uur\n",
        "05:01 uur\n",
        "05.02 uur\n",
        "05:02 uur\n",
        "05.03 uur\n",
        "05:03 uur\n",
        "05.04 uur\n",
        "05:04 uur\n",
        "05.06 uur\n",
        "05:06 uur\n",
        "05.07 uur\n",
        "05:07 uur\n",
        "05.08 uur\n",
        "05:08 uur\n",
        "05.09 uur\n",
        "05:09 uur\n",
        "05.11 uur\n",
        "05:11 uur\n",
        "05.12 uur\n",
        "05:12 uur\n",
        "05.13 uur\n",
        "05:13 uur\n",
        "05.14 uur\n",
        "05:14 uur\n",
        "05.16 uur\n",
        "05:16 uur\n",
        "05.17 uur\n",
        "05:17 uur\n",
        "05.18 uur\n",
        "05:18 uur\n",
        "05.19 uur\n",
        "05:19 uur\n",
        "05.21 uur\n",
        "05:21 uur\n",
        "05.22 uur\n",
        "05:22 uur\n",
        "05.23 uur\n",
        "05:23 uur\n",
        "05.24 uur\n",
        "05:24 uur\n",
        "05.26 uur\n",
        "05:26 uur\n",
        "05.27 uur\n",
        "05:27 uur\n",
        "05.28 uur\n",
        "05:28 uur\n",
        "05.29 uur\n",
        "05:29 uur\n",
        "05.31 uur\n",
        "05:31 uur\n",
        "05.32 uur\n",
        "05:32 uur\n",
        "05.33 uur\n",
        "05:33 uur\n",
        "05.34 uur\n",
        "05:34 uur\n",
        "05.36 uur\n",
        "05:36 uur\n",
        "05.37 uur\n",
        "05:37 uur\n",
        "05.38 uur\n",
        "05:38 uur\n",
        "05.39 uur\n",
        "05:39 uur\n",
        "05.41 uur\n",
        "05:41 uur\n",
        "05.42 uur\n",
        "05:42 uur\n",
        "05.43 uur\n",
        "05:43 uur\n",
        "05.44 uur\n",
        "05:44 uur\n",
        "05.46 uur\n",
        "05:46 uur\n",
        "05.47 uur\n",
        "05:47 uur\n",
        "05.48 uur\n",
        "05:48 uur\n",
        "05.49 uur\n",
        "05:49 uur\n",
        "05.51 uur\n",
        "05:51 uur\n",
        "05.52 uur\n",
        "05:52 uur\n",
        "05.53 uur\n",
        "05:53 uur\n",
        "05.54 uur\n",
        "05:54 uur\n",
        "05.56 uur\n",
        "05:56 uur\n",
        "05.57 uur\n",
        "05:57 uur\n",
        "05.58 uur\n",
        "05:58 uur\n",
        "05.59 uur\n",
        "05:59 uur\n",
        "06.01 uur\n",
        "06:01 uur\n",
        "06.02 uur\n",
        "06:02 uur\n",
        "06.03 uur\n",
        "06:03 uur\n",
        "06.04 uur\n",
        "06:04 uur\n",
        "06.06 uur\n",
        "06:06 uur\n",
        "06.07 uur\n",
        "06:07 uur\n",
        "06.08 uur\n",
        "06:08 uur\n",
        "06.09 uur\n",
        "06:09 uur\n",
        "06.11 uur\n",
        "06:11 uur\n",
        "06.12 uur\n",
        "06:12 uur\n",
        "06.13 uur\n",
        "06:13 uur\n",
        "06.14 uur\n",
        "06:14 uur\n",
        "06.16 uur\n",
        "06:16 uur\n",
        "06.17 uur\n",
        "06:17 uur\n",
        "06.18 uur\n",
        "06:18 uur\n",
        "06.19 uur\n",
        "06:19 uur\n",
        "06.21 uur\n",
        "06:21 uur\n",
        "06.22 uur\n",
        "06:22 uur\n",
        "06.23 uur\n",
        "06:23 uur\n",
        "06.24 uur\n",
        "06:24 uur\n",
        "06.26 uur\n",
        "06:26 uur\n",
        "06.27 uur\n",
        "06:27 uur\n",
        "06.28 uur\n",
        "06:28 uur\n",
        "06.29 uur\n",
        "06:29 uur\n",
        "06.31 uur\n",
        "06:31 uur\n",
        "06.32 uur\n",
        "06:32 uur\n",
        "06.33 uur\n",
        "06:33 uur\n",
        "06.34 uur\n",
        "06:34 uur\n",
        "06.36 uur\n",
        "06:36 uur\n",
        "06.37 uur\n",
        "06:37 uur\n",
        "06.38 uur\n",
        "06:38 uur\n",
        "06.39 uur\n",
        "06:39 uur\n",
        "06.41 uur\n",
        "06:41 uur\n",
        "06.42 uur\n",
        "06:42 uur\n",
        "06.43 uur\n",
        "06:43 uur\n",
        "06.44 uur\n",
        "06:44 uur\n",
        "06.46 uur\n",
        "06:46 uur\n",
        "06.47 uur\n",
        "06:47 uur\n",
        "06.48 uur\n",
        "06:48 uur\n",
        "06.49 uur\n",
        "06:49 uur\n",
        "06.51 uur\n",
        "06:51 uur\n",
        "06.52 uur\n",
        "06:52 uur\n",
        "06.53 uur\n",
        "06:53 uur\n",
        "06.54 uur\n",
        "06:54 uur\n",
        "06.56 uur\n",
        "06:56 uur\n",
        "06.57 uur\n",
        "06:57 uur\n",
        "06.58 uur\n",
        "06:58 uur\n",
        "06.59 uur\n",
        "06:59 uur\n",
        "07.01 uur\n",
        "07:01 uur\n",
        "07.02 uur\n",
        "07:02 uur\n",
        "07.03 uur\n",
        "07:03 uur\n",
        "07.04 uur\n",
        "07:04 uur\n",
        "07.06 uur\n",
        "07:06 uur\n",
        "07.07 uur\n",
        "07:07 uur\n",
        "07.08 uur\n",
        "07:08 uur\n",
        "07.09 uur\n",
        "07:09 uur\n",
        "07.11 uur\n",
        "07:11 uur\n",
        "07.12 uur\n",
        "07:12 uur\n",
        "07.13 uur\n",
        "07:13 uur\n",
        "07.14 uur\n",
        "07:14 uur\n",
        "07.16 uur\n",
        "07:16 uur\n",
        "07.17 uur\n",
        "07:17 uur\n",
        "07.18 uur\n",
        "07:18 uur\n",
        "07.19 uur\n",
        "07:19 uur\n",
        "07.21 uur\n",
        "07:21 uur\n",
        "07.22 uur\n",
        "07:22 uur\n",
        "07.23 uur\n",
        "07:23 uur\n",
        "07.24 uur\n",
        "07:24 uur\n",
        "07.26 uur\n",
        "07:26 uur\n",
        "07.27 uur\n",
        "07:27 uur\n",
        "07.28 uur\n",
        "07:28 uur\n",
        "07.29 uur\n",
        "07:29 uur\n",
        "07.31 uur\n",
        "07:31 uur\n",
        "07.32 uur\n",
        "07:32 uur\n",
        "07.33 uur\n",
        "07:33 uur\n",
        "07.34 uur\n",
        "07:34 uur\n",
        "07.36 uur\n",
        "07:36 uur\n",
        "07.37 uur\n",
        "07:37 uur\n",
        "07.38 uur\n",
        "07:38 uur\n",
        "07.39 uur\n",
        "07:39 uur\n",
        "07.41 uur\n",
        "07:41 uur\n",
        "07.42 uur\n",
        "07:42 uur\n",
        "07.43 uur\n",
        "07:43 uur\n",
        "07.44 uur\n",
        "07:44 uur\n",
        "07.46 uur\n",
        "07:46 uur\n",
        "07.47 uur\n",
        "07:47 uur\n",
        "07.48 uur\n",
        "07:48 uur\n",
        "07.49 uur\n",
        "07:49 uur\n",
        "07.51 uur\n",
        "07:51 uur\n",
        "07.52 uur\n",
        "07:52 uur\n",
        "07.53 uur\n",
        "07:53 uur\n",
        "07.54 uur\n",
        "07:54 uur\n",
        "07.56 uur\n",
        "07:56 uur\n",
        "07.57 uur\n",
        "07:57 uur\n",
        "07.58 uur\n",
        "07:58 uur\n",
        "07.59 uur\n",
        "07:59 uur\n",
        "08.01 uur\n",
        "08:01 uur\n",
        "08.02 uur\n",
        "08:02 uur\n",
        "08.03 uur\n",
        "08:03 uur\n",
        "08.04 uur\n",
        "08:04 uur\n",
        "08.06 uur\n",
        "08:06 uur\n",
        "08.07 uur\n",
        "08:07 uur\n",
        "08.08 uur\n",
        "08:08 uur\n",
        "08.09 uur\n",
        "08:09 uur\n",
        "08.11 uur\n",
        "08:11 uur\n",
        "08.12 uur\n",
        "08:12 uur\n",
        "08.13 uur\n",
        "08:13 uur\n",
        "08.14 uur\n",
        "08:14 uur\n",
        "08.16 uur\n",
        "08:16 uur\n",
        "08.17 uur\n",
        "08:17 uur\n",
        "08.18 uur\n",
        "08:18 uur\n",
        "08.19 uur\n",
        "08:19 uur\n",
        "08.21 uur\n",
        "08:21 uur\n",
        "08.22 uur\n",
        "08:22 uur\n",
        "08.23 uur\n",
        "08:23 uur\n",
        "08.24 uur\n",
        "08:24 uur\n",
        "08.26 uur\n",
        "08:26 uur\n",
        "08.27 uur\n",
        "08:27 uur\n",
        "08.28 uur\n",
        "08:28 uur\n",
        "08.29 uur\n",
        "08:29 uur\n",
        "08.31 uur\n",
        "08:31 uur\n",
        "08.32 uur\n",
        "08:32 uur\n",
        "08.33 uur\n",
        "08:33 uur\n",
        "08.34 uur\n",
        "08:34 uur\n",
        "08.36 uur\n",
        "08:36 uur\n",
        "08.37 uur\n",
        "08:37 uur\n",
        "08.38 uur\n",
        "08:38 uur\n",
        "08.39 uur\n",
        "08:39 uur\n",
        "08.41 uur\n",
        "08:41 uur\n",
        "08.42 uur\n",
        "08:42 uur\n",
        "08.43 uur\n",
        "08:43 uur\n",
        "08.44 uur\n",
        "08:44 uur\n",
        "08.46 uur\n",
        "08:46 uur\n",
        "08.47 uur\n",
        "08:47 uur\n",
        "08.48 uur\n",
        "08:48 uur\n",
        "08.49 uur\n",
        "08:49 uur\n",
        "08.51 uur\n",
        "08:51 uur\n",
        "08.52 uur\n",
        "08:52 uur\n",
        "08.53 uur\n",
        "08:53 uur\n",
        "08.54 uur\n",
        "08:54 uur\n",
        "08.56 uur\n",
        "08:56 uur\n",
        "08.57 uur\n",
        "08:57 uur\n",
        "08.58 uur\n",
        "08:58 uur\n",
        "08.59 uur\n",
        "08:59 uur\n",
        "09.01 uur\n",
        "09:01 uur\n",
        "09.02 uur\n",
        "09:02 uur\n",
        "09.03 uur\n",
        "09:03 uur\n",
        "09.04 uur\n",
        "09:04 uur\n",
        "09.06 uur\n",
        "09:06 uur\n",
        "09.07 uur\n",
        "09:07 uur\n",
        "09.08 uur\n",
        "09:08 uur\n",
        "09.09 uur\n",
        "09:09 uur\n",
        "09.11 uur\n",
        "09:11 uur\n",
        "09.12 uur\n",
        "09:12 uur\n",
        "09.13 uur\n",
        "09:13 uur\n",
        "09.14 uur\n",
        "09:14 uur\n",
        "09.16 uur\n",
        "09:16 uur\n",
        "09.17 uur\n",
        "09:17 uur\n",
        "09.18 uur\n",
        "09:18 uur\n",
        "09.19 uur\n",
        "09:19 uur\n",
        "09.21 uur\n",
        "09:21 uur\n",
        "09.22 uur\n",
        "09:22 uur\n",
        "09.23 uur\n",
        "09:23 uur\n",
        "09.24 uur\n",
        "09:24 uur\n",
        "09.26 uur\n",
        "09:26 uur\n",
        "09.27 uur\n",
        "09:27 uur\n",
        "09.28 uur\n",
        "09:28 uur\n",
        "09.29 uur\n",
        "09:29 uur\n",
        "09.31 uur\n",
        "09:31 uur\n",
        "09.32 uur\n",
        "09:32 uur\n",
        "09.33 uur\n",
        "09:33 uur\n",
        "09.34 uur\n",
        "09:34 uur\n",
        "09.36 uur\n",
        "09:36 uur\n",
        "09.37 uur\n",
        "09:37 uur\n",
        "09.38 uur\n",
        "09:38 uur\n",
        "09.39 uur\n",
        "09:39 uur\n",
        "09.41 uur\n",
        "09:41 uur\n",
        "09.42 uur\n",
        "09:42 uur\n",
        "09.43 uur\n",
        "09:43 uur\n",
        "09.44 uur\n",
        "09:44 uur\n",
        "09.46 uur\n",
        "09:46 uur\n",
        "09.47 uur\n",
        "09:47 uur\n",
        "09.48 uur\n",
        "09:48 uur\n",
        "09.49 uur\n",
        "09:49 uur\n",
        "09.51 uur\n",
        "09:51 uur\n",
        "09.52 uur\n",
        "09:52 uur\n",
        "09.53 uur\n",
        "09:53 uur\n",
        "09.54 uur\n",
        "09:54 uur\n",
        "09.56 uur\n",
        "09:56 uur\n",
        "09.57 uur\n",
        "09:57 uur\n",
        "09.58 uur\n",
        "09:58 uur\n",
        "09.59 uur\n",
        "09:59 uur\n",
        "10.01 uur\n",
        "10:01 uur\n",
        "10.02 uur\n",
        "10:02 uur\n",
        "10.03 uur\n",
        "10:03 uur\n",
        "10.04 uur\n",
        "10:04 uur\n",
        "10.06 uur\n",
        "10:06 uur\n",
        "10.07 uur\n",
        "10:07 uur\n",
        "10.08 uur\n",
        "10:08 uur\n",
        "10.09 uur\n",
        "10:09 uur\n",
        "10.11 uur\n",
        "10:11 uur\n",
        "10.12 uur\n",
        "10:12 uur\n",
        "10.13 uur\n",
        "10:13 uur\n",
        "10.14 uur\n",
        "10:14 uur\n",
        "10.16 uur\n",
        "10:16 uur\n",
        "10.17 uur\n",
        "10:17 uur\n",
        "10.18 uur\n",
        "10:18 uur\n",
        "10.19 uur\n",
        "10:19 uur\n",
        "10.21 uur\n",
        "10:21 uur\n",
        "10.22 uur\n",
        "10:22 uur\n",
        "10.23 uur\n",
        "10:23 uur\n",
        "10.24 uur\n",
        "10:24 uur\n",
        "10.26 uur\n",
        "10:26 uur\n",
        "10.27 uur\n",
        "10:27 uur\n",
        "10.28 uur\n",
        "10:28 uur\n",
        "10.29 uur\n",
        "10:29 uur\n",
        "10.31 uur\n",
        "10:31 uur\n",
        "10.32 uur\n",
        "10:32 uur\n",
        "10.33 uur\n",
        "10:33 uur\n",
        "10.34 uur\n",
        "10:34 uur\n",
        "10.36 uur\n",
        "10:36 uur\n",
        "10.37 uur\n",
        "10:37 uur\n",
        "10.38 uur\n",
        "10:38 uur\n",
        "10.39 uur\n",
        "10:39 uur\n",
        "10.41 uur\n",
        "10:41 uur\n",
        "10.42 uur\n",
        "10:42 uur\n",
        "10.43 uur\n",
        "10:43 uur\n",
        "10.44 uur\n",
        "10:44 uur\n",
        "10.46 uur\n",
        "10:46 uur\n",
        "10.47 uur\n",
        "10:47 uur\n",
        "10.48 uur\n",
        "10:48 uur\n",
        "10.49 uur\n",
        "10:49 uur\n",
        "10.51 uur\n",
        "10:51 uur\n",
        "10.52 uur\n",
        "10:52 uur\n",
        "10.53 uur\n",
        "10:53 uur\n",
        "10.54 uur\n",
        "10:54 uur\n",
        "10.56 uur\n",
        "10:56 uur\n",
        "10.57 uur\n",
        "10:57 uur\n",
        "10.58 uur\n",
        "10:58 uur\n",
        "10.59 uur\n",
        "10:59 uur\n",
        "11.01 uur\n",
        "11:01 uur\n",
        "11.02 uur\n",
        "11:02 uur\n",
        "11.03 uur\n",
        "11:03 uur\n",
        "11.04 uur\n",
        "11:04 uur\n",
        "11.06 uur\n",
        "11:06 uur\n",
        "11.07 uur\n",
        "11:07 uur\n",
        "11.08 uur\n",
        "11:08 uur\n",
        "11.09 uur\n",
        "11:09 uur\n",
        "11.11 uur\n",
        "11:11 uur\n",
        "11.12 uur\n",
        "11:12 uur\n",
        "11.13 uur\n",
        "11:13 uur\n",
        "11.14 uur\n",
        "11:14 uur\n",
        "11.16 uur\n",
        "11:16 uur\n",
        "11.17 uur\n",
        "11:17 uur\n",
        "11.18 uur\n",
        "11:18 uur\n",
        "11.19 uur\n",
        "11:19 uur\n",
        "11.21 uur\n",
        "11:21 uur\n",
        "11.22 uur\n",
        "11:22 uur\n",
        "11.23 uur\n",
        "11:23 uur\n",
        "11.24 uur\n",
        "11:24 uur\n",
        "11.26 uur\n",
        "11:26 uur\n",
        "11.27 uur\n",
        "11:27 uur\n",
        "11.28 uur\n",
        "11:28 uur\n",
        "11.29 uur\n",
        "11:29 uur\n",
        "11.31 uur\n",
        "11:31 uur\n",
        "11.32 uur\n",
        "11:32 uur\n",
        "11.33 uur\n",
        "11:33 uur\n",
        "11.34 uur\n",
        "11:34 uur\n",
        "11.36 uur\n",
        "11:36 uur\n",
        "11.37 uur\n",
        "11:37 uur\n",
        "11.38 uur\n",
        "11:38 uur\n",
        "11.39 uur\n",
        "11:39 uur\n",
        "11.41 uur\n",
        "11:41 uur\n",
        "11.42 uur\n",
        "11:42 uur\n",
        "11.43 uur\n",
        "11:43 uur\n",
        "11.44 uur\n",
        "11:44 uur\n",
        "11.46 uur\n",
        "11:46 uur\n",
        "11.47 uur\n",
        "11:47 uur\n",
        "11.48 uur\n",
        "11:48 uur\n",
        "11.49 uur\n",
        "11:49 uur\n",
        "11.51 uur\n",
        "11:51 uur\n",
        "11.52 uur\n",
        "11:52 uur\n",
        "11.53 uur\n",
        "11:53 uur\n",
        "11.54 uur\n",
        "11:54 uur\n",
        "11.56 uur\n",
        "11:56 uur\n",
        "11.57 uur\n",
        "11:57 uur\n",
        "11.58 uur\n",
        "11:58 uur\n",
        "11.59 uur\n",
        "11:59 uur\n",
        "12.01 uur\n",
        "12:01 uur\n",
        "12.02 uur\n",
        "12:02 uur\n",
        "12.03 uur\n",
        "12:03 uur\n",
        "12.04 uur\n",
        "12:04 uur\n",
        "12.06 uur\n",
        "12:06 uur\n",
        "12.07 uur\n",
        "12:07 uur\n",
        "12.08 uur\n",
        "12:08 uur\n",
        "12.09 uur\n",
        "12:09 uur\n",
        "12.11 uur\n",
        "12:11 uur\n",
        "12.12 uur\n",
        "12:12 uur\n",
        "12.13 uur\n",
        "12:13 uur\n",
        "12.14 uur\n",
        "12:14 uur\n",
        "12.16 uur\n",
        "12:16 uur\n",
        "12.17 uur\n",
        "12:17 uur\n",
        "12.18 uur\n",
        "12:18 uur\n",
        "12.19 uur\n",
        "12:19 uur\n",
        "12.21 uur\n",
        "12:21 uur\n",
        "12.22 uur\n",
        "12:22 uur\n",
        "12.23 uur\n",
        "12:23 uur\n",
        "12.24 uur\n",
        "12:24 uur\n",
        "12.26 uur\n",
        "12:26 uur\n",
        "12.27 uur\n",
        "12:27 uur\n",
        "12.28 uur\n",
        "12:28 uur\n",
        "12.29 uur\n",
        "12:29 uur\n",
        "12.31 uur\n",
        "12:31 uur\n",
        "12.32 uur\n",
        "12:32 uur\n",
        "12.33 uur\n",
        "12:33 uur\n",
        "12.34 uur\n",
        "12:34 uur\n",
        "12.36 uur\n",
        "12:36 uur\n",
        "12.37 uur\n",
        "12:37 uur\n",
        "12.38 uur\n",
        "12:38 uur\n",
        "12.39 uur\n",
        "12:39 uur\n",
        "12.41 uur\n",
        "12:41 uur\n",
        "12.42 uur\n",
        "12:42 uur\n",
        "12.43 uur\n",
        "12:43 uur\n",
        "12.44 uur\n",
        "12:44 uur\n",
        "12.46 uur\n",
        "12:46 uur\n",
        "12.47 uur\n",
        "12:47 uur\n",
        "12.48 uur\n",
        "12:48 uur\n",
        "12.49 uur\n",
        "12:49 uur\n",
        "12.51 uur\n",
        "12:51 uur\n",
        "12.52 uur\n",
        "12:52 uur\n",
        "12.53 uur\n",
        "12:53 uur\n",
        "12.54 uur\n",
        "12:54 uur\n",
        "12.56 uur\n",
        "12:56 uur\n",
        "12.57 uur\n",
        "12:57 uur\n",
        "12.58 uur\n",
        "12:58 uur\n",
        "12.59 uur\n",
        "12:59 uur\n",
        "13.01 uur\n",
        "13:01 uur\n",
        "13.02 uur\n",
        "13:02 uur\n",
        "13.03 uur\n",
        "13:03 uur\n",
        "13.04 uur\n",
        "13:04 uur\n",
        "13.06 uur\n",
        "13:06 uur\n",
        "13.07 uur\n",
        "13:07 uur\n",
        "13.08 uur\n",
        "13:08 uur\n",
        "13.09 uur\n",
        "13:09 uur\n",
        "13.11 uur\n",
        "13:11 uur\n",
        "13.12 uur\n",
        "13:12 uur\n",
        "13.13 uur\n",
        "13:13 uur\n",
        "13.14 uur\n",
        "13:14 uur\n",
        "13.16 uur\n",
        "13:16 uur\n",
        "13.17 uur\n",
        "13:17 uur\n",
        "13.18 uur\n",
        "13:18 uur\n",
        "13.19 uur\n",
        "13:19 uur\n",
        "13.21 uur\n",
        "13:21 uur\n",
        "13.22 uur\n",
        "13:22 uur\n",
        "13.23 uur\n",
        "13:23 uur\n",
        "13.24 uur\n",
        "13:24 uur\n",
        "13.26 uur\n",
        "13:26 uur\n",
        "13.27 uur\n",
        "13:27 uur\n",
        "13.28 uur\n",
        "13:28 uur\n",
        "13.29 uur\n",
        "13:29 uur\n",
        "13.31 uur\n",
        "13:31 uur\n",
        "13.32 uur\n",
        "13:32 uur\n",
        "13.33 uur\n",
        "13:33 uur\n",
        "13.34 uur\n",
        "13:34 uur\n",
        "13.36 uur\n",
        "13:36 uur\n",
        "13.37 uur\n",
        "13:37 uur\n",
        "13.38 uur\n",
        "13:38 uur\n",
        "13.39 uur\n",
        "13:39 uur\n",
        "13.41 uur\n",
        "13:41 uur\n",
        "13.42 uur\n",
        "13:42 uur\n",
        "13.43 uur\n",
        "13:43 uur\n",
        "13.44 uur\n",
        "13:44 uur\n",
        "13.46 uur\n",
        "13:46 uur\n",
        "13.47 uur\n",
        "13:47 uur\n",
        "13.48 uur\n",
        "13:48 uur\n",
        "13.49 uur\n",
        "13:49 uur\n",
        "13.51 uur\n",
        "13:51 uur\n",
        "13.52 uur\n",
        "13:52 uur\n",
        "13.53 uur\n",
        "13:53 uur\n",
        "13.54 uur\n",
        "13:54 uur\n",
        "13.56 uur\n",
        "13:56 uur\n",
        "13.57 uur\n",
        "13:57 uur\n",
        "13.58 uur\n",
        "13:58 uur\n",
        "13.59 uur\n",
        "13:59 uur\n",
        "14.01 uur\n",
        "14:01 uur\n",
        "14.02 uur\n",
        "14:02 uur\n",
        "14.03 uur\n",
        "14:03 uur\n",
        "14.04 uur\n",
        "14:04 uur\n",
        "14.06 uur\n",
        "14:06 uur\n",
        "14.07 uur\n",
        "14:07 uur\n",
        "14.08 uur\n",
        "14:08 uur\n",
        "14.09 uur\n",
        "14:09 uur\n",
        "14.11 uur\n",
        "14:11 uur\n",
        "14.12 uur\n",
        "14:12 uur\n",
        "14.13 uur\n",
        "14:13 uur\n",
        "14.14 uur\n",
        "14:14 uur\n",
        "14.16 uur\n",
        "14:16 uur\n",
        "14.17 uur\n",
        "14:17 uur\n",
        "14.18 uur\n",
        "14:18 uur\n",
        "14.19 uur\n",
        "14:19 uur\n",
        "14.21 uur\n",
        "14:21 uur\n",
        "14.22 uur\n",
        "14:22 uur\n",
        "14.23 uur\n",
        "14:23 uur\n",
        "14.24 uur\n",
        "14:24 uur\n",
        "14.26 uur\n",
        "14:26 uur\n",
        "14.27 uur\n",
        "14:27 uur\n",
        "14.28 uur\n",
        "14:28 uur\n",
        "14.29 uur\n",
        "14:29 uur\n",
        "14.31 uur\n",
        "14:31 uur\n",
        "14.32 uur\n",
        "14:32 uur\n",
        "14.33 uur\n",
        "14:33 uur\n",
        "14.34 uur\n",
        "14:34 uur\n",
        "14.36 uur\n",
        "14:36 uur\n",
        "14.37 uur\n",
        "14:37 uur\n",
        "14.38 uur\n",
        "14:38 uur\n",
        "14.39 uur\n",
        "14:39 uur\n",
        "14.41 uur\n",
        "14:41 uur\n",
        "14.42 uur\n",
        "14:42 uur\n",
        "14.43 uur\n",
        "14:43 uur\n",
        "14.44 uur\n",
        "14:44 uur\n",
        "14.46 uur\n",
        "14:46 uur\n",
        "14.47 uur\n",
        "14:47 uur\n",
        "14.48 uur\n",
        "14:48 uur\n",
        "14.49 uur\n",
        "14:49 uur\n",
        "14.51 uur\n",
        "14:51 uur\n",
        "14.52 uur\n",
        "14:52 uur\n",
        "14.53 uur\n",
        "14:53 uur\n",
        "14.54 uur\n",
        "14:54 uur\n",
        "14.56 uur\n",
        "14:56 uur\n",
        "14.57 uur\n",
        "14:57 uur\n",
        "14.58 uur\n",
        "14:58 uur\n",
        "14.59 uur\n",
        "14:59 uur\n",
        "15.01 uur\n",
        "15:01 uur\n",
        "15.02 uur\n",
        "15:02 uur\n",
        "15.03 uur\n",
        "15:03 uur\n",
        "15.04 uur\n",
        "15:04 uur\n",
        "15.06 uur\n",
        "15:06 uur\n",
        "15.07 uur\n",
        "15:07 uur\n",
        "15.08 uur\n",
        "15:08 uur\n",
        "15.09 uur\n",
        "15:09 uur\n",
        "15.11 uur\n",
        "15:11 uur\n",
        "15.12 uur\n",
        "15:12 uur\n",
        "15.13 uur\n",
        "15:13 uur\n",
        "15.14 uur\n",
        "15:14 uur\n",
        "15.16 uur\n",
        "15:16 uur\n",
        "15.17 uur\n",
        "15:17 uur\n",
        "15.18 uur\n",
        "15:18 uur\n",
        "15.19 uur\n",
        "15:19 uur\n",
        "15.21 uur\n",
        "15:21 uur\n",
        "15.22 uur\n",
        "15:22 uur\n",
        "15.23 uur\n",
        "15:23 uur\n",
        "15.24 uur\n",
        "15:24 uur\n",
        "15.26 uur\n",
        "15:26 uur\n",
        "15.27 uur\n",
        "15:27 uur\n",
        "15.28 uur\n",
        "15:28 uur\n",
        "15.29 uur\n",
        "15:29 uur\n",
        "15.31 uur\n",
        "15:31 uur\n",
        "15.32 uur\n",
        "15:32 uur\n",
        "15.33 uur\n",
        "15:33 uur\n",
        "15.34 uur\n",
        "15:34 uur\n",
        "15.36 uur\n",
        "15:36 uur\n",
        "15.37 uur\n",
        "15:37 uur\n",
        "15.38 uur\n",
        "15:38 uur\n",
        "15.39 uur\n",
        "15:39 uur\n",
        "15.41 uur\n",
        "15:41 uur\n",
        "15.42 uur\n",
        "15:42 uur\n",
        "15.43 uur\n",
        "15:43 uur\n",
        "15.44 uur\n",
        "15:44 uur\n",
        "15.46 uur\n",
        "15:46 uur\n",
        "15.47 uur\n",
        "15:47 uur\n",
        "15.48 uur\n",
        "15:48 uur\n",
        "15.49 uur\n",
        "15:49 uur\n",
        "15.51 uur\n",
        "15:51 uur\n",
        "15.52 uur\n",
        "15:52 uur\n",
        "15.53 uur\n",
        "15:53 uur\n",
        "15.54 uur\n",
        "15:54 uur\n",
        "15.56 uur\n",
        "15:56 uur\n",
        "15.57 uur\n",
        "15:57 uur\n",
        "15.58 uur\n",
        "15:58 uur\n",
        "15.59 uur\n",
        "15:59 uur\n",
        "16.01 uur\n",
        "16:01 uur\n",
        "16.02 uur\n",
        "16:02 uur\n",
        "16.03 uur\n",
        "16:03 uur\n",
        "16.04 uur\n",
        "16:04 uur\n",
        "16.06 uur\n",
        "16:06 uur\n",
        "16.07 uur\n",
        "16:07 uur\n",
        "16.08 uur\n",
        "16:08 uur\n",
        "16.09 uur\n",
        "16:09 uur\n",
        "16.11 uur\n",
        "16:11 uur\n",
        "16.12 uur\n",
        "16:12 uur\n",
        "16.13 uur\n",
        "16:13 uur\n",
        "16.14 uur\n",
        "16:14 uur\n",
        "16.16 uur\n",
        "16:16 uur\n",
        "16.17 uur\n",
        "16:17 uur\n",
        "16.18 uur\n",
        "16:18 uur\n",
        "16.19 uur\n",
        "16:19 uur\n",
        "16.21 uur\n",
        "16:21 uur\n",
        "16.22 uur\n",
        "16:22 uur\n",
        "16.23 uur\n",
        "16:23 uur\n",
        "16.24 uur\n",
        "16:24 uur\n",
        "16.26 uur\n",
        "16:26 uur\n",
        "16.27 uur\n",
        "16:27 uur\n",
        "16.28 uur\n",
        "16:28 uur\n",
        "16.29 uur\n",
        "16:29 uur\n",
        "16.31 uur\n",
        "16:31 uur\n",
        "16.32 uur\n",
        "16:32 uur\n",
        "16.33 uur\n",
        "16:33 uur\n",
        "16.34 uur\n",
        "16:34 uur\n",
        "16.36 uur\n",
        "16:36 uur\n",
        "16.37 uur\n",
        "16:37 uur\n",
        "16.38 uur\n",
        "16:38 uur\n",
        "16.39 uur\n",
        "16:39 uur\n",
        "16.41 uur\n",
        "16:41 uur\n",
        "16.42 uur\n",
        "16:42 uur\n",
        "16.43 uur\n",
        "16:43 uur\n",
        "16.44 uur\n",
        "16:44 uur\n",
        "16.46 uur\n",
        "16:46 uur\n",
        "16.47 uur\n",
        "16:47 uur\n",
        "16.48 uur\n",
        "16:48 uur\n",
        "16.49 uur\n",
        "16:49 uur\n",
        "16.51 uur\n",
        "16:51 uur\n",
        "16.52 uur\n",
        "16:52 uur\n",
        "16.53 uur\n",
        "16:53 uur\n",
        "16.54 uur\n",
        "16:54 uur\n",
        "16.56 uur\n",
        "16:56 uur\n",
        "16.57 uur\n",
        "16:57 uur\n",
        "16.58 uur\n",
        "16:58 uur\n",
        "16.59 uur\n",
        "16:59 uur\n",
        "17.01 uur\n",
        "17:01 uur\n",
        "17.02 uur\n",
        "17:02 uur\n",
        "17.03 uur\n",
        "17:03 uur\n",
        "17.04 uur\n",
        "17:04 uur\n",
        "17.06 uur\n",
        "17:06 uur\n",
        "17.07 uur\n",
        "17:07 uur\n",
        "17.08 uur\n",
        "17:08 uur\n",
        "17.09 uur\n",
        "17:09 uur\n",
        "17.11 uur\n",
        "17:11 uur\n",
        "17.12 uur\n",
        "17:12 uur\n",
        "17.13 uur\n",
        "17:13 uur\n",
        "17.14 uur\n",
        "17:14 uur\n",
        "17.16 uur\n",
        "17:16 uur\n",
        "17.17 uur\n",
        "17:17 uur\n",
        "17.18 uur\n",
        "17:18 uur\n",
        "17.19 uur\n",
        "17:19 uur\n",
        "17.21 uur\n",
        "17:21 uur\n",
        "17.22 uur\n",
        "17:22 uur\n",
        "17.23 uur\n",
        "17:23 uur\n",
        "17.24 uur\n",
        "17:24 uur\n",
        "17.26 uur\n",
        "17:26 uur\n",
        "17.27 uur\n",
        "17:27 uur\n",
        "17.28 uur\n",
        "17:28 uur\n",
        "17.29 uur\n",
        "17:29 uur\n",
        "17.31 uur\n",
        "17:31 uur\n",
        "17.32 uur\n",
        "17:32 uur\n",
        "17.33 uur\n",
        "17:33 uur\n",
        "17.34 uur\n",
        "17:34 uur\n",
        "17.36 uur\n",
        "17:36 uur\n",
        "17.37 uur\n",
        "17:37 uur\n",
        "17.38 uur\n",
        "17:38 uur\n",
        "17.39 uur\n",
        "17:39 uur\n",
        "17.41 uur\n",
        "17:41 uur\n",
        "17.42 uur\n",
        "17:42 uur\n",
        "17.43 uur\n",
        "17:43 uur\n",
        "17.44 uur\n",
        "17:44 uur\n",
        "17.46 uur\n",
        "17:46 uur\n",
        "17.47 uur\n",
        "17:47 uur\n",
        "17.48 uur\n",
        "17:48 uur\n",
        "17.49 uur\n",
        "17:49 uur\n",
        "17.51 uur\n",
        "17:51 uur\n",
        "17.52 uur\n",
        "17:52 uur\n",
        "17.53 uur\n",
        "17:53 uur\n",
        "17.54 uur\n",
        "17:54 uur\n",
        "17.56 uur\n",
        "17:56 uur\n",
        "17.57 uur\n",
        "17:57 uur\n",
        "17.58 uur\n",
        "17:58 uur\n",
        "17.59 uur\n",
        "17:59 uur\n",
        "18.01 uur\n",
        "18:01 uur\n",
        "18.02 uur\n",
        "18:02 uur\n",
        "18.03 uur\n",
        "18:03 uur\n",
        "18.04 uur\n",
        "18:04 uur\n",
        "18.06 uur\n",
        "18:06 uur\n",
        "18.07 uur\n",
        "18:07 uur\n",
        "18.08 uur\n",
        "18:08 uur\n",
        "18.09 uur\n",
        "18:09 uur\n",
        "18.11 uur\n",
        "18:11 uur\n",
        "18.12 uur\n",
        "18:12 uur\n",
        "18.13 uur\n",
        "18:13 uur\n",
        "18.14 uur\n",
        "18:14 uur\n",
        "18.16 uur\n",
        "18:16 uur\n",
        "18.17 uur\n",
        "18:17 uur\n",
        "18.18 uur\n",
        "18:18 uur\n",
        "18.19 uur\n",
        "18:19 uur\n",
        "18.21 uur\n",
        "18:21 uur\n",
        "18.22 uur\n",
        "18:22 uur\n",
        "18.23 uur\n",
        "18:23 uur\n",
        "18.24 uur\n",
        "18:24 uur\n",
        "18.26 uur\n",
        "18:26 uur\n",
        "18.27 uur\n",
        "18:27 uur\n",
        "18.28 uur\n",
        "18:28 uur\n",
        "18.29 uur\n",
        "18:29 uur\n",
        "18.31 uur\n",
        "18:31 uur\n",
        "18.32 uur\n",
        "18:32 uur\n",
        "18.33 uur\n",
        "18:33 uur\n",
        "18.34 uur\n",
        "18:34 uur\n",
        "18.36 uur\n",
        "18:36 uur\n",
        "18.37 uur\n",
        "18:37 uur\n",
        "18.38 uur\n",
        "18:38 uur\n",
        "18.39 uur\n",
        "18:39 uur\n",
        "18.41 uur\n",
        "18:41 uur\n",
        "18.42 uur\n",
        "18:42 uur\n",
        "18.43 uur\n",
        "18:43 uur\n",
        "18.44 uur\n",
        "18:44 uur\n",
        "18.46 uur\n",
        "18:46 uur\n",
        "18.47 uur\n",
        "18:47 uur\n",
        "18.48 uur\n",
        "18:48 uur\n",
        "18.49 uur\n",
        "18:49 uur\n",
        "18.51 uur\n",
        "18:51 uur\n",
        "18.52 uur\n",
        "18:52 uur\n",
        "18.53 uur\n",
        "18:53 uur\n",
        "18.54 uur\n",
        "18:54 uur\n",
        "18.56 uur\n",
        "18:56 uur\n",
        "18.57 uur\n",
        "18:57 uur\n",
        "18.58 uur\n",
        "18:58 uur\n",
        "18.59 uur\n",
        "18:59 uur\n",
        "19.01 uur\n",
        "19:01 uur\n",
        "19.02 uur\n",
        "19:02 uur\n",
        "19.03 uur\n",
        "19:03 uur\n",
        "19.04 uur\n",
        "19:04 uur\n",
        "19.06 uur\n",
        "19:06 uur\n",
        "19.07 uur\n",
        "19:07 uur\n",
        "19.08 uur\n",
        "19:08 uur\n",
        "19.09 uur\n",
        "19:09 uur\n",
        "19.11 uur\n",
        "19:11 uur\n",
        "19.12 uur\n",
        "19:12 uur\n",
        "19.13 uur\n",
        "19:13 uur\n",
        "19.14 uur\n",
        "19:14 uur\n",
        "19.16 uur\n",
        "19:16 uur\n",
        "19.17 uur\n",
        "19:17 uur\n",
        "19.18 uur\n",
        "19:18 uur\n",
        "19.19 uur\n",
        "19:19 uur\n",
        "19.21 uur\n",
        "19:21 uur\n",
        "19.22 uur\n",
        "19:22 uur\n",
        "19.23 uur\n",
        "19:23 uur\n",
        "19.24 uur\n",
        "19:24 uur\n",
        "19.26 uur\n",
        "19:26 uur\n",
        "19.27 uur\n",
        "19:27 uur\n",
        "19.28 uur\n",
        "19:28 uur\n",
        "19.29 uur\n",
        "19:29 uur\n",
        "19.31 uur\n",
        "19:31 uur\n",
        "19.32 uur\n",
        "19:32 uur\n",
        "19.33 uur\n",
        "19:33 uur\n",
        "19.34 uur\n",
        "19:34 uur\n",
        "19.36 uur\n",
        "19:36 uur\n",
        "19.37 uur\n",
        "19:37 uur\n",
        "19.38 uur\n",
        "19:38 uur\n",
        "19.39 uur\n",
        "19:39 uur\n",
        "19.41 uur\n",
        "19:41 uur\n",
        "19.42 uur\n",
        "19:42 uur\n",
        "19.43 uur\n",
        "19:43 uur\n",
        "19.44 uur\n",
        "19:44 uur\n",
        "19.46 uur\n",
        "19:46 uur\n",
        "19.47 uur\n",
        "19:47 uur\n",
        "19.48 uur\n",
        "19:48 uur\n",
        "19.49 uur\n",
        "19:49 uur\n",
        "19.51 uur\n",
        "19:51 uur\n",
        "19.52 uur\n",
        "19:52 uur\n",
        "19.53 uur\n",
        "19:53 uur\n",
        "19.54 uur\n",
        "19:54 uur\n",
        "19.56 uur\n",
        "19:56 uur\n",
        "19.57 uur\n",
        "19:57 uur\n",
        "19.58 uur\n",
        "19:58 uur\n",
        "19.59 uur\n",
        "19:59 uur\n",
        "20.01 uur\n",
        "20:01 uur\n",
        "20.02 uur\n",
        "20:02 uur\n",
        "20.03 uur\n",
        "20:03 uur\n",
        "20.04 uur\n",
        "20:04 uur\n",
        "20.06 uur\n",
        "20:06 uur\n",
        "20.07 uur\n",
        "20:07 uur\n",
        "20.08 uur\n",
        "20:08 uur\n",
        "20.09 uur\n",
        "20:09 uur\n",
        "20.11 uur\n",
        "20:11 uur\n",
        "20.12 uur\n",
        "20:12 uur\n",
        "20.13 uur\n",
        "20:13 uur\n",
        "20.14 uur\n",
        "20:14 uur\n",
        "20.16 uur\n",
        "20:16 uur\n",
        "20.17 uur\n",
        "20:17 uur\n",
        "20.18 uur\n",
        "20:18 uur\n",
        "20.19 uur\n",
        "20:19 uur\n",
        "20.21 uur\n",
        "20:21 uur\n",
        "20.22 uur\n",
        "20:22 uur\n",
        "20.23 uur\n",
        "20:23 uur\n",
        "20.24 uur\n",
        "20:24 uur\n",
        "20.26 uur\n",
        "20:26 uur\n",
        "20.27 uur\n",
        "20:27 uur\n",
        "20.28 uur\n",
        "20:28 uur\n",
        "20.29 uur\n",
        "20:29 uur\n",
        "20.31 uur\n",
        "20:31 uur\n",
        "20.32 uur\n",
        "20:32 uur\n",
        "20.33 uur\n",
        "20:33 uur\n",
        "20.34 uur\n",
        "20:34 uur\n",
        "20.36 uur\n",
        "20:36 uur\n",
        "20.37 uur\n",
        "20:37 uur\n",
        "20.38 uur\n",
        "20:38 uur\n",
        "20.39 uur\n",
        "20:39 uur\n",
        "20.41 uur\n",
        "20:41 uur\n",
        "20.42 uur\n",
        "20:42 uur\n",
        "20.43 uur\n",
        "20:43 uur\n",
        "20.44 uur\n",
        "20:44 uur\n",
        "20.46 uur\n",
        "20:46 uur\n",
        "20.47 uur\n",
        "20:47 uur\n",
        "20.48 uur\n",
        "20:48 uur\n",
        "20.49 uur\n",
        "20:49 uur\n",
        "20.51 uur\n",
        "20:51 uur\n",
        "20.52 uur\n",
        "20:52 uur\n",
        "20.53 uur\n",
        "20:53 uur\n",
        "20.54 uur\n",
        "20:54 uur\n",
        "20.56 uur\n",
        "20:56 uur\n",
        "20.57 uur\n",
        "20:57 uur\n",
        "20.58 uur\n",
        "20:58 uur\n",
        "20.59 uur\n",
        "20:59 uur\n",
        "21.01 uur\n",
        "21:01 uur\n",
        "21.02 uur\n",
        "21:02 uur\n",
        "21.03 uur\n",
        "21:03 uur\n",
        "21.04 uur\n",
        "21:04 uur\n",
        "21.06 uur\n",
        "21:06 uur\n",
        "21.07 uur\n",
        "21:07 uur\n",
        "21.08 uur\n",
        "21:08 uur\n",
        "21.09 uur\n",
        "21:09 uur\n",
        "21.11 uur\n",
        "21:11 uur\n",
        "21.12 uur\n",
        "21:12 uur\n",
        "21.13 uur\n",
        "21:13 uur\n",
        "21.14 uur\n",
        "21:14 uur\n",
        "21.16 uur\n",
        "21:16 uur\n",
        "21.17 uur\n",
        "21:17 uur\n",
        "21.18 uur\n",
        "21:18 uur\n",
        "21.19 uur\n",
        "21:19 uur\n",
        "21.21 uur\n",
        "21:21 uur\n",
        "21.22 uur\n",
        "21:22 uur\n",
        "21.23 uur\n",
        "21:23 uur\n",
        "21.24 uur\n",
        "21:24 uur\n",
        "21.26 uur\n",
        "21:26 uur\n",
        "21.27 uur\n",
        "21:27 uur\n",
        "21.28 uur\n",
        "21:28 uur\n",
        "21.29 uur\n",
        "21:29 uur\n",
        "21.31 uur\n",
        "21:31 uur\n",
        "21.32 uur\n",
        "21:32 uur\n",
        "21.33 uur\n",
        "21:33 uur\n",
        "21.34 uur\n",
        "21:34 uur\n",
        "21.36 uur\n",
        "21:36 uur\n",
        "21.37 uur\n",
        "21:37 uur\n",
        "21.38 uur\n",
        "21:38 uur\n",
        "21.39 uur\n",
        "21:39 uur\n",
        "21.41 uur\n",
        "21:41 uur\n",
        "21.42 uur\n",
        "21:42 uur\n",
        "21.43 uur\n",
        "21:43 uur\n",
        "21.44 uur\n",
        "21:44 uur\n",
        "21.46 uur\n",
        "21:46 uur\n",
        "21.47 uur\n",
        "21:47 uur\n",
        "21.48 uur\n",
        "21:48 uur\n",
        "21.49 uur\n",
        "21:49 uur\n",
        "21.51 uur\n",
        "21:51 uur\n",
        "21.52 uur\n",
        "21:52 uur\n",
        "21.53 uur\n",
        "21:53 uur\n",
        "21.54 uur\n",
        "21:54 uur\n",
        "21.56 uur\n",
        "21:56 uur\n",
        "21.57 uur\n",
        "21:57 uur\n",
        "21.58 uur\n",
        "21:58 uur\n",
        "21.59 uur\n",
        "21:59 uur\n",
        "22.01 uur\n",
        "22:01 uur\n",
        "22.02 uur\n",
        "22:02 uur\n",
        "22.03 uur\n",
        "22:03 uur\n",
        "22.04 uur\n",
        "22:04 uur\n",
        "22.06 uur\n",
        "22:06 uur\n",
        "22.07 uur\n",
        "22:07 uur\n",
        "22.08 uur\n",
        "22:08 uur\n",
        "22.09 uur\n",
        "22:09 uur\n",
        "22.11 uur\n",
        "22:11 uur\n",
        "22.12 uur\n",
        "22:12 uur\n",
        "22.13 uur\n",
        "22:13 uur\n",
        "22.14 uur\n",
        "22:14 uur\n",
        "22.16 uur\n",
        "22:16 uur\n",
        "22.17 uur\n",
        "22:17 uur\n",
        "22.18 uur\n",
        "22:18 uur\n",
        "22.19 uur\n",
        "22:19 uur\n",
        "22.21 uur\n",
        "22:21 uur\n",
        "22.22 uur\n",
        "22:22 uur\n",
        "22.23 uur\n",
        "22:23 uur\n",
        "22.24 uur\n",
        "22:24 uur\n",
        "22.26 uur\n",
        "22:26 uur\n",
        "22.27 uur\n",
        "22:27 uur\n",
        "22.28 uur\n",
        "22:28 uur\n",
        "22.29 uur\n",
        "22:29 uur\n",
        "22.31 uur\n",
        "22:31 uur\n",
        "22.32 uur\n",
        "22:32 uur\n",
        "22.33 uur\n",
        "22:33 uur\n",
        "22.34 uur\n",
        "22:34 uur\n",
        "22.36 uur\n",
        "22:36 uur\n",
        "22.37 uur\n",
        "22:37 uur\n",
        "22.38 uur\n",
        "22:38 uur\n",
        "22.39 uur\n",
        "22:39 uur\n",
        "22.41 uur\n",
        "22:41 uur\n",
        "22.42 uur\n",
        "22:42 uur\n",
        "22.43 uur\n",
        "22:43 uur\n",
        "22.44 uur\n",
        "22:44 uur\n",
        "22.46 uur\n",
        "22:46 uur\n",
        "22.47 uur\n",
        "22:47 uur\n",
        "22.48 uur\n",
        "22:48 uur\n",
        "22.49 uur\n",
        "22:49 uur\n",
        "22.51 uur\n",
        "22:51 uur\n",
        "22.52 uur\n",
        "22:52 uur\n",
        "22.53 uur\n",
        "22:53 uur\n",
        "22.54 uur\n",
        "22:54 uur\n",
        "22.56 uur\n",
        "22:56 uur\n",
        "22.57 uur\n",
        "22:57 uur\n",
        "22.58 uur\n",
        "22:58 uur\n",
        "22.59 uur\n",
        "22:59 uur\n",
        "23.01 uur\n",
        "23:01 uur\n",
        "23.02 uur\n",
        "23:02 uur\n",
        "23.03 uur\n",
        "23:03 uur\n",
        "23.04 uur\n",
        "23:04 uur\n",
        "23.06 uur\n",
        "23:06 uur\n",
        "23.07 uur\n",
        "23:07 uur\n",
        "23.08 uur\n",
        "23:08 uur\n",
        "23.09 uur\n",
        "23:09 uur\n",
        "23.11 uur\n",
        "23:11 uur\n",
        "23.12 uur\n",
        "23:12 uur\n",
        "23.13 uur\n",
        "23:13 uur\n",
        "23.14 uur\n",
        "23:14 uur\n",
        "23.16 uur\n",
        "23:16 uur\n",
        "23.17 uur\n",
        "23:17 uur\n",
        "23.18 uur\n",
        "23:18 uur\n",
        "23.19 uur\n",
        "23:19 uur\n",
        "23.21 uur\n",
        "23:21 uur\n",
        "23.22 uur\n",
        "23:22 uur\n",
        "23.23 uur\n",
        "23:23 uur\n",
        "23.24 uur\n",
        "23:24 uur\n",
        "23.26 uur\n",
        "23:26 uur\n",
        "23.27 uur\n",
        "23:27 uur\n",
        "23.28 uur\n",
        "23:28 uur\n",
        "23.29 uur\n",
        "23:29 uur\n",
        "23.31 uur\n",
        "23:31 uur\n",
        "23.32 uur\n",
        "23:32 uur\n",
        "23.33 uur\n",
        "23:33 uur\n",
        "23.34 uur\n",
        "23:34 uur\n",
        "23.36 uur\n",
        "23:36 uur\n",
        "23.37 uur\n",
        "23:37 uur\n",
        "23.38 uur\n",
        "23:38 uur\n",
        "23.39 uur\n",
        "23:39 uur\n",
        "23.41 uur\n",
        "23:41 uur\n",
        "23.42 uur\n",
        "23:42 uur\n",
        "23.43 uur\n",
        "23:43 uur\n",
        "23.44 uur\n",
        "23:44 uur\n",
        "23.46 uur\n",
        "23:46 uur\n",
        "23.47 uur\n",
        "23:47 uur\n",
        "23.48 uur\n",
        "23:48 uur\n",
        "23.49 uur\n",
        "23:49 uur\n",
        "23.51 uur\n",
        "23:51 uur\n",
        "23.52 uur\n",
        "23:52 uur\n",
        "23.53 uur\n",
        "23:53 uur\n",
        "23.54 uur\n",
        "23:54 uur\n",
        "23.56 uur\n",
        "23:56 uur\n",
        "23.57 uur\n",
        "23:57 uur\n",
        "23.58 uur\n",
        "23:58 uur\n",
        "23.59 uur\n",
        "23:59 uur\n"
       ]
      }
     ],
     "prompt_number": 8
    },
    {
     "cell_type": "code",
     "collapsed": false,
     "input": [],
     "language": "python",
     "metadata": {},
     "outputs": []
    }
   ],
   "metadata": {}
  }
 ]
}